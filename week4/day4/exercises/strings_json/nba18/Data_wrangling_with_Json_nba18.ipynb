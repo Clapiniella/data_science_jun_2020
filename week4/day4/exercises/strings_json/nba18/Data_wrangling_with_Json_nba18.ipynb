{
 "cells": [
  {
   "cell_type": "markdown",
   "metadata": {},
   "source": [
    "## Working on Jsons"
   ]
  },
  {
   "cell_type": "code",
   "execution_count": 69,
   "metadata": {},
   "outputs": [],
   "source": [
    "import requests\n",
    "import json\n",
    "import pandas as pd"
   ]
  },
  {
   "cell_type": "code",
   "execution_count": 70,
   "metadata": {
    "tags": []
   },
   "outputs": [],
   "source": [
    "r = requests.get(url='http://data.nba.net/prod/v2/2018/teams.json')\n",
    "json_readed = json.loads(r.text)\n",
    "#json_readed"
   ]
  },
  {
   "cell_type": "code",
   "execution_count": 71,
   "metadata": {
    "tags": []
   },
   "outputs": [],
   "source": [
    "#print(json_readed)"
   ]
  },
  {
   "cell_type": "markdown",
   "metadata": {},
   "source": [
    "Save json in a local file called \"data.json\""
   ]
  },
  {
   "cell_type": "code",
   "execution_count": 72,
   "metadata": {},
   "outputs": [],
   "source": [
    "with open('data.json', 'w+') as outfile:\n",
    "    json.dump(json_readed, outfile)"
   ]
  },
  {
   "cell_type": "code",
   "execution_count": 73,
   "metadata": {
    "tags": [
     "outputPrepend"
    ]
   },
   "outputs": [
    {
     "output_type": "stream",
     "name": "stdout",
     "text": "e, \"city\": \"Adelaide\", \"altCityName\": \"Adelaide\", \"fullName\": \"Adelaide 36ers\", \"tricode\": \"ADL\", \"teamId\": \"15019\", \"nickname\": \"36ers\", \"urlName\": \"36ers\", \"confName\": \"Intl\", \"divName\": \"\"}, {\"isNBAFranchise\": true, \"isAllStar\": false, \"city\": \"Atlanta\", \"altCityName\": \"Atlanta\", \"fullName\": \"Atlanta Hawks\", \"tricode\": \"ATL\", \"teamId\": \"1610612737\", \"nickname\": \"Hawks\", \"urlName\": \"hawks\", \"confName\": \"East\", \"divName\": \"Southeast\"}, {\"isNBAFranchise\": false, \"isAllStar\": false, \"city\": \"Beijing\", \"altCityName\": \"Beijing\", \"fullName\": \"Beijing Ducks\", \"tricode\": \"BJD\", \"teamId\": \"15021\", \"nickname\": \"Ducks\", \"urlName\": \"ducks\", \"confName\": \"Intl\", \"divName\": \"\"}, {\"isNBAFranchise\": true, \"isAllStar\": false, \"city\": \"Boston\", \"altCityName\": \"Boston\", \"fullName\": \"Boston Celtics\", \"tricode\": \"BOS\", \"teamId\": \"1610612738\", \"nickname\": \"Celtics\", \"urlName\": \"celtics\", \"confName\": \"East\", \"divName\": \"Atlantic\"}, {\"isNBAFranchise\": true, \"isAllStar\": false, \"city\": \"Brooklyn\", \"altCityName\": \"Brooklyn\", \"fullName\": \"Brooklyn Nets\", \"tricode\": \"BKN\", \"teamId\": \"1610612751\", \"nickname\": \"Nets\", \"urlName\": \"nets\", \"confName\": \"East\", \"divName\": \"Atlantic\"}, {\"isNBAFranchise\": true, \"isAllStar\": false, \"city\": \"Charlotte\", \"altCityName\": \"Charlotte\", \"fullName\": \"Charlotte Hornets\", \"tricode\": \"CHA\", \"teamId\": \"1610612766\", \"nickname\": \"Hornets\", \"urlName\": \"hornets\", \"confName\": \"East\", \"divName\": \"Southeast\"}, {\"isNBAFranchise\": true, \"isAllStar\": false, \"city\": \"Chicago\", \"altCityName\": \"Chicago\", \"fullName\": \"Chicago Bulls\", \"tricode\": \"CHI\", \"teamId\": \"1610612741\", \"nickname\": \"Bulls\", \"urlName\": \"bulls\", \"confName\": \"East\", \"divName\": \"Central\"}, {\"isNBAFranchise\": true, \"isAllStar\": false, \"city\": \"Cleveland\", \"altCityName\": \"Cleveland\", \"fullName\": \"Cleveland Cavaliers\", \"tricode\": \"CLE\", \"teamId\": \"1610612739\", \"nickname\": \"Cavaliers\", \"urlName\": \"cavaliers\", \"confName\": \"East\", \"divName\": \"Central\"}, {\"isNBAFranchise\": true, \"isAllStar\": false, \"city\": \"Dallas\", \"altCityName\": \"Dallas\", \"fullName\": \"Dallas Mavericks\", \"tricode\": \"DAL\", \"teamId\": \"1610612742\", \"nickname\": \"Mavericks\", \"urlName\": \"mavericks\", \"confName\": \"West\", \"divName\": \"Southwest\"}, {\"isNBAFranchise\": true, \"isAllStar\": false, \"city\": \"Denver\", \"altCityName\": \"Denver\", \"fullName\": \"Denver Nuggets\", \"tricode\": \"DEN\", \"teamId\": \"1610612743\", \"nickname\": \"Nuggets\", \"urlName\": \"nuggets\", \"confName\": \"West\", \"divName\": \"Northwest\"}, {\"isNBAFranchise\": true, \"isAllStar\": false, \"city\": \"Detroit\", \"altCityName\": \"Detroit\", \"fullName\": \"Detroit Pistons\", \"tricode\": \"DET\", \"teamId\": \"1610612765\", \"nickname\": \"Pistons\", \"urlName\": \"pistons\", \"confName\": \"East\", \"divName\": \"Central\"}, {\"isNBAFranchise\": true, \"isAllStar\": false, \"city\": \"Golden State\", \"altCityName\": \"Golden State\", \"fullName\": \"Golden State Warriors\", \"tricode\": \"GSW\", \"teamId\": \"1610612744\", \"nickname\": \"Warriors\", \"urlName\": \"warriors\", \"confName\": \"West\", \"divName\": \"Pacific\"}, {\"isNBAFranchise\": false, \"isAllStar\": false, \"city\": \"Guangzhou\", \"altCityName\": \"Guangzhou\", \"fullName\": \"Guangzhou Long-Lions\", \"tricode\": \"GUA\", \"teamId\": \"15018\", \"nickname\": \"Long-Lions\", \"urlName\": \"long-lions\", \"confName\": \"Intl\", \"divName\": \"\"}, {\"isNBAFranchise\": false, \"isAllStar\": false, \"city\": \"Haifa\", \"altCityName\": \"Haifa\", \"fullName\": \"Maccabi Haifa\", \"tricode\": \"MAC\", \"teamId\": \"93\", \"nickname\": \"Maccabi Haifa\", \"urlName\": \"maccabi_haifa\", \"confName\": \"Intl\", \"divName\": \"\"}, {\"isNBAFranchise\": true, \"isAllStar\": false, \"city\": \"Houston\", \"altCityName\": \"Houston\", \"fullName\": \"Houston Rockets\", \"tricode\": \"HOU\", \"teamId\": \"1610612745\", \"nickname\": \"Rockets\", \"urlName\": \"rockets\", \"confName\": \"West\", \"divName\": \"Southwest\"}, {\"isNBAFranchise\": true, \"isAllStar\": false, \"city\": \"Indiana\", \"altCityName\": \"Indiana\", \"fullName\": \"Indiana Pacers\", \"tricode\": \"IND\", \"teamId\": \"1610612754\", \"nickname\": \"Pacers\", \"urlName\": \"pacers\", \"confName\": \"East\", \"divName\": \"Central\"}, {\"isNBAFranchise\": true, \"isAllStar\": false, \"city\": \"LA\", \"altCityName\": \"LA Clippers\", \"fullName\": \"LA Clippers\", \"tricode\": \"LAC\", \"teamId\": \"1610612746\", \"nickname\": \"Clippers\", \"urlName\": \"clippers\", \"confName\": \"West\", \"divName\": \"Pacific\"}, {\"isNBAFranchise\": true, \"isAllStar\": false, \"city\": \"Los Angeles\", \"altCityName\": \"Los Angeles Lakers\", \"fullName\": \"Los Angeles Lakers\", \"tricode\": \"LAL\", \"teamId\": \"1610612747\", \"nickname\": \"Lakers\", \"urlName\": \"lakers\", \"confName\": \"West\", \"divName\": \"Pacific\"}, {\"isNBAFranchise\": false, \"isAllStar\": false, \"city\": \"Melbourne\", \"altCityName\": \"Melbourne\", \"fullName\": \"Melbourne United\", \"tricode\": \"MEL\", \"teamId\": \"15016\", \"nickname\": \"United\", \"urlName\": \"united\", \"confName\": \"Intl\", \"divName\": \"\"}, {\"isNBAFranchise\": true, \"isAllStar\": false, \"city\": \"Memphis\", \"altCityName\": \"Memphis\", \"fullName\": \"Memphis Grizzlies\", \"tricode\": \"MEM\", \"teamId\": \"1610612763\", \"nickname\": \"Grizzlies\", \"urlName\": \"grizzlies\", \"confName\": \"West\", \"divName\": \"Southwest\"}, {\"isNBAFranchise\": true, \"isAllStar\": false, \"city\": \"Miami\", \"altCityName\": \"Miami\", \"fullName\": \"Miami Heat\", \"tricode\": \"MIA\", \"teamId\": \"1610612748\", \"nickname\": \"Heat\", \"urlName\": \"heat\", \"confName\": \"East\", \"divName\": \"Southeast\"}, {\"isNBAFranchise\": true, \"isAllStar\": false, \"city\": \"Milwaukee\", \"altCityName\": \"Milwaukee\", \"fullName\": \"Milwaukee Bucks\", \"tricode\": \"MIL\", \"teamId\": \"1610612749\", \"nickname\": \"Bucks\", \"urlName\": \"bucks\", \"confName\": \"East\", \"divName\": \"Central\"}, {\"isNBAFranchise\": true, \"isAllStar\": false, \"city\": \"Minnesota\", \"altCityName\": \"Minnesota\", \"fullName\": \"Minnesota Timberwolves\", \"tricode\": \"MIN\", \"teamId\": \"1610612750\", \"nickname\": \"Timberwolves\", \"urlName\": \"timberwolves\", \"confName\": \"West\", \"divName\": \"Northwest\"}, {\"isNBAFranchise\": true, \"isAllStar\": false, \"city\": \"New Orleans\", \"altCityName\": \"New Orleans\", \"fullName\": \"New Orleans Pelicans\", \"tricode\": \"NOP\", \"teamId\": \"1610612740\", \"nickname\": \"Pelicans\", \"urlName\": \"pelicans\", \"confName\": \"West\", \"divName\": \"Southwest\"}, {\"isNBAFranchise\": true, \"isAllStar\": false, \"city\": \"New York\", \"altCityName\": \"New York\", \"fullName\": \"New York Knicks\", \"tricode\": \"NYK\", \"teamId\": \"1610612752\", \"nickname\": \"Knicks\", \"urlName\": \"knicks\", \"confName\": \"East\", \"divName\": \"Atlantic\"}, {\"isNBAFranchise\": false, \"isAllStar\": false, \"city\": \"New Zealand\", \"altCityName\": \"New Zealand\", \"fullName\": \"New Zealand Breakers\", \"tricode\": \"NZB\", \"teamId\": \"15020\", \"nickname\": \"Breakers\", \"urlName\": \"breakers\", \"confName\": \"Intl\", \"divName\": \"\"}, {\"isNBAFranchise\": true, \"isAllStar\": false, \"city\": \"Oklahoma City\", \"altCityName\": \"Oklahoma City\", \"fullName\": \"Oklahoma City Thunder\", \"tricode\": \"OKC\", \"teamId\": \"1610612760\", \"nickname\": \"Thunder\", \"urlName\": \"thunder\", \"confName\": \"West\", \"divName\": \"Northwest\"}, {\"isNBAFranchise\": true, \"isAllStar\": false, \"city\": \"Orlando\", \"altCityName\": \"Orlando\", \"fullName\": \"Orlando Magic\", \"tricode\": \"ORL\", \"teamId\": \"1610612753\", \"nickname\": \"Magic\", \"urlName\": \"magic\", \"confName\": \"East\", \"divName\": \"Southeast\"}, {\"isNBAFranchise\": false, \"isAllStar\": false, \"city\": \"Perth\", \"altCityName\": \"Perth\", \"fullName\": \"Perth Wildcats\", \"tricode\": \"PER\", \"teamId\": \"104\", \"nickname\": \"Wildcats\", \"urlName\": \"wildcats\", \"confName\": \"Intl\", \"divName\": \"\"}, {\"isNBAFranchise\": true, \"isAllStar\": false, \"city\": \"Philadelphia\", \"altCityName\": \"Philadelphia\", \"fullName\": \"Philadelphia 76ers\", \"tricode\": \"PHI\", \"teamId\": \"1610612755\", \"nickname\": \"76ers\", \"urlName\": \"sixers\", \"confName\": \"East\", \"divName\": \"Atlantic\"}, {\"isNBAFranchise\": true, \"isAllStar\": false, \"city\": \"Phoenix\", \"altCityName\": \"Phoenix\", \"fullName\": \"Phoenix Suns\", \"tricode\": \"PHX\", \"teamId\": \"1610612756\", \"nickname\": \"Suns\", \"urlName\": \"suns\", \"confName\": \"West\", \"divName\": \"Pacific\"}, {\"isNBAFranchise\": true, \"isAllStar\": false, \"city\": \"Portland\", \"altCityName\": \"Portland\", \"fullName\": \"Portland Trail Blazers\", \"tricode\": \"POR\", \"teamId\": \"1610612757\", \"nickname\": \"Trail Blazers\", \"urlName\": \"blazers\", \"confName\": \"West\", \"divName\": \"Northwest\"}, {\"isNBAFranchise\": false, \"isAllStar\": false, \"city\": \"Rio de Janeiro\", \"altCityName\": \"Rio de Janeiro\", \"fullName\": \"Rio de Janeiro Flamengo\", \"tricode\": \"FLA\", \"teamId\": \"12325\", \"nickname\": \"Flamengo\", \"urlName\": \"flamengo\", \"confName\": \"Intl\", \"divName\": \"\"}, {\"isNBAFranchise\": true, \"isAllStar\": false, \"city\": \"Sacramento\", \"altCityName\": \"Sacramento\", \"fullName\": \"Sacramento Kings\", \"tricode\": \"SAC\", \"teamId\": \"1610612758\", \"nickname\": \"Kings\", \"urlName\": \"kings\", \"confName\": \"West\", \"divName\": \"Pacific\"}, {\"isNBAFranchise\": true, \"isAllStar\": false, \"city\": \"San Antonio\", \"altCityName\": \"San Antonio\", \"fullName\": \"San Antonio Spurs\", \"tricode\": \"SAS\", \"teamId\": \"1610612759\", \"nickname\": \"Spurs\", \"urlName\": \"spurs\", \"confName\": \"West\", \"divName\": \"Southwest\"}, {\"isNBAFranchise\": false, \"isAllStar\": false, \"city\": \"Shanghai\", \"altCityName\": \"Shanghai\", \"fullName\": \"Shanghai Sharks\", \"tricode\": \"SDS\", \"teamId\": \"12329\", \"nickname\": \"Shanghai Sharks\", \"urlName\": \"shanghai_sharks\", \"confName\": \"Intl\", \"divName\": \"\"}, {\"isNBAFranchise\": false, \"isAllStar\": false, \"city\": \"Sydney\", \"altCityName\": \"Sydney\", \"fullName\": \"Sydney Kings\", \"tricode\": \"SYD\", \"teamId\": \"15015\", \"nickname\": \"Kings\", \"urlName\": \"kings\", \"confName\": \"Intl\", \"divName\": \"\"}, {\"isNBAFranchise\": true, \"isAllStar\": false, \"city\": \"Toronto\", \"altCityName\": \"Toronto\", \"fullName\": \"Toronto Raptors\", \"tricode\": \"TOR\", \"teamId\": \"1610612761\", \"nickname\": \"Raptors\", \"urlName\": \"raptors\", \"confName\": \"East\", \"divName\": \"Atlantic\"}, {\"isNBAFranchise\": true, \"isAllStar\": false, \"city\": \"Utah\", \"altCityName\": \"Utah\", \"fullName\": \"Utah Jazz\", \"tricode\": \"UTA\", \"teamId\": \"1610612762\", \"nickname\": \"Jazz\", \"urlName\": \"jazz\", \"confName\": \"West\", \"divName\": \"Northwest\"}, {\"isNBAFranchise\": true, \"isAllStar\": false, \"city\": \"Washington\", \"altCityName\": \"Washington\", \"fullName\": \"Washington Wizards\", \"tricode\": \"WAS\", \"teamId\": \"1610612764\", \"nickname\": \"Wizards\", \"urlName\": \"wizards\", \"confName\": \"East\", \"divName\": \"Southeast\"}], \"africa\": [{\"isNBAFranchise\": false, \"isAllStar\": false, \"city\": \"Team\", \"altCityName\": \"Team\", \"fullName\": \"Team Africa\", \"tricode\": \"AFR\", \"teamId\": \"12326\", \"nickname\": \"Africa\", \"urlName\": \"africa\", \"confName\": \"\", \"divName\": \"\"}, {\"isNBAFranchise\": false, \"isAllStar\": false, \"city\": \"Team\", \"altCityName\": \"Team\", \"fullName\": \"Team World\", \"tricode\": \"WLD\", \"teamId\": \"12327\", \"nickname\": \"World\", \"urlName\": \"world\", \"confName\": \"\", \"divName\": \"\"}], \"sacramento\": [{\"isNBAFranchise\": true, \"isAllStar\": false, \"city\": \"Golden State\", \"altCityName\": \"Golden State\", \"fullName\": \"Golden State Warriors\", \"tricode\": \"GSW\", \"teamId\": \"1610612744\", \"nickname\": \"Warriors\", \"urlName\": \"warriors\", \"confName\": \"Sacramento\", \"divName\": \"\"}, {\"isNBAFranchise\": true, \"isAllStar\": false, \"city\": \"Los Angeles\", \"altCityName\": \"Los Angeles Lakers\", \"fullName\": \"Los Angeles Lakers\", \"tricode\": \"LAL\", \"teamId\": \"1610612747\", \"nickname\": \"Lakers\", \"urlName\": \"lakers\", \"confName\": \"Sacramento\", \"divName\": \"\"}, {\"isNBAFranchise\": true, \"isAllStar\": false, \"city\": \"Miami\", \"altCityName\": \"Miami\", \"fullName\": \"Miami Heat\", \"tricode\": \"MIA\", \"teamId\": \"1610612748\", \"nickname\": \"Heat\", \"urlName\": \"heat\", \"confName\": \"Sacramento\", \"divName\": \"\"}, {\"isNBAFranchise\": true, \"isAllStar\": false, \"city\": \"Sacramento\", \"altCityName\": \"Sacramento\", \"fullName\": \"Sacramento Kings\", \"tricode\": \"SAC\", \"teamId\": \"1610612758\", \"nickname\": \"Kings\", \"urlName\": \"kings\", \"confName\": \"Sacramento\", \"divName\": \"\"}], \"vegas\": [{\"isNBAFranchise\": true, \"isAllStar\": false, \"city\": \"Atlanta\", \"altCityName\": \"Atlanta\", \"fullName\": \"Atlanta Hawks\", \"tricode\": \"ATL\", \"teamId\": \"1610612737\", \"nickname\": \"Hawks\", \"urlName\": \"hawks\", \"confName\": \"summer\", \"divName\": \"\"}, {\"isNBAFranchise\": true, \"isAllStar\": false, \"city\": \"Boston\", \"altCityName\": \"Boston\", \"fullName\": \"Boston Celtics\", \"tricode\": \"BOS\", \"teamId\": \"1610612738\", \"nickname\": \"Celtics\", \"urlName\": \"celtics\", \"confName\": \"summer\", \"divName\": \"\"}, {\"isNBAFranchise\": true, \"isAllStar\": false, \"city\": \"Brooklyn\", \"altCityName\": \"Brooklyn\", \"fullName\": \"Brooklyn Nets\", \"tricode\": \"BKN\", \"teamId\": \"1610612751\", \"nickname\": \"Nets\", \"urlName\": \"nets\", \"confName\": \"summer\", \"divName\": \"\"}, {\"isNBAFranchise\": true, \"isAllStar\": false, \"city\": \"Charlotte\", \"altCityName\": \"Charlotte\", \"fullName\": \"Charlotte Hornets\", \"tricode\": \"CHA\", \"teamId\": \"1610612766\", \"nickname\": \"Hornets\", \"urlName\": \"hornets\", \"confName\": \"summer\", \"divName\": \"\"}, {\"isNBAFranchise\": true, \"isAllStar\": false, \"city\": \"Chicago\", \"altCityName\": \"Chicago\", \"fullName\": \"Chicago Bulls\", \"tricode\": \"CHI\", \"teamId\": \"1610612741\", \"nickname\": \"Bulls\", \"urlName\": \"bulls\", \"confName\": \"summer\", \"divName\": \"\"}, {\"isNBAFranchise\": true, \"isAllStar\": false, \"city\": \"Cleveland\", \"altCityName\": \"Cleveland\", \"fullName\": \"Cleveland Cavaliers\", \"tricode\": \"CLE\", \"teamId\": \"1610612739\", \"nickname\": \"Cavaliers\", \"urlName\": \"cavaliers\", \"confName\": \"summer\", \"divName\": \"\"}, {\"isNBAFranchise\": true, \"isAllStar\": false, \"city\": \"Dallas\", \"altCityName\": \"Dallas\", \"fullName\": \"Dallas Mavericks\", \"tricode\": \"DAL\", \"teamId\": \"1610612742\", \"nickname\": \"Mavericks\", \"urlName\": \"mavericks\", \"confName\": \"summer\", \"divName\": \"\"}, {\"isNBAFranchise\": true, \"isAllStar\": false, \"city\": \"Denver\", \"altCityName\": \"Denver\", \"fullName\": \"Denver Nuggets\", \"tricode\": \"DEN\", \"teamId\": \"1610612743\", \"nickname\": \"Nuggets\", \"urlName\": \"nuggets\", \"confName\": \"summer\", \"divName\": \"\"}, {\"isNBAFranchise\": true, \"isAllStar\": false, \"city\": \"Detroit\", \"altCityName\": \"Detroit\", \"fullName\": \"Detroit Pistons\", \"tricode\": \"DET\", \"teamId\": \"1610612765\", \"nickname\": \"Pistons\", \"urlName\": \"pistons\", \"confName\": \"summer\", \"divName\": \"\"}, {\"isNBAFranchise\": true, \"isAllStar\": false, \"city\": \"Golden State\", \"altCityName\": \"Golden State\", \"fullName\": \"Golden State Warriors\", \"tricode\": \"GSW\", \"teamId\": \"1610612744\", \"nickname\": \"Warriors\", \"urlName\": \"warriors\", \"confName\": \"summer\", \"divName\": \"\"}, {\"isNBAFranchise\": true, \"isAllStar\": false, \"city\": \"Houston\", \"altCityName\": \"Houston\", \"fullName\": \"Houston Rockets\", \"tricode\": \"HOU\", \"teamId\": \"1610612745\", \"nickname\": \"Rockets\", \"urlName\": \"rockets\", \"confName\": \"summer\", \"divName\": \"\"}, {\"isNBAFranchise\": true, \"isAllStar\": false, \"city\": \"Indiana\", \"altCityName\": \"Indiana\", \"fullName\": \"Indiana Pacers\", \"tricode\": \"IND\", \"teamId\": \"1610612754\", \"nickname\": \"Pacers\", \"urlName\": \"pacers\", \"confName\": \"summer\", \"divName\": \"\"}, {\"isNBAFranchise\": true, \"isAllStar\": false, \"city\": \"LA\", \"altCityName\": \"LA Clippers\", \"fullName\": \"LA Clippers\", \"tricode\": \"LAC\", \"teamId\": \"1610612746\", \"nickname\": \"Clippers\", \"urlName\": \"clippers\", \"confName\": \"summer\", \"divName\": \"\"}, {\"isNBAFranchise\": true, \"isAllStar\": false, \"city\": \"Los Angeles\", \"altCityName\": \"Los Angeles Lakers\", \"fullName\": \"Los Angeles Lakers\", \"tricode\": \"LAL\", \"teamId\": \"1610612747\", \"nickname\": \"Lakers\", \"urlName\": \"lakers\", \"confName\": \"summer\", \"divName\": \"\"}, {\"isNBAFranchise\": true, \"isAllStar\": false, \"city\": \"Memphis\", \"altCityName\": \"Memphis\", \"fullName\": \"Memphis Grizzlies\", \"tricode\": \"MEM\", \"teamId\": \"1610612763\", \"nickname\": \"Grizzlies\", \"urlName\": \"grizzlies\", \"confName\": \"summer\", \"divName\": \"\"}, {\"isNBAFranchise\": true, \"isAllStar\": false, \"city\": \"Miami\", \"altCityName\": \"Miami\", \"fullName\": \"Miami Heat\", \"tricode\": \"MIA\", \"teamId\": \"1610612748\", \"nickname\": \"Heat\", \"urlName\": \"heat\", \"confName\": \"summer\", \"divName\": \"\"}, {\"isNBAFranchise\": true, \"isAllStar\": false, \"city\": \"Milwaukee\", \"altCityName\": \"Milwaukee\", \"fullName\": \"Milwaukee Bucks\", \"tricode\": \"MIL\", \"teamId\": \"1610612749\", \"nickname\": \"Bucks\", \"urlName\": \"bucks\", \"confName\": \"summer\", \"divName\": \"\"}, {\"isNBAFranchise\": true, \"isAllStar\": false, \"city\": \"Minnesota\", \"altCityName\": \"Minnesota\", \"fullName\": \"Minnesota Timberwolves\", \"tricode\": \"MIN\", \"teamId\": \"1610612750\", \"nickname\": \"Timberwolves\", \"urlName\": \"timberwolves\", \"confName\": \"summer\", \"divName\": \"\"}, {\"isNBAFranchise\": true, \"isAllStar\": false, \"city\": \"New Orleans\", \"altCityName\": \"New Orleans\", \"fullName\": \"New Orleans Pelicans\", \"tricode\": \"NOP\", \"teamId\": \"1610612740\", \"nickname\": \"Pelicans\", \"urlName\": \"pelicans\", \"confName\": \"summer\", \"divName\": \"\"}, {\"isNBAFranchise\": true, \"isAllStar\": false, \"city\": \"New York\", \"altCityName\": \"New York\", \"fullName\": \"New York Knicks\", \"tricode\": \"NYK\", \"teamId\": \"1610612752\", \"nickname\": \"Knicks\", \"urlName\": \"knicks\", \"confName\": \"summer\", \"divName\": \"\"}, {\"isNBAFranchise\": true, \"isAllStar\": false, \"city\": \"Oklahoma City\", \"altCityName\": \"Oklahoma City\", \"fullName\": \"Oklahoma City Thunder\", \"tricode\": \"OKC\", \"teamId\": \"1610612760\", \"nickname\": \"Thunder\", \"urlName\": \"thunder\", \"confName\": \"summer\", \"divName\": \"\"}, {\"isNBAFranchise\": true, \"isAllStar\": false, \"city\": \"Orlando\", \"altCityName\": \"Orlando\", \"fullName\": \"Orlando Magic\", \"tricode\": \"ORL\", \"teamId\": \"1610612753\", \"nickname\": \"Magic\", \"urlName\": \"magic\", \"confName\": \"summer\", \"divName\": \"\"}, {\"isNBAFranchise\": true, \"isAllStar\": false, \"city\": \"Philadelphia\", \"altCityName\": \"Philadelphia\", \"fullName\": \"Philadelphia 76ers\", \"tricode\": \"PHI\", \"teamId\": \"1610612755\", \"nickname\": \"76ers\", \"urlName\": \"sixers\", \"confName\": \"summer\", \"divName\": \"\"}, {\"isNBAFranchise\": true, \"isAllStar\": false, \"city\": \"Phoenix\", \"altCityName\": \"Phoenix\", \"fullName\": \"Phoenix Suns\", \"tricode\": \"PHX\", \"teamId\": \"1610612756\", \"nickname\": \"Suns\", \"urlName\": \"suns\", \"confName\": \"summer\", \"divName\": \"\"}, {\"isNBAFranchise\": true, \"isAllStar\": false, \"city\": \"Portland\", \"altCityName\": \"Portland\", \"fullName\": \"Portland Trail Blazers\", \"tricode\": \"POR\", \"teamId\": \"1610612757\", \"nickname\": \"Trail Blazers\", \"urlName\": \"blazers\", \"confName\": \"summer\", \"divName\": \"\"}, {\"isNBAFranchise\": true, \"isAllStar\": false, \"city\": \"Sacramento\", \"altCityName\": \"Sacramento\", \"fullName\": \"Sacramento Kings\", \"tricode\": \"SAC\", \"teamId\": \"1610612758\", \"nickname\": \"Kings\", \"urlName\": \"kings\", \"confName\": \"summer\", \"divName\": \"\"}, {\"isNBAFranchise\": true, \"isAllStar\": false, \"city\": \"San Antonio\", \"altCityName\": \"San Antonio\", \"fullName\": \"San Antonio Spurs\", \"tricode\": \"SAS\", \"teamId\": \"1610612759\", \"nickname\": \"Spurs\", \"urlName\": \"spurs\", \"confName\": \"summer\", \"divName\": \"\"}, {\"isNBAFranchise\": true, \"isAllStar\": false, \"city\": \"Toronto\", \"altCityName\": \"Toronto\", \"fullName\": \"Toronto Raptors\", \"tricode\": \"TOR\", \"teamId\": \"1610612761\", \"nickname\": \"Raptors\", \"urlName\": \"raptors\", \"confName\": \"summer\", \"divName\": \"\"}, {\"isNBAFranchise\": true, \"isAllStar\": false, \"city\": \"Utah\", \"altCityName\": \"Utah\", \"fullName\": \"Utah Jazz\", \"tricode\": \"UTA\", \"teamId\": \"1610612762\", \"nickname\": \"Jazz\", \"urlName\": \"jazz\", \"confName\": \"summer\", \"divName\": \"\"}, {\"isNBAFranchise\": true, \"isAllStar\": false, \"city\": \"Washington\", \"altCityName\": \"Washington\", \"fullName\": \"Washington Wizards\", \"tricode\": \"WAS\", \"teamId\": \"1610612764\", \"nickname\": \"Wizards\", \"urlName\": \"wizards\", \"confName\": \"summer\", \"divName\": \"\"}], \"utah\": [{\"isNBAFranchise\": true, \"isAllStar\": false, \"city\": \"Atlanta\", \"altCityName\": \"Atlanta\", \"fullName\": \"Atlanta Hawks\", \"tricode\": \"ATL\", \"teamId\": \"1610612737\", \"nickname\": \"Hawks\", \"urlName\": \"hawks\", \"confName\": \"Utah\", \"divName\": \"\"}, {\"isNBAFranchise\": true, \"isAllStar\": false, \"city\": \"Memphis\", \"altCityName\": \"Memphis\", \"fullName\": \"Memphis Grizzlies\", \"tricode\": \"MEM\", \"teamId\": \"1610612763\", \"nickname\": \"Grizzlies\", \"urlName\": \"grizzlies\", \"confName\": \"Utah\", \"divName\": \"\"}, {\"isNBAFranchise\": true, \"isAllStar\": false, \"city\": \"San Antonio\", \"altCityName\": \"San Antonio\", \"fullName\": \"San Antonio Spurs\", \"tricode\": \"SAS\", \"teamId\": \"1610612759\", \"nickname\": \"Spurs\", \"urlName\": \"spurs\", \"confName\": \"Utah\", \"divName\": \"\"}, {\"isNBAFranchise\": true, \"isAllStar\": false, \"city\": \"Utah\", \"altCityName\": \"Utah\", \"fullName\": \"Utah Jazz\", \"tricode\": \"UTA\", \"teamId\": \"1610612762\", \"nickname\": \"Jazz\", \"urlName\": \"jazz\", \"confName\": \"Utah\", \"divName\": \"\"}]}}\n\n"
    }
   ],
   "source": [
    "with open('data.json') as f:\n",
    "    line = f.readline()\n",
    "    if line:\n",
    "        print(line)\n",
    "        line = f.readline()\n",
    "print(line)"
   ]
  },
  {
   "cell_type": "markdown",
   "metadata": {},
   "source": [
    "Save with indent"
   ]
  },
  {
   "cell_type": "code",
   "execution_count": 74,
   "metadata": {},
   "outputs": [],
   "source": [
    "with open('data_indented.json', 'w+') as outfile:\n",
    "    json.dump(json_readed, outfile, indent=4)"
   ]
  },
  {
   "cell_type": "markdown",
   "metadata": {},
   "source": [
    "Read local json\n"
   ]
  },
  {
   "cell_type": "code",
   "execution_count": 75,
   "metadata": {},
   "outputs": [],
   "source": [
    "with open('data_indented.json', 'r+') as outfile:\n",
    "    json_readed = json.load(outfile)\n",
    "#json_readed"
   ]
  },
  {
   "cell_type": "code",
   "execution_count": 76,
   "metadata": {},
   "outputs": [
    {
     "output_type": "execute_result",
     "data": {
      "text/plain": "                                          _internal  \\\npubDateTime                 2018-08-30 20:00:04.422   \nxslt         xsl/league/roster/marty_teams_list.xsl   \neventName                             league_roster   \nstandard                                        NaN   \nafrica                                          NaN   \nsacramento                                      NaN   \nvegas                                           NaN   \nutah                                            NaN   \n\n                                                        league  \npubDateTime                                                NaN  \nxslt                                                       NaN  \neventName                                                  NaN  \nstandard     [{'isNBAFranchise': False, 'isAllStar': True, ...  \nafrica       [{'isNBAFranchise': False, 'isAllStar': False,...  \nsacramento   [{'isNBAFranchise': True, 'isAllStar': False, ...  \nvegas        [{'isNBAFranchise': True, 'isAllStar': False, ...  \nutah         [{'isNBAFranchise': True, 'isAllStar': False, ...  ",
      "text/html": "<div>\n<style scoped>\n    .dataframe tbody tr th:only-of-type {\n        vertical-align: middle;\n    }\n\n    .dataframe tbody tr th {\n        vertical-align: top;\n    }\n\n    .dataframe thead th {\n        text-align: right;\n    }\n</style>\n<table border=\"1\" class=\"dataframe\">\n  <thead>\n    <tr style=\"text-align: right;\">\n      <th></th>\n      <th>_internal</th>\n      <th>league</th>\n    </tr>\n  </thead>\n  <tbody>\n    <tr>\n      <th>pubDateTime</th>\n      <td>2018-08-30 20:00:04.422</td>\n      <td>NaN</td>\n    </tr>\n    <tr>\n      <th>xslt</th>\n      <td>xsl/league/roster/marty_teams_list.xsl</td>\n      <td>NaN</td>\n    </tr>\n    <tr>\n      <th>eventName</th>\n      <td>league_roster</td>\n      <td>NaN</td>\n    </tr>\n    <tr>\n      <th>standard</th>\n      <td>NaN</td>\n      <td>[{'isNBAFranchise': False, 'isAllStar': True, ...</td>\n    </tr>\n    <tr>\n      <th>africa</th>\n      <td>NaN</td>\n      <td>[{'isNBAFranchise': False, 'isAllStar': False,...</td>\n    </tr>\n    <tr>\n      <th>sacramento</th>\n      <td>NaN</td>\n      <td>[{'isNBAFranchise': True, 'isAllStar': False, ...</td>\n    </tr>\n    <tr>\n      <th>vegas</th>\n      <td>NaN</td>\n      <td>[{'isNBAFranchise': True, 'isAllStar': False, ...</td>\n    </tr>\n    <tr>\n      <th>utah</th>\n      <td>NaN</td>\n      <td>[{'isNBAFranchise': True, 'isAllStar': False, ...</td>\n    </tr>\n  </tbody>\n</table>\n</div>"
     },
     "metadata": {},
     "execution_count": 76
    }
   ],
   "source": [
    "df_json = pd.read_json(\"data_indented.json\")\n",
    "df_json"
   ]
  },
  {
   "cell_type": "markdown",
   "metadata": {},
   "source": [
    "### Data Mining & Data Wrangling\n",
    "As you can see, there are jsons inside the original json. For that, we have to mining the json (data mining) to be able to use it correctly (data wrangling). \n",
    "\n",
    "How do you solve this issue? Research about this and try a solution. "
   ]
  },
  {
   "cell_type": "markdown",
   "metadata": {},
   "source": [
    "OPCIONAL"
   ]
  },
  {
   "cell_type": "code",
   "execution_count": 57,
   "metadata": {},
   "outputs": [
    {
     "output_type": "execute_result",
     "data": {
      "text/plain": "         index                               _internal  \\\n0  pubDateTime                 2018-08-30 20:00:04.422   \n1         xslt  xsl/league/roster/marty_teams_list.xsl   \n2    eventName                           league_roster   \n3     standard                                     NaN   \n4       africa                                     NaN   \n5   sacramento                                     NaN   \n6        vegas                                     NaN   \n7         utah                                     NaN   \n\n                                              league  \n0                                                NaN  \n1                                                NaN  \n2                                                NaN  \n3  [{'isNBAFranchise': False, 'isAllStar': True, ...  \n4  [{'isNBAFranchise': False, 'isAllStar': False,...  \n5  [{'isNBAFranchise': True, 'isAllStar': False, ...  \n6  [{'isNBAFranchise': True, 'isAllStar': False, ...  \n7  [{'isNBAFranchise': True, 'isAllStar': False, ...  ",
      "text/html": "<div>\n<style scoped>\n    .dataframe tbody tr th:only-of-type {\n        vertical-align: middle;\n    }\n\n    .dataframe tbody tr th {\n        vertical-align: top;\n    }\n\n    .dataframe thead th {\n        text-align: right;\n    }\n</style>\n<table border=\"1\" class=\"dataframe\">\n  <thead>\n    <tr style=\"text-align: right;\">\n      <th></th>\n      <th>index</th>\n      <th>_internal</th>\n      <th>league</th>\n    </tr>\n  </thead>\n  <tbody>\n    <tr>\n      <th>0</th>\n      <td>pubDateTime</td>\n      <td>2018-08-30 20:00:04.422</td>\n      <td>NaN</td>\n    </tr>\n    <tr>\n      <th>1</th>\n      <td>xslt</td>\n      <td>xsl/league/roster/marty_teams_list.xsl</td>\n      <td>NaN</td>\n    </tr>\n    <tr>\n      <th>2</th>\n      <td>eventName</td>\n      <td>league_roster</td>\n      <td>NaN</td>\n    </tr>\n    <tr>\n      <th>3</th>\n      <td>standard</td>\n      <td>NaN</td>\n      <td>[{'isNBAFranchise': False, 'isAllStar': True, ...</td>\n    </tr>\n    <tr>\n      <th>4</th>\n      <td>africa</td>\n      <td>NaN</td>\n      <td>[{'isNBAFranchise': False, 'isAllStar': False,...</td>\n    </tr>\n    <tr>\n      <th>5</th>\n      <td>sacramento</td>\n      <td>NaN</td>\n      <td>[{'isNBAFranchise': True, 'isAllStar': False, ...</td>\n    </tr>\n    <tr>\n      <th>6</th>\n      <td>vegas</td>\n      <td>NaN</td>\n      <td>[{'isNBAFranchise': True, 'isAllStar': False, ...</td>\n    </tr>\n    <tr>\n      <th>7</th>\n      <td>utah</td>\n      <td>NaN</td>\n      <td>[{'isNBAFranchise': True, 'isAllStar': False, ...</td>\n    </tr>\n  </tbody>\n</table>\n</div>"
     },
     "metadata": {},
     "execution_count": 57
    }
   ],
   "source": [
    "copy = df_json.copy()\n",
    "copy.reset_index(inplace=True)\n",
    "# Lo de arriba es sinónimo a:\n",
    "# copy = copy.reset_index()"
   ]
  },
  {
   "cell_type": "code",
   "execution_count": 58,
   "metadata": {},
   "outputs": [
    {
     "output_type": "execute_result",
     "data": {
      "text/plain": "                                          _internal  \\\npubDateTime                 2018-08-30 20:00:04.422   \nxslt         xsl/league/roster/marty_teams_list.xsl   \neventName                             league_roster   \nstandard                                        NaN   \nafrica                                          NaN   \nsacramento                                      NaN   \nvegas                                           NaN   \nutah                                            NaN   \n\n                                                        league  \npubDateTime                                                NaN  \nxslt                                                       NaN  \neventName                                                  NaN  \nstandard     [{'isNBAFranchise': False, 'isAllStar': True, ...  \nafrica       [{'isNBAFranchise': False, 'isAllStar': False,...  \nsacramento   [{'isNBAFranchise': True, 'isAllStar': False, ...  \nvegas        [{'isNBAFranchise': True, 'isAllStar': False, ...  \nutah         [{'isNBAFranchise': True, 'isAllStar': False, ...  ",
      "text/html": "<div>\n<style scoped>\n    .dataframe tbody tr th:only-of-type {\n        vertical-align: middle;\n    }\n\n    .dataframe tbody tr th {\n        vertical-align: top;\n    }\n\n    .dataframe thead th {\n        text-align: right;\n    }\n</style>\n<table border=\"1\" class=\"dataframe\">\n  <thead>\n    <tr style=\"text-align: right;\">\n      <th></th>\n      <th>_internal</th>\n      <th>league</th>\n    </tr>\n  </thead>\n  <tbody>\n    <tr>\n      <th>pubDateTime</th>\n      <td>2018-08-30 20:00:04.422</td>\n      <td>NaN</td>\n    </tr>\n    <tr>\n      <th>xslt</th>\n      <td>xsl/league/roster/marty_teams_list.xsl</td>\n      <td>NaN</td>\n    </tr>\n    <tr>\n      <th>eventName</th>\n      <td>league_roster</td>\n      <td>NaN</td>\n    </tr>\n    <tr>\n      <th>standard</th>\n      <td>NaN</td>\n      <td>[{'isNBAFranchise': False, 'isAllStar': True, ...</td>\n    </tr>\n    <tr>\n      <th>africa</th>\n      <td>NaN</td>\n      <td>[{'isNBAFranchise': False, 'isAllStar': False,...</td>\n    </tr>\n    <tr>\n      <th>sacramento</th>\n      <td>NaN</td>\n      <td>[{'isNBAFranchise': True, 'isAllStar': False, ...</td>\n    </tr>\n    <tr>\n      <th>vegas</th>\n      <td>NaN</td>\n      <td>[{'isNBAFranchise': True, 'isAllStar': False, ...</td>\n    </tr>\n    <tr>\n      <th>utah</th>\n      <td>NaN</td>\n      <td>[{'isNBAFranchise': True, 'isAllStar': False, ...</td>\n    </tr>\n  </tbody>\n</table>\n</div>"
     },
     "metadata": {},
     "execution_count": 58
    }
   ],
   "source": [
    "df_json"
   ]
  },
  {
   "cell_type": "code",
   "execution_count": 77,
   "metadata": {},
   "outputs": [
    {
     "output_type": "execute_result",
     "data": {
      "text/plain": "                                          _internal  \\\npubDateTime                 2018-08-30 20:00:04.422   \nxslt         xsl/league/roster/marty_teams_list.xsl   \neventName                             league_roster   \nstandard                                        NaN   \nafrica                                          NaN   \nsacramento                                      NaN   \nvegas                                           NaN   \nutah                                            NaN   \n\n                                                        league  \npubDateTime                                                NaN  \nxslt                                                       NaN  \neventName                                                  NaN  \nstandard     [{'isNBAFranchise': False, 'isAllStar': True, ...  \nafrica       [{'isNBAFranchise': False, 'isAllStar': False,...  \nsacramento   [{'isNBAFranchise': True, 'isAllStar': False, ...  \nvegas        [{'isNBAFranchise': True, 'isAllStar': False, ...  \nutah         [{'isNBAFranchise': True, 'isAllStar': False, ...  ",
      "text/html": "<div>\n<style scoped>\n    .dataframe tbody tr th:only-of-type {\n        vertical-align: middle;\n    }\n\n    .dataframe tbody tr th {\n        vertical-align: top;\n    }\n\n    .dataframe thead th {\n        text-align: right;\n    }\n</style>\n<table border=\"1\" class=\"dataframe\">\n  <thead>\n    <tr style=\"text-align: right;\">\n      <th></th>\n      <th>_internal</th>\n      <th>league</th>\n    </tr>\n  </thead>\n  <tbody>\n    <tr>\n      <th>pubDateTime</th>\n      <td>2018-08-30 20:00:04.422</td>\n      <td>NaN</td>\n    </tr>\n    <tr>\n      <th>xslt</th>\n      <td>xsl/league/roster/marty_teams_list.xsl</td>\n      <td>NaN</td>\n    </tr>\n    <tr>\n      <th>eventName</th>\n      <td>league_roster</td>\n      <td>NaN</td>\n    </tr>\n    <tr>\n      <th>standard</th>\n      <td>NaN</td>\n      <td>[{'isNBAFranchise': False, 'isAllStar': True, ...</td>\n    </tr>\n    <tr>\n      <th>africa</th>\n      <td>NaN</td>\n      <td>[{'isNBAFranchise': False, 'isAllStar': False,...</td>\n    </tr>\n    <tr>\n      <th>sacramento</th>\n      <td>NaN</td>\n      <td>[{'isNBAFranchise': True, 'isAllStar': False, ...</td>\n    </tr>\n    <tr>\n      <th>vegas</th>\n      <td>NaN</td>\n      <td>[{'isNBAFranchise': True, 'isAllStar': False, ...</td>\n    </tr>\n    <tr>\n      <th>utah</th>\n      <td>NaN</td>\n      <td>[{'isNBAFranchise': True, 'isAllStar': False, ...</td>\n    </tr>\n  </tbody>\n</table>\n</div>"
     },
     "metadata": {},
     "execution_count": 77
    }
   ],
   "source": [
    "df_json"
   ]
  },
  {
   "cell_type": "code",
   "execution_count": 78,
   "metadata": {},
   "outputs": [
    {
     "output_type": "execute_result",
     "data": {
      "text/plain": "           _internal                                             league\nstandard         NaN  [{'isNBAFranchise': False, 'isAllStar': True, ...\nafrica           NaN  [{'isNBAFranchise': False, 'isAllStar': False,...\nsacramento       NaN  [{'isNBAFranchise': True, 'isAllStar': False, ...\nvegas            NaN  [{'isNBAFranchise': True, 'isAllStar': False, ...\nutah             NaN  [{'isNBAFranchise': True, 'isAllStar': False, ...",
      "text/html": "<div>\n<style scoped>\n    .dataframe tbody tr th:only-of-type {\n        vertical-align: middle;\n    }\n\n    .dataframe tbody tr th {\n        vertical-align: top;\n    }\n\n    .dataframe thead th {\n        text-align: right;\n    }\n</style>\n<table border=\"1\" class=\"dataframe\">\n  <thead>\n    <tr style=\"text-align: right;\">\n      <th></th>\n      <th>_internal</th>\n      <th>league</th>\n    </tr>\n  </thead>\n  <tbody>\n    <tr>\n      <th>standard</th>\n      <td>NaN</td>\n      <td>[{'isNBAFranchise': False, 'isAllStar': True, ...</td>\n    </tr>\n    <tr>\n      <th>africa</th>\n      <td>NaN</td>\n      <td>[{'isNBAFranchise': False, 'isAllStar': False,...</td>\n    </tr>\n    <tr>\n      <th>sacramento</th>\n      <td>NaN</td>\n      <td>[{'isNBAFranchise': True, 'isAllStar': False, ...</td>\n    </tr>\n    <tr>\n      <th>vegas</th>\n      <td>NaN</td>\n      <td>[{'isNBAFranchise': True, 'isAllStar': False, ...</td>\n    </tr>\n    <tr>\n      <th>utah</th>\n      <td>NaN</td>\n      <td>[{'isNBAFranchise': True, 'isAllStar': False, ...</td>\n    </tr>\n  </tbody>\n</table>\n</div>"
     },
     "metadata": {},
     "execution_count": 78
    }
   ],
   "source": []
  },
  {
   "cell_type": "code",
   "execution_count": 93,
   "metadata": {},
   "outputs": [
    {
     "output_type": "execute_result",
     "data": {
      "text/plain": "                                                       league\nstandard    [{'isNBAFranchise': False, 'isAllStar': True, ...\nafrica      [{'isNBAFranchise': False, 'isAllStar': False,...\nsacramento  [{'isNBAFranchise': True, 'isAllStar': False, ...\nvegas       [{'isNBAFranchise': True, 'isAllStar': False, ...\nutah        [{'isNBAFranchise': True, 'isAllStar': False, ...",
      "text/html": "<div>\n<style scoped>\n    .dataframe tbody tr th:only-of-type {\n        vertical-align: middle;\n    }\n\n    .dataframe tbody tr th {\n        vertical-align: top;\n    }\n\n    .dataframe thead th {\n        text-align: right;\n    }\n</style>\n<table border=\"1\" class=\"dataframe\">\n  <thead>\n    <tr style=\"text-align: right;\">\n      <th></th>\n      <th>league</th>\n    </tr>\n  </thead>\n  <tbody>\n    <tr>\n      <th>standard</th>\n      <td>[{'isNBAFranchise': False, 'isAllStar': True, ...</td>\n    </tr>\n    <tr>\n      <th>africa</th>\n      <td>[{'isNBAFranchise': False, 'isAllStar': False,...</td>\n    </tr>\n    <tr>\n      <th>sacramento</th>\n      <td>[{'isNBAFranchise': True, 'isAllStar': False, ...</td>\n    </tr>\n    <tr>\n      <th>vegas</th>\n      <td>[{'isNBAFranchise': True, 'isAllStar': False, ...</td>\n    </tr>\n    <tr>\n      <th>utah</th>\n      <td>[{'isNBAFranchise': True, 'isAllStar': False, ...</td>\n    </tr>\n  </tbody>\n</table>\n</div>"
     },
     "metadata": {},
     "execution_count": 93
    }
   ],
   "source": [
    "df_json_league = df_json.loc[\"standard\":]\n",
    "df_json_league = df_json_league.drop([\"_internal\"], axis=1)\n",
    "df_json_league"
   ]
  },
  {
   "cell_type": "markdown",
   "metadata": {},
   "source": [
    "--------------------\n",
    "Clara versión 1:"
   ]
  },
  {
   "cell_type": "code",
   "execution_count": 94,
   "metadata": {},
   "outputs": [
    {
     "output_type": "execute_result",
     "data": {
      "text/plain": "    isNBAFranchise  isAllStar          city   altCityName            fullName  \\\n0            False       True           USA           USA                 USA   \n1            False       True         World         World               World   \n2            False       True          Team          Team           All-Stars   \n3            False       True          Team          Team           All-Stars   \n4            False       True  Team Giannis  Team Giannis        Team Giannis   \n..             ...        ...           ...           ...                 ...   \n83            True      False    Washington    Washington  Washington Wizards   \n84            True      False       Atlanta       Atlanta       Atlanta Hawks   \n85            True      False       Memphis       Memphis   Memphis Grizzlies   \n86            True      False   San Antonio   San Antonio   San Antonio Spurs   \n87            True      False          Utah          Utah           Utah Jazz   \n\n   tricode      teamId      nickname       urlName confName divName  \n0      USA  1610616843           USA           usa     East    East  \n1      WLD  1610616844         World         world     East    East  \n2      EST  1699999999     All-Stars     assn_away     East    East  \n3      WST  1699999998     All-Stars     assn_home     West    West  \n4      GNS  1610616833  Team Giannis  team_giannis     East    East  \n..     ...         ...           ...           ...      ...     ...  \n83     WAS  1610612764       Wizards       wizards   summer          \n84     ATL  1610612737         Hawks         hawks     Utah          \n85     MEM  1610612763     Grizzlies     grizzlies     Utah          \n86     SAS  1610612759         Spurs         spurs     Utah          \n87     UTA  1610612762          Jazz          jazz     Utah          \n\n[88 rows x 11 columns]",
      "text/html": "<div>\n<style scoped>\n    .dataframe tbody tr th:only-of-type {\n        vertical-align: middle;\n    }\n\n    .dataframe tbody tr th {\n        vertical-align: top;\n    }\n\n    .dataframe thead th {\n        text-align: right;\n    }\n</style>\n<table border=\"1\" class=\"dataframe\">\n  <thead>\n    <tr style=\"text-align: right;\">\n      <th></th>\n      <th>isNBAFranchise</th>\n      <th>isAllStar</th>\n      <th>city</th>\n      <th>altCityName</th>\n      <th>fullName</th>\n      <th>tricode</th>\n      <th>teamId</th>\n      <th>nickname</th>\n      <th>urlName</th>\n      <th>confName</th>\n      <th>divName</th>\n    </tr>\n  </thead>\n  <tbody>\n    <tr>\n      <th>0</th>\n      <td>False</td>\n      <td>True</td>\n      <td>USA</td>\n      <td>USA</td>\n      <td>USA</td>\n      <td>USA</td>\n      <td>1610616843</td>\n      <td>USA</td>\n      <td>usa</td>\n      <td>East</td>\n      <td>East</td>\n    </tr>\n    <tr>\n      <th>1</th>\n      <td>False</td>\n      <td>True</td>\n      <td>World</td>\n      <td>World</td>\n      <td>World</td>\n      <td>WLD</td>\n      <td>1610616844</td>\n      <td>World</td>\n      <td>world</td>\n      <td>East</td>\n      <td>East</td>\n    </tr>\n    <tr>\n      <th>2</th>\n      <td>False</td>\n      <td>True</td>\n      <td>Team</td>\n      <td>Team</td>\n      <td>All-Stars</td>\n      <td>EST</td>\n      <td>1699999999</td>\n      <td>All-Stars</td>\n      <td>assn_away</td>\n      <td>East</td>\n      <td>East</td>\n    </tr>\n    <tr>\n      <th>3</th>\n      <td>False</td>\n      <td>True</td>\n      <td>Team</td>\n      <td>Team</td>\n      <td>All-Stars</td>\n      <td>WST</td>\n      <td>1699999998</td>\n      <td>All-Stars</td>\n      <td>assn_home</td>\n      <td>West</td>\n      <td>West</td>\n    </tr>\n    <tr>\n      <th>4</th>\n      <td>False</td>\n      <td>True</td>\n      <td>Team Giannis</td>\n      <td>Team Giannis</td>\n      <td>Team Giannis</td>\n      <td>GNS</td>\n      <td>1610616833</td>\n      <td>Team Giannis</td>\n      <td>team_giannis</td>\n      <td>East</td>\n      <td>East</td>\n    </tr>\n    <tr>\n      <th>...</th>\n      <td>...</td>\n      <td>...</td>\n      <td>...</td>\n      <td>...</td>\n      <td>...</td>\n      <td>...</td>\n      <td>...</td>\n      <td>...</td>\n      <td>...</td>\n      <td>...</td>\n      <td>...</td>\n    </tr>\n    <tr>\n      <th>83</th>\n      <td>True</td>\n      <td>False</td>\n      <td>Washington</td>\n      <td>Washington</td>\n      <td>Washington Wizards</td>\n      <td>WAS</td>\n      <td>1610612764</td>\n      <td>Wizards</td>\n      <td>wizards</td>\n      <td>summer</td>\n      <td></td>\n    </tr>\n    <tr>\n      <th>84</th>\n      <td>True</td>\n      <td>False</td>\n      <td>Atlanta</td>\n      <td>Atlanta</td>\n      <td>Atlanta Hawks</td>\n      <td>ATL</td>\n      <td>1610612737</td>\n      <td>Hawks</td>\n      <td>hawks</td>\n      <td>Utah</td>\n      <td></td>\n    </tr>\n    <tr>\n      <th>85</th>\n      <td>True</td>\n      <td>False</td>\n      <td>Memphis</td>\n      <td>Memphis</td>\n      <td>Memphis Grizzlies</td>\n      <td>MEM</td>\n      <td>1610612763</td>\n      <td>Grizzlies</td>\n      <td>grizzlies</td>\n      <td>Utah</td>\n      <td></td>\n    </tr>\n    <tr>\n      <th>86</th>\n      <td>True</td>\n      <td>False</td>\n      <td>San Antonio</td>\n      <td>San Antonio</td>\n      <td>San Antonio Spurs</td>\n      <td>SAS</td>\n      <td>1610612759</td>\n      <td>Spurs</td>\n      <td>spurs</td>\n      <td>Utah</td>\n      <td></td>\n    </tr>\n    <tr>\n      <th>87</th>\n      <td>True</td>\n      <td>False</td>\n      <td>Utah</td>\n      <td>Utah</td>\n      <td>Utah Jazz</td>\n      <td>UTA</td>\n      <td>1610612762</td>\n      <td>Jazz</td>\n      <td>jazz</td>\n      <td>Utah</td>\n      <td></td>\n    </tr>\n  </tbody>\n</table>\n<p>88 rows × 11 columns</p>\n</div>"
     },
     "metadata": {},
     "execution_count": 94
    }
   ],
   "source": [
    "diccionario_json = {}\n",
    "lista_json = [json for lista_json in df_json_league.league for json in lista_json]\n",
    "\n",
    "for cada_json in lista_json:\n",
    "    for key, value in cada_json.items(): \n",
    "        if key not in diccionario_json.keys():\n",
    "            diccionario_json[key] = [value]\n",
    "        else: \n",
    "            diccionario_json[key].append(value)\n",
    "\n",
    "data = pd.DataFrame(diccionario_json)\n",
    "data"
   ]
  },
  {
   "cell_type": "markdown",
   "metadata": {},
   "source": [
    "--------------------"
   ]
  },
  {
   "cell_type": "markdown",
   "metadata": {},
   "source": [
    "Clara versión 2"
   ]
  },
  {
   "cell_type": "code",
   "execution_count": 96,
   "metadata": {},
   "outputs": [
    {
     "output_type": "execute_result",
     "data": {
      "text/plain": "                                                       league\nafrica      {'isNBAFranchise': False, 'isAllStar': False, ...\nafrica      {'isNBAFranchise': False, 'isAllStar': False, ...\nsacramento  {'isNBAFranchise': True, 'isAllStar': False, '...\nsacramento  {'isNBAFranchise': True, 'isAllStar': False, '...\nsacramento  {'isNBAFranchise': True, 'isAllStar': False, '...\n...                                                       ...\nvegas       {'isNBAFranchise': True, 'isAllStar': False, '...\nvegas       {'isNBAFranchise': True, 'isAllStar': False, '...\nvegas       {'isNBAFranchise': True, 'isAllStar': False, '...\nvegas       {'isNBAFranchise': True, 'isAllStar': False, '...\nvegas       {'isNBAFranchise': True, 'isAllStar': False, '...\n\n[88 rows x 1 columns]",
      "text/html": "<div>\n<style scoped>\n    .dataframe tbody tr th:only-of-type {\n        vertical-align: middle;\n    }\n\n    .dataframe tbody tr th {\n        vertical-align: top;\n    }\n\n    .dataframe thead th {\n        text-align: right;\n    }\n</style>\n<table border=\"1\" class=\"dataframe\">\n  <thead>\n    <tr style=\"text-align: right;\">\n      <th></th>\n      <th>league</th>\n    </tr>\n  </thead>\n  <tbody>\n    <tr>\n      <th>africa</th>\n      <td>{'isNBAFranchise': False, 'isAllStar': False, ...</td>\n    </tr>\n    <tr>\n      <th>africa</th>\n      <td>{'isNBAFranchise': False, 'isAllStar': False, ...</td>\n    </tr>\n    <tr>\n      <th>sacramento</th>\n      <td>{'isNBAFranchise': True, 'isAllStar': False, '...</td>\n    </tr>\n    <tr>\n      <th>sacramento</th>\n      <td>{'isNBAFranchise': True, 'isAllStar': False, '...</td>\n    </tr>\n    <tr>\n      <th>sacramento</th>\n      <td>{'isNBAFranchise': True, 'isAllStar': False, '...</td>\n    </tr>\n    <tr>\n      <th>...</th>\n      <td>...</td>\n    </tr>\n    <tr>\n      <th>vegas</th>\n      <td>{'isNBAFranchise': True, 'isAllStar': False, '...</td>\n    </tr>\n    <tr>\n      <th>vegas</th>\n      <td>{'isNBAFranchise': True, 'isAllStar': False, '...</td>\n    </tr>\n    <tr>\n      <th>vegas</th>\n      <td>{'isNBAFranchise': True, 'isAllStar': False, '...</td>\n    </tr>\n    <tr>\n      <th>vegas</th>\n      <td>{'isNBAFranchise': True, 'isAllStar': False, '...</td>\n    </tr>\n    <tr>\n      <th>vegas</th>\n      <td>{'isNBAFranchise': True, 'isAllStar': False, '...</td>\n    </tr>\n  </tbody>\n</table>\n<p>88 rows × 1 columns</p>\n</div>"
     },
     "metadata": {},
     "execution_count": 96
    }
   ],
   "source": [
    "df = df_json_league.explode('league')\n",
    "df"
   ]
  },
  {
   "cell_type": "code",
   "execution_count": 97,
   "metadata": {},
   "outputs": [
    {
     "output_type": "execute_result",
     "data": {
      "text/plain": "            isNBAFranchise  isAllStar          city         altCityName  \\\nafrica               False      False          Team                Team   \nafrica               False      False          Team                Team   \nsacramento            True      False  Golden State        Golden State   \nsacramento            True      False   Los Angeles  Los Angeles Lakers   \nsacramento            True      False         Miami               Miami   \n...                    ...        ...           ...                 ...   \nvegas                 True      False    Sacramento          Sacramento   \nvegas                 True      False   San Antonio         San Antonio   \nvegas                 True      False       Toronto             Toronto   \nvegas                 True      False          Utah                Utah   \nvegas                 True      False    Washington          Washington   \n\n                         fullName tricode      teamId  nickname   urlName  \\\nafrica                Team Africa     AFR       12326    Africa    africa   \nafrica                 Team World     WLD       12327     World     world   \nsacramento  Golden State Warriors     GSW  1610612744  Warriors  warriors   \nsacramento     Los Angeles Lakers     LAL  1610612747    Lakers    lakers   \nsacramento             Miami Heat     MIA  1610612748      Heat      heat   \n...                           ...     ...         ...       ...       ...   \nvegas            Sacramento Kings     SAC  1610612758     Kings     kings   \nvegas           San Antonio Spurs     SAS  1610612759     Spurs     spurs   \nvegas             Toronto Raptors     TOR  1610612761   Raptors   raptors   \nvegas                   Utah Jazz     UTA  1610612762      Jazz      jazz   \nvegas          Washington Wizards     WAS  1610612764   Wizards   wizards   \n\n              confName divName  \nafrica                          \nafrica                          \nsacramento  Sacramento          \nsacramento  Sacramento          \nsacramento  Sacramento          \n...                ...     ...  \nvegas           summer          \nvegas           summer          \nvegas           summer          \nvegas           summer          \nvegas           summer          \n\n[88 rows x 11 columns]",
      "text/html": "<div>\n<style scoped>\n    .dataframe tbody tr th:only-of-type {\n        vertical-align: middle;\n    }\n\n    .dataframe tbody tr th {\n        vertical-align: top;\n    }\n\n    .dataframe thead th {\n        text-align: right;\n    }\n</style>\n<table border=\"1\" class=\"dataframe\">\n  <thead>\n    <tr style=\"text-align: right;\">\n      <th></th>\n      <th>isNBAFranchise</th>\n      <th>isAllStar</th>\n      <th>city</th>\n      <th>altCityName</th>\n      <th>fullName</th>\n      <th>tricode</th>\n      <th>teamId</th>\n      <th>nickname</th>\n      <th>urlName</th>\n      <th>confName</th>\n      <th>divName</th>\n    </tr>\n  </thead>\n  <tbody>\n    <tr>\n      <th>africa</th>\n      <td>False</td>\n      <td>False</td>\n      <td>Team</td>\n      <td>Team</td>\n      <td>Team Africa</td>\n      <td>AFR</td>\n      <td>12326</td>\n      <td>Africa</td>\n      <td>africa</td>\n      <td></td>\n      <td></td>\n    </tr>\n    <tr>\n      <th>africa</th>\n      <td>False</td>\n      <td>False</td>\n      <td>Team</td>\n      <td>Team</td>\n      <td>Team World</td>\n      <td>WLD</td>\n      <td>12327</td>\n      <td>World</td>\n      <td>world</td>\n      <td></td>\n      <td></td>\n    </tr>\n    <tr>\n      <th>sacramento</th>\n      <td>True</td>\n      <td>False</td>\n      <td>Golden State</td>\n      <td>Golden State</td>\n      <td>Golden State Warriors</td>\n      <td>GSW</td>\n      <td>1610612744</td>\n      <td>Warriors</td>\n      <td>warriors</td>\n      <td>Sacramento</td>\n      <td></td>\n    </tr>\n    <tr>\n      <th>sacramento</th>\n      <td>True</td>\n      <td>False</td>\n      <td>Los Angeles</td>\n      <td>Los Angeles Lakers</td>\n      <td>Los Angeles Lakers</td>\n      <td>LAL</td>\n      <td>1610612747</td>\n      <td>Lakers</td>\n      <td>lakers</td>\n      <td>Sacramento</td>\n      <td></td>\n    </tr>\n    <tr>\n      <th>sacramento</th>\n      <td>True</td>\n      <td>False</td>\n      <td>Miami</td>\n      <td>Miami</td>\n      <td>Miami Heat</td>\n      <td>MIA</td>\n      <td>1610612748</td>\n      <td>Heat</td>\n      <td>heat</td>\n      <td>Sacramento</td>\n      <td></td>\n    </tr>\n    <tr>\n      <th>...</th>\n      <td>...</td>\n      <td>...</td>\n      <td>...</td>\n      <td>...</td>\n      <td>...</td>\n      <td>...</td>\n      <td>...</td>\n      <td>...</td>\n      <td>...</td>\n      <td>...</td>\n      <td>...</td>\n    </tr>\n    <tr>\n      <th>vegas</th>\n      <td>True</td>\n      <td>False</td>\n      <td>Sacramento</td>\n      <td>Sacramento</td>\n      <td>Sacramento Kings</td>\n      <td>SAC</td>\n      <td>1610612758</td>\n      <td>Kings</td>\n      <td>kings</td>\n      <td>summer</td>\n      <td></td>\n    </tr>\n    <tr>\n      <th>vegas</th>\n      <td>True</td>\n      <td>False</td>\n      <td>San Antonio</td>\n      <td>San Antonio</td>\n      <td>San Antonio Spurs</td>\n      <td>SAS</td>\n      <td>1610612759</td>\n      <td>Spurs</td>\n      <td>spurs</td>\n      <td>summer</td>\n      <td></td>\n    </tr>\n    <tr>\n      <th>vegas</th>\n      <td>True</td>\n      <td>False</td>\n      <td>Toronto</td>\n      <td>Toronto</td>\n      <td>Toronto Raptors</td>\n      <td>TOR</td>\n      <td>1610612761</td>\n      <td>Raptors</td>\n      <td>raptors</td>\n      <td>summer</td>\n      <td></td>\n    </tr>\n    <tr>\n      <th>vegas</th>\n      <td>True</td>\n      <td>False</td>\n      <td>Utah</td>\n      <td>Utah</td>\n      <td>Utah Jazz</td>\n      <td>UTA</td>\n      <td>1610612762</td>\n      <td>Jazz</td>\n      <td>jazz</td>\n      <td>summer</td>\n      <td></td>\n    </tr>\n    <tr>\n      <th>vegas</th>\n      <td>True</td>\n      <td>False</td>\n      <td>Washington</td>\n      <td>Washington</td>\n      <td>Washington Wizards</td>\n      <td>WAS</td>\n      <td>1610612764</td>\n      <td>Wizards</td>\n      <td>wizards</td>\n      <td>summer</td>\n      <td></td>\n    </tr>\n  </tbody>\n</table>\n<p>88 rows × 11 columns</p>\n</div>"
     },
     "metadata": {},
     "execution_count": 97
    }
   ],
   "source": [
    "df = df_json_league.explode('league').apply(lambda e: e.league, axis = 1, result_type = 'expand')\n",
    "df"
   ]
  },
  {
   "cell_type": "markdown",
   "metadata": {},
   "source": [
    "--------------------"
   ]
  },
  {
   "cell_type": "code",
   "execution_count": 81,
   "metadata": {},
   "outputs": [],
   "source": [
    "df_json_league = json_readed['league']\n",
    "#df_json_league"
   ]
  },
  {
   "cell_type": "code",
   "execution_count": null,
   "metadata": {},
   "outputs": [],
   "source": []
  },
  {
   "cell_type": "code",
   "execution_count": 37,
   "metadata": {
    "tags": []
   },
   "outputs": [
    {
     "output_type": "stream",
     "name": "stdout",
     "text": "standard\nafrica\nsacramento\nvegas\nutah\n"
    }
   ],
   "source": [
    "for elem in df_json_league:\n",
    "    print(elem)"
   ]
  },
  {
   "cell_type": "code",
   "execution_count": 82,
   "metadata": {
    "tags": []
   },
   "outputs": [
    {
     "output_type": "stream",
     "name": "stdout",
     "text": "Done!\n"
    }
   ],
   "source": [
    "for elem in df_json_league:\n",
    "    with open (elem + '.json', 'w+') as outfile:\n",
    "        json.dump(df_json_league[elem], outfile, indent=4)\n",
    "print(\"Done!\")\n"
   ]
  },
  {
   "cell_type": "code",
   "execution_count": null,
   "metadata": {},
   "outputs": [],
   "source": [
    "with open (\"standard.json\", 'w+') as outfile:\n",
    "        json.dump(df_json_league[\"standard\"], outfile, indent=4)"
   ]
  },
  {
   "cell_type": "code",
   "execution_count": null,
   "metadata": {},
   "outputs": [],
   "source": [
    "with open (\"africa.json\", 'w+') as outfile:\n",
    "        json.dump(df_json_league[\"africa\"], outfile, indent=4)\n",
    "\n",
    "        "
   ]
  },
  {
   "cell_type": "code",
   "execution_count": 90,
   "metadata": {},
   "outputs": [
    {
     "output_type": "execute_result",
     "data": {
      "text/plain": "   isNBAFranchise  isAllStar  city altCityName     fullName tricode  teamId  \\\n0           False      False  Team        Team  Team Africa     AFR   12326   \n1           False      False  Team        Team   Team World     WLD   12327   \n\n  nickname urlName confName divName  \n0   Africa  africa                   \n1    World   world                   ",
      "text/html": "<div>\n<style scoped>\n    .dataframe tbody tr th:only-of-type {\n        vertical-align: middle;\n    }\n\n    .dataframe tbody tr th {\n        vertical-align: top;\n    }\n\n    .dataframe thead th {\n        text-align: right;\n    }\n</style>\n<table border=\"1\" class=\"dataframe\">\n  <thead>\n    <tr style=\"text-align: right;\">\n      <th></th>\n      <th>isNBAFranchise</th>\n      <th>isAllStar</th>\n      <th>city</th>\n      <th>altCityName</th>\n      <th>fullName</th>\n      <th>tricode</th>\n      <th>teamId</th>\n      <th>nickname</th>\n      <th>urlName</th>\n      <th>confName</th>\n      <th>divName</th>\n    </tr>\n  </thead>\n  <tbody>\n    <tr>\n      <th>0</th>\n      <td>False</td>\n      <td>False</td>\n      <td>Team</td>\n      <td>Team</td>\n      <td>Team Africa</td>\n      <td>AFR</td>\n      <td>12326</td>\n      <td>Africa</td>\n      <td>africa</td>\n      <td></td>\n      <td></td>\n    </tr>\n    <tr>\n      <th>1</th>\n      <td>False</td>\n      <td>False</td>\n      <td>Team</td>\n      <td>Team</td>\n      <td>Team World</td>\n      <td>WLD</td>\n      <td>12327</td>\n      <td>World</td>\n      <td>world</td>\n      <td></td>\n      <td></td>\n    </tr>\n  </tbody>\n</table>\n</div>"
     },
     "metadata": {},
     "execution_count": 90
    }
   ],
   "source": [
    "df = pd.read_json(\"africa.json\") \n",
    "df"
   ]
  },
  {
   "cell_type": "code",
   "execution_count": 41,
   "metadata": {},
   "outputs": [
    {
     "output_type": "execute_result",
     "data": {
      "text/plain": "    isNBAFranchise  isAllStar            city         altCityName  \\\n0            False       True             USA                 USA   \n1            False       True           World               World   \n2            False       True            Team                Team   \n3            False       True            Team                Team   \n4            False       True    Team Giannis        Team Giannis   \n5            False       True     Team LeBron         Team LeBron   \n6            False      False            Team                Team   \n7            False      False            Team                Team   \n8            False      False        Adelaide            Adelaide   \n9             True      False         Atlanta             Atlanta   \n10           False      False         Beijing             Beijing   \n11            True      False          Boston              Boston   \n12            True      False        Brooklyn            Brooklyn   \n13            True      False       Charlotte           Charlotte   \n14            True      False         Chicago             Chicago   \n15            True      False       Cleveland           Cleveland   \n16            True      False          Dallas              Dallas   \n17            True      False          Denver              Denver   \n18            True      False         Detroit             Detroit   \n19            True      False    Golden State        Golden State   \n20           False      False       Guangzhou           Guangzhou   \n21           False      False           Haifa               Haifa   \n22            True      False         Houston             Houston   \n23            True      False         Indiana             Indiana   \n24            True      False              LA         LA Clippers   \n25            True      False     Los Angeles  Los Angeles Lakers   \n26           False      False       Melbourne           Melbourne   \n27            True      False         Memphis             Memphis   \n28            True      False           Miami               Miami   \n29            True      False       Milwaukee           Milwaukee   \n30            True      False       Minnesota           Minnesota   \n31            True      False     New Orleans         New Orleans   \n32            True      False        New York            New York   \n33           False      False     New Zealand         New Zealand   \n34            True      False   Oklahoma City       Oklahoma City   \n35            True      False         Orlando             Orlando   \n36           False      False           Perth               Perth   \n37            True      False    Philadelphia        Philadelphia   \n38            True      False         Phoenix             Phoenix   \n39            True      False        Portland            Portland   \n40           False      False  Rio de Janeiro      Rio de Janeiro   \n41            True      False      Sacramento          Sacramento   \n42            True      False     San Antonio         San Antonio   \n43           False      False        Shanghai            Shanghai   \n44           False      False          Sydney              Sydney   \n45            True      False         Toronto             Toronto   \n46            True      False            Utah                Utah   \n47            True      False      Washington          Washington   \n\n                   fullName tricode      teamId         nickname  \\\n0                       USA     USA  1610616843              USA   \n1                     World     WLD  1610616844            World   \n2                 All-Stars     EST  1699999999        All-Stars   \n3                 All-Stars     WST  1699999998        All-Stars   \n4              Team Giannis     GNS  1610616833     Team Giannis   \n5               Team LeBron     LBN  1610616834      Team LeBron   \n6               Team Africa     AFR       12326           Africa   \n7                Team World     WLD       12327            World   \n8            Adelaide 36ers     ADL       15019            36ers   \n9             Atlanta Hawks     ATL  1610612737            Hawks   \n10            Beijing Ducks     BJD       15021            Ducks   \n11           Boston Celtics     BOS  1610612738          Celtics   \n12            Brooklyn Nets     BKN  1610612751             Nets   \n13        Charlotte Hornets     CHA  1610612766          Hornets   \n14            Chicago Bulls     CHI  1610612741            Bulls   \n15      Cleveland Cavaliers     CLE  1610612739        Cavaliers   \n16         Dallas Mavericks     DAL  1610612742        Mavericks   \n17           Denver Nuggets     DEN  1610612743          Nuggets   \n18          Detroit Pistons     DET  1610612765          Pistons   \n19    Golden State Warriors     GSW  1610612744         Warriors   \n20     Guangzhou Long-Lions     GUA       15018       Long-Lions   \n21            Maccabi Haifa     MAC          93    Maccabi Haifa   \n22          Houston Rockets     HOU  1610612745          Rockets   \n23           Indiana Pacers     IND  1610612754           Pacers   \n24              LA Clippers     LAC  1610612746         Clippers   \n25       Los Angeles Lakers     LAL  1610612747           Lakers   \n26         Melbourne United     MEL       15016           United   \n27        Memphis Grizzlies     MEM  1610612763        Grizzlies   \n28               Miami Heat     MIA  1610612748             Heat   \n29          Milwaukee Bucks     MIL  1610612749            Bucks   \n30   Minnesota Timberwolves     MIN  1610612750     Timberwolves   \n31     New Orleans Pelicans     NOP  1610612740         Pelicans   \n32          New York Knicks     NYK  1610612752           Knicks   \n33     New Zealand Breakers     NZB       15020         Breakers   \n34    Oklahoma City Thunder     OKC  1610612760          Thunder   \n35            Orlando Magic     ORL  1610612753            Magic   \n36           Perth Wildcats     PER         104         Wildcats   \n37       Philadelphia 76ers     PHI  1610612755            76ers   \n38             Phoenix Suns     PHX  1610612756             Suns   \n39   Portland Trail Blazers     POR  1610612757    Trail Blazers   \n40  Rio de Janeiro Flamengo     FLA       12325         Flamengo   \n41         Sacramento Kings     SAC  1610612758            Kings   \n42        San Antonio Spurs     SAS  1610612759            Spurs   \n43          Shanghai Sharks     SDS       12329  Shanghai Sharks   \n44             Sydney Kings     SYD       15015            Kings   \n45          Toronto Raptors     TOR  1610612761          Raptors   \n46                Utah Jazz     UTA  1610612762             Jazz   \n47       Washington Wizards     WAS  1610612764          Wizards   \n\n            urlName confName    divName  \n0               usa     East       East  \n1             world     East       East  \n2         assn_away     East       East  \n3         assn_home     West       West  \n4      team_giannis     East       East  \n5       team_lebron     West       West  \n6            africa                      \n7             world                      \n8             36ers     Intl             \n9             hawks     East  Southeast  \n10            ducks     Intl             \n11          celtics     East   Atlantic  \n12             nets     East   Atlantic  \n13          hornets     East  Southeast  \n14            bulls     East    Central  \n15        cavaliers     East    Central  \n16        mavericks     West  Southwest  \n17          nuggets     West  Northwest  \n18          pistons     East    Central  \n19         warriors     West    Pacific  \n20       long-lions     Intl             \n21    maccabi_haifa     Intl             \n22          rockets     West  Southwest  \n23           pacers     East    Central  \n24         clippers     West    Pacific  \n25           lakers     West    Pacific  \n26           united     Intl             \n27        grizzlies     West  Southwest  \n28             heat     East  Southeast  \n29            bucks     East    Central  \n30     timberwolves     West  Northwest  \n31         pelicans     West  Southwest  \n32           knicks     East   Atlantic  \n33         breakers     Intl             \n34          thunder     West  Northwest  \n35            magic     East  Southeast  \n36         wildcats     Intl             \n37           sixers     East   Atlantic  \n38             suns     West    Pacific  \n39          blazers     West  Northwest  \n40         flamengo     Intl             \n41            kings     West    Pacific  \n42            spurs     West  Southwest  \n43  shanghai_sharks     Intl             \n44            kings     Intl             \n45          raptors     East   Atlantic  \n46             jazz     West  Northwest  \n47          wizards     East  Southeast  ",
      "text/html": "<div>\n<style scoped>\n    .dataframe tbody tr th:only-of-type {\n        vertical-align: middle;\n    }\n\n    .dataframe tbody tr th {\n        vertical-align: top;\n    }\n\n    .dataframe thead th {\n        text-align: right;\n    }\n</style>\n<table border=\"1\" class=\"dataframe\">\n  <thead>\n    <tr style=\"text-align: right;\">\n      <th></th>\n      <th>isNBAFranchise</th>\n      <th>isAllStar</th>\n      <th>city</th>\n      <th>altCityName</th>\n      <th>fullName</th>\n      <th>tricode</th>\n      <th>teamId</th>\n      <th>nickname</th>\n      <th>urlName</th>\n      <th>confName</th>\n      <th>divName</th>\n    </tr>\n  </thead>\n  <tbody>\n    <tr>\n      <th>0</th>\n      <td>False</td>\n      <td>True</td>\n      <td>USA</td>\n      <td>USA</td>\n      <td>USA</td>\n      <td>USA</td>\n      <td>1610616843</td>\n      <td>USA</td>\n      <td>usa</td>\n      <td>East</td>\n      <td>East</td>\n    </tr>\n    <tr>\n      <th>1</th>\n      <td>False</td>\n      <td>True</td>\n      <td>World</td>\n      <td>World</td>\n      <td>World</td>\n      <td>WLD</td>\n      <td>1610616844</td>\n      <td>World</td>\n      <td>world</td>\n      <td>East</td>\n      <td>East</td>\n    </tr>\n    <tr>\n      <th>2</th>\n      <td>False</td>\n      <td>True</td>\n      <td>Team</td>\n      <td>Team</td>\n      <td>All-Stars</td>\n      <td>EST</td>\n      <td>1699999999</td>\n      <td>All-Stars</td>\n      <td>assn_away</td>\n      <td>East</td>\n      <td>East</td>\n    </tr>\n    <tr>\n      <th>3</th>\n      <td>False</td>\n      <td>True</td>\n      <td>Team</td>\n      <td>Team</td>\n      <td>All-Stars</td>\n      <td>WST</td>\n      <td>1699999998</td>\n      <td>All-Stars</td>\n      <td>assn_home</td>\n      <td>West</td>\n      <td>West</td>\n    </tr>\n    <tr>\n      <th>4</th>\n      <td>False</td>\n      <td>True</td>\n      <td>Team Giannis</td>\n      <td>Team Giannis</td>\n      <td>Team Giannis</td>\n      <td>GNS</td>\n      <td>1610616833</td>\n      <td>Team Giannis</td>\n      <td>team_giannis</td>\n      <td>East</td>\n      <td>East</td>\n    </tr>\n    <tr>\n      <th>5</th>\n      <td>False</td>\n      <td>True</td>\n      <td>Team LeBron</td>\n      <td>Team LeBron</td>\n      <td>Team LeBron</td>\n      <td>LBN</td>\n      <td>1610616834</td>\n      <td>Team LeBron</td>\n      <td>team_lebron</td>\n      <td>West</td>\n      <td>West</td>\n    </tr>\n    <tr>\n      <th>6</th>\n      <td>False</td>\n      <td>False</td>\n      <td>Team</td>\n      <td>Team</td>\n      <td>Team Africa</td>\n      <td>AFR</td>\n      <td>12326</td>\n      <td>Africa</td>\n      <td>africa</td>\n      <td></td>\n      <td></td>\n    </tr>\n    <tr>\n      <th>7</th>\n      <td>False</td>\n      <td>False</td>\n      <td>Team</td>\n      <td>Team</td>\n      <td>Team World</td>\n      <td>WLD</td>\n      <td>12327</td>\n      <td>World</td>\n      <td>world</td>\n      <td></td>\n      <td></td>\n    </tr>\n    <tr>\n      <th>8</th>\n      <td>False</td>\n      <td>False</td>\n      <td>Adelaide</td>\n      <td>Adelaide</td>\n      <td>Adelaide 36ers</td>\n      <td>ADL</td>\n      <td>15019</td>\n      <td>36ers</td>\n      <td>36ers</td>\n      <td>Intl</td>\n      <td></td>\n    </tr>\n    <tr>\n      <th>9</th>\n      <td>True</td>\n      <td>False</td>\n      <td>Atlanta</td>\n      <td>Atlanta</td>\n      <td>Atlanta Hawks</td>\n      <td>ATL</td>\n      <td>1610612737</td>\n      <td>Hawks</td>\n      <td>hawks</td>\n      <td>East</td>\n      <td>Southeast</td>\n    </tr>\n    <tr>\n      <th>10</th>\n      <td>False</td>\n      <td>False</td>\n      <td>Beijing</td>\n      <td>Beijing</td>\n      <td>Beijing Ducks</td>\n      <td>BJD</td>\n      <td>15021</td>\n      <td>Ducks</td>\n      <td>ducks</td>\n      <td>Intl</td>\n      <td></td>\n    </tr>\n    <tr>\n      <th>11</th>\n      <td>True</td>\n      <td>False</td>\n      <td>Boston</td>\n      <td>Boston</td>\n      <td>Boston Celtics</td>\n      <td>BOS</td>\n      <td>1610612738</td>\n      <td>Celtics</td>\n      <td>celtics</td>\n      <td>East</td>\n      <td>Atlantic</td>\n    </tr>\n    <tr>\n      <th>12</th>\n      <td>True</td>\n      <td>False</td>\n      <td>Brooklyn</td>\n      <td>Brooklyn</td>\n      <td>Brooklyn Nets</td>\n      <td>BKN</td>\n      <td>1610612751</td>\n      <td>Nets</td>\n      <td>nets</td>\n      <td>East</td>\n      <td>Atlantic</td>\n    </tr>\n    <tr>\n      <th>13</th>\n      <td>True</td>\n      <td>False</td>\n      <td>Charlotte</td>\n      <td>Charlotte</td>\n      <td>Charlotte Hornets</td>\n      <td>CHA</td>\n      <td>1610612766</td>\n      <td>Hornets</td>\n      <td>hornets</td>\n      <td>East</td>\n      <td>Southeast</td>\n    </tr>\n    <tr>\n      <th>14</th>\n      <td>True</td>\n      <td>False</td>\n      <td>Chicago</td>\n      <td>Chicago</td>\n      <td>Chicago Bulls</td>\n      <td>CHI</td>\n      <td>1610612741</td>\n      <td>Bulls</td>\n      <td>bulls</td>\n      <td>East</td>\n      <td>Central</td>\n    </tr>\n    <tr>\n      <th>15</th>\n      <td>True</td>\n      <td>False</td>\n      <td>Cleveland</td>\n      <td>Cleveland</td>\n      <td>Cleveland Cavaliers</td>\n      <td>CLE</td>\n      <td>1610612739</td>\n      <td>Cavaliers</td>\n      <td>cavaliers</td>\n      <td>East</td>\n      <td>Central</td>\n    </tr>\n    <tr>\n      <th>16</th>\n      <td>True</td>\n      <td>False</td>\n      <td>Dallas</td>\n      <td>Dallas</td>\n      <td>Dallas Mavericks</td>\n      <td>DAL</td>\n      <td>1610612742</td>\n      <td>Mavericks</td>\n      <td>mavericks</td>\n      <td>West</td>\n      <td>Southwest</td>\n    </tr>\n    <tr>\n      <th>17</th>\n      <td>True</td>\n      <td>False</td>\n      <td>Denver</td>\n      <td>Denver</td>\n      <td>Denver Nuggets</td>\n      <td>DEN</td>\n      <td>1610612743</td>\n      <td>Nuggets</td>\n      <td>nuggets</td>\n      <td>West</td>\n      <td>Northwest</td>\n    </tr>\n    <tr>\n      <th>18</th>\n      <td>True</td>\n      <td>False</td>\n      <td>Detroit</td>\n      <td>Detroit</td>\n      <td>Detroit Pistons</td>\n      <td>DET</td>\n      <td>1610612765</td>\n      <td>Pistons</td>\n      <td>pistons</td>\n      <td>East</td>\n      <td>Central</td>\n    </tr>\n    <tr>\n      <th>19</th>\n      <td>True</td>\n      <td>False</td>\n      <td>Golden State</td>\n      <td>Golden State</td>\n      <td>Golden State Warriors</td>\n      <td>GSW</td>\n      <td>1610612744</td>\n      <td>Warriors</td>\n      <td>warriors</td>\n      <td>West</td>\n      <td>Pacific</td>\n    </tr>\n    <tr>\n      <th>20</th>\n      <td>False</td>\n      <td>False</td>\n      <td>Guangzhou</td>\n      <td>Guangzhou</td>\n      <td>Guangzhou Long-Lions</td>\n      <td>GUA</td>\n      <td>15018</td>\n      <td>Long-Lions</td>\n      <td>long-lions</td>\n      <td>Intl</td>\n      <td></td>\n    </tr>\n    <tr>\n      <th>21</th>\n      <td>False</td>\n      <td>False</td>\n      <td>Haifa</td>\n      <td>Haifa</td>\n      <td>Maccabi Haifa</td>\n      <td>MAC</td>\n      <td>93</td>\n      <td>Maccabi Haifa</td>\n      <td>maccabi_haifa</td>\n      <td>Intl</td>\n      <td></td>\n    </tr>\n    <tr>\n      <th>22</th>\n      <td>True</td>\n      <td>False</td>\n      <td>Houston</td>\n      <td>Houston</td>\n      <td>Houston Rockets</td>\n      <td>HOU</td>\n      <td>1610612745</td>\n      <td>Rockets</td>\n      <td>rockets</td>\n      <td>West</td>\n      <td>Southwest</td>\n    </tr>\n    <tr>\n      <th>23</th>\n      <td>True</td>\n      <td>False</td>\n      <td>Indiana</td>\n      <td>Indiana</td>\n      <td>Indiana Pacers</td>\n      <td>IND</td>\n      <td>1610612754</td>\n      <td>Pacers</td>\n      <td>pacers</td>\n      <td>East</td>\n      <td>Central</td>\n    </tr>\n    <tr>\n      <th>24</th>\n      <td>True</td>\n      <td>False</td>\n      <td>LA</td>\n      <td>LA Clippers</td>\n      <td>LA Clippers</td>\n      <td>LAC</td>\n      <td>1610612746</td>\n      <td>Clippers</td>\n      <td>clippers</td>\n      <td>West</td>\n      <td>Pacific</td>\n    </tr>\n    <tr>\n      <th>25</th>\n      <td>True</td>\n      <td>False</td>\n      <td>Los Angeles</td>\n      <td>Los Angeles Lakers</td>\n      <td>Los Angeles Lakers</td>\n      <td>LAL</td>\n      <td>1610612747</td>\n      <td>Lakers</td>\n      <td>lakers</td>\n      <td>West</td>\n      <td>Pacific</td>\n    </tr>\n    <tr>\n      <th>26</th>\n      <td>False</td>\n      <td>False</td>\n      <td>Melbourne</td>\n      <td>Melbourne</td>\n      <td>Melbourne United</td>\n      <td>MEL</td>\n      <td>15016</td>\n      <td>United</td>\n      <td>united</td>\n      <td>Intl</td>\n      <td></td>\n    </tr>\n    <tr>\n      <th>27</th>\n      <td>True</td>\n      <td>False</td>\n      <td>Memphis</td>\n      <td>Memphis</td>\n      <td>Memphis Grizzlies</td>\n      <td>MEM</td>\n      <td>1610612763</td>\n      <td>Grizzlies</td>\n      <td>grizzlies</td>\n      <td>West</td>\n      <td>Southwest</td>\n    </tr>\n    <tr>\n      <th>28</th>\n      <td>True</td>\n      <td>False</td>\n      <td>Miami</td>\n      <td>Miami</td>\n      <td>Miami Heat</td>\n      <td>MIA</td>\n      <td>1610612748</td>\n      <td>Heat</td>\n      <td>heat</td>\n      <td>East</td>\n      <td>Southeast</td>\n    </tr>\n    <tr>\n      <th>29</th>\n      <td>True</td>\n      <td>False</td>\n      <td>Milwaukee</td>\n      <td>Milwaukee</td>\n      <td>Milwaukee Bucks</td>\n      <td>MIL</td>\n      <td>1610612749</td>\n      <td>Bucks</td>\n      <td>bucks</td>\n      <td>East</td>\n      <td>Central</td>\n    </tr>\n    <tr>\n      <th>30</th>\n      <td>True</td>\n      <td>False</td>\n      <td>Minnesota</td>\n      <td>Minnesota</td>\n      <td>Minnesota Timberwolves</td>\n      <td>MIN</td>\n      <td>1610612750</td>\n      <td>Timberwolves</td>\n      <td>timberwolves</td>\n      <td>West</td>\n      <td>Northwest</td>\n    </tr>\n    <tr>\n      <th>31</th>\n      <td>True</td>\n      <td>False</td>\n      <td>New Orleans</td>\n      <td>New Orleans</td>\n      <td>New Orleans Pelicans</td>\n      <td>NOP</td>\n      <td>1610612740</td>\n      <td>Pelicans</td>\n      <td>pelicans</td>\n      <td>West</td>\n      <td>Southwest</td>\n    </tr>\n    <tr>\n      <th>32</th>\n      <td>True</td>\n      <td>False</td>\n      <td>New York</td>\n      <td>New York</td>\n      <td>New York Knicks</td>\n      <td>NYK</td>\n      <td>1610612752</td>\n      <td>Knicks</td>\n      <td>knicks</td>\n      <td>East</td>\n      <td>Atlantic</td>\n    </tr>\n    <tr>\n      <th>33</th>\n      <td>False</td>\n      <td>False</td>\n      <td>New Zealand</td>\n      <td>New Zealand</td>\n      <td>New Zealand Breakers</td>\n      <td>NZB</td>\n      <td>15020</td>\n      <td>Breakers</td>\n      <td>breakers</td>\n      <td>Intl</td>\n      <td></td>\n    </tr>\n    <tr>\n      <th>34</th>\n      <td>True</td>\n      <td>False</td>\n      <td>Oklahoma City</td>\n      <td>Oklahoma City</td>\n      <td>Oklahoma City Thunder</td>\n      <td>OKC</td>\n      <td>1610612760</td>\n      <td>Thunder</td>\n      <td>thunder</td>\n      <td>West</td>\n      <td>Northwest</td>\n    </tr>\n    <tr>\n      <th>35</th>\n      <td>True</td>\n      <td>False</td>\n      <td>Orlando</td>\n      <td>Orlando</td>\n      <td>Orlando Magic</td>\n      <td>ORL</td>\n      <td>1610612753</td>\n      <td>Magic</td>\n      <td>magic</td>\n      <td>East</td>\n      <td>Southeast</td>\n    </tr>\n    <tr>\n      <th>36</th>\n      <td>False</td>\n      <td>False</td>\n      <td>Perth</td>\n      <td>Perth</td>\n      <td>Perth Wildcats</td>\n      <td>PER</td>\n      <td>104</td>\n      <td>Wildcats</td>\n      <td>wildcats</td>\n      <td>Intl</td>\n      <td></td>\n    </tr>\n    <tr>\n      <th>37</th>\n      <td>True</td>\n      <td>False</td>\n      <td>Philadelphia</td>\n      <td>Philadelphia</td>\n      <td>Philadelphia 76ers</td>\n      <td>PHI</td>\n      <td>1610612755</td>\n      <td>76ers</td>\n      <td>sixers</td>\n      <td>East</td>\n      <td>Atlantic</td>\n    </tr>\n    <tr>\n      <th>38</th>\n      <td>True</td>\n      <td>False</td>\n      <td>Phoenix</td>\n      <td>Phoenix</td>\n      <td>Phoenix Suns</td>\n      <td>PHX</td>\n      <td>1610612756</td>\n      <td>Suns</td>\n      <td>suns</td>\n      <td>West</td>\n      <td>Pacific</td>\n    </tr>\n    <tr>\n      <th>39</th>\n      <td>True</td>\n      <td>False</td>\n      <td>Portland</td>\n      <td>Portland</td>\n      <td>Portland Trail Blazers</td>\n      <td>POR</td>\n      <td>1610612757</td>\n      <td>Trail Blazers</td>\n      <td>blazers</td>\n      <td>West</td>\n      <td>Northwest</td>\n    </tr>\n    <tr>\n      <th>40</th>\n      <td>False</td>\n      <td>False</td>\n      <td>Rio de Janeiro</td>\n      <td>Rio de Janeiro</td>\n      <td>Rio de Janeiro Flamengo</td>\n      <td>FLA</td>\n      <td>12325</td>\n      <td>Flamengo</td>\n      <td>flamengo</td>\n      <td>Intl</td>\n      <td></td>\n    </tr>\n    <tr>\n      <th>41</th>\n      <td>True</td>\n      <td>False</td>\n      <td>Sacramento</td>\n      <td>Sacramento</td>\n      <td>Sacramento Kings</td>\n      <td>SAC</td>\n      <td>1610612758</td>\n      <td>Kings</td>\n      <td>kings</td>\n      <td>West</td>\n      <td>Pacific</td>\n    </tr>\n    <tr>\n      <th>42</th>\n      <td>True</td>\n      <td>False</td>\n      <td>San Antonio</td>\n      <td>San Antonio</td>\n      <td>San Antonio Spurs</td>\n      <td>SAS</td>\n      <td>1610612759</td>\n      <td>Spurs</td>\n      <td>spurs</td>\n      <td>West</td>\n      <td>Southwest</td>\n    </tr>\n    <tr>\n      <th>43</th>\n      <td>False</td>\n      <td>False</td>\n      <td>Shanghai</td>\n      <td>Shanghai</td>\n      <td>Shanghai Sharks</td>\n      <td>SDS</td>\n      <td>12329</td>\n      <td>Shanghai Sharks</td>\n      <td>shanghai_sharks</td>\n      <td>Intl</td>\n      <td></td>\n    </tr>\n    <tr>\n      <th>44</th>\n      <td>False</td>\n      <td>False</td>\n      <td>Sydney</td>\n      <td>Sydney</td>\n      <td>Sydney Kings</td>\n      <td>SYD</td>\n      <td>15015</td>\n      <td>Kings</td>\n      <td>kings</td>\n      <td>Intl</td>\n      <td></td>\n    </tr>\n    <tr>\n      <th>45</th>\n      <td>True</td>\n      <td>False</td>\n      <td>Toronto</td>\n      <td>Toronto</td>\n      <td>Toronto Raptors</td>\n      <td>TOR</td>\n      <td>1610612761</td>\n      <td>Raptors</td>\n      <td>raptors</td>\n      <td>East</td>\n      <td>Atlantic</td>\n    </tr>\n    <tr>\n      <th>46</th>\n      <td>True</td>\n      <td>False</td>\n      <td>Utah</td>\n      <td>Utah</td>\n      <td>Utah Jazz</td>\n      <td>UTA</td>\n      <td>1610612762</td>\n      <td>Jazz</td>\n      <td>jazz</td>\n      <td>West</td>\n      <td>Northwest</td>\n    </tr>\n    <tr>\n      <th>47</th>\n      <td>True</td>\n      <td>False</td>\n      <td>Washington</td>\n      <td>Washington</td>\n      <td>Washington Wizards</td>\n      <td>WAS</td>\n      <td>1610612764</td>\n      <td>Wizards</td>\n      <td>wizards</td>\n      <td>East</td>\n      <td>Southeast</td>\n    </tr>\n  </tbody>\n</table>\n</div>"
     },
     "metadata": {},
     "execution_count": 41
    }
   ],
   "source": [
    "final_df = None\n",
    "for elem in df_json_league:\n",
    "    df = pd.read_json(elem + '.json') \n",
    "    if final_df == None:  # First time\n",
    "        final_df = df\n",
    "    else:\n",
    "        final_df.append(df)\n",
    "\n",
    "final_df"
   ]
  },
  {
   "cell_type": "code",
   "execution_count": null,
   "metadata": {},
   "outputs": [],
   "source": [
    "final_dfs = []\n",
    "for elem in df_json_league:\n",
    "    df = pd.read_json(elem + '.json') \n",
    "    final_dfs.append(df)\n",
    "\n",
    "pd.concat(final_dfs, axis=0)"
   ]
  }
 ],
 "metadata": {
  "language_info": {
   "name": "python",
   "codemirror_mode": {
    "name": "ipython",
    "version": 3
   },
   "version": "3.6.4-final"
  },
  "orig_nbformat": 2,
  "file_extension": ".py",
  "mimetype": "text/x-python",
  "name": "python",
  "npconvert_exporter": "python",
  "pygments_lexer": "ipython3",
  "version": 3,
  "kernelspec": {
   "name": "python36464bitc2077ed07ea84d23aa5b518d224882ab",
   "display_name": "Python 3.6.4 64-bit"
  }
 },
 "nbformat": 4,
 "nbformat_minor": 2
}