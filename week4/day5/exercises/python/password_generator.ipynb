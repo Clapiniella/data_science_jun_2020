{
 "cells": [
  {
   "cell_type": "markdown",
   "metadata": {},
   "source": [
    "Write a password generator in Python\n",
    "\n",
    "Link: https://www.practicepython.org/solution/2014/06/06/16-password-generator-solutions.html"
   ]
  },
  {
   "cell_type": "code",
   "execution_count": 5,
   "metadata": {
    "tags": []
   },
   "outputs": [
    {
     "output_type": "stream",
     "name": "stdout",
     "text": "\n\nletters:\n\n abcdefghijklmnopqrstuvwxyzABCDEFGHIJKLMNOPQRSTUVWXYZ\n\n\ndigits:\n\n 0123456789\n\n\npunctuations:\n\n !\"#$%&'()*+,-./:;<=>?@[\\]^_`{|}~\n"
    }
   ],
   "source": [
    "import string\n",
    "\n",
    "letters = string.ascii_letters \n",
    "digits = string.digits\n",
    "punctuations = string.punctuation\n",
    "\n",
    "print(\"\\n\\nletters:\\n\\n\", letters)\n",
    "print(\"\\n\\ndigits:\\n\\n\", digits)\n",
    "print(\"\\n\\npunctuations:\\n\\n\", punctuations)"
   ]
  },
  {
   "cell_type": "code",
   "execution_count": null,
   "metadata": {},
   "outputs": [],
   "source": []
  }
 ],
 "metadata": {
  "language_info": {
   "codemirror_mode": {
    "name": "ipython",
    "version": 3
   },
   "file_extension": ".py",
   "mimetype": "text/x-python",
   "name": "python",
   "nbconvert_exporter": "python",
   "pygments_lexer": "ipython3",
   "version": "3.6.4-final"
  },
  "orig_nbformat": 2,
  "kernelspec": {
   "name": "python36464bitc2077ed07ea84d23aa5b518d224882ab",
   "display_name": "Python 3.6.4 64-bit"
  }
 },
 "nbformat": 4,
 "nbformat_minor": 2
}