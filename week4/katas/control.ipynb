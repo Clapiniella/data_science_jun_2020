{
 "cells": [
  {
   "cell_type": "code",
   "execution_count": 33,
   "metadata": {},
   "outputs": [],
   "source": [
    "import requests\n",
    "import json\n",
    "\n",
    "#https://dev.codewars.com/#get-user:-completed-challenges\n",
    "\n",
    "#https://www.codewars.com/api/v1/users/Clapiniella/code-challenges/completed?page=0\n",
    "\n",
    "USERS = 'https://www.codewars.com/api/v1/users/'\n",
    "COMPLETE = '/code-challenges/completed'\n",
    "KATA = 'https://www.codewars.com/api/v1/code-challenges/'\n",
    "\n",
    "def get_completed_by_user(user, users=USERS, path=COMPLETE):\n",
    "    url = users + user + path\n",
    "    resp = requests.get(url)    \n",
    "    return resp.json()\n",
    "\n",
    "def get_name_kata(id_kata, katas=KATA):\n",
    "    url = katas + id_kata\n",
    "    resp = requests.get(url)\n",
    "    return resp.json()"
   ]
  },
  {
   "cell_type": "code",
   "execution_count": 95,
   "metadata": {},
   "outputs": [
    {
     "output_type": "execute_result",
     "data": {
      "text/plain": "{'id': '51e056fe544cf36c410000fb',\n 'name': 'Most frequently used words in a text',\n 'slug': 'most-frequently-used-words-in-a-text',\n 'category': 'algorithms',\n 'publishedAt': '2013-07-26T22:42:11.102Z',\n 'approvedAt': '2013-12-19T18:25:33.862Z',\n 'languages': ['ruby', 'python', 'javascript', 'java', 'kotlin', 'csharp'],\n 'url': 'https://www.codewars.com/kata/51e056fe544cf36c410000fb',\n 'rank': {'id': -4, 'name': '4 kyu', 'color': 'blue'},\n 'createdAt': '2013-07-12T19:20:30.979Z',\n 'createdBy': {'username': 'markprzepiora',\n  'url': 'https://www.codewars.com/users/markprzepiora'},\n 'approvedBy': {'username': 'jhoffner',\n  'url': 'https://www.codewars.com/users/jhoffner'},\n 'description': 'Write a function that, given a string of text (possibly with punctuation and line-breaks),\\nreturns an array of the top-3 most occurring words, in descending order of the number of occurrences.\\n\\nAssumptions:\\n------------\\n\\n- A word is a string of letters (A to Z) optionally containing one or more apostrophes (\\') in ASCII. (No need to handle fancy punctuation.)\\n- Matches should be case-insensitive, and the words in the result should be lowercased.\\n- Ties may be broken arbitrarily.\\n- If a text contains fewer than three unique words, then either the top-2 or top-1 words should be returned, or an empty array if a text contains no words.\\n\\nExamples:\\n------------\\n\\n```\\ntop_3_words(\"In a village of La Mancha, the name of which I have no desire to call to\\nmind, there lived not long since one of those gentlemen that keep a lance\\nin the lance-rack, an old buckler, a lean hack, and a greyhound for\\ncoursing. An olla of rather more beef than mutton, a salad on most\\nnights, scraps on Saturdays, lentils on Fridays, and a pigeon or so extra\\non Sundays, made away with three-quarters of his income.\")\\n# => [\"a\", \"of\", \"on\"]\\n\\ntop_3_words(\"e e e e DDD ddd DdD: ddd ddd aa aA Aa, bb cc cC e e e\")\\n# => [\"e\", \"ddd\", \"aa\"]\\n\\ntop_3_words(\"  //wont won\\'t won\\'t\")\\n# => [\"won\\'t\", \"wont\"]\\n```\\n\\n```if:java\\nFor java users, the calls will actually be in the form: `TopWords.top3(String s)`, expecting you to return a `List<String>`.\\n```\\n\\nBonus points (not really, but just for fun):\\n------------\\n\\n1. Avoid creating an array whose memory footprint is roughly as big as the input text.\\n2. Avoid sorting the entire array of unique words.',\n 'totalAttempts': 81647,\n 'totalCompleted': 4921,\n 'totalStars': 437,\n 'voteScore': 511,\n 'tags': ['Algorithms',\n  'Strings',\n  'Data Types',\n  'Parsing',\n  'Logic',\n  'Ranking',\n  'Filtering'],\n 'contributorsWanted': True,\n 'unresolved': {'issues': 1, 'suggestions': 2}}"
     },
     "metadata": {},
     "execution_count": 95
    }
   ],
   "source": [
    "get_name_kata(\"51e056fe544cf36c410000fb\")"
   ]
  },
  {
   "cell_type": "code",
   "execution_count": 94,
   "metadata": {},
   "outputs": [
    {
     "output_type": "execute_result",
     "data": {
      "text/plain": "{'totalPages': 1,\n 'totalItems': 36,\n 'data': [{'id': '51e056fe544cf36c410000fb',\n   'name': 'Most frequently used words in a text',\n   'slug': 'most-frequently-used-words-in-a-text',\n   'completedLanguages': ['python'],\n   'completedAt': '2020-07-03T17:48:39.035Z'},\n  {'id': '5abcf0f930488ff1a6000b66',\n   'name': 'SQL with Harry Potter: Sorting Hat Comparators',\n   'slug': 'sql-with-harry-potter-sorting-hat-comparators',\n   'completedLanguages': ['sql'],\n   'completedAt': '2020-03-31T09:10:58.926Z'},\n  {'id': '52774a314c2333f0a7000688',\n   'name': 'Valid Parentheses',\n   'slug': 'valid-parentheses',\n   'completedLanguages': ['python'],\n   'completedAt': '2020-02-20T15:23:59.850Z'},\n  {'id': '5981ff1daf72e8747d000091',\n   'name': 'Potion Class 101',\n   'slug': 'potion-class-101',\n   'completedLanguages': ['python'],\n   'completedAt': '2020-02-20T15:22:02.274Z'},\n  {'id': '5e2596a9ad937f002e510435',\n   'name': 'Pandemia 🌡️',\n   'slug': 'pandemia',\n   'completedLanguages': ['python'],\n   'completedAt': '2020-02-20T15:20:05.538Z'},\n  {'id': '576757b1df89ecf5bd00073b',\n   'name': 'Build Tower',\n   'slug': 'build-tower',\n   'completedLanguages': ['python'],\n   'completedAt': '2020-02-20T15:17:35.253Z'},\n  {'id': '55b95c76e08bd5eef100001e',\n   'name': 'Counting in the  Amazon',\n   'slug': 'counting-in-the-amazon',\n   'completedLanguages': ['python'],\n   'completedAt': '2020-01-22T08:47:26.131Z'},\n  {'id': '582cb0224e56e068d800003c',\n   'name': 'Keep Hydrated!',\n   'slug': 'keep-hydrated-1',\n   'completedLanguages': ['python'],\n   'completedAt': '2020-01-16T08:40:57.090Z'},\n  {'id': '54d1c59aba326343c80000e7',\n   'name': 'Incorrect division method',\n   'slug': 'incorrect-division-method',\n   'completedLanguages': ['python'],\n   'completedAt': '2020-01-13T11:48:50.260Z'},\n  {'id': '5503013e34137eeeaa001648',\n   'name': 'Give me a Diamond',\n   'slug': 'give-me-a-diamond',\n   'completedLanguages': ['python'],\n   'completedAt': '2019-12-06T09:21:52.909Z'},\n  {'id': '525f47c79f2f25a4db000025',\n   'name': 'Valid Phone Number',\n   'slug': 'valid-phone-number',\n   'completedLanguages': ['python'],\n   'completedAt': '2019-12-05T08:56:10.204Z'},\n  {'id': '559a28007caad2ac4e000083',\n   'name': 'Perimeter of squares in a rectangle',\n   'slug': 'perimeter-of-squares-in-a-rectangle',\n   'completedLanguages': ['python'],\n   'completedAt': '2019-12-04T09:29:21.927Z'},\n  {'id': '5a5cdb07fd56cbdd3c00005b',\n   'name': 'Unknown amount of duplicates. One missing number.',\n   'slug': 'unknown-amount-of-duplicates-one-missing-number',\n   'completedLanguages': ['python'],\n   'completedAt': '2019-12-03T09:28:39.267Z'},\n  {'id': '5a5f9f80f5dc3f942b002309',\n   'name': \"Schrödinger's Boolean\",\n   'slug': 'schrodingers-boolean',\n   'completedLanguages': ['python'],\n   'completedAt': '2019-12-02T09:18:50.069Z'},\n  {'id': '550f22f4d758534c1100025a',\n   'name': 'Directions Reduction',\n   'slug': 'directions-reduction',\n   'completedLanguages': ['python'],\n   'completedAt': '2019-11-29T08:43:17.631Z'},\n  {'id': '580d08b5c049aef8f900007c',\n   'name': 'SQL Basics: Top 10 customers by total payments amount',\n   'slug': 'sql-basics-top-10-customers-by-total-payments-amount',\n   'completedLanguages': ['sql'],\n   'completedAt': '2019-11-28T09:17:23.671Z'},\n  {'id': '5d4c6809089c6e5031f189ed',\n   'name': 'Computer problem series #2: Torrent download',\n   'slug': 'computer-problem-series-number-2-torrent-download',\n   'completedLanguages': ['python'],\n   'completedAt': '2019-11-27T09:45:56.196Z'},\n  {'id': '5b0a80ce84a30f4762000069',\n   'name': 'FIXME: Hello',\n   'slug': 'fixme-hello',\n   'completedLanguages': ['python'],\n   'completedAt': '2019-11-26T09:25:27.450Z'},\n  {'id': '57b06f90e298a7b53d000a86',\n   'name': 'The Supermarket Queue',\n   'slug': 'the-supermarket-queue',\n   'completedLanguages': ['python'],\n   'completedAt': '2019-11-25T09:20:04.625Z'},\n  {'id': '53ad69892a27079b34000bd9',\n   'name': 'Ackermann Function ',\n   'slug': 'ackermann-function',\n   'completedLanguages': ['python'],\n   'completedAt': '2019-11-20T08:52:05.307Z'},\n  {'id': '525c65e51bf619685c000059',\n   'name': 'Pete, the baker',\n   'slug': 'pete-the-baker',\n   'completedLanguages': ['python'],\n   'completedAt': '2019-11-19T09:16:17.601Z'},\n  {'id': '526dad7f8c0eb5c4640000a4',\n   'name': 'Vector class',\n   'slug': 'vector-class',\n   'completedLanguages': ['python'],\n   'completedAt': '2019-11-15T09:43:32.729Z'},\n  {'id': '59fa8e2646d8433ee200003f',\n   'name': 'Sorting by bits',\n   'slug': 'sorting-by-bits',\n   'completedLanguages': ['python'],\n   'completedAt': '2019-11-14T09:34:34.110Z'},\n  {'id': '58ab2ed1acbab2eacc00010e',\n   'name': 'Scraping: Get the Year a CodeWarrior Joined',\n   'slug': 'scraping-get-the-year-a-codewarrior-joined',\n   'completedLanguages': ['python'],\n   'completedAt': '2019-11-13T09:31:44.581Z'},\n  {'id': '59377c53e66267c8f6000027',\n   'name': 'Alphabet war',\n   'slug': 'alphabet-war',\n   'completedLanguages': ['python'],\n   'completedAt': '2019-11-12T08:48:32.514Z'},\n  {'id': '598106cb34e205e074000031',\n   'name': 'The Deaf Rats of Hamelin',\n   'slug': 'the-deaf-rats-of-hamelin',\n   'completedLanguages': ['python'],\n   'completedAt': '2019-11-11T09:24:15.124Z'},\n  {'id': '5b4070144d7d8bbfe7000001',\n   'name': 'Numericals of a String',\n   'slug': 'numericals-of-a-string',\n   'completedLanguages': ['python'],\n   'completedAt': '2019-11-08T09:25:31.137Z'},\n  {'id': '5660aa3d5e011dfd6e000063',\n   'name': \"80's Kids #2: Help ALF Find His Spaceship\",\n   'slug': '80-s-kids-number-2-help-alf-find-his-spaceship',\n   'completedLanguages': ['python'],\n   'completedAt': '2019-11-07T09:21:16.176Z'},\n  {'id': '5ae7e3f068e6445bc8000046',\n   'name': 'See You Next Happy Year ',\n   'slug': 'see-you-next-happy-year',\n   'completedLanguages': ['python'],\n   'completedAt': '2019-11-06T09:16:30.523Z'},\n  {'id': '54b724efac3d5402db00065e',\n   'name': 'Decode the Morse code ',\n   'slug': 'decode-the-morse-code',\n   'completedLanguages': ['python'],\n   'completedAt': '2019-11-05T09:31:26.173Z'},\n  {'id': '583203e6eb35d7980400002a',\n   'name': 'Count the smiley faces!',\n   'slug': 'count-the-smiley-faces',\n   'completedLanguages': ['python'],\n   'completedAt': '2019-11-01T09:17:43.469Z'},\n  {'id': '593ef0e98b90525e090000b9',\n   'name': 'SQL Basics - Monsters using CASE',\n   'slug': 'sql-basics-monsters-using-case',\n   'completedLanguages': ['sql'],\n   'completedAt': '2019-10-31T09:09:10.088Z'},\n  {'id': '5ab7a736edbcfc8e62000007',\n   'name': 'SQL with Sailor Moon: Thinking about JOINs...',\n   'slug': 'sql-with-sailor-moon-thinking-about-joins-dot-dot-dot',\n   'completedLanguages': ['sql'],\n   'completedAt': '2019-10-30T09:21:41.570Z'},\n  {'id': '5506b230a11c0aeab3000c1f',\n   'name': 'Deodorant Evaporator',\n   'slug': 'deodorant-evaporator',\n   'completedLanguages': ['python'],\n   'completedAt': '2019-10-28T09:18:02.096Z'},\n  {'id': '57eaeb9578748ff92a000009',\n   'name': 'Sum Mixed Array',\n   'slug': 'sum-mixed-array',\n   'completedLanguages': ['python'],\n   'completedAt': '2019-10-23T07:51:20.711Z'},\n  {'id': '50654ddff44f800200000004',\n   'name': 'Multiply',\n   'slug': 'multiply',\n   'completedLanguages': ['python'],\n   'completedAt': '2019-10-22T07:30:20.053Z'}]}"
     },
     "metadata": {},
     "execution_count": 94
    }
   ],
   "source": [
    "get_completed_by_user(\"Clapiniella\")"
   ]
  },
  {
   "cell_type": "code",
   "execution_count": 92,
   "metadata": {
    "tags": []
   },
   "outputs": [],
   "source": [
    "def check_if_done(user, kata_id):\n",
    "    name_kata = None\n",
    "    time = False\n",
    "    try:\n",
    "        for i in range(len(get_completed_by_user(user)['data'])):\n",
    "            name_kata = get_name_kata(kata_id)['name']\n",
    "            if get_completed_by_user(user)['data'][i]['id'] == kata_id:\n",
    "                time = get_completed_by_user(user)['data'][i]['completedAt']\n",
    "                print(time)\n",
    "                print(f\"{user} has completed the kata {name_kata} at {time}\")\n",
    "                #else:\n",
    "                #print(f\"{user} has NOT completed the kata {name_kata}\")\n",
    "                #return (user, kata_id, name_kata, False)\n",
    "\n",
    "        return (user, kata_id, name_kata, time)\n",
    "        \n",
    "                # solo considera el primer id de kata porque pasa al return del else y acaba la función, ¿por qué? WHYYYYYYYYYY\n",
    "    except: \n",
    "        print(f\"Puede que {user} no tenga usuario\")"
   ]
  },
  {
   "cell_type": "code",
   "execution_count": 60,
   "metadata": {
    "tags": []
   },
   "outputs": [
    {
     "output_type": "stream",
     "name": "stdout",
     "text": "Clapiniella has completed the kata Most frequently used words in a text at 2020-07-03T17:48:39.035Z\n"
    },
    {
     "output_type": "execute_result",
     "data": {
      "text/plain": "('Clapiniella',\n '51e056fe544cf36c410000fb',\n 'Most frequently used words in a text',\n '2020-07-03T17:48:39.035Z')"
     },
     "metadata": {},
     "execution_count": 60
    }
   ],
   "source": [
    "check_if_done(\"Clapiniella\",\"51e056fe544cf36c410000fb\")"
   ]
  },
  {
   "cell_type": "code",
   "execution_count": 61,
   "metadata": {},
   "outputs": [],
   "source": [
    "def create_dataframe():\n",
    "    return pd.DataFrame({\"user\":[],\"kata_id\":[], \"kata_name\":[], \"when\":[]})"
   ]
  },
  {
   "cell_type": "code",
   "execution_count": 75,
   "metadata": {},
   "outputs": [],
   "source": [
    "def fulfill_df(function_check_if_done, df_katas):\n",
    "    # TODO: Raise error when the user doesn't exist\n",
    "    new_row = {\"user\":function_check_if_done[0],\"kata_id\":function_check_if_done[1], \"kata_name\":function_check_if_done[2], \"when\":function_check_if_done[3]}\n",
    "    #append row to the dataframe\n",
    "    return df_katas.append(new_row, ignore_index=True)\n"
   ]
  },
  {
   "cell_type": "code",
   "execution_count": 93,
   "metadata": {
    "tags": []
   },
   "outputs": [
    {
     "output_type": "stream",
     "name": "stdout",
     "text": "2019-12-06T09:21:52.909Z\nClapiniella has completed the kata Give me a Diamond at 2019-12-06T09:21:52.909Z\n"
    },
    {
     "output_type": "execute_result",
     "data": {
      "text/plain": "          user                   kata_id  \\\n0  Clapiniella  51e056fe544cf36c410000fb   \n1  Clapiniella  5811527d9d278b242f000006   \n2  Clapiniella  5811527d9d278b242f000006   \n3  Clapiniella  51e056fe544cf36c410000fb   \n4  Clapiniella  51e056fe544cf36c410000fb   \n5  Clapiniella  582cb0224e56e068d800003c   \n6  Clapiniella  5503013e34137eeeaa001648   \n7  Clapiniella  5503013e34137eeeaa001648   \n8  Clapiniella  5503013e34137eeeaa001648   \n\n                              kata_name                      when  \n0  Most frequently used words in a text  2020-07-03T17:48:39.035Z  \n1               SQL Basics: Simple VIEW                     False  \n2               SQL Basics: Simple VIEW                     False  \n3  Most frequently used words in a text  2020-07-03T17:48:39.035Z  \n4  Most frequently used words in a text  2020-07-03T17:48:39.035Z  \n5                        Keep Hydrated!                     False  \n6                     Give me a Diamond                     False  \n7                     Give me a Diamond                     False  \n8                     Give me a Diamond  2019-12-06T09:21:52.909Z  ",
      "text/html": "<div>\n<style scoped>\n    .dataframe tbody tr th:only-of-type {\n        vertical-align: middle;\n    }\n\n    .dataframe tbody tr th {\n        vertical-align: top;\n    }\n\n    .dataframe thead th {\n        text-align: right;\n    }\n</style>\n<table border=\"1\" class=\"dataframe\">\n  <thead>\n    <tr style=\"text-align: right;\">\n      <th></th>\n      <th>user</th>\n      <th>kata_id</th>\n      <th>kata_name</th>\n      <th>when</th>\n    </tr>\n  </thead>\n  <tbody>\n    <tr>\n      <th>0</th>\n      <td>Clapiniella</td>\n      <td>51e056fe544cf36c410000fb</td>\n      <td>Most frequently used words in a text</td>\n      <td>2020-07-03T17:48:39.035Z</td>\n    </tr>\n    <tr>\n      <th>1</th>\n      <td>Clapiniella</td>\n      <td>5811527d9d278b242f000006</td>\n      <td>SQL Basics: Simple VIEW</td>\n      <td>False</td>\n    </tr>\n    <tr>\n      <th>2</th>\n      <td>Clapiniella</td>\n      <td>5811527d9d278b242f000006</td>\n      <td>SQL Basics: Simple VIEW</td>\n      <td>False</td>\n    </tr>\n    <tr>\n      <th>3</th>\n      <td>Clapiniella</td>\n      <td>51e056fe544cf36c410000fb</td>\n      <td>Most frequently used words in a text</td>\n      <td>2020-07-03T17:48:39.035Z</td>\n    </tr>\n    <tr>\n      <th>4</th>\n      <td>Clapiniella</td>\n      <td>51e056fe544cf36c410000fb</td>\n      <td>Most frequently used words in a text</td>\n      <td>2020-07-03T17:48:39.035Z</td>\n    </tr>\n    <tr>\n      <th>5</th>\n      <td>Clapiniella</td>\n      <td>582cb0224e56e068d800003c</td>\n      <td>Keep Hydrated!</td>\n      <td>False</td>\n    </tr>\n    <tr>\n      <th>6</th>\n      <td>Clapiniella</td>\n      <td>5503013e34137eeeaa001648</td>\n      <td>Give me a Diamond</td>\n      <td>False</td>\n    </tr>\n    <tr>\n      <th>7</th>\n      <td>Clapiniella</td>\n      <td>5503013e34137eeeaa001648</td>\n      <td>Give me a Diamond</td>\n      <td>False</td>\n    </tr>\n    <tr>\n      <th>8</th>\n      <td>Clapiniella</td>\n      <td>5503013e34137eeeaa001648</td>\n      <td>Give me a Diamond</td>\n      <td>2019-12-06T09:21:52.909Z</td>\n    </tr>\n  </tbody>\n</table>\n</div>"
     },
     "metadata": {},
     "execution_count": 93
    }
   ],
   "source": [
    "user = str(input(\"Nombre de usuario:\"))\n",
    "kata_id = str(input(\"Id de la kata:\"))\n",
    "dataframe = fulfill_df(check_if_done(user,kata_id), dataframe)\n",
    "dataframe"
   ]
  },
  {
   "cell_type": "code",
   "execution_count": null,
   "metadata": {},
   "outputs": [],
   "source": [
    "''' \n",
    "done_ \"51e056fe544cf36c410000fb\"\n",
    "notdone_\"5811527d9d278b242f000006\"\n",
    "'''"
   ]
  },
  {
   "cell_type": "code",
   "execution_count": null,
   "metadata": {},
   "outputs": [],
   "source": []
  }
 ],
 "metadata": {
  "language_info": {
   "codemirror_mode": {
    "name": "ipython",
    "version": 3
   },
   "file_extension": ".py",
   "mimetype": "text/x-python",
   "name": "python",
   "nbconvert_exporter": "python",
   "pygments_lexer": "ipython3",
   "version": 3
  },
  "orig_nbformat": 2,
  "kernelspec": {
   "name": "python_defaultSpec_1594107668502",
   "display_name": "Python 3.8.3 32-bit"
  }
 },
 "nbformat": 4,
 "nbformat_minor": 2
}