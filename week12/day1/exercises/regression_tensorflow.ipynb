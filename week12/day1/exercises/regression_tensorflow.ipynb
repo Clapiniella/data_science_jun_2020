{
 "metadata": {
  "language_info": {
   "codemirror_mode": {
    "name": "ipython",
    "version": 3
   },
   "file_extension": ".py",
   "mimetype": "text/x-python",
   "name": "python",
   "nbconvert_exporter": "python",
   "pygments_lexer": "ipython3",
   "version": 3
  },
  "orig_nbformat": 2
 },
 "nbformat": 4,
 "nbformat_minor": 2,
 "cells": [
  {
   "source": [
    "A partir de la siguiente URL:\n",
    "\n",
    "https://www.tensorflow.org/tutorials/keras/regression?hl=es-419\n",
    "\n",
    "Realiza todos los pasos que se dan en este notebook leyendo todas las explicaciones con el objetivo de comprenderlo. "
   ],
   "cell_type": "markdown",
   "metadata": {}
  }
 ]
}