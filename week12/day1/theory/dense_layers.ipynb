{
 "metadata": {
  "language_info": {
   "codemirror_mode": {
    "name": "ipython",
    "version": 3
   },
   "file_extension": ".py",
   "mimetype": "text/x-python",
   "name": "python",
   "nbconvert_exporter": "python",
   "pygments_lexer": "ipython3",
   "version": "3.6.4-final"
  },
  "orig_nbformat": 2,
  "kernelspec": {
   "name": "Python 3.6.4 64-bit",
   "display_name": "Python 3.6.4 64-bit",
   "metadata": {
    "interpreter": {
     "hash": "5c4d2f1fdcd3716c7a5eea90ad07be30193490dd4e63617705244f5fd89ea793"
    }
   }
  }
 },
 "nbformat": 4,
 "nbformat_minor": 2,
 "cells": [
  {
   "source": [
    "https://www.tensorflow.org/guide/keras/train_and_evaluate?hl=es"
   ],
   "cell_type": "markdown",
   "metadata": {}
  },
  {
   "cell_type": "code",
   "execution_count": 1,
   "metadata": {},
   "outputs": [],
   "source": [
    "import tensorflow as tf\n",
    "from tensorflow import keras\n",
    "from tensorflow.keras import layers"
   ]
  },
  {
   "cell_type": "code",
   "execution_count": 27,
   "metadata": {},
   "outputs": [],
   "source": [
    "# Construimos el modelo\n",
    "\n",
    "# Las entradas van a tener 784 dimensiones en forma de vector (28x28)\n",
    "inputs = keras.Input(shape=(784,), name=\"digits\")\n",
    "# Primera capa de la red, con 64 neuronas y usando ReLu\n",
    "x1 = layers.Dense(64, activation=\"relu\")(inputs)\n",
    "# Segunda capa de la red, con 64 neuronas y usando ReLu\n",
    "x2 = layers.Dense(32, activation=\"relu\")(x1)\n",
    "# La salida de la red con 10 neuronas porque estamos usando un algoritmo de clasificación de 10\n",
    "# Softmax \n",
    "outputs = layers.Dense(10, activation=\"softmax\", name=\"predictions\")(x2)\n",
    "\n",
    "model = keras.Model(inputs=inputs, outputs=outputs)"
   ]
  },
  {
   "cell_type": "code",
   "execution_count": 28,
   "metadata": {},
   "outputs": [
    {
     "output_type": "execute_result",
     "data": {
      "text/plain": "array([0.   , 0.75 , 1.   , 0.5  , 0.625, 0.75 ])"
     },
     "metadata": {},
     "execution_count": 28
    }
   ],
   "source": [
    "import numpy as np\n",
    "s = np.array([0, 6, 8, 4, 5, 6])\n",
    "s/8"
   ]
  },
  {
   "cell_type": "code",
   "execution_count": 29,
   "metadata": {},
   "outputs": [],
   "source": [
    "# Cogemos las imágenes de los dígitos y cogemos el conjunto de train, val y test\n",
    "(x_train, y_train), (x_test, y_test) = keras.datasets.mnist.load_data()"
   ]
  },
  {
   "cell_type": "code",
   "execution_count": 43,
   "metadata": {},
   "outputs": [
    {
     "output_type": "execute_result",
     "data": {
      "text/plain": "array([[0.0000000e+00, 0.0000000e+00, 0.0000000e+00, 0.0000000e+00,\n        0.0000000e+00, 0.0000000e+00, 0.0000000e+00, 0.0000000e+00,\n        0.0000000e+00, 0.0000000e+00, 0.0000000e+00, 0.0000000e+00,\n        0.0000000e+00, 0.0000000e+00, 0.0000000e+00, 0.0000000e+00,\n        0.0000000e+00, 0.0000000e+00, 0.0000000e+00, 0.0000000e+00,\n        0.0000000e+00, 0.0000000e+00, 0.0000000e+00, 0.0000000e+00,\n        0.0000000e+00, 0.0000000e+00, 0.0000000e+00, 0.0000000e+00],\n       [0.0000000e+00, 0.0000000e+00, 0.0000000e+00, 0.0000000e+00,\n        0.0000000e+00, 0.0000000e+00, 0.0000000e+00, 0.0000000e+00,\n        0.0000000e+00, 0.0000000e+00, 0.0000000e+00, 0.0000000e+00,\n        0.0000000e+00, 0.0000000e+00, 0.0000000e+00, 0.0000000e+00,\n        0.0000000e+00, 0.0000000e+00, 0.0000000e+00, 0.0000000e+00,\n        0.0000000e+00, 0.0000000e+00, 0.0000000e+00, 0.0000000e+00,\n        0.0000000e+00, 0.0000000e+00, 0.0000000e+00, 0.0000000e+00],\n       [0.0000000e+00, 0.0000000e+00, 0.0000000e+00, 0.0000000e+00,\n        0.0000000e+00, 0.0000000e+00, 0.0000000e+00, 0.0000000e+00,\n        0.0000000e+00, 0.0000000e+00, 0.0000000e+00, 0.0000000e+00,\n        0.0000000e+00, 0.0000000e+00, 0.0000000e+00, 0.0000000e+00,\n        0.0000000e+00, 0.0000000e+00, 0.0000000e+00, 0.0000000e+00,\n        0.0000000e+00, 0.0000000e+00, 0.0000000e+00, 0.0000000e+00,\n        0.0000000e+00, 0.0000000e+00, 0.0000000e+00, 0.0000000e+00],\n       [0.0000000e+00, 0.0000000e+00, 0.0000000e+00, 0.0000000e+00,\n        0.0000000e+00, 0.0000000e+00, 0.0000000e+00, 0.0000000e+00,\n        0.0000000e+00, 0.0000000e+00, 0.0000000e+00, 0.0000000e+00,\n        0.0000000e+00, 0.0000000e+00, 0.0000000e+00, 0.0000000e+00,\n        0.0000000e+00, 0.0000000e+00, 0.0000000e+00, 0.0000000e+00,\n        0.0000000e+00, 0.0000000e+00, 0.0000000e+00, 0.0000000e+00,\n        0.0000000e+00, 0.0000000e+00, 0.0000000e+00, 0.0000000e+00],\n       [0.0000000e+00, 0.0000000e+00, 0.0000000e+00, 0.0000000e+00,\n        0.0000000e+00, 0.0000000e+00, 0.0000000e+00, 0.0000000e+00,\n        0.0000000e+00, 0.0000000e+00, 0.0000000e+00, 0.0000000e+00,\n        0.0000000e+00, 0.0000000e+00, 0.0000000e+00, 7.8431371e-04,\n        2.4452135e-03, 3.8908112e-03, 2.4452135e-03, 7.6893502e-04,\n        0.0000000e+00, 0.0000000e+00, 0.0000000e+00, 0.0000000e+00,\n        0.0000000e+00, 0.0000000e+00, 0.0000000e+00, 0.0000000e+00],\n       [0.0000000e+00, 0.0000000e+00, 0.0000000e+00, 0.0000000e+00,\n        0.0000000e+00, 0.0000000e+00, 0.0000000e+00, 0.0000000e+00,\n        0.0000000e+00, 0.0000000e+00, 0.0000000e+00, 0.0000000e+00,\n        0.0000000e+00, 0.0000000e+00, 7.3817762e-04, 3.6601308e-03,\n        3.8754325e-03, 3.8754325e-03, 3.8754325e-03, 3.6447521e-03,\n        0.0000000e+00, 0.0000000e+00, 0.0000000e+00, 0.0000000e+00,\n        0.0000000e+00, 0.0000000e+00, 0.0000000e+00, 0.0000000e+00],\n       [0.0000000e+00, 0.0000000e+00, 0.0000000e+00, 0.0000000e+00,\n        0.0000000e+00, 0.0000000e+00, 0.0000000e+00, 0.0000000e+00,\n        0.0000000e+00, 0.0000000e+00, 0.0000000e+00, 0.0000000e+00,\n        0.0000000e+00, 8.3044986e-04, 3.4909651e-03, 3.8908112e-03,\n        3.8754325e-03, 3.6755095e-03, 3.5832373e-03, 3.8754325e-03,\n        8.7658595e-04, 9.2272203e-05, 0.0000000e+00, 0.0000000e+00,\n        0.0000000e+00, 0.0000000e+00, 0.0000000e+00, 0.0000000e+00],\n       [0.0000000e+00, 0.0000000e+00, 0.0000000e+00, 0.0000000e+00,\n        0.0000000e+00, 0.0000000e+00, 0.0000000e+00, 0.0000000e+00,\n        0.0000000e+00, 0.0000000e+00, 0.0000000e+00, 1.5378701e-04,\n        9.2272204e-04, 3.4448290e-03, 3.8754325e-03, 3.8908112e-03,\n        3.8754325e-03, 3.1064975e-03, 1.2918109e-03, 3.8754325e-03,\n        3.8908112e-03, 1.8762015e-03, 0.0000000e+00, 0.0000000e+00,\n        0.0000000e+00, 0.0000000e+00, 0.0000000e+00, 0.0000000e+00],\n       [0.0000000e+00, 0.0000000e+00, 0.0000000e+00, 0.0000000e+00,\n        0.0000000e+00, 0.0000000e+00, 0.0000000e+00, 0.0000000e+00,\n        0.0000000e+00, 0.0000000e+00, 0.0000000e+00, 2.5067283e-03,\n        3.8754325e-03, 3.8754325e-03, 3.8754325e-03, 3.8908112e-03,\n        3.8754325e-03, 3.8754325e-03, 1.4763552e-03, 2.9065744e-03,\n        3.8908112e-03, 2.5682431e-03, 0.0000000e+00, 0.0000000e+00,\n        0.0000000e+00, 0.0000000e+00, 0.0000000e+00, 0.0000000e+00],\n       [0.0000000e+00, 0.0000000e+00, 0.0000000e+00, 0.0000000e+00,\n        0.0000000e+00, 0.0000000e+00, 0.0000000e+00, 0.0000000e+00,\n        0.0000000e+00, 0.0000000e+00, 7.8431371e-04, 3.6601308e-03,\n        3.8908112e-03, 3.8908112e-03, 2.9219531e-03, 1.7531719e-03,\n        3.8908112e-03, 3.5063438e-03, 7.2279893e-04, 1.2149174e-03,\n        3.9215689e-03, 2.5836218e-03, 0.0000000e+00, 0.0000000e+00,\n        0.0000000e+00, 0.0000000e+00, 0.0000000e+00, 0.0000000e+00],\n       [0.0000000e+00, 0.0000000e+00, 0.0000000e+00, 0.0000000e+00,\n        0.0000000e+00, 0.0000000e+00, 0.0000000e+00, 0.0000000e+00,\n        0.0000000e+00, 7.3817762e-04, 3.6601308e-03, 3.8754325e-03,\n        3.8754325e-03, 2.7527874e-03, 1.8454441e-04, 1.1534026e-03,\n        1.8608228e-03, 3.2295272e-04, 0.0000000e+00, 0.0000000e+00,\n        3.8908112e-03, 3.7370243e-03, 7.6893502e-04, 0.0000000e+00,\n        0.0000000e+00, 0.0000000e+00, 0.0000000e+00, 0.0000000e+00],\n       [0.0000000e+00, 0.0000000e+00, 0.0000000e+00, 0.0000000e+00,\n        0.0000000e+00, 0.0000000e+00, 0.0000000e+00, 0.0000000e+00,\n        5.8439065e-04, 2.5374857e-03, 3.8908112e-03, 3.5832373e-03,\n        3.1987696e-03, 1.2918109e-03, 0.0000000e+00, 0.0000000e+00,\n        0.0000000e+00, 0.0000000e+00, 0.0000000e+00, 0.0000000e+00,\n        3.8908112e-03, 3.8754325e-03, 2.5374857e-03, 0.0000000e+00,\n        0.0000000e+00, 0.0000000e+00, 0.0000000e+00, 0.0000000e+00],\n       [0.0000000e+00, 0.0000000e+00, 0.0000000e+00, 0.0000000e+00,\n        0.0000000e+00, 0.0000000e+00, 0.0000000e+00, 1.0765091e-04,\n        2.7374087e-03, 3.8754325e-03, 3.6908882e-03, 1.0918878e-03,\n        2.9219533e-04, 4.3060363e-04, 0.0000000e+00, 0.0000000e+00,\n        0.0000000e+00, 0.0000000e+00, 0.0000000e+00, 0.0000000e+00,\n        3.8908112e-03, 3.8754325e-03, 2.9988466e-03, 0.0000000e+00,\n        0.0000000e+00, 0.0000000e+00, 0.0000000e+00, 0.0000000e+00],\n       [0.0000000e+00, 0.0000000e+00, 0.0000000e+00, 0.0000000e+00,\n        0.0000000e+00, 0.0000000e+00, 0.0000000e+00, 8.7658595e-04,\n        3.8754325e-03, 3.8754325e-03, 9.6885813e-04, 0.0000000e+00,\n        0.0000000e+00, 0.0000000e+00, 0.0000000e+00, 0.0000000e+00,\n        0.0000000e+00, 0.0000000e+00, 0.0000000e+00, 0.0000000e+00,\n        3.8908112e-03, 3.8754325e-03, 2.9988466e-03, 0.0000000e+00,\n        0.0000000e+00, 0.0000000e+00, 0.0000000e+00, 0.0000000e+00],\n       [0.0000000e+00, 0.0000000e+00, 0.0000000e+00, 0.0000000e+00,\n        0.0000000e+00, 0.0000000e+00, 0.0000000e+00, 3.0449827e-03,\n        3.8908112e-03, 2.9219531e-03, 0.0000000e+00, 0.0000000e+00,\n        0.0000000e+00, 0.0000000e+00, 0.0000000e+00, 0.0000000e+00,\n        0.0000000e+00, 0.0000000e+00, 0.0000000e+00, 0.0000000e+00,\n        3.9215689e-03, 3.8908112e-03, 3.0142253e-03, 0.0000000e+00,\n        0.0000000e+00, 0.0000000e+00, 0.0000000e+00, 0.0000000e+00],\n       [0.0000000e+00, 0.0000000e+00, 0.0000000e+00, 0.0000000e+00,\n        0.0000000e+00, 0.0000000e+00, 1.1687813e-03, 3.7831604e-03,\n        3.8754325e-03, 1.7224145e-03, 0.0000000e+00, 0.0000000e+00,\n        0.0000000e+00, 0.0000000e+00, 0.0000000e+00, 0.0000000e+00,\n        0.0000000e+00, 0.0000000e+00, 0.0000000e+00, 0.0000000e+00,\n        3.8908112e-03, 3.8754325e-03, 2.2760478e-03, 0.0000000e+00,\n        0.0000000e+00, 0.0000000e+00, 0.0000000e+00, 0.0000000e+00],\n       [0.0000000e+00, 0.0000000e+00, 0.0000000e+00, 0.0000000e+00,\n        0.0000000e+00, 0.0000000e+00, 1.3071896e-03, 3.8754325e-03,\n        3.5371012e-03, 3.8446751e-04, 0.0000000e+00, 0.0000000e+00,\n        0.0000000e+00, 0.0000000e+00, 0.0000000e+00, 0.0000000e+00,\n        0.0000000e+00, 0.0000000e+00, 1.0765091e-04, 2.0761248e-03,\n        3.8908112e-03, 2.8604383e-03, 1.8454441e-04, 0.0000000e+00,\n        0.0000000e+00, 0.0000000e+00, 0.0000000e+00, 0.0000000e+00],\n       [0.0000000e+00, 0.0000000e+00, 0.0000000e+00, 0.0000000e+00,\n        0.0000000e+00, 0.0000000e+00, 1.3071896e-03, 3.8754325e-03,\n        3.4294503e-03, 0.0000000e+00, 0.0000000e+00, 0.0000000e+00,\n        0.0000000e+00, 0.0000000e+00, 0.0000000e+00, 0.0000000e+00,\n        0.0000000e+00, 1.0765091e-04, 2.0146100e-03, 3.8754325e-03,\n        3.4602077e-03, 1.0918878e-03, 0.0000000e+00, 0.0000000e+00,\n        0.0000000e+00, 0.0000000e+00, 0.0000000e+00, 0.0000000e+00],\n       [0.0000000e+00, 0.0000000e+00, 0.0000000e+00, 0.0000000e+00,\n        0.0000000e+00, 0.0000000e+00, 1.3071896e-03, 3.8754325e-03,\n        2.2299117e-03, 0.0000000e+00, 0.0000000e+00, 0.0000000e+00,\n        0.0000000e+00, 0.0000000e+00, 0.0000000e+00, 0.0000000e+00,\n        7.3817762e-04, 2.5374857e-03, 3.8754325e-03, 2.6605153e-03,\n        0.0000000e+00, 0.0000000e+00, 0.0000000e+00, 0.0000000e+00,\n        0.0000000e+00, 0.0000000e+00, 0.0000000e+00, 0.0000000e+00],\n       [0.0000000e+00, 0.0000000e+00, 0.0000000e+00, 0.0000000e+00,\n        0.0000000e+00, 0.0000000e+00, 1.3225683e-03, 3.8908112e-03,\n        3.4602077e-03, 0.0000000e+00, 0.0000000e+00, 0.0000000e+00,\n        0.0000000e+00, 0.0000000e+00, 0.0000000e+00, 1.7531719e-03,\n        3.6601308e-03, 3.8908112e-03, 2.4913496e-03, 0.0000000e+00,\n        0.0000000e+00, 0.0000000e+00, 0.0000000e+00, 0.0000000e+00,\n        0.0000000e+00, 0.0000000e+00, 0.0000000e+00, 0.0000000e+00],\n       [0.0000000e+00, 0.0000000e+00, 0.0000000e+00, 0.0000000e+00,\n        0.0000000e+00, 0.0000000e+00, 1.3071896e-03, 3.8754325e-03,\n        3.8292964e-03, 2.2452904e-03, 7.3817762e-04, 4.4598232e-04,\n        1.3071896e-03, 2.7374087e-03, 3.4602077e-03, 3.8908112e-03,\n        3.4294503e-03, 2.5682431e-03, 8.6120726e-04, 0.0000000e+00,\n        0.0000000e+00, 0.0000000e+00, 0.0000000e+00, 0.0000000e+00,\n        0.0000000e+00, 0.0000000e+00, 0.0000000e+00, 0.0000000e+00],\n       [0.0000000e+00, 0.0000000e+00, 0.0000000e+00, 0.0000000e+00,\n        0.0000000e+00, 0.0000000e+00, 1.3071896e-03, 3.8754325e-03,\n        3.8754325e-03, 3.8754325e-03, 3.5217225e-03, 3.3064208e-03,\n        3.8754325e-03, 3.8754325e-03, 3.8754325e-03, 3.0142253e-03,\n        1.9992313e-03, 0.0000000e+00, 0.0000000e+00, 0.0000000e+00,\n        0.0000000e+00, 0.0000000e+00, 0.0000000e+00, 0.0000000e+00,\n        0.0000000e+00, 0.0000000e+00, 0.0000000e+00, 0.0000000e+00],\n       [0.0000000e+00, 0.0000000e+00, 0.0000000e+00, 0.0000000e+00,\n        0.0000000e+00, 0.0000000e+00, 4.3060363e-04, 3.0603614e-03,\n        3.8754325e-03, 3.8754325e-03, 3.8908112e-03, 3.8754325e-03,\n        3.8754325e-03, 3.5832373e-03, 2.2299117e-03, 0.0000000e+00,\n        0.0000000e+00, 0.0000000e+00, 0.0000000e+00, 0.0000000e+00,\n        0.0000000e+00, 0.0000000e+00, 0.0000000e+00, 0.0000000e+00,\n        0.0000000e+00, 0.0000000e+00, 0.0000000e+00, 0.0000000e+00],\n       [0.0000000e+00, 0.0000000e+00, 0.0000000e+00, 0.0000000e+00,\n        0.0000000e+00, 0.0000000e+00, 0.0000000e+00, 3.8446751e-04,\n        1.9684739e-03, 3.8754325e-03, 3.8908112e-03, 3.8754325e-03,\n        2.1683970e-03, 5.6901196e-04, 0.0000000e+00, 0.0000000e+00,\n        0.0000000e+00, 0.0000000e+00, 0.0000000e+00, 0.0000000e+00,\n        0.0000000e+00, 0.0000000e+00, 0.0000000e+00, 0.0000000e+00,\n        0.0000000e+00, 0.0000000e+00, 0.0000000e+00, 0.0000000e+00],\n       [0.0000000e+00, 0.0000000e+00, 0.0000000e+00, 0.0000000e+00,\n        0.0000000e+00, 0.0000000e+00, 0.0000000e+00, 0.0000000e+00,\n        0.0000000e+00, 0.0000000e+00, 0.0000000e+00, 0.0000000e+00,\n        0.0000000e+00, 0.0000000e+00, 0.0000000e+00, 0.0000000e+00,\n        0.0000000e+00, 0.0000000e+00, 0.0000000e+00, 0.0000000e+00,\n        0.0000000e+00, 0.0000000e+00, 0.0000000e+00, 0.0000000e+00,\n        0.0000000e+00, 0.0000000e+00, 0.0000000e+00, 0.0000000e+00],\n       [0.0000000e+00, 0.0000000e+00, 0.0000000e+00, 0.0000000e+00,\n        0.0000000e+00, 0.0000000e+00, 0.0000000e+00, 0.0000000e+00,\n        0.0000000e+00, 0.0000000e+00, 0.0000000e+00, 0.0000000e+00,\n        0.0000000e+00, 0.0000000e+00, 0.0000000e+00, 0.0000000e+00,\n        0.0000000e+00, 0.0000000e+00, 0.0000000e+00, 0.0000000e+00,\n        0.0000000e+00, 0.0000000e+00, 0.0000000e+00, 0.0000000e+00,\n        0.0000000e+00, 0.0000000e+00, 0.0000000e+00, 0.0000000e+00],\n       [0.0000000e+00, 0.0000000e+00, 0.0000000e+00, 0.0000000e+00,\n        0.0000000e+00, 0.0000000e+00, 0.0000000e+00, 0.0000000e+00,\n        0.0000000e+00, 0.0000000e+00, 0.0000000e+00, 0.0000000e+00,\n        0.0000000e+00, 0.0000000e+00, 0.0000000e+00, 0.0000000e+00,\n        0.0000000e+00, 0.0000000e+00, 0.0000000e+00, 0.0000000e+00,\n        0.0000000e+00, 0.0000000e+00, 0.0000000e+00, 0.0000000e+00,\n        0.0000000e+00, 0.0000000e+00, 0.0000000e+00, 0.0000000e+00],\n       [0.0000000e+00, 0.0000000e+00, 0.0000000e+00, 0.0000000e+00,\n        0.0000000e+00, 0.0000000e+00, 0.0000000e+00, 0.0000000e+00,\n        0.0000000e+00, 0.0000000e+00, 0.0000000e+00, 0.0000000e+00,\n        0.0000000e+00, 0.0000000e+00, 0.0000000e+00, 0.0000000e+00,\n        0.0000000e+00, 0.0000000e+00, 0.0000000e+00, 0.0000000e+00,\n        0.0000000e+00, 0.0000000e+00, 0.0000000e+00, 0.0000000e+00,\n        0.0000000e+00, 0.0000000e+00, 0.0000000e+00, 0.0000000e+00]],\n      dtype=float32)"
     },
     "metadata": {},
     "execution_count": 43
    }
   ],
   "source": [
    "# Normalizamos la imagen dividiéndola por 255 y transformándola a imagen 28x28\n",
    "to_show = (x_train[1]/255).reshape(28,28)\n",
    "to_show"
   ]
  },
  {
   "cell_type": "code",
   "execution_count": 44,
   "metadata": {},
   "outputs": [
    {
     "output_type": "execute_result",
     "data": {
      "text/plain": "<matplotlib.image.AxesImage at 0x2c28227c9e8>"
     },
     "metadata": {},
     "execution_count": 44
    },
    {
     "output_type": "display_data",
     "data": {
      "text/plain": "<Figure size 432x288 with 1 Axes>",
      "image/svg+xml": "<?xml version=\"1.0\" encoding=\"utf-8\" standalone=\"no\"?>\r\n<!DOCTYPE svg PUBLIC \"-//W3C//DTD SVG 1.1//EN\"\r\n  \"http://www.w3.org/Graphics/SVG/1.1/DTD/svg11.dtd\">\r\n<!-- Created with matplotlib (https://matplotlib.org/) -->\r\n<svg height=\"248.518125pt\" version=\"1.1\" viewBox=\"0 0 251.565 248.518125\" width=\"251.565pt\" xmlns=\"http://www.w3.org/2000/svg\" xmlns:xlink=\"http://www.w3.org/1999/xlink\">\r\n <defs>\r\n  <style type=\"text/css\">\r\n*{stroke-linecap:butt;stroke-linejoin:round;}\r\n  </style>\r\n </defs>\r\n <g id=\"figure_1\">\r\n  <g id=\"patch_1\">\r\n   <path d=\"M 0 248.518125 \r\nL 251.565 248.518125 \r\nL 251.565 0 \r\nL 0 0 \r\nz\r\n\" style=\"fill:none;\"/>\r\n  </g>\r\n  <g id=\"axes_1\">\r\n   <g id=\"patch_2\">\r\n    <path d=\"M 26.925 224.64 \r\nL 244.365 224.64 \r\nL 244.365 7.2 \r\nL 26.925 7.2 \r\nz\r\n\" style=\"fill:#ffffff;\"/>\r\n   </g>\r\n   <g clip-path=\"url(#pddf2839773)\">\r\n    <image height=\"218\" id=\"image8f04bfc969\" transform=\"scale(1 -1)translate(0 -218)\" width=\"218\" x=\"26.925\" xlink:href=\"data:image/png;base64,\r\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\" y=\"-6.64\"/>\r\n   </g>\r\n   <g id=\"matplotlib.axis_1\">\r\n    <g id=\"xtick_1\">\r\n     <g id=\"line2d_1\">\r\n      <defs>\r\n       <path d=\"M 0 0 \r\nL 0 3.5 \r\n\" id=\"m06232d5b3f\" style=\"stroke:#000000;stroke-width:0.8;\"/>\r\n      </defs>\r\n      <g>\r\n       <use style=\"stroke:#000000;stroke-width:0.8;\" x=\"30.807857\" xlink:href=\"#m06232d5b3f\" y=\"224.64\"/>\r\n      </g>\r\n     </g>\r\n     <g id=\"text_1\">\r\n      <!-- 0 -->\r\n      <defs>\r\n       <path d=\"M 31.78125 66.40625 \r\nQ 24.171875 66.40625 20.328125 58.90625 \r\nQ 16.5 51.421875 16.5 36.375 \r\nQ 16.5 21.390625 20.328125 13.890625 \r\nQ 24.171875 6.390625 31.78125 6.390625 \r\nQ 39.453125 6.390625 43.28125 13.890625 \r\nQ 47.125 21.390625 47.125 36.375 \r\nQ 47.125 51.421875 43.28125 58.90625 \r\nQ 39.453125 66.40625 31.78125 66.40625 \r\nz\r\nM 31.78125 74.21875 \r\nQ 44.046875 74.21875 50.515625 64.515625 \r\nQ 56.984375 54.828125 56.984375 36.375 \r\nQ 56.984375 17.96875 50.515625 8.265625 \r\nQ 44.046875 -1.421875 31.78125 -1.421875 \r\nQ 19.53125 -1.421875 13.0625 8.265625 \r\nQ 6.59375 17.96875 6.59375 36.375 \r\nQ 6.59375 54.828125 13.0625 64.515625 \r\nQ 19.53125 74.21875 31.78125 74.21875 \r\nz\r\n\" id=\"DejaVuSans-48\"/>\r\n      </defs>\r\n      <g transform=\"translate(27.626607 239.238437)scale(0.1 -0.1)\">\r\n       <use xlink:href=\"#DejaVuSans-48\"/>\r\n      </g>\r\n     </g>\r\n    </g>\r\n    <g id=\"xtick_2\">\r\n     <g id=\"line2d_2\">\r\n      <g>\r\n       <use style=\"stroke:#000000;stroke-width:0.8;\" x=\"69.636429\" xlink:href=\"#m06232d5b3f\" y=\"224.64\"/>\r\n      </g>\r\n     </g>\r\n     <g id=\"text_2\">\r\n      <!-- 5 -->\r\n      <defs>\r\n       <path d=\"M 10.796875 72.90625 \r\nL 49.515625 72.90625 \r\nL 49.515625 64.59375 \r\nL 19.828125 64.59375 \r\nL 19.828125 46.734375 \r\nQ 21.96875 47.46875 24.109375 47.828125 \r\nQ 26.265625 48.1875 28.421875 48.1875 \r\nQ 40.625 48.1875 47.75 41.5 \r\nQ 54.890625 34.8125 54.890625 23.390625 \r\nQ 54.890625 11.625 47.5625 5.09375 \r\nQ 40.234375 -1.421875 26.90625 -1.421875 \r\nQ 22.3125 -1.421875 17.546875 -0.640625 \r\nQ 12.796875 0.140625 7.71875 1.703125 \r\nL 7.71875 11.625 \r\nQ 12.109375 9.234375 16.796875 8.0625 \r\nQ 21.484375 6.890625 26.703125 6.890625 \r\nQ 35.15625 6.890625 40.078125 11.328125 \r\nQ 45.015625 15.765625 45.015625 23.390625 \r\nQ 45.015625 31 40.078125 35.4375 \r\nQ 35.15625 39.890625 26.703125 39.890625 \r\nQ 22.75 39.890625 18.8125 39.015625 \r\nQ 14.890625 38.140625 10.796875 36.28125 \r\nz\r\n\" id=\"DejaVuSans-53\"/>\r\n      </defs>\r\n      <g transform=\"translate(66.455179 239.238437)scale(0.1 -0.1)\">\r\n       <use xlink:href=\"#DejaVuSans-53\"/>\r\n      </g>\r\n     </g>\r\n    </g>\r\n    <g id=\"xtick_3\">\r\n     <g id=\"line2d_3\">\r\n      <g>\r\n       <use style=\"stroke:#000000;stroke-width:0.8;\" x=\"108.465\" xlink:href=\"#m06232d5b3f\" y=\"224.64\"/>\r\n      </g>\r\n     </g>\r\n     <g id=\"text_3\">\r\n      <!-- 10 -->\r\n      <defs>\r\n       <path d=\"M 12.40625 8.296875 \r\nL 28.515625 8.296875 \r\nL 28.515625 63.921875 \r\nL 10.984375 60.40625 \r\nL 10.984375 69.390625 \r\nL 28.421875 72.90625 \r\nL 38.28125 72.90625 \r\nL 38.28125 8.296875 \r\nL 54.390625 8.296875 \r\nL 54.390625 0 \r\nL 12.40625 0 \r\nz\r\n\" id=\"DejaVuSans-49\"/>\r\n      </defs>\r\n      <g transform=\"translate(102.1025 239.238437)scale(0.1 -0.1)\">\r\n       <use xlink:href=\"#DejaVuSans-49\"/>\r\n       <use x=\"63.623047\" xlink:href=\"#DejaVuSans-48\"/>\r\n      </g>\r\n     </g>\r\n    </g>\r\n    <g id=\"xtick_4\">\r\n     <g id=\"line2d_4\">\r\n      <g>\r\n       <use style=\"stroke:#000000;stroke-width:0.8;\" x=\"147.293571\" xlink:href=\"#m06232d5b3f\" y=\"224.64\"/>\r\n      </g>\r\n     </g>\r\n     <g id=\"text_4\">\r\n      <!-- 15 -->\r\n      <g transform=\"translate(140.931071 239.238437)scale(0.1 -0.1)\">\r\n       <use xlink:href=\"#DejaVuSans-49\"/>\r\n       <use x=\"63.623047\" xlink:href=\"#DejaVuSans-53\"/>\r\n      </g>\r\n     </g>\r\n    </g>\r\n    <g id=\"xtick_5\">\r\n     <g id=\"line2d_5\">\r\n      <g>\r\n       <use style=\"stroke:#000000;stroke-width:0.8;\" x=\"186.122143\" xlink:href=\"#m06232d5b3f\" y=\"224.64\"/>\r\n      </g>\r\n     </g>\r\n     <g id=\"text_5\">\r\n      <!-- 20 -->\r\n      <defs>\r\n       <path d=\"M 19.1875 8.296875 \r\nL 53.609375 8.296875 \r\nL 53.609375 0 \r\nL 7.328125 0 \r\nL 7.328125 8.296875 \r\nQ 12.9375 14.109375 22.625 23.890625 \r\nQ 32.328125 33.6875 34.8125 36.53125 \r\nQ 39.546875 41.84375 41.421875 45.53125 \r\nQ 43.3125 49.21875 43.3125 52.78125 \r\nQ 43.3125 58.59375 39.234375 62.25 \r\nQ 35.15625 65.921875 28.609375 65.921875 \r\nQ 23.96875 65.921875 18.8125 64.3125 \r\nQ 13.671875 62.703125 7.8125 59.421875 \r\nL 7.8125 69.390625 \r\nQ 13.765625 71.78125 18.9375 73 \r\nQ 24.125 74.21875 28.421875 74.21875 \r\nQ 39.75 74.21875 46.484375 68.546875 \r\nQ 53.21875 62.890625 53.21875 53.421875 \r\nQ 53.21875 48.921875 51.53125 44.890625 \r\nQ 49.859375 40.875 45.40625 35.40625 \r\nQ 44.1875 33.984375 37.640625 27.21875 \r\nQ 31.109375 20.453125 19.1875 8.296875 \r\nz\r\n\" id=\"DejaVuSans-50\"/>\r\n      </defs>\r\n      <g transform=\"translate(179.759643 239.238437)scale(0.1 -0.1)\">\r\n       <use xlink:href=\"#DejaVuSans-50\"/>\r\n       <use x=\"63.623047\" xlink:href=\"#DejaVuSans-48\"/>\r\n      </g>\r\n     </g>\r\n    </g>\r\n    <g id=\"xtick_6\">\r\n     <g id=\"line2d_6\">\r\n      <g>\r\n       <use style=\"stroke:#000000;stroke-width:0.8;\" x=\"224.950714\" xlink:href=\"#m06232d5b3f\" y=\"224.64\"/>\r\n      </g>\r\n     </g>\r\n     <g id=\"text_6\">\r\n      <!-- 25 -->\r\n      <g transform=\"translate(218.588214 239.238437)scale(0.1 -0.1)\">\r\n       <use xlink:href=\"#DejaVuSans-50\"/>\r\n       <use x=\"63.623047\" xlink:href=\"#DejaVuSans-53\"/>\r\n      </g>\r\n     </g>\r\n    </g>\r\n   </g>\r\n   <g id=\"matplotlib.axis_2\">\r\n    <g id=\"ytick_1\">\r\n     <g id=\"line2d_7\">\r\n      <defs>\r\n       <path d=\"M 0 0 \r\nL -3.5 0 \r\n\" id=\"m04426047a5\" style=\"stroke:#000000;stroke-width:0.8;\"/>\r\n      </defs>\r\n      <g>\r\n       <use style=\"stroke:#000000;stroke-width:0.8;\" x=\"26.925\" xlink:href=\"#m04426047a5\" y=\"11.082857\"/>\r\n      </g>\r\n     </g>\r\n     <g id=\"text_7\">\r\n      <!-- 0 -->\r\n      <g transform=\"translate(13.5625 14.882076)scale(0.1 -0.1)\">\r\n       <use xlink:href=\"#DejaVuSans-48\"/>\r\n      </g>\r\n     </g>\r\n    </g>\r\n    <g id=\"ytick_2\">\r\n     <g id=\"line2d_8\">\r\n      <g>\r\n       <use style=\"stroke:#000000;stroke-width:0.8;\" x=\"26.925\" xlink:href=\"#m04426047a5\" y=\"49.911429\"/>\r\n      </g>\r\n     </g>\r\n     <g id=\"text_8\">\r\n      <!-- 5 -->\r\n      <g transform=\"translate(13.5625 53.710647)scale(0.1 -0.1)\">\r\n       <use xlink:href=\"#DejaVuSans-53\"/>\r\n      </g>\r\n     </g>\r\n    </g>\r\n    <g id=\"ytick_3\">\r\n     <g id=\"line2d_9\">\r\n      <g>\r\n       <use style=\"stroke:#000000;stroke-width:0.8;\" x=\"26.925\" xlink:href=\"#m04426047a5\" y=\"88.74\"/>\r\n      </g>\r\n     </g>\r\n     <g id=\"text_9\">\r\n      <!-- 10 -->\r\n      <g transform=\"translate(7.2 92.539219)scale(0.1 -0.1)\">\r\n       <use xlink:href=\"#DejaVuSans-49\"/>\r\n       <use x=\"63.623047\" xlink:href=\"#DejaVuSans-48\"/>\r\n      </g>\r\n     </g>\r\n    </g>\r\n    <g id=\"ytick_4\">\r\n     <g id=\"line2d_10\">\r\n      <g>\r\n       <use style=\"stroke:#000000;stroke-width:0.8;\" x=\"26.925\" xlink:href=\"#m04426047a5\" y=\"127.568571\"/>\r\n      </g>\r\n     </g>\r\n     <g id=\"text_10\">\r\n      <!-- 15 -->\r\n      <g transform=\"translate(7.2 131.36779)scale(0.1 -0.1)\">\r\n       <use xlink:href=\"#DejaVuSans-49\"/>\r\n       <use x=\"63.623047\" xlink:href=\"#DejaVuSans-53\"/>\r\n      </g>\r\n     </g>\r\n    </g>\r\n    <g id=\"ytick_5\">\r\n     <g id=\"line2d_11\">\r\n      <g>\r\n       <use style=\"stroke:#000000;stroke-width:0.8;\" x=\"26.925\" xlink:href=\"#m04426047a5\" y=\"166.397143\"/>\r\n      </g>\r\n     </g>\r\n     <g id=\"text_11\">\r\n      <!-- 20 -->\r\n      <g transform=\"translate(7.2 170.196362)scale(0.1 -0.1)\">\r\n       <use xlink:href=\"#DejaVuSans-50\"/>\r\n       <use x=\"63.623047\" xlink:href=\"#DejaVuSans-48\"/>\r\n      </g>\r\n     </g>\r\n    </g>\r\n    <g id=\"ytick_6\">\r\n     <g id=\"line2d_12\">\r\n      <g>\r\n       <use style=\"stroke:#000000;stroke-width:0.8;\" x=\"26.925\" xlink:href=\"#m04426047a5\" y=\"205.225714\"/>\r\n      </g>\r\n     </g>\r\n     <g id=\"text_12\">\r\n      <!-- 25 -->\r\n      <g transform=\"translate(7.2 209.024933)scale(0.1 -0.1)\">\r\n       <use xlink:href=\"#DejaVuSans-50\"/>\r\n       <use x=\"63.623047\" xlink:href=\"#DejaVuSans-53\"/>\r\n      </g>\r\n     </g>\r\n    </g>\r\n   </g>\r\n   <g id=\"patch_3\">\r\n    <path d=\"M 26.925 224.64 \r\nL 26.925 7.2 \r\n\" style=\"fill:none;stroke:#000000;stroke-linecap:square;stroke-linejoin:miter;stroke-width:0.8;\"/>\r\n   </g>\r\n   <g id=\"patch_4\">\r\n    <path d=\"M 244.365 224.64 \r\nL 244.365 7.2 \r\n\" style=\"fill:none;stroke:#000000;stroke-linecap:square;stroke-linejoin:miter;stroke-width:0.8;\"/>\r\n   </g>\r\n   <g id=\"patch_5\">\r\n    <path d=\"M 26.925 224.64 \r\nL 244.365 224.64 \r\n\" style=\"fill:none;stroke:#000000;stroke-linecap:square;stroke-linejoin:miter;stroke-width:0.8;\"/>\r\n   </g>\r\n   <g id=\"patch_6\">\r\n    <path d=\"M 26.925 7.2 \r\nL 244.365 7.2 \r\n\" style=\"fill:none;stroke:#000000;stroke-linecap:square;stroke-linejoin:miter;stroke-width:0.8;\"/>\r\n   </g>\r\n  </g>\r\n </g>\r\n <defs>\r\n  <clipPath id=\"pddf2839773\">\r\n   <rect height=\"217.44\" width=\"217.44\" x=\"26.925\" y=\"7.2\"/>\r\n  </clipPath>\r\n </defs>\r\n</svg>\r\n",
      "image/png": "[encoded data removed]"
     },
     "metadata": {
      "needs_background": "light"
     }
    }
   ],
   "source": [
    "import matplotlib.pyplot as plt\n",
    "\n",
    "plt.imshow(to_show, cmap=plt.cm.get_cmap('Greys'))"
   ]
  },
  {
   "cell_type": "code",
   "execution_count": 32,
   "metadata": {},
   "outputs": [],
   "source": [
    "# Preprocess the data (these are NumPy arrays)\n",
    "x_train = x_train.reshape(60000, 784).astype(\"float32\") / 255\n",
    "x_test = x_test.reshape(10000, 784).astype(\"float32\") / 255\n",
    "\n",
    "y_train = y_train.astype(\"float32\")\n",
    "y_test = y_test.astype(\"float32\")\n",
    "\n",
    "# Reserve 10,000 samples for validation\n",
    "x_val = x_train[-10000:]\n",
    "y_val = y_train[-10000:]\n",
    "x_train = x_train[:-10000]\n",
    "y_train = y_train[:-10000]"
   ]
  },
  {
   "cell_type": "code",
   "execution_count": 33,
   "metadata": {},
   "outputs": [],
   "source": [
    "# Se especifica la configuración del entrenamiento (optimizador, pérdida, métricas):\n",
    "model.compile(\n",
    "    optimizer=keras.optimizers.RMSprop(),  # Optimizer\n",
    "    # Loss function to minimize\n",
    "    loss=keras.losses.SparseCategoricalCrossentropy(),\n",
    "    # List of metrics to monitor\n",
    "    metrics=[keras.metrics.SparseCategoricalAccuracy()],\n",
    ")"
   ]
  },
  {
   "cell_type": "code",
   "execution_count": 61,
   "metadata": {
    "tags": []
   },
   "outputs": [
    {
     "output_type": "stream",
     "name": "stdout",
     "text": "Model: \"functional_1\"\n_________________________________________________________________\nLayer (type)                 Output Shape              Param #   \n=================================================================\ndigits (InputLayer)          [(None, 784)]             0         \n_________________________________________________________________\ndense (Dense)                (None, 64)                50240     \n_________________________________________________________________\ndense_1 (Dense)              (None, 32)                2080      \n_________________________________________________________________\npredictions (Dense)          (None, 10)                330       \n=================================================================\nTotal params: 52,650\nTrainable params: 52,650\nNon-trainable params: 0\n_________________________________________________________________\n"
    }
   ],
   "source": [
    "# Summary\n",
    "model.summary()"
   ]
  },
  {
   "cell_type": "code",
   "execution_count": 54,
   "metadata": {
    "tags": []
   },
   "outputs": [
    {
     "output_type": "stream",
     "name": "stdout",
     "text": "Fit model on training data\nEpoch 1/15\n782/782 [==============================] - 1s 705us/step - loss: 0.0989 - sparse_categorical_accuracy: 0.9710 - val_loss: 0.1109 - val_sparse_categorical_accuracy: 0.9698\nEpoch 2/15\n782/782 [==============================] - 1s 701us/step - loss: 0.0824 - sparse_categorical_accuracy: 0.9752 - val_loss: 0.1181 - val_sparse_categorical_accuracy: 0.9688\nEpoch 3/15\n782/782 [==============================] - 1s 691us/step - loss: 0.0715 - sparse_categorical_accuracy: 0.9784 - val_loss: 0.1127 - val_sparse_categorical_accuracy: 0.9671\nEpoch 4/15\n782/782 [==============================] - 1s 676us/step - loss: 0.0621 - sparse_categorical_accuracy: 0.9809 - val_loss: 0.1010 - val_sparse_categorical_accuracy: 0.9724\nEpoch 5/15\n782/782 [==============================] - 1s 709us/step - loss: 0.0530 - sparse_categorical_accuracy: 0.9842 - val_loss: 0.1027 - val_sparse_categorical_accuracy: 0.9714\nEpoch 6/15\n782/782 [==============================] - 1s 693us/step - loss: 0.0476 - sparse_categorical_accuracy: 0.9851 - val_loss: 0.1020 - val_sparse_categorical_accuracy: 0.9736\nEpoch 7/15\n782/782 [==============================] - 1s 717us/step - loss: 0.0429 - sparse_categorical_accuracy: 0.9872 - val_loss: 0.1053 - val_sparse_categorical_accuracy: 0.9734\nEpoch 8/15\n782/782 [==============================] - 1s 705us/step - loss: 0.0385 - sparse_categorical_accuracy: 0.9887 - val_loss: 0.1126 - val_sparse_categorical_accuracy: 0.9729\nEpoch 9/15\n782/782 [==============================] - 1s 686us/step - loss: 0.0335 - sparse_categorical_accuracy: 0.9900 - val_loss: 0.1141 - val_sparse_categorical_accuracy: 0.9723\nEpoch 10/15\n782/782 [==============================] - 1s 687us/step - loss: 0.0306 - sparse_categorical_accuracy: 0.9903 - val_loss: 0.1189 - val_sparse_categorical_accuracy: 0.9743\nEpoch 11/15\n782/782 [==============================] - 1s 721us/step - loss: 0.0269 - sparse_categorical_accuracy: 0.9918 - val_loss: 0.1238 - val_sparse_categorical_accuracy: 0.9728\nEpoch 12/15\n782/782 [==============================] - 1s 701us/step - loss: 0.0241 - sparse_categorical_accuracy: 0.9929 - val_loss: 0.1237 - val_sparse_categorical_accuracy: 0.9733\nEpoch 13/15\n782/782 [==============================] - 1s 693us/step - loss: 0.0217 - sparse_categorical_accuracy: 0.9938 - val_loss: 0.1257 - val_sparse_categorical_accuracy: 0.9733\nEpoch 14/15\n782/782 [==============================] - 1s 699us/step - loss: 0.0191 - sparse_categorical_accuracy: 0.9941 - val_loss: 0.1404 - val_sparse_categorical_accuracy: 0.9717\nEpoch 15/15\n782/782 [==============================] - 1s 687us/step - loss: 0.0173 - sparse_categorical_accuracy: 0.9948 - val_loss: 0.1459 - val_sparse_categorical_accuracy: 0.9722\n"
    }
   ],
   "source": [
    "# Entrenamos el modelo con un batch_size de 64 imágenes por cada iteración, 10 epochs y especificando cuál es el conjunto de validación.\n",
    "print(\"Fit model on training data\")\n",
    "history = model.fit(\n",
    "    x_train,\n",
    "    y_train,\n",
    "    batch_size=64,\n",
    "    epochs=15,\n",
    "    # We pass some validation for\n",
    "    # monitoring validation loss and metrics\n",
    "    # at the end of each epoch\n",
    "    validation_data=(x_val, y_val),\n",
    ")"
   ]
  },
  {
   "cell_type": "code",
   "execution_count": 55,
   "metadata": {},
   "outputs": [
    {
     "output_type": "execute_result",
     "data": {
      "text/plain": "{'loss': [0.09888606518507004,\n  0.08236169815063477,\n  0.07145299762487411,\n  0.06206124648451805,\n  0.05303856357932091,\n  0.04758048430085182,\n  0.04286572337150574,\n  0.03847574070096016,\n  0.033528413623571396,\n  0.03059036284685135,\n  0.026874380186200142,\n  0.024108052253723145,\n  0.021664226427674294,\n  0.01912442035973072,\n  0.017321212217211723],\n 'sparse_categorical_accuracy': [0.9709799885749817,\n  0.9752399921417236,\n  0.978380024433136,\n  0.9809399843215942,\n  0.984220027923584,\n  0.9850999712944031,\n  0.9872000217437744,\n  0.9886599779129028,\n  0.9900400042533875,\n  0.9902799725532532,\n  0.9917600154876709,\n  0.9929400086402893,\n  0.9937999844551086,\n  0.9941200017929077,\n  0.9947999715805054],\n 'val_loss': [0.11092519760131836,\n  0.1181284636259079,\n  0.1127309575676918,\n  0.10103049129247665,\n  0.10269494354724884,\n  0.10204799473285675,\n  0.10529991239309311,\n  0.11260759085416794,\n  0.11408241838216782,\n  0.11892049759626389,\n  0.12376954406499863,\n  0.12369105219841003,\n  0.1257447600364685,\n  0.14037403464317322,\n  0.14586423337459564],\n 'val_sparse_categorical_accuracy': [0.9697999954223633,\n  0.9688000082969666,\n  0.9671000242233276,\n  0.9724000096321106,\n  0.9714000225067139,\n  0.9735999703407288,\n  0.9733999967575073,\n  0.9728999733924866,\n  0.9722999930381775,\n  0.9743000268936157,\n  0.9728000164031982,\n  0.9732999801635742,\n  0.9732999801635742,\n  0.9717000126838684,\n  0.9721999764442444]}"
     },
     "metadata": {},
     "execution_count": 55
    }
   ],
   "source": [
    "# Podemos ver el histórico que ha ocurrido cogiendo el mejor de cada epoch\n",
    "history.history"
   ]
  },
  {
   "cell_type": "code",
   "execution_count": 56,
   "metadata": {
    "tags": []
   },
   "outputs": [
    {
     "output_type": "stream",
     "name": "stdout",
     "text": "Evaluate on test data\n79/79 [==============================] - 0s 543us/step - loss: 0.1267 - sparse_categorical_accuracy: 0.9727\ntest loss, test acc: [0.12665493786334991, 0.9726999998092651]\n"
    }
   ],
   "source": [
    "# Obtenemos el \"score\" a partir del conjunto de test\n",
    "# Evaluate the model on the test data using `evaluate`\n",
    "print(\"Evaluate on test data\")\n",
    "results = model.evaluate(x_test, y_test, batch_size=128)\n",
    "print(\"test loss, test acc:\", results)"
   ]
  },
  {
   "cell_type": "code",
   "execution_count": null,
   "metadata": {},
   "outputs": [],
   "source": [
    "plt.show()"
   ]
  },
  {
   "cell_type": "code",
   "execution_count": 57,
   "metadata": {
    "tags": []
   },
   "outputs": [
    {
     "output_type": "stream",
     "name": "stdout",
     "text": "Generate predictions for 3 samples\npredictions shape: (1, 10)\n"
    },
    {
     "output_type": "execute_result",
     "data": {
      "text/plain": "array([[3.0163906e-15, 3.4312687e-13, 2.5456131e-08, 1.4537974e-07,\n        7.1898361e-21, 2.2886110e-16, 1.3731970e-24, 9.9999988e-01,\n        3.7558432e-11, 2.5035457e-10]], dtype=float32)"
     },
     "metadata": {},
     "execution_count": 57
    }
   ],
   "source": [
    "# Generate predictions (probabilities -- the output of the last layer)\n",
    "# on new data using `predict`\n",
    "print(\"Generate predictions for 3 samples\")\n",
    "predictions = model.predict(x_test[:1])\n",
    "print(\"predictions shape:\", predictions.shape)\n",
    "predictions"
   ]
  },
  {
   "cell_type": "code",
   "execution_count": 58,
   "metadata": {},
   "outputs": [
    {
     "output_type": "execute_result",
     "data": {
      "text/plain": "0.9999999"
     },
     "metadata": {},
     "execution_count": 58
    }
   ],
   "source": [
    "predictions.max()"
   ]
  },
  {
   "cell_type": "code",
   "execution_count": 59,
   "metadata": {},
   "outputs": [
    {
     "output_type": "execute_result",
     "data": {
      "text/plain": "7"
     },
     "metadata": {},
     "execution_count": 59
    }
   ],
   "source": [
    "predictions.argmax()"
   ]
  },
  {
   "cell_type": "code",
   "execution_count": 60,
   "metadata": {
    "tags": []
   },
   "outputs": [
    {
     "output_type": "stream",
     "name": "stdout",
     "text": "Generate predictions for 3 samples\npredictions shape: (3, 10)\nImage 0 : 7\nImage 1 : 2\nImage 2 : 1\n"
    }
   ],
   "source": [
    "# Generate predictions (probabilities -- the output of the last layer)\n",
    "# on new data using `predict`\n",
    "print(\"Generate predictions for 3 samples\")\n",
    "predictions = model.predict(x_test[:3])\n",
    "print(\"predictions shape:\", predictions.shape)\n",
    "for i,image_predicted in enumerate(predictions):\n",
    "    print(\"Image\",i,\":\", image_predicted.argmax())\n",
    "    #plt.imshow(x_test[2:3].reshape(28,28), cmap=plt.cm.get_cmap('Greys'))"
   ]
  },
  {
   "cell_type": "code",
   "execution_count": null,
   "metadata": {},
   "outputs": [],
   "source": []
  }
 ]
}