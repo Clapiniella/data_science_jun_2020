{
 "cells": [
  {
   "source": [
    "https://www.tensorflow.org/tutorials/keras/classification?hl=es-419"
   ],
   "cell_type": "markdown",
   "metadata": {}
  },
  {
   "cell_type": "markdown",
   "metadata": {
    "id": "MhoQ0WE77laV"
   },
   "source": [
    "##### Copyright 2018 The TensorFlow Authors."
   ]
  },
  {
   "cell_type": "code",
   "execution_count": 1,
   "metadata": {
    "cellView": "form",
    "execution": {
     "iopub.execute_input": "2020-09-23T00:11:56.326519Z",
     "iopub.status.busy": "2020-09-23T00:11:56.325854Z",
     "iopub.status.idle": "2020-09-23T00:11:56.328403Z",
     "shell.execute_reply": "2020-09-23T00:11:56.327903Z"
    },
    "id": "_ckMIh7O7s6D"
   },
   "outputs": [],
   "source": [
    "#@title Licensed under the Apache License, Version 2.0 (the \"License\");\n",
    "# you may not use this file except in compliance with the License.\n",
    "# You may obtain a copy of the License at\n",
    "#\n",
    "# https://www.apache.org/licenses/LICENSE-2.0\n",
    "#\n",
    "# Unless required by applicable law or agreed to in writing, software\n",
    "# distributed under the License is distributed on an \"AS IS\" BASIS,\n",
    "# WITHOUT WARRANTIES OR CONDITIONS OF ANY KIND, either express or implied.\n",
    "# See the License for the specific language governing permissions and\n",
    "# limitations under the License."
   ]
  },
  {
   "cell_type": "code",
   "execution_count": 2,
   "metadata": {
    "cellView": "form",
    "execution": {
     "iopub.execute_input": "2020-09-23T00:11:56.332000Z",
     "iopub.status.busy": "2020-09-23T00:11:56.331371Z",
     "iopub.status.idle": "2020-09-23T00:11:56.333821Z",
     "shell.execute_reply": "2020-09-23T00:11:56.333323Z"
    },
    "id": "vasWnqRgy1H4"
   },
   "outputs": [],
   "source": [
    "#@title MIT License\n",
    "#\n",
    "# Copyright (c) 2017 François Chollet\n",
    "#\n",
    "# Permission is hereby granted, free of charge, to any person obtaining a\n",
    "# copy of this software and associated documentation files (the \"Software\"),\n",
    "# to deal in the Software without restriction, including without limitation\n",
    "# the rights to use, copy, modify, merge, publish, distribute, sublicense,\n",
    "# and/or sell copies of the Software, and to permit persons to whom the\n",
    "# Software is furnished to do so, subject to the following conditions:\n",
    "#\n",
    "# The above copyright notice and this permission notice shall be included in\n",
    "# all copies or substantial portions of the Software.\n",
    "#\n",
    "# THE SOFTWARE IS PROVIDED \"AS IS\", WITHOUT WARRANTY OF ANY KIND, EXPRESS OR\n",
    "# IMPLIED, INCLUDING BUT NOT LIMITED TO THE WARRANTIES OF MERCHANTABILITY,\n",
    "# FITNESS FOR A PARTICULAR PURPOSE AND NONINFRINGEMENT. IN NO EVENT SHALL\n",
    "# THE AUTHORS OR COPYRIGHT HOLDERS BE LIABLE FOR ANY CLAIM, DAMAGES OR OTHER\n",
    "# LIABILITY, WHETHER IN AN ACTION OF CONTRACT, TORT OR OTHERWISE, ARISING\n",
    "# FROM, OUT OF OR IN CONNECTION WITH THE SOFTWARE OR THE USE OR OTHER\n",
    "# DEALINGS IN THE SOFTWARE."
   ]
  },
  {
   "cell_type": "markdown",
   "metadata": {
    "id": "YenH_9hJbFk1"
   },
   "source": [
    "# Clasificacion Basica: Predecir una imagen de moda"
   ]
  },
  {
   "cell_type": "markdown",
   "metadata": {
    "id": "S5Uhzt6vVIB2"
   },
   "source": [
    "<table class=\"tfo-notebook-buttons\" align=\"left\">\n",
    "  <td>\n",
    "    <a target=\"_blank\" href=\"https://www.tensorflow.org/tutorials/keras/classification\"><img src=\"https://www.tensorflow.org/images/tf_logo_32px.png\" />View on TensorFlow.org</a>\n",
    "  </td>\n",
    "  <td>\n",
    "    <a target=\"_blank\" href=\"https://colab.research.google.com/github/tensorflow/docs-l10n/blob/master/site/es-419/tutorials/keras/classification.ipynb\"><img src=\"https://www.tensorflow.org/images/colab_logo_32px.png\" />Run in Google Colab</a>\n",
    "  </td>\n",
    "  <td>\n",
    "    <a target=\"_blank\" href=\"https://github.com/tensorflow/docs-l10n/blob/master/site/es-419/tutorials/keras/classification.ipynb\"><img src=\"https://www.tensorflow.org/images/GitHub-Mark-32px.png\" />View source on GitHub</a>\n",
    "  </td>\n",
    "  <td>\n",
    "    <a href=\"https://storage.googleapis.com/tensorflow_docs/docs-l10n/site/es-419/tutorials/keras/classification.ipynb\"><img src=\"https://www.tensorflow.org/images/download_logo_32px.png\" />Download notebook</a>\n",
    "  </td>\n",
    "</table>"
   ]
  },
  {
   "cell_type": "markdown",
   "metadata": {
    "id": "Uo47Ynr8gNAU"
   },
   "source": [
    "Note: Nuestra comunidad de Tensorflow ha traducido estos documentos. Como las traducciones de la comunidad\n",
    "son basados en el \"mejor esfuerzo\", no hay ninguna garantia que esta sea un reflejo preciso y actual \n",
    "de la [Documentacion Oficial en Ingles](https://www.tensorflow.org/?hl=en).\n",
    "Si tienen sugerencias sobre como mejorar esta traduccion, por favor envian un \"Pull request\"\n",
    "al siguiente repositorio [tensorflow/docs](https://github.com/tensorflow/docs).\n",
    "Para ofrecerse como voluntario o hacer revision de las traducciones de la Comunidad\n",
    "por favor contacten al siguiente grupo [docs@tensorflow.org list](https://groups.google.com/a/tensorflow.org/forum/#!forum/docs)."
   ]
  },
  {
   "cell_type": "markdown",
   "metadata": {
    "id": "FbVhjPpzn6BM"
   },
   "source": [
    "Esta Guia entrena un modelo de red neuronal para clasificar imagenes de ropa como, tennis y camisetas. No hay problema sino entiende todos los detalles; es un repaso rapido de un programa completo de Tensorflow con los detalles explicados a medida que avanza.\n",
    "\n",
    "Esta Guia usa [tf.keras](https://www.tensorflow.org/guide/keras), un API de alto nivel para construir y entrenar modelos en Tensorflow."
   ]
  },
  {
   "cell_type": "code",
   "execution_count": 3,
   "metadata": {
    "execution": {
     "iopub.execute_input": "2020-09-23T00:11:56.338306Z",
     "iopub.status.busy": "2020-09-23T00:11:56.337617Z",
     "iopub.status.idle": "2020-09-23T00:12:03.150200Z",
     "shell.execute_reply": "2020-09-23T00:12:03.150753Z"
    },
    "id": "dzLKpmZICaWN",
    "tags": []
   },
   "outputs": [
    {
     "output_type": "stream",
     "name": "stdout",
     "text": "2.3.1\n"
    }
   ],
   "source": [
    "# TensorFlow y tf.keras\n",
    "import tensorflow as tf\n",
    "from tensorflow import keras\n",
    "\n",
    "# Librerias de ayuda\n",
    "import numpy as np\n",
    "import matplotlib.pyplot as plt\n",
    "\n",
    "print(tf.__version__)"
   ]
  },
  {
   "cell_type": "markdown",
   "metadata": {
    "id": "yR0EdgrLCaWR"
   },
   "source": [
    "## Importar el set de datos de moda de MNIST"
   ]
  },
  {
   "cell_type": "markdown",
   "metadata": {
    "id": "DLdCchMdCaWQ"
   },
   "source": [
    "Esta guia usa el set de datos de [Fashion MNIST](https://github.com/zalandoresearch/fashion-mnist)\n",
    "que contiene mas de 70,000 imagenes en 10 categorias. Las imagenes muestran articulos individuales de ropa a una resolucion baja (28 por 28 pixeles) como se ve aca:\n",
    "\n",
    "<table>\n",
    "  <tr><td>\n",
    "    <img src=\"https://tensorflow.org/images/fashion-mnist-sprite.png\"\n",
    "         alt=\"Fashion MNIST sprite\"  width=\"600\">\n",
    "  </td></tr>\n",
    "  <tr><td align=\"center\">\n",
    "    <b>Figure 1.</b> <a href=\"https://github.com/zalandoresearch/fashion-mnist\">Fashion-MNIST samples</a> (by Zalando, MIT License).<br/>&nbsp;\n",
    "  </td></tr>\n",
    "</table>\n",
    "\n",
    "Moda MNIST esta construida como un reemplazo para el set de datos clasico [MNIST](http://yann.lecun.com/exdb/mnist/) \n",
    "casi siempre utilizado como el \"Hola Mundo\" de programas de aprendizaje automatico (ML) para computo de vision. El set de datos de MNIST contiene imagenes de digitos escrito a mano (0, 1, 2, etc.) en un formato identico al de los articulos de ropa que va a utilizar aca.\n",
    "\n",
    "Esta guia utiliza Moda MNIST para variedad y por que es un poco mas retador que la regular MNIST. Ambos set de datos son relativamente pequenos y son usados para verificar que el algoritmo funciona como debe.\n",
    "\n",
    "Aca, 60,000 imagenes son usadas para entrenar la red neuronal y 10,000 imagenes son usadas para evaluar que tan exacto aprendia la red a clasificar imagenes. Pueden acceder al set de moda de MNIST directamente desde TensorFlow. Para importar y cargar el set de datos de MNIST directamente de TensorFlow:"
   ]
  },
  {
   "cell_type": "code",
   "execution_count": 4,
   "metadata": {
    "execution": {
     "iopub.execute_input": "2020-09-23T00:12:03.156630Z",
     "iopub.status.busy": "2020-09-23T00:12:03.154908Z",
     "iopub.status.idle": "2020-09-23T00:12:04.600741Z",
     "shell.execute_reply": "2020-09-23T00:12:04.600139Z"
    },
    "id": "7MqDQO0KCaWS",
    "tags": []
   },
   "outputs": [],
   "source": [
    "fashion_mnist = keras.datasets.fashion_mnist\n",
    "\n",
    "(train_images, train_labels), (test_images, test_labels) = fashion_mnist.load_data()"
   ]
  },
  {
   "cell_type": "markdown",
   "metadata": {
    "id": "t9FDsUlxCaWW"
   },
   "source": [
    "[link text](https://)Al cargar el set de datos retorna cuatro arreglos en NumPy:\n",
    "\n",
    "* El arreglo `train_images` y `train_labels` son los arreglos que *training set*—el modelo de datos usa para aprender.\n",
    "* el modelo es probado contra los arreglos *test set*, el `test_images`, y `test_labels`.\n",
    "\n",
    "Las imagenes son 28x28 arreglos de NumPy, con valores de pixel que varian de 0 a 255. Los *labels* son un arreglo de integros, que van del 0 al 9. Estos corresponden a la *class* de ropa que la imagen representa.\n",
    "\n",
    "<table>\n",
    "  <tr>\n",
    "    <th>Label</th>\n",
    "    <th>Class</th>\n",
    "  </tr>\n",
    "  <tr>\n",
    "    <td>0</td>\n",
    "    <td>T-shirt/top</td>\n",
    "  </tr>\n",
    "  <tr>\n",
    "    <td>1</td>\n",
    "    <td>Trouser</td>\n",
    "  </tr>\n",
    "    <tr>\n",
    "    <td>2</td>\n",
    "    <td>Pullover</td>\n",
    "  </tr>\n",
    "    <tr>\n",
    "    <td>3</td>\n",
    "    <td>Dress</td>\n",
    "  </tr>\n",
    "    <tr>\n",
    "    <td>4</td>\n",
    "    <td>Coat</td>\n",
    "  </tr>\n",
    "    <tr>\n",
    "    <td>5</td>\n",
    "    <td>Sandal</td>\n",
    "  </tr>\n",
    "    <tr>\n",
    "    <td>6</td>\n",
    "    <td>Shirt</td>\n",
    "  </tr>\n",
    "    <tr>\n",
    "    <td>7</td>\n",
    "    <td>Sneaker</td>\n",
    "  </tr>\n",
    "    <tr>\n",
    "    <td>8</td>\n",
    "    <td>Bag</td>\n",
    "  </tr>\n",
    "    <tr>\n",
    "    <td>9</td>\n",
    "    <td>Ankle boot</td>\n",
    "  </tr>\n",
    "</table>\n",
    "\n",
    "Cada imagen es mapeada a una unica etiqueta. Ya que los *Class names* no estan incluidoen el dataset, almacenelo aca para usarlos luego cuando se visualicen las imagenes:"
   ]
  },
  {
   "cell_type": "code",
   "execution_count": 5,
   "metadata": {
    "execution": {
     "iopub.execute_input": "2020-09-23T00:12:04.605691Z",
     "iopub.status.busy": "2020-09-23T00:12:04.605005Z",
     "iopub.status.idle": "2020-09-23T00:12:04.607235Z",
     "shell.execute_reply": "2020-09-23T00:12:04.606589Z"
    },
    "id": "IjnLH5S2CaWx"
   },
   "outputs": [],
   "source": [
    "class_names = ['T-shirt/top', 'Trouser', 'Pullover', 'Dress', 'Coat',\n",
    "               'Sandal', 'Shirt', 'Sneaker', 'Bag', 'Ankle boot']"
   ]
  },
  {
   "cell_type": "markdown",
   "metadata": {
    "id": "Brm0b_KACaWX"
   },
   "source": [
    "## Explore el set de datos\n",
    "\n",
    "Explore el formato de el set de datos antes de entrenar el modelo. Lo siguiente muestra que hay 60,000 imagenes en el set de entrenamiento, con cada imagen representada por pixeles de 28x28:"
   ]
  },
  {
   "cell_type": "code",
   "execution_count": 6,
   "metadata": {
    "execution": {
     "iopub.execute_input": "2020-09-23T00:12:04.612889Z",
     "iopub.status.busy": "2020-09-23T00:12:04.612214Z",
     "iopub.status.idle": "2020-09-23T00:12:04.615425Z",
     "shell.execute_reply": "2020-09-23T00:12:04.615926Z"
    },
    "id": "zW5k_xz1CaWX"
   },
   "outputs": [
    {
     "output_type": "execute_result",
     "data": {
      "text/plain": "(60000, 28, 28)"
     },
     "metadata": {},
     "execution_count": 6
    }
   ],
   "source": [
    "train_images.shape"
   ]
  },
  {
   "cell_type": "markdown",
   "metadata": {
    "id": "cIAcvQqMCaWf"
   },
   "source": [
    "Asimismo, hay 60,000 etiquetas en el set de entrenamiento:"
   ]
  },
  {
   "cell_type": "code",
   "execution_count": 7,
   "metadata": {
    "execution": {
     "iopub.execute_input": "2020-09-23T00:12:04.619917Z",
     "iopub.status.busy": "2020-09-23T00:12:04.619263Z",
     "iopub.status.idle": "2020-09-23T00:12:04.622504Z",
     "shell.execute_reply": "2020-09-23T00:12:04.621929Z"
    },
    "id": "TRFYHB2mCaWb"
   },
   "outputs": [
    {
     "output_type": "execute_result",
     "data": {
      "text/plain": "60000"
     },
     "metadata": {},
     "execution_count": 7
    }
   ],
   "source": [
    "len(train_labels)"
   ]
  },
  {
   "cell_type": "markdown",
   "metadata": {
    "id": "YSlYxFuRCaWk"
   },
   "source": [
    "Cada etiqueta es un integro entre 0 y 9:"
   ]
  },
  {
   "cell_type": "code",
   "execution_count": 8,
   "metadata": {
    "execution": {
     "iopub.execute_input": "2020-09-23T00:12:04.626690Z",
     "iopub.status.busy": "2020-09-23T00:12:04.626075Z",
     "iopub.status.idle": "2020-09-23T00:12:04.629060Z",
     "shell.execute_reply": "2020-09-23T00:12:04.628553Z"
    },
    "id": "XKnCTHz4CaWg"
   },
   "outputs": [
    {
     "output_type": "execute_result",
     "data": {
      "text/plain": "array([9, 0, 0, ..., 3, 0, 5], dtype=uint8)"
     },
     "metadata": {},
     "execution_count": 8
    }
   ],
   "source": [
    "train_labels"
   ]
  },
  {
   "cell_type": "markdown",
   "metadata": {
    "id": "TMPI88iZpO2T"
   },
   "source": [
    "Hay 10,000 imagenes en el set de pruebas. Otra vez, cada imagen es representada como pixeles de 28x28:"
   ]
  },
  {
   "cell_type": "code",
   "execution_count": 9,
   "metadata": {
    "execution": {
     "iopub.execute_input": "2020-09-23T00:12:04.632971Z",
     "iopub.status.busy": "2020-09-23T00:12:04.632319Z",
     "iopub.status.idle": "2020-09-23T00:12:04.634737Z",
     "shell.execute_reply": "2020-09-23T00:12:04.635201Z"
    },
    "id": "2KFnYlcwCaWl"
   },
   "outputs": [
    {
     "output_type": "execute_result",
     "data": {
      "text/plain": "(10000, 28, 28)"
     },
     "metadata": {},
     "execution_count": 9
    }
   ],
   "source": [
    "test_images.shape"
   ]
  },
  {
   "cell_type": "markdown",
   "metadata": {
    "id": "rd0A0Iu0CaWq"
   },
   "source": [
    "Y el set de pruebas contiene 10,000 etiquetas de imagen:"
   ]
  },
  {
   "cell_type": "code",
   "execution_count": 10,
   "metadata": {
    "execution": {
     "iopub.execute_input": "2020-09-23T00:12:04.638892Z",
     "iopub.status.busy": "2020-09-23T00:12:04.638288Z",
     "iopub.status.idle": "2020-09-23T00:12:04.641162Z",
     "shell.execute_reply": "2020-09-23T00:12:04.640615Z"
    },
    "id": "iJmPr5-ACaWn"
   },
   "outputs": [
    {
     "output_type": "execute_result",
     "data": {
      "text/plain": "10000"
     },
     "metadata": {},
     "execution_count": 10
    }
   ],
   "source": [
    "len(test_labels)"
   ]
  },
  {
   "cell_type": "markdown",
   "metadata": {
    "id": "ES6uQoLKCaWr"
   },
   "source": [
    "## Pre-procese el set de datos\n",
    "\n",
    "El set de datos debe ser pre-procesada antes de entrenar la red. Si usted inspecciona la primera imagen en el set de entrenamiento, va a encontrar que los valores de los pixeles estan entre 0 y 255:"
   ]
  },
  {
   "cell_type": "code",
   "execution_count": 11,
   "metadata": {
    "execution": {
     "iopub.execute_input": "2020-09-23T00:12:04.662721Z",
     "iopub.status.busy": "2020-09-23T00:12:04.645719Z",
     "iopub.status.idle": "2020-09-23T00:12:04.845607Z",
     "shell.execute_reply": "2020-09-23T00:12:04.846037Z"
    },
    "id": "m4VEw8Ud9Quh"
   },
   "outputs": [
    {
     "output_type": "display_data",
     "data": {
      "text/plain": "<Figure size 432x288 with 2 Axes>",
      "image/svg+xml": "<?xml version=\"1.0\" encoding=\"utf-8\" standalone=\"no\"?>\r\n<!DOCTYPE svg PUBLIC \"-//W3C//DTD SVG 1.1//EN\"\r\n  \"http://www.w3.org/Graphics/SVG/1.1/DTD/svg11.dtd\">\r\n<!-- Created with matplotlib (https://matplotlib.org/) -->\r\n<svg height=\"248.518125pt\" version=\"1.1\" viewBox=\"0 0 305.2645 248.518125\" width=\"305.2645pt\" xmlns=\"http://www.w3.org/2000/svg\" xmlns:xlink=\"http://www.w3.org/1999/xlink\">\r\n <defs>\r\n  <style type=\"text/css\">\r\n*{stroke-linecap:butt;stroke-linejoin:round;}\r\n  </style>\r\n </defs>\r\n <g id=\"figure_1\">\r\n  <g id=\"patch_1\">\r\n   <path d=\"M 0 248.518125 \r\nL 305.2645 248.518125 \r\nL 305.2645 0 \r\nL 0 0 \r\nz\r\n\" style=\"fill:none;\"/>\r\n  </g>\r\n  <g id=\"axes_1\">\r\n   <g id=\"patch_2\">\r\n    <path d=\"M 26.925 224.64 \r\nL 244.365 224.64 \r\nL 244.365 7.2 \r\nL 26.925 7.2 \r\nz\r\n\" style=\"fill:#ffffff;\"/>\r\n   </g>\r\n   <g clip-path=\"url(#pf8a1598ce3)\">\r\n    <image height=\"218\" id=\"imageff611ffa57\" transform=\"scale(1 -1)translate(0 -218)\" width=\"218\" x=\"26.925\" xlink:href=\"data:image/png;base64,\r\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\" y=\"-6.64\"/>\r\n   </g>\r\n   <g id=\"matplotlib.axis_1\">\r\n    <g id=\"xtick_1\">\r\n     <g id=\"line2d_1\">\r\n      <defs>\r\n       <path d=\"M 0 0 \r\nL 0 3.5 \r\n\" id=\"m84e8aa958e\" style=\"stroke:#000000;stroke-width:0.8;\"/>\r\n      </defs>\r\n      <g>\r\n       <use style=\"stroke:#000000;stroke-width:0.8;\" x=\"30.807857\" xlink:href=\"#m84e8aa958e\" y=\"224.64\"/>\r\n      </g>\r\n     </g>\r\n     <g id=\"text_1\">\r\n      <!-- 0 -->\r\n      <defs>\r\n       <path d=\"M 31.78125 66.40625 \r\nQ 24.171875 66.40625 20.328125 58.90625 \r\nQ 16.5 51.421875 16.5 36.375 \r\nQ 16.5 21.390625 20.328125 13.890625 \r\nQ 24.171875 6.390625 31.78125 6.390625 \r\nQ 39.453125 6.390625 43.28125 13.890625 \r\nQ 47.125 21.390625 47.125 36.375 \r\nQ 47.125 51.421875 43.28125 58.90625 \r\nQ 39.453125 66.40625 31.78125 66.40625 \r\nz\r\nM 31.78125 74.21875 \r\nQ 44.046875 74.21875 50.515625 64.515625 \r\nQ 56.984375 54.828125 56.984375 36.375 \r\nQ 56.984375 17.96875 50.515625 8.265625 \r\nQ 44.046875 -1.421875 31.78125 -1.421875 \r\nQ 19.53125 -1.421875 13.0625 8.265625 \r\nQ 6.59375 17.96875 6.59375 36.375 \r\nQ 6.59375 54.828125 13.0625 64.515625 \r\nQ 19.53125 74.21875 31.78125 74.21875 \r\nz\r\n\" id=\"DejaVuSans-48\"/>\r\n      </defs>\r\n      <g transform=\"translate(27.626607 239.238437)scale(0.1 -0.1)\">\r\n       <use xlink:href=\"#DejaVuSans-48\"/>\r\n      </g>\r\n     </g>\r\n    </g>\r\n    <g id=\"xtick_2\">\r\n     <g id=\"line2d_2\">\r\n      <g>\r\n       <use style=\"stroke:#000000;stroke-width:0.8;\" x=\"69.636429\" xlink:href=\"#m84e8aa958e\" y=\"224.64\"/>\r\n      </g>\r\n     </g>\r\n     <g id=\"text_2\">\r\n      <!-- 5 -->\r\n      <defs>\r\n       <path d=\"M 10.796875 72.90625 \r\nL 49.515625 72.90625 \r\nL 49.515625 64.59375 \r\nL 19.828125 64.59375 \r\nL 19.828125 46.734375 \r\nQ 21.96875 47.46875 24.109375 47.828125 \r\nQ 26.265625 48.1875 28.421875 48.1875 \r\nQ 40.625 48.1875 47.75 41.5 \r\nQ 54.890625 34.8125 54.890625 23.390625 \r\nQ 54.890625 11.625 47.5625 5.09375 \r\nQ 40.234375 -1.421875 26.90625 -1.421875 \r\nQ 22.3125 -1.421875 17.546875 -0.640625 \r\nQ 12.796875 0.140625 7.71875 1.703125 \r\nL 7.71875 11.625 \r\nQ 12.109375 9.234375 16.796875 8.0625 \r\nQ 21.484375 6.890625 26.703125 6.890625 \r\nQ 35.15625 6.890625 40.078125 11.328125 \r\nQ 45.015625 15.765625 45.015625 23.390625 \r\nQ 45.015625 31 40.078125 35.4375 \r\nQ 35.15625 39.890625 26.703125 39.890625 \r\nQ 22.75 39.890625 18.8125 39.015625 \r\nQ 14.890625 38.140625 10.796875 36.28125 \r\nz\r\n\" id=\"DejaVuSans-53\"/>\r\n      </defs>\r\n      <g transform=\"translate(66.455179 239.238437)scale(0.1 -0.1)\">\r\n       <use xlink:href=\"#DejaVuSans-53\"/>\r\n      </g>\r\n     </g>\r\n    </g>\r\n    <g id=\"xtick_3\">\r\n     <g id=\"line2d_3\">\r\n      <g>\r\n       <use style=\"stroke:#000000;stroke-width:0.8;\" x=\"108.465\" xlink:href=\"#m84e8aa958e\" y=\"224.64\"/>\r\n      </g>\r\n     </g>\r\n     <g id=\"text_3\">\r\n      <!-- 10 -->\r\n      <defs>\r\n       <path d=\"M 12.40625 8.296875 \r\nL 28.515625 8.296875 \r\nL 28.515625 63.921875 \r\nL 10.984375 60.40625 \r\nL 10.984375 69.390625 \r\nL 28.421875 72.90625 \r\nL 38.28125 72.90625 \r\nL 38.28125 8.296875 \r\nL 54.390625 8.296875 \r\nL 54.390625 0 \r\nL 12.40625 0 \r\nz\r\n\" id=\"DejaVuSans-49\"/>\r\n      </defs>\r\n      <g transform=\"translate(102.1025 239.238437)scale(0.1 -0.1)\">\r\n       <use xlink:href=\"#DejaVuSans-49\"/>\r\n       <use x=\"63.623047\" xlink:href=\"#DejaVuSans-48\"/>\r\n      </g>\r\n     </g>\r\n    </g>\r\n    <g id=\"xtick_4\">\r\n     <g id=\"line2d_4\">\r\n      <g>\r\n       <use style=\"stroke:#000000;stroke-width:0.8;\" x=\"147.293571\" xlink:href=\"#m84e8aa958e\" y=\"224.64\"/>\r\n      </g>\r\n     </g>\r\n     <g id=\"text_4\">\r\n      <!-- 15 -->\r\n      <g transform=\"translate(140.931071 239.238437)scale(0.1 -0.1)\">\r\n       <use xlink:href=\"#DejaVuSans-49\"/>\r\n       <use x=\"63.623047\" xlink:href=\"#DejaVuSans-53\"/>\r\n      </g>\r\n     </g>\r\n    </g>\r\n    <g id=\"xtick_5\">\r\n     <g id=\"line2d_5\">\r\n      <g>\r\n       <use style=\"stroke:#000000;stroke-width:0.8;\" x=\"186.122143\" xlink:href=\"#m84e8aa958e\" y=\"224.64\"/>\r\n      </g>\r\n     </g>\r\n     <g id=\"text_5\">\r\n      <!-- 20 -->\r\n      <defs>\r\n       <path d=\"M 19.1875 8.296875 \r\nL 53.609375 8.296875 \r\nL 53.609375 0 \r\nL 7.328125 0 \r\nL 7.328125 8.296875 \r\nQ 12.9375 14.109375 22.625 23.890625 \r\nQ 32.328125 33.6875 34.8125 36.53125 \r\nQ 39.546875 41.84375 41.421875 45.53125 \r\nQ 43.3125 49.21875 43.3125 52.78125 \r\nQ 43.3125 58.59375 39.234375 62.25 \r\nQ 35.15625 65.921875 28.609375 65.921875 \r\nQ 23.96875 65.921875 18.8125 64.3125 \r\nQ 13.671875 62.703125 7.8125 59.421875 \r\nL 7.8125 69.390625 \r\nQ 13.765625 71.78125 18.9375 73 \r\nQ 24.125 74.21875 28.421875 74.21875 \r\nQ 39.75 74.21875 46.484375 68.546875 \r\nQ 53.21875 62.890625 53.21875 53.421875 \r\nQ 53.21875 48.921875 51.53125 44.890625 \r\nQ 49.859375 40.875 45.40625 35.40625 \r\nQ 44.1875 33.984375 37.640625 27.21875 \r\nQ 31.109375 20.453125 19.1875 8.296875 \r\nz\r\n\" id=\"DejaVuSans-50\"/>\r\n      </defs>\r\n      <g transform=\"translate(179.759643 239.238437)scale(0.1 -0.1)\">\r\n       <use xlink:href=\"#DejaVuSans-50\"/>\r\n       <use x=\"63.623047\" xlink:href=\"#DejaVuSans-48\"/>\r\n      </g>\r\n     </g>\r\n    </g>\r\n    <g id=\"xtick_6\">\r\n     <g id=\"line2d_6\">\r\n      <g>\r\n       <use style=\"stroke:#000000;stroke-width:0.8;\" x=\"224.950714\" xlink:href=\"#m84e8aa958e\" y=\"224.64\"/>\r\n      </g>\r\n     </g>\r\n     <g id=\"text_6\">\r\n      <!-- 25 -->\r\n      <g transform=\"translate(218.588214 239.238437)scale(0.1 -0.1)\">\r\n       <use xlink:href=\"#DejaVuSans-50\"/>\r\n       <use x=\"63.623047\" xlink:href=\"#DejaVuSans-53\"/>\r\n      </g>\r\n     </g>\r\n    </g>\r\n   </g>\r\n   <g id=\"matplotlib.axis_2\">\r\n    <g id=\"ytick_1\">\r\n     <g id=\"line2d_7\">\r\n      <defs>\r\n       <path d=\"M 0 0 \r\nL -3.5 0 \r\n\" id=\"m06179b2f59\" style=\"stroke:#000000;stroke-width:0.8;\"/>\r\n      </defs>\r\n      <g>\r\n       <use style=\"stroke:#000000;stroke-width:0.8;\" x=\"26.925\" xlink:href=\"#m06179b2f59\" y=\"11.082857\"/>\r\n      </g>\r\n     </g>\r\n     <g id=\"text_7\">\r\n      <!-- 0 -->\r\n      <g transform=\"translate(13.5625 14.882076)scale(0.1 -0.1)\">\r\n       <use xlink:href=\"#DejaVuSans-48\"/>\r\n      </g>\r\n     </g>\r\n    </g>\r\n    <g id=\"ytick_2\">\r\n     <g id=\"line2d_8\">\r\n      <g>\r\n       <use style=\"stroke:#000000;stroke-width:0.8;\" x=\"26.925\" xlink:href=\"#m06179b2f59\" y=\"49.911429\"/>\r\n      </g>\r\n     </g>\r\n     <g id=\"text_8\">\r\n      <!-- 5 -->\r\n      <g transform=\"translate(13.5625 53.710647)scale(0.1 -0.1)\">\r\n       <use xlink:href=\"#DejaVuSans-53\"/>\r\n      </g>\r\n     </g>\r\n    </g>\r\n    <g id=\"ytick_3\">\r\n     <g id=\"line2d_9\">\r\n      <g>\r\n       <use style=\"stroke:#000000;stroke-width:0.8;\" x=\"26.925\" xlink:href=\"#m06179b2f59\" y=\"88.74\"/>\r\n      </g>\r\n     </g>\r\n     <g id=\"text_9\">\r\n      <!-- 10 -->\r\n      <g transform=\"translate(7.2 92.539219)scale(0.1 -0.1)\">\r\n       <use xlink:href=\"#DejaVuSans-49\"/>\r\n       <use x=\"63.623047\" xlink:href=\"#DejaVuSans-48\"/>\r\n      </g>\r\n     </g>\r\n    </g>\r\n    <g id=\"ytick_4\">\r\n     <g id=\"line2d_10\">\r\n      <g>\r\n       <use style=\"stroke:#000000;stroke-width:0.8;\" x=\"26.925\" xlink:href=\"#m06179b2f59\" y=\"127.568571\"/>\r\n      </g>\r\n     </g>\r\n     <g id=\"text_10\">\r\n      <!-- 15 -->\r\n      <g transform=\"translate(7.2 131.36779)scale(0.1 -0.1)\">\r\n       <use xlink:href=\"#DejaVuSans-49\"/>\r\n       <use x=\"63.623047\" xlink:href=\"#DejaVuSans-53\"/>\r\n      </g>\r\n     </g>\r\n    </g>\r\n    <g id=\"ytick_5\">\r\n     <g id=\"line2d_11\">\r\n      <g>\r\n       <use style=\"stroke:#000000;stroke-width:0.8;\" x=\"26.925\" xlink:href=\"#m06179b2f59\" y=\"166.397143\"/>\r\n      </g>\r\n     </g>\r\n     <g id=\"text_11\">\r\n      <!-- 20 -->\r\n      <g transform=\"translate(7.2 170.196362)scale(0.1 -0.1)\">\r\n       <use xlink:href=\"#DejaVuSans-50\"/>\r\n       <use x=\"63.623047\" xlink:href=\"#DejaVuSans-48\"/>\r\n      </g>\r\n     </g>\r\n    </g>\r\n    <g id=\"ytick_6\">\r\n     <g id=\"line2d_12\">\r\n      <g>\r\n       <use style=\"stroke:#000000;stroke-width:0.8;\" x=\"26.925\" xlink:href=\"#m06179b2f59\" y=\"205.225714\"/>\r\n      </g>\r\n     </g>\r\n     <g id=\"text_12\">\r\n      <!-- 25 -->\r\n      <g transform=\"translate(7.2 209.024933)scale(0.1 -0.1)\">\r\n       <use xlink:href=\"#DejaVuSans-50\"/>\r\n       <use x=\"63.623047\" xlink:href=\"#DejaVuSans-53\"/>\r\n      </g>\r\n     </g>\r\n    </g>\r\n   </g>\r\n   <g id=\"patch_3\">\r\n    <path d=\"M 26.925 224.64 \r\nL 26.925 7.2 \r\n\" style=\"fill:none;stroke:#000000;stroke-linecap:square;stroke-linejoin:miter;stroke-width:0.8;\"/>\r\n   </g>\r\n   <g id=\"patch_4\">\r\n    <path d=\"M 244.365 224.64 \r\nL 244.365 7.2 \r\n\" style=\"fill:none;stroke:#000000;stroke-linecap:square;stroke-linejoin:miter;stroke-width:0.8;\"/>\r\n   </g>\r\n   <g id=\"patch_5\">\r\n    <path d=\"M 26.925 224.64 \r\nL 244.365 224.64 \r\n\" style=\"fill:none;stroke:#000000;stroke-linecap:square;stroke-linejoin:miter;stroke-width:0.8;\"/>\r\n   </g>\r\n   <g id=\"patch_6\">\r\n    <path d=\"M 26.925 7.2 \r\nL 244.365 7.2 \r\n\" style=\"fill:none;stroke:#000000;stroke-linecap:square;stroke-linejoin:miter;stroke-width:0.8;\"/>\r\n   </g>\r\n  </g>\r\n  <g id=\"axes_2\">\r\n   <g id=\"patch_7\">\r\n    <path clip-path=\"url(#p738b4f0857)\" d=\"M 261.105 224.64 \r\nL 261.105 223.790625 \r\nL 261.105 8.049375 \r\nL 261.105 7.2 \r\nL 271.977 7.2 \r\nL 271.977 8.049375 \r\nL 271.977 223.790625 \r\nL 271.977 224.64 \r\nz\r\n\" style=\"fill:#ffffff;stroke:#ffffff;stroke-linejoin:miter;stroke-width:0.01;\"/>\r\n   </g>\r\n   <image height=\"217\" id=\"image588f12273c\" transform=\"scale(1 -1)translate(0 -217)\" width=\"11\" x=\"261\" xlink:href=\"data:image/png;base64,\r\niVBORw0KGgoAAAANSUhEUgAAAAsAAADZCAYAAAD2WsoCAAAABHNCSVQICAgIfAhkiAAAAUhJREFUaIHdmsENAjEMBGM7R2XUQP+NQGjB8xjJd7yt1e6sQ9Bx8c7PWc3Pjozu7Norsj/MlKuIDaAcCTwj5aUpB6LBGtSGh3AWaWg2RHQWjcNstGdNGqJn7VidmtFgf9YMeDQbKKC3SIccWI8GVAbDcJ+J8h1piHUjG5qyRsPcDUvZ5HxDdDO2boqyR6M/iy96YgPdg5qN59f9eHQ3DOjVvaJ/vsegux8N4JgHBJ69UkTOM2iAn0huKV7AEcrgORmkwWzMQJdiQIuG5zmTDHs2loWu8gdseAFFGmB4azS8gJ4NRkP0bJWymTIYLrFui8YVX0kZ0rACFlG+ktAgDZa3dcQGrBvZGNEg4sxoMBtWQFTKSwyo7YZ2rK4FaMCA1j3Ilp99FXgB27NUuS+89ov83YCUiymD4SLDSPkK8LoO80zeOUnwkOoPXoiBaF8nrs8AAAAASUVORK5CYII=\" y=\"-7\"/>\r\n   <g id=\"matplotlib.axis_3\"/>\r\n   <g id=\"matplotlib.axis_4\">\r\n    <g id=\"ytick_7\">\r\n     <g id=\"line2d_13\">\r\n      <defs>\r\n       <path d=\"M 0 0 \r\nL 3.5 0 \r\n\" id=\"m093ab3c770\" style=\"stroke:#000000;stroke-width:0.8;\"/>\r\n      </defs>\r\n      <g>\r\n       <use style=\"stroke:#000000;stroke-width:0.8;\" x=\"271.977\" xlink:href=\"#m093ab3c770\" y=\"224.64\"/>\r\n      </g>\r\n     </g>\r\n     <g id=\"text_13\">\r\n      <!-- 0 -->\r\n      <g transform=\"translate(278.977 228.439219)scale(0.1 -0.1)\">\r\n       <use xlink:href=\"#DejaVuSans-48\"/>\r\n      </g>\r\n     </g>\r\n    </g>\r\n    <g id=\"ytick_8\">\r\n     <g id=\"line2d_14\">\r\n      <g>\r\n       <use style=\"stroke:#000000;stroke-width:0.8;\" x=\"271.977\" xlink:href=\"#m093ab3c770\" y=\"182.004706\"/>\r\n      </g>\r\n     </g>\r\n     <g id=\"text_14\">\r\n      <!-- 50 -->\r\n      <g transform=\"translate(278.977 185.803925)scale(0.1 -0.1)\">\r\n       <use xlink:href=\"#DejaVuSans-53\"/>\r\n       <use x=\"63.623047\" xlink:href=\"#DejaVuSans-48\"/>\r\n      </g>\r\n     </g>\r\n    </g>\r\n    <g id=\"ytick_9\">\r\n     <g id=\"line2d_15\">\r\n      <g>\r\n       <use style=\"stroke:#000000;stroke-width:0.8;\" x=\"271.977\" xlink:href=\"#m093ab3c770\" y=\"139.369412\"/>\r\n      </g>\r\n     </g>\r\n     <g id=\"text_15\">\r\n      <!-- 100 -->\r\n      <g transform=\"translate(278.977 143.168631)scale(0.1 -0.1)\">\r\n       <use xlink:href=\"#DejaVuSans-49\"/>\r\n       <use x=\"63.623047\" xlink:href=\"#DejaVuSans-48\"/>\r\n       <use x=\"127.246094\" xlink:href=\"#DejaVuSans-48\"/>\r\n      </g>\r\n     </g>\r\n    </g>\r\n    <g id=\"ytick_10\">\r\n     <g id=\"line2d_16\">\r\n      <g>\r\n       <use style=\"stroke:#000000;stroke-width:0.8;\" x=\"271.977\" xlink:href=\"#m093ab3c770\" y=\"96.734118\"/>\r\n      </g>\r\n     </g>\r\n     <g id=\"text_16\">\r\n      <!-- 150 -->\r\n      <g transform=\"translate(278.977 100.533336)scale(0.1 -0.1)\">\r\n       <use xlink:href=\"#DejaVuSans-49\"/>\r\n       <use x=\"63.623047\" xlink:href=\"#DejaVuSans-53\"/>\r\n       <use x=\"127.246094\" xlink:href=\"#DejaVuSans-48\"/>\r\n      </g>\r\n     </g>\r\n    </g>\r\n    <g id=\"ytick_11\">\r\n     <g id=\"line2d_17\">\r\n      <g>\r\n       <use style=\"stroke:#000000;stroke-width:0.8;\" x=\"271.977\" xlink:href=\"#m093ab3c770\" y=\"54.098824\"/>\r\n      </g>\r\n     </g>\r\n     <g id=\"text_17\">\r\n      <!-- 200 -->\r\n      <g transform=\"translate(278.977 57.898042)scale(0.1 -0.1)\">\r\n       <use xlink:href=\"#DejaVuSans-50\"/>\r\n       <use x=\"63.623047\" xlink:href=\"#DejaVuSans-48\"/>\r\n       <use x=\"127.246094\" xlink:href=\"#DejaVuSans-48\"/>\r\n      </g>\r\n     </g>\r\n    </g>\r\n    <g id=\"ytick_12\">\r\n     <g id=\"line2d_18\">\r\n      <g>\r\n       <use style=\"stroke:#000000;stroke-width:0.8;\" x=\"271.977\" xlink:href=\"#m093ab3c770\" y=\"11.463529\"/>\r\n      </g>\r\n     </g>\r\n     <g id=\"text_18\">\r\n      <!-- 250 -->\r\n      <g transform=\"translate(278.977 15.262748)scale(0.1 -0.1)\">\r\n       <use xlink:href=\"#DejaVuSans-50\"/>\r\n       <use x=\"63.623047\" xlink:href=\"#DejaVuSans-53\"/>\r\n       <use x=\"127.246094\" xlink:href=\"#DejaVuSans-48\"/>\r\n      </g>\r\n     </g>\r\n    </g>\r\n   </g>\r\n   <g id=\"patch_8\">\r\n    <path d=\"M 261.105 224.64 \r\nL 261.105 223.790625 \r\nL 261.105 8.049375 \r\nL 261.105 7.2 \r\nL 271.977 7.2 \r\nL 271.977 8.049375 \r\nL 271.977 223.790625 \r\nL 271.977 224.64 \r\nz\r\n\" style=\"fill:none;stroke:#000000;stroke-linejoin:miter;stroke-width:0.8;\"/>\r\n   </g>\r\n  </g>\r\n </g>\r\n <defs>\r\n  <clipPath id=\"pf8a1598ce3\">\r\n   <rect height=\"217.44\" width=\"217.44\" x=\"26.925\" y=\"7.2\"/>\r\n  </clipPath>\r\n  <clipPath id=\"p738b4f0857\">\r\n   <rect height=\"217.44\" width=\"10.872\" x=\"261.105\" y=\"7.2\"/>\r\n  </clipPath>\r\n </defs>\r\n</svg>\r\n",
      "image/png": "[encoded data removed]"
     },
     "metadata": {
      "needs_background": "light"
     }
    }
   ],
   "source": [
    "plt.figure()\n",
    "plt.imshow(train_images[0])\n",
    "plt.colorbar()\n",
    "plt.grid(False)\n",
    "plt.show()"
   ]
  },
  {
   "cell_type": "markdown",
   "metadata": {
    "id": "Wz7l27Lz9S1P"
   },
   "source": [
    "Escale estos valores en un rango de 0 a 1 antes de alimentarlos al modelo de la red neuronal. Para hacero, divida los valores por 255. Es importante que el *training set* y el *testing set* se pre-procesen de la misma forma:"
   ]
  },
  {
   "cell_type": "code",
   "execution_count": 12,
   "metadata": {
    "execution": {
     "iopub.execute_input": "2020-09-23T00:12:04.850245Z",
     "iopub.status.busy": "2020-09-23T00:12:04.849612Z",
     "iopub.status.idle": "2020-09-23T00:12:05.014795Z",
     "shell.execute_reply": "2020-09-23T00:12:05.015335Z"
    },
    "id": "bW5WzIPlCaWv"
   },
   "outputs": [],
   "source": [
    "train_images = train_images / 255.0\n",
    "\n",
    "test_images = test_images / 255.0"
   ]
  },
  {
   "cell_type": "markdown",
   "metadata": {
    "id": "Ee638AlnCaWz"
   },
   "source": [
    "Para verificar que el set de datos esta en el formato adecuado y que estan listos para construir y entrenar la red, vamos a desplegar las primeras 25 imagenes de el *training set* y despleguemos el nombre de cada clase debajo de cada imagen."
   ]
  },
  {
   "cell_type": "code",
   "execution_count": 13,
   "metadata": {
    "execution": {
     "iopub.execute_input": "2020-09-23T00:12:05.031312Z",
     "iopub.status.busy": "2020-09-23T00:12:05.030478Z",
     "iopub.status.idle": "2020-09-23T00:12:05.895379Z",
     "shell.execute_reply": "2020-09-23T00:12:05.895951Z"
    },
    "id": "oZTImqg_CaW1"
   },
   "outputs": [
    {
     "output_type": "display_data",
     "data": {
      "text/plain": "<Figure size 720x720 with 25 Axes>",
      "image/svg+xml": "<?xml version=\"1.0\" encoding=\"utf-8\" standalone=\"no\"?>\r\n<!DOCTYPE svg PUBLIC \"-//W3C//DTD SVG 1.1//EN\"\r\n  \"http://www.w3.org/Graphics/SVG/1.1/DTD/svg11.dtd\">\r\n<!-- Created with matplotlib (https://matplotlib.org/) -->\r\n<svg height=\"571.678125pt\" version=\"1.1\" viewBox=\"0 0 573.417241 571.678125\" width=\"573.417241pt\" xmlns=\"http://www.w3.org/2000/svg\" xmlns:xlink=\"http://www.w3.org/1999/xlink\">\r\n <defs>\r\n  <style type=\"text/css\">\r\n*{stroke-linecap:butt;stroke-linejoin:round;}\r\n  </style>\r\n </defs>\r\n <g id=\"figure_1\">\r\n  <g id=\"patch_1\">\r\n   <path d=\"M 0 571.678125 \r\nL 573.417241 571.678125 \r\nL 573.417241 0 \r\nL 0 0 \r\nz\r\n\" style=\"fill:none;\"/>\r\n  </g>\r\n  <g id=\"axes_1\">\r\n   <g id=\"patch_2\">\r\n    <path d=\"M 10.7 100.924138 \r\nL 104.424138 100.924138 \r\nL 104.424138 7.2 \r\nL 10.7 7.2 \r\nz\r\n\" style=\"fill:#ffffff;\"/>\r\n   </g>\r\n   <g clip-path=\"url(#p1206de99ec)\">\r\n    <image height=\"94\" id=\"imagef8f5003ac9\" transform=\"scale(1 -1)translate(0 -94)\" width=\"94\" x=\"10.7\" xlink:href=\"data:image/png;base64,\r\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\" y=\"-6.924138\"/>\r\n   </g>\r\n   <g id=\"matplotlib.axis_1\">\r\n    <g id=\"text_1\">\r\n     <!-- Ankle boot -->\r\n     <defs>\r\n      <path d=\"M 34.1875 63.1875 \r\nL 20.796875 26.90625 \r\nL 47.609375 26.90625 \r\nz\r\nM 28.609375 72.90625 \r\nL 39.796875 72.90625 \r\nL 67.578125 0 \r\nL 57.328125 0 \r\nL 50.6875 18.703125 \r\nL 17.828125 18.703125 \r\nL 11.1875 0 \r\nL 0.78125 0 \r\nz\r\n\" id=\"DejaVuSans-65\"/>\r\n      <path d=\"M 54.890625 33.015625 \r\nL 54.890625 0 \r\nL 45.90625 0 \r\nL 45.90625 32.71875 \r\nQ 45.90625 40.484375 42.875 44.328125 \r\nQ 39.84375 48.1875 33.796875 48.1875 \r\nQ 26.515625 48.1875 22.3125 43.546875 \r\nQ 18.109375 38.921875 18.109375 30.90625 \r\nL 18.109375 0 \r\nL 9.078125 0 \r\nL 9.078125 54.6875 \r\nL 18.109375 54.6875 \r\nL 18.109375 46.1875 \r\nQ 21.34375 51.125 25.703125 53.5625 \r\nQ 30.078125 56 35.796875 56 \r\nQ 45.21875 56 50.046875 50.171875 \r\nQ 54.890625 44.34375 54.890625 33.015625 \r\nz\r\n\" id=\"DejaVuSans-110\"/>\r\n      <path d=\"M 9.078125 75.984375 \r\nL 18.109375 75.984375 \r\nL 18.109375 31.109375 \r\nL 44.921875 54.6875 \r\nL 56.390625 54.6875 \r\nL 27.390625 29.109375 \r\nL 57.625 0 \r\nL 45.90625 0 \r\nL 18.109375 26.703125 \r\nL 18.109375 0 \r\nL 9.078125 0 \r\nz\r\n\" id=\"DejaVuSans-107\"/>\r\n      <path d=\"M 9.421875 75.984375 \r\nL 18.40625 75.984375 \r\nL 18.40625 0 \r\nL 9.421875 0 \r\nz\r\n\" id=\"DejaVuSans-108\"/>\r\n      <path d=\"M 56.203125 29.59375 \r\nL 56.203125 25.203125 \r\nL 14.890625 25.203125 \r\nQ 15.484375 15.921875 20.484375 11.0625 \r\nQ 25.484375 6.203125 34.421875 6.203125 \r\nQ 39.59375 6.203125 44.453125 7.46875 \r\nQ 49.3125 8.734375 54.109375 11.28125 \r\nL 54.109375 2.78125 \r\nQ 49.265625 0.734375 44.1875 -0.34375 \r\nQ 39.109375 -1.421875 33.890625 -1.421875 \r\nQ 20.796875 -1.421875 13.15625 6.1875 \r\nQ 5.515625 13.8125 5.515625 26.8125 \r\nQ 5.515625 40.234375 12.765625 48.109375 \r\nQ 20.015625 56 32.328125 56 \r\nQ 43.359375 56 49.78125 48.890625 \r\nQ 56.203125 41.796875 56.203125 29.59375 \r\nz\r\nM 47.21875 32.234375 \r\nQ 47.125 39.59375 43.09375 43.984375 \r\nQ 39.0625 48.390625 32.421875 48.390625 \r\nQ 24.90625 48.390625 20.390625 44.140625 \r\nQ 15.875 39.890625 15.1875 32.171875 \r\nz\r\n\" id=\"DejaVuSans-101\"/>\r\n      <path id=\"DejaVuSans-32\"/>\r\n      <path d=\"M 48.6875 27.296875 \r\nQ 48.6875 37.203125 44.609375 42.84375 \r\nQ 40.53125 48.484375 33.40625 48.484375 \r\nQ 26.265625 48.484375 22.1875 42.84375 \r\nQ 18.109375 37.203125 18.109375 27.296875 \r\nQ 18.109375 17.390625 22.1875 11.75 \r\nQ 26.265625 6.109375 33.40625 6.109375 \r\nQ 40.53125 6.109375 44.609375 11.75 \r\nQ 48.6875 17.390625 48.6875 27.296875 \r\nz\r\nM 18.109375 46.390625 \r\nQ 20.953125 51.265625 25.265625 53.625 \r\nQ 29.59375 56 35.59375 56 \r\nQ 45.5625 56 51.78125 48.09375 \r\nQ 58.015625 40.1875 58.015625 27.296875 \r\nQ 58.015625 14.40625 51.78125 6.484375 \r\nQ 45.5625 -1.421875 35.59375 -1.421875 \r\nQ 29.59375 -1.421875 25.265625 0.953125 \r\nQ 20.953125 3.328125 18.109375 8.203125 \r\nL 18.109375 0 \r\nL 9.078125 0 \r\nL 9.078125 75.984375 \r\nL 18.109375 75.984375 \r\nz\r\n\" id=\"DejaVuSans-98\"/>\r\n      <path d=\"M 30.609375 48.390625 \r\nQ 23.390625 48.390625 19.1875 42.75 \r\nQ 14.984375 37.109375 14.984375 27.296875 \r\nQ 14.984375 17.484375 19.15625 11.84375 \r\nQ 23.34375 6.203125 30.609375 6.203125 \r\nQ 37.796875 6.203125 41.984375 11.859375 \r\nQ 46.1875 17.53125 46.1875 27.296875 \r\nQ 46.1875 37.015625 41.984375 42.703125 \r\nQ 37.796875 48.390625 30.609375 48.390625 \r\nz\r\nM 30.609375 56 \r\nQ 42.328125 56 49.015625 48.375 \r\nQ 55.71875 40.765625 55.71875 27.296875 \r\nQ 55.71875 13.875 49.015625 6.21875 \r\nQ 42.328125 -1.421875 30.609375 -1.421875 \r\nQ 18.84375 -1.421875 12.171875 6.21875 \r\nQ 5.515625 13.875 5.515625 27.296875 \r\nQ 5.515625 40.765625 12.171875 48.375 \r\nQ 18.84375 56 30.609375 56 \r\nz\r\n\" id=\"DejaVuSans-111\"/>\r\n      <path d=\"M 18.3125 70.21875 \r\nL 18.3125 54.6875 \r\nL 36.8125 54.6875 \r\nL 36.8125 47.703125 \r\nL 18.3125 47.703125 \r\nL 18.3125 18.015625 \r\nQ 18.3125 11.328125 20.140625 9.421875 \r\nQ 21.96875 7.515625 27.59375 7.515625 \r\nL 36.8125 7.515625 \r\nL 36.8125 0 \r\nL 27.59375 0 \r\nQ 17.1875 0 13.234375 3.875 \r\nQ 9.28125 7.765625 9.28125 18.015625 \r\nL 9.28125 47.703125 \r\nL 2.6875 47.703125 \r\nL 2.6875 54.6875 \r\nL 9.28125 54.6875 \r\nL 9.28125 70.21875 \r\nz\r\n\" id=\"DejaVuSans-116\"/>\r\n     </defs>\r\n     <g transform=\"translate(30.769881 112.522575)scale(0.1 -0.1)\">\r\n      <use xlink:href=\"#DejaVuSans-65\"/>\r\n      <use x=\"68.408203\" xlink:href=\"#DejaVuSans-110\"/>\r\n      <use x=\"131.787109\" xlink:href=\"#DejaVuSans-107\"/>\r\n      <use x=\"189.697266\" xlink:href=\"#DejaVuSans-108\"/>\r\n      <use x=\"217.480469\" xlink:href=\"#DejaVuSans-101\"/>\r\n      <use x=\"279.003906\" xlink:href=\"#DejaVuSans-32\"/>\r\n      <use x=\"310.791016\" xlink:href=\"#DejaVuSans-98\"/>\r\n      <use x=\"374.267578\" xlink:href=\"#DejaVuSans-111\"/>\r\n      <use x=\"435.449219\" xlink:href=\"#DejaVuSans-111\"/>\r\n      <use x=\"496.630859\" xlink:href=\"#DejaVuSans-116\"/>\r\n     </g>\r\n    </g>\r\n   </g>\r\n   <g id=\"matplotlib.axis_2\"/>\r\n   <g id=\"patch_3\">\r\n    <path d=\"M 10.7 100.924138 \r\nL 10.7 7.2 \r\n\" style=\"fill:none;stroke:#000000;stroke-linecap:square;stroke-linejoin:miter;stroke-width:0.8;\"/>\r\n   </g>\r\n   <g id=\"patch_4\">\r\n    <path d=\"M 104.424138 100.924138 \r\nL 104.424138 7.2 \r\n\" style=\"fill:none;stroke:#000000;stroke-linecap:square;stroke-linejoin:miter;stroke-width:0.8;\"/>\r\n   </g>\r\n   <g id=\"patch_5\">\r\n    <path d=\"M 10.7 100.924138 \r\nL 104.424138 100.924138 \r\n\" style=\"fill:none;stroke:#000000;stroke-linecap:square;stroke-linejoin:miter;stroke-width:0.8;\"/>\r\n   </g>\r\n   <g id=\"patch_6\">\r\n    <path d=\"M 10.7 7.2 \r\nL 104.424138 7.2 \r\n\" style=\"fill:none;stroke:#000000;stroke-linecap:square;stroke-linejoin:miter;stroke-width:0.8;\"/>\r\n   </g>\r\n  </g>\r\n  <g id=\"axes_2\">\r\n   <g id=\"patch_7\">\r\n    <path d=\"M 126.148276 100.924138 \r\nL 219.872414 100.924138 \r\nL 219.872414 7.2 \r\nL 126.148276 7.2 \r\nz\r\n\" style=\"fill:#ffffff;\"/>\r\n   </g>\r\n   <g clip-path=\"url(#p22df761b1f)\">\r\n    <image height=\"94\" id=\"image13694d704b\" transform=\"scale(1 -1)translate(0 -94)\" width=\"94\" x=\"126.148276\" xlink:href=\"data:image/png;base64,\r\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\" y=\"-6.924138\"/>\r\n   </g>\r\n   <g id=\"matplotlib.axis_3\">\r\n    <g id=\"text_2\">\r\n     <!-- T-shirt/top -->\r\n     <defs>\r\n      <path d=\"M -0.296875 72.90625 \r\nL 61.375 72.90625 \r\nL 61.375 64.59375 \r\nL 35.5 64.59375 \r\nL 35.5 0 \r\nL 25.59375 0 \r\nL 25.59375 64.59375 \r\nL -0.296875 64.59375 \r\nz\r\n\" id=\"DejaVuSans-84\"/>\r\n      <path d=\"M 4.890625 31.390625 \r\nL 31.203125 31.390625 \r\nL 31.203125 23.390625 \r\nL 4.890625 23.390625 \r\nz\r\n\" id=\"DejaVuSans-45\"/>\r\n      <path d=\"M 44.28125 53.078125 \r\nL 44.28125 44.578125 \r\nQ 40.484375 46.53125 36.375 47.5 \r\nQ 32.28125 48.484375 27.875 48.484375 \r\nQ 21.1875 48.484375 17.84375 46.4375 \r\nQ 14.5 44.390625 14.5 40.28125 \r\nQ 14.5 37.15625 16.890625 35.375 \r\nQ 19.28125 33.59375 26.515625 31.984375 \r\nL 29.59375 31.296875 \r\nQ 39.15625 29.25 43.1875 25.515625 \r\nQ 47.21875 21.78125 47.21875 15.09375 \r\nQ 47.21875 7.46875 41.1875 3.015625 \r\nQ 35.15625 -1.421875 24.609375 -1.421875 \r\nQ 20.21875 -1.421875 15.453125 -0.5625 \r\nQ 10.6875 0.296875 5.421875 2 \r\nL 5.421875 11.28125 \r\nQ 10.40625 8.6875 15.234375 7.390625 \r\nQ 20.0625 6.109375 24.8125 6.109375 \r\nQ 31.15625 6.109375 34.5625 8.28125 \r\nQ 37.984375 10.453125 37.984375 14.40625 \r\nQ 37.984375 18.0625 35.515625 20.015625 \r\nQ 33.0625 21.96875 24.703125 23.78125 \r\nL 21.578125 24.515625 \r\nQ 13.234375 26.265625 9.515625 29.90625 \r\nQ 5.8125 33.546875 5.8125 39.890625 \r\nQ 5.8125 47.609375 11.28125 51.796875 \r\nQ 16.75 56 26.8125 56 \r\nQ 31.78125 56 36.171875 55.265625 \r\nQ 40.578125 54.546875 44.28125 53.078125 \r\nz\r\n\" id=\"DejaVuSans-115\"/>\r\n      <path d=\"M 54.890625 33.015625 \r\nL 54.890625 0 \r\nL 45.90625 0 \r\nL 45.90625 32.71875 \r\nQ 45.90625 40.484375 42.875 44.328125 \r\nQ 39.84375 48.1875 33.796875 48.1875 \r\nQ 26.515625 48.1875 22.3125 43.546875 \r\nQ 18.109375 38.921875 18.109375 30.90625 \r\nL 18.109375 0 \r\nL 9.078125 0 \r\nL 9.078125 75.984375 \r\nL 18.109375 75.984375 \r\nL 18.109375 46.1875 \r\nQ 21.34375 51.125 25.703125 53.5625 \r\nQ 30.078125 56 35.796875 56 \r\nQ 45.21875 56 50.046875 50.171875 \r\nQ 54.890625 44.34375 54.890625 33.015625 \r\nz\r\n\" id=\"DejaVuSans-104\"/>\r\n      <path d=\"M 9.421875 54.6875 \r\nL 18.40625 54.6875 \r\nL 18.40625 0 \r\nL 9.421875 0 \r\nz\r\nM 9.421875 75.984375 \r\nL 18.40625 75.984375 \r\nL 18.40625 64.59375 \r\nL 9.421875 64.59375 \r\nz\r\n\" id=\"DejaVuSans-105\"/>\r\n      <path d=\"M 41.109375 46.296875 \r\nQ 39.59375 47.171875 37.8125 47.578125 \r\nQ 36.03125 48 33.890625 48 \r\nQ 26.265625 48 22.1875 43.046875 \r\nQ 18.109375 38.09375 18.109375 28.8125 \r\nL 18.109375 0 \r\nL 9.078125 0 \r\nL 9.078125 54.6875 \r\nL 18.109375 54.6875 \r\nL 18.109375 46.1875 \r\nQ 20.953125 51.171875 25.484375 53.578125 \r\nQ 30.03125 56 36.53125 56 \r\nQ 37.453125 56 38.578125 55.875 \r\nQ 39.703125 55.765625 41.0625 55.515625 \r\nz\r\n\" id=\"DejaVuSans-114\"/>\r\n      <path d=\"M 25.390625 72.90625 \r\nL 33.6875 72.90625 \r\nL 8.296875 -9.28125 \r\nL 0 -9.28125 \r\nz\r\n\" id=\"DejaVuSans-47\"/>\r\n      <path d=\"M 18.109375 8.203125 \r\nL 18.109375 -20.796875 \r\nL 9.078125 -20.796875 \r\nL 9.078125 54.6875 \r\nL 18.109375 54.6875 \r\nL 18.109375 46.390625 \r\nQ 20.953125 51.265625 25.265625 53.625 \r\nQ 29.59375 56 35.59375 56 \r\nQ 45.5625 56 51.78125 48.09375 \r\nQ 58.015625 40.1875 58.015625 27.296875 \r\nQ 58.015625 14.40625 51.78125 6.484375 \r\nQ 45.5625 -1.421875 35.59375 -1.421875 \r\nQ 29.59375 -1.421875 25.265625 0.953125 \r\nQ 20.953125 3.328125 18.109375 8.203125 \r\nz\r\nM 48.6875 27.296875 \r\nQ 48.6875 37.203125 44.609375 42.84375 \r\nQ 40.53125 48.484375 33.40625 48.484375 \r\nQ 26.265625 48.484375 22.1875 42.84375 \r\nQ 18.109375 37.203125 18.109375 27.296875 \r\nQ 18.109375 17.390625 22.1875 11.75 \r\nQ 26.265625 6.109375 33.40625 6.109375 \r\nQ 40.53125 6.109375 44.609375 11.75 \r\nQ 48.6875 17.390625 48.6875 27.296875 \r\nz\r\n\" id=\"DejaVuSans-112\"/>\r\n     </defs>\r\n     <g transform=\"translate(147.552532 112.522575)scale(0.1 -0.1)\">\r\n      <use xlink:href=\"#DejaVuSans-84\"/>\r\n      <use x=\"51.958984\" xlink:href=\"#DejaVuSans-45\"/>\r\n      <use x=\"88.042969\" xlink:href=\"#DejaVuSans-115\"/>\r\n      <use x=\"140.142578\" xlink:href=\"#DejaVuSans-104\"/>\r\n      <use x=\"203.521484\" xlink:href=\"#DejaVuSans-105\"/>\r\n      <use x=\"231.304688\" xlink:href=\"#DejaVuSans-114\"/>\r\n      <use x=\"272.417969\" xlink:href=\"#DejaVuSans-116\"/>\r\n      <use x=\"311.626953\" xlink:href=\"#DejaVuSans-47\"/>\r\n      <use x=\"345.318359\" xlink:href=\"#DejaVuSans-116\"/>\r\n      <use x=\"384.527344\" xlink:href=\"#DejaVuSans-111\"/>\r\n      <use x=\"445.708984\" xlink:href=\"#DejaVuSans-112\"/>\r\n     </g>\r\n    </g>\r\n   </g>\r\n   <g id=\"matplotlib.axis_4\"/>\r\n   <g id=\"patch_8\">\r\n    <path d=\"M 126.148276 100.924138 \r\nL 126.148276 7.2 \r\n\" style=\"fill:none;stroke:#000000;stroke-linecap:square;stroke-linejoin:miter;stroke-width:0.8;\"/>\r\n   </g>\r\n   <g id=\"patch_9\">\r\n    <path d=\"M 219.872414 100.924138 \r\nL 219.872414 7.2 \r\n\" style=\"fill:none;stroke:#000000;stroke-linecap:square;stroke-linejoin:miter;stroke-width:0.8;\"/>\r\n   </g>\r\n   <g id=\"patch_10\">\r\n    <path d=\"M 126.148276 100.924138 \r\nL 219.872414 100.924138 \r\n\" style=\"fill:none;stroke:#000000;stroke-linecap:square;stroke-linejoin:miter;stroke-width:0.8;\"/>\r\n   </g>\r\n   <g id=\"patch_11\">\r\n    <path d=\"M 126.148276 7.2 \r\nL 219.872414 7.2 \r\n\" style=\"fill:none;stroke:#000000;stroke-linecap:square;stroke-linejoin:miter;stroke-width:0.8;\"/>\r\n   </g>\r\n  </g>\r\n  <g id=\"axes_3\">\r\n   <g id=\"patch_12\">\r\n    <path d=\"M 241.596552 100.924138 \r\nL 335.32069 100.924138 \r\nL 335.32069 7.2 \r\nL 241.596552 7.2 \r\nz\r\n\" style=\"fill:#ffffff;\"/>\r\n   </g>\r\n   <g clip-path=\"url(#pc474fd0f40)\">\r\n    <image height=\"94\" id=\"image88184145ee\" transform=\"scale(1 -1)translate(0 -94)\" width=\"94\" x=\"241.596552\" xlink:href=\"data:image/png;base64,\r\niVBORw0KGgoAAAANSUhEUgAAAF4AAABeCAYAAACq0qNuAAAABHNCSVQICAgIfAhkiAAABGtJREFUeJztnbtKLEEURWt8o+IDEUdNjMTIRAxM/QAxFhH8FL9B/AP/Q2MjQw0NBEUZ8Yni60b33F0Hq2zGntrC3Ss6TVd3D5vTu091Vdc0Pj8/P0Mh8FKNRqPSMa1WK9q+uLiw+Pb2Nnm+ZrP5ZTwwMFDr72uXro6eXSSR8CQaJa0GeX5+jrYPDg4svr6+tvjx8TFq9/b2ZnFvb2/y/O/v7xb39PRYPDMzE7VbXV21eHBw8LufXRvKeBISnoSEJ1HU45+enize39+P9nV1/cuBXMnX3d1tMXp3rvxDv7+6ukped3Nz0+KRkZHk+epAGU9CwpPo+b5JfRwdHVmMt3gIIYyNjVmM1uCdEK0G23nQhpDp6elo++HhweLT01OLl5eXk+euA2U8CQlPoqjVYG/V9zrRUtBOvNWgveQqmdfXV4vR1j4+PqJ2w8PDFmPV1WmU8SQkPAkJT6Kox+ObwcvLy2gf+jD6uvfkqgMUvlxNHY9vO32vtpMo40lIeBJFraavr89iXybiLZ+yiXbJnQ/Lzvn5+Vqvm0MZT0LCk5DwJGge78mVkHXiny3o8UNDQx27rkcZT0LCkyhqNbkx0qoDHO1MrcNS1R+PVtPpaXuIMp6EhCdR1Gpw8MP3JlO3ed23P9pOCHGVk5tWUjfKeBISnoSEJ1HU49GvfcmY+hrDPwuwV5ubfVj16w7cNzo6mmxXN8p4EhKeRFGrwd5pu1Sd3IwWkpqz47dT0/46gTKehIQnQatqfKWRsobcOdr5piJX4dQ91ptDGU9CwpOQ8CSKejy+/fP+nOpp5sZfsRSsOk6bu25uTLhulPEkJDyJX9NzbWdKR+6FWaps9CUjvqxTOfkfIOFJFLWa3MuqUtctOa6aQxlPQsKTkPAkinr8y8vLl3EI8Zyb3BvEVA/XH5P6qNg/W3AlP/wAutPPAmU8CQlPoqjVjI+PW+xv+XZ6mjnQXvDcfvU/XHlPU/j+AyQ8iaJWg+ReSFX9SCG3HAqC0za81UxOTmZ/Z6dQxpOQ8CQkPIlf4/G4LBWuyJcb4Kg6WxjJ9ZhLoownIeFJ0KzGz8xNra7nLQm3q46Xou34diUHZBBlPAkJT0LCk6B5PK5wGkLs6znfTT0Lqk6/9h7PGvxWxpOQ8CRoVuOtAUu+3BtJ7NViSeoXZMbtXG+35AdniDKehIQnQbOanJ1MTExY7C3p/PzcYlwLeG5uLmo3OztrMf6TWu7DhJIo40lIeBISngTN4+/v76Ptqakpi8/Ozize3d2N2t3c3FiMgxpYZoYQwtLSksXb29tfHh9C2ZX3EGU8CQlPgmY1/f390Tbaxt7ensX4H90hxH9xgcfc3d1F7byl/GVjYyPaxn8+K4kynoSEJ1HUavC2xg8CQghhZ2fHYvy0fWFhIWq3uLhoMU7N8JaBNnR4eGixr35WVlaq/PTaUcaTkPAkJDyJoh6P46xra2vRvlarZfHW1pbFzWbzx9c9Pj62+OTkJNq3vr7+4/O3gzKehIQn8QfIX3mZk1WtgQAAAABJRU5ErkJggg==\" y=\"-6.924138\"/>\r\n   </g>\r\n   <g id=\"matplotlib.axis_5\">\r\n    <g id=\"text_3\">\r\n     <!-- T-shirt/top -->\r\n     <g transform=\"translate(263.000808 112.522575)scale(0.1 -0.1)\">\r\n      <use xlink:href=\"#DejaVuSans-84\"/>\r\n      <use x=\"51.958984\" xlink:href=\"#DejaVuSans-45\"/>\r\n      <use x=\"88.042969\" xlink:href=\"#DejaVuSans-115\"/>\r\n      <use x=\"140.142578\" xlink:href=\"#DejaVuSans-104\"/>\r\n      <use x=\"203.521484\" xlink:href=\"#DejaVuSans-105\"/>\r\n      <use x=\"231.304688\" xlink:href=\"#DejaVuSans-114\"/>\r\n      <use x=\"272.417969\" xlink:href=\"#DejaVuSans-116\"/>\r\n      <use x=\"311.626953\" xlink:href=\"#DejaVuSans-47\"/>\r\n      <use x=\"345.318359\" xlink:href=\"#DejaVuSans-116\"/>\r\n      <use x=\"384.527344\" xlink:href=\"#DejaVuSans-111\"/>\r\n      <use x=\"445.708984\" xlink:href=\"#DejaVuSans-112\"/>\r\n     </g>\r\n    </g>\r\n   </g>\r\n   <g id=\"matplotlib.axis_6\"/>\r\n   <g id=\"patch_13\">\r\n    <path d=\"M 241.596552 100.924138 \r\nL 241.596552 7.2 \r\n\" style=\"fill:none;stroke:#000000;stroke-linecap:square;stroke-linejoin:miter;stroke-width:0.8;\"/>\r\n   </g>\r\n   <g id=\"patch_14\">\r\n    <path d=\"M 335.32069 100.924138 \r\nL 335.32069 7.2 \r\n\" style=\"fill:none;stroke:#000000;stroke-linecap:square;stroke-linejoin:miter;stroke-width:0.8;\"/>\r\n   </g>\r\n   <g id=\"patch_15\">\r\n    <path d=\"M 241.596552 100.924138 \r\nL 335.32069 100.924138 \r\n\" style=\"fill:none;stroke:#000000;stroke-linecap:square;stroke-linejoin:miter;stroke-width:0.8;\"/>\r\n   </g>\r\n   <g id=\"patch_16\">\r\n    <path d=\"M 241.596552 7.2 \r\nL 335.32069 7.2 \r\n\" style=\"fill:none;stroke:#000000;stroke-linecap:square;stroke-linejoin:miter;stroke-width:0.8;\"/>\r\n   </g>\r\n  </g>\r\n  <g id=\"axes_4\">\r\n   <g id=\"patch_17\">\r\n    <path d=\"M 357.044828 100.924138 \r\nL 450.768966 100.924138 \r\nL 450.768966 7.2 \r\nL 357.044828 7.2 \r\nz\r\n\" style=\"fill:#ffffff;\"/>\r\n   </g>\r\n   <g clip-path=\"url(#peea2537226)\">\r\n    <image height=\"94\" id=\"image5cf8a5d6b7\" transform=\"scale(1 -1)translate(0 -94)\" width=\"94\" x=\"357.044828\" xlink:href=\"data:image/png;base64,\r\niVBORw0KGgoAAAANSUhEUgAAAF4AAABeCAYAAACq0qNuAAAABHNCSVQICAgIfAhkiAAABnlJREFUeJztnblLXVEQxkejSdyiRlxD3AWxsBA7EQUVm9in0DZC/oq0FkHIH2FnISIpTAgiWlhZKFi4r7ihRo27psrwneGdmxc97w2E+VXf45537nU473POelMeHh4eKCC3t7es09LSnGv39/esU1NTnWtLS0usKyoqWG9sbDjlqqqqgjynNql/L2IkAgu8Eml/L/JvfPz4kbW0herqatYzMzPOtdPTU9YNDQ2sX79+7ZQ7PDxkPTQ0FPM7RET5+fmsx8fHWXd0dDjlxsbGWJeVlcV8ViKi9+/fs87OzqanYi1eCQu8EhZ4JYJ7fF1dHWtMH4mIXr586f0eppeZmZms09PTnXLT09Mxr8nU9fv376zn5uZYd3V1OeXy8vJYY2a9vLzslPvx4wfrnp4ez18RP9bilbDAKxHcarKysljv7u461zDFk6ANXV9fs5YW8ubNG9azs7Osm5ubnXKFhYUxdU1NjVNuYmKCdUpKCmvZoc/JyfE++2OwFq+EBV6J4FaDP+v9/X3nGvY6MZsgIrq4uGB9fn7O+vnz5045rBPLyUE3H2dnZ87no6Mj1miTWDcRUWlpaVz1x4u1eCUs8EpY4JUI7vEFBQWso/xZpmeYTv78+dNbB0604CihLHd5ecm6vr6etUxxj4+PWeOI5KtXr5xyMq19KtbilbDAKxHcavAnKVO8X79+scaBMCLXGrDnend355TDgTe0K7QgIqKrqyvWtbW1rOXgF6aJaF3SCqN63Y/BWrwSFnglLPBKBPf4t2/fsp6amnJvBv4v0z/8f4B+LSdCEPRd6fHPnj2Led+VlRWnHHo5fic3N9cpJyfdn4q1eCUs8EoEtxpcS7Ozs+Ncw5FLOUqI6SWmkBkZGd57ob3I+d0XL17E/A6mtPJ5MQXFZ00E1uKVsMArEdxqkMbGRucz9khRE7kTIz6bIPIPVkmrwTlT7BVj1kXkWtnW1hZrXLGcCKzFK2GBV8ICr0QQj/ft9Oju7nbKDQwMsJbLoHHyA0cJ0Xdl/Zh2bm5uOuXwfwFOsktwsru4uJg1LkVMBNbilbDAKxHEanxrWmTqhrs25MQCpm84/yonJHDnCNqVnFjBQbjt7W3vs09OTrLu7+/3lovaOPcYrMUrYYFXIqE9V0lrayvrkZER59rNzQ1rHMiSmxlweQb+/OX4uW+5iFyKh5lMUVGR99lD2ItTX9DajLixwCthgVciuMdHpV24hG9+ft65hj1InJCQ4AQF/i9YW1tzysk53T8sLi46n+VOkmRhLV4JC7wSwa0mKu3CFbiy54oDY9iLlT1STBOj0k7c3YEWd3Bw4JQrLy+P+axyuYitFv5PsMArkdSsBn++cmMa9jwxw5FWgxsJcMOatC7s4eJ95aYyLazFK2GBV8ICr0RSRycx/ZM7PZCo/xOYNqJf4/8FWUfUUVa+Hm6isRavhAVeiaRazerqKmvcBEDk/uQxNZRL/dCuoo4ywRQS68CjUWS5ZGItXgkLvBJJHSTDVWGyHH7G8XiZdeBn/I4cJMPVY5jhyD1VcgXaH0IPikmsxSthgVfCAq9EUtNJTOVkbxJ9GHeEyHTPNxES5clRveS9vb2IJ04c1uKVsMArEcRqfK+nkPtc8cgSuY8Uvxe1vAPBZX9ykAznXHHCRKax6+vrcd0rNNbilbDAK2GBVyKIx/tSuZaWFudze3u7tw5MDTHtlKfhITjCGXVaX9QwBl4bHR1lHeKM+CisxSthgVcieM/1y5cvrOXriEpKSljLY1N8kxXyHHfs4WIv9uTkxCmHqSau2cHdIURu2vn161fWbW1tTrkoy3sM1uKVsMArkRLiJYv4FrPBwUHWsneKc6m4X5XIf+ibzFZkD/UP0grknK4PrB+XB0o+f/4cV33xYi1eCQu8EhZ4JYJ4PL7RElM8uYYFl9zhcVVEridjiid7xZgaYh3yXr4RTlkf3hePycK3pRER9fX1sX737l3Muv8Fa/FKWOCVCGI1+L7tT58+sZZnA+CEhDw1Dwer0A7kO7sRtBeZPmJ6GfUyRny1Bq6xka9LsnTyP8ECr0QQq0FwoAl7sURu1iBXAfuOOZFb73FTWWVlJWtpIXg8CmZCMttBe+ns7GSNg32JwFq8EhZ4JSzwSgT3+CjwNRH4Alsi96gsfC0E9hiJiJqamlgvLCywHh4edsp9+/aNNfaEe3t7nXIfPnyI69lDYy1eCQu8Er8BLiEo4FkBp3sAAAAASUVORK5CYII=\" y=\"-6.924138\"/>\r\n   </g>\r\n   <g id=\"matplotlib.axis_7\">\r\n    <g id=\"text_4\">\r\n     <!-- Dress -->\r\n     <defs>\r\n      <path d=\"M 19.671875 64.796875 \r\nL 19.671875 8.109375 \r\nL 31.59375 8.109375 \r\nQ 46.6875 8.109375 53.6875 14.9375 \r\nQ 60.6875 21.78125 60.6875 36.53125 \r\nQ 60.6875 51.171875 53.6875 57.984375 \r\nQ 46.6875 64.796875 31.59375 64.796875 \r\nz\r\nM 9.8125 72.90625 \r\nL 30.078125 72.90625 \r\nQ 51.265625 72.90625 61.171875 64.09375 \r\nQ 71.09375 55.28125 71.09375 36.53125 \r\nQ 71.09375 17.671875 61.125 8.828125 \r\nQ 51.171875 0 30.078125 0 \r\nL 9.8125 0 \r\nz\r\n\" id=\"DejaVuSans-68\"/>\r\n     </defs>\r\n     <g transform=\"translate(389.82799 112.522575)scale(0.1 -0.1)\">\r\n      <use xlink:href=\"#DejaVuSans-68\"/>\r\n      <use x=\"77.001953\" xlink:href=\"#DejaVuSans-114\"/>\r\n      <use x=\"115.865234\" xlink:href=\"#DejaVuSans-101\"/>\r\n      <use x=\"177.388672\" xlink:href=\"#DejaVuSans-115\"/>\r\n      <use x=\"229.488281\" xlink:href=\"#DejaVuSans-115\"/>\r\n     </g>\r\n    </g>\r\n   </g>\r\n   <g id=\"matplotlib.axis_8\"/>\r\n   <g id=\"patch_18\">\r\n    <path d=\"M 357.044828 100.924138 \r\nL 357.044828 7.2 \r\n\" style=\"fill:none;stroke:#000000;stroke-linecap:square;stroke-linejoin:miter;stroke-width:0.8;\"/>\r\n   </g>\r\n   <g id=\"patch_19\">\r\n    <path d=\"M 450.768966 100.924138 \r\nL 450.768966 7.2 \r\n\" style=\"fill:none;stroke:#000000;stroke-linecap:square;stroke-linejoin:miter;stroke-width:0.8;\"/>\r\n   </g>\r\n   <g id=\"patch_20\">\r\n    <path d=\"M 357.044828 100.924138 \r\nL 450.768966 100.924138 \r\n\" style=\"fill:none;stroke:#000000;stroke-linecap:square;stroke-linejoin:miter;stroke-width:0.8;\"/>\r\n   </g>\r\n   <g id=\"patch_21\">\r\n    <path d=\"M 357.044828 7.2 \r\nL 450.768966 7.2 \r\n\" style=\"fill:none;stroke:#000000;stroke-linecap:square;stroke-linejoin:miter;stroke-width:0.8;\"/>\r\n   </g>\r\n  </g>\r\n  <g id=\"axes_5\">\r\n   <g id=\"patch_22\">\r\n    <path d=\"M 472.493103 100.924138 \r\nL 566.217241 100.924138 \r\nL 566.217241 7.2 \r\nL 472.493103 7.2 \r\nz\r\n\" style=\"fill:#ffffff;\"/>\r\n   </g>\r\n   <g clip-path=\"url(#pe5469fd81d)\">\r\n    <image height=\"94\" id=\"image6f4d30e008\" transform=\"scale(1 -1)translate(0 -94)\" width=\"94\" x=\"472.493103\" xlink:href=\"data:image/png;base64,\r\niVBORw0KGgoAAAANSUhEUgAAAF4AAABeCAYAAACq0qNuAAAABHNCSVQICAgIfAhkiAAABRVJREFUeJztnblKJUEUhuu67wuKuAQKiiKiYCZmIiiIoSD4Doa+hShiaGRsoIGJiYkPIGJg4IKBqLjvu96J5sxfh67iOtNdx+GeL/r7dk113cPxn9pudSqdTqfND2BjY4P0zs4O6fX1davc7Ows6YaGBtJTU1NWubOzM9Lj4+OkR0ZG/r2xMZAj3YBsRQMvRCqk1Wxvb5Pu6emx7pWXl5MuLCwkfXFxYZVbWloiPTY2Rrq4uNgq9/LyEln3/f29VW5tbY300NCQ/wvEiGa8EBp4ITTwQuSFfBj6OvquMcbU1NSQzs/PJ809vq6uLrLu+vp66/rm5oZ0RUUF6dzcXKvc8PAw6cPDQ9LNzc2Rz4kLzXghNPBCJGo1CwsL1jX+yXOreX9/J52T486Hr6+vyM+5JaFdvb29kS4rK3PWNzc3R3pmZsbZhjjQjBdCAy9EolazurpqXb++vpJG2zHGmM/PT9IlJSXOOh8eHiI///j4cP4bHAnzcjjCxZF10mjGC6GBF0IDL0SiHt/a2mpdYxeSjzRvb29JY9eSl5uYmCBdXV1Nmv+fgdd5eX++Jp+MRY/v6uqK+BbJoBkvhAZeiEStZnR01LrG9dKmpibrHnYn0Q6Kioqsck9PT6TRQiorK53twLobGxute8fHx6S7u7uddcSNZrwQGnghNPBCJOrxvb29znt86O6akeSfo+cXFBSQ5t1E9HV8VkdHh1Vua2uLdGdnp7O9caMZL4QGXoig+2pwvRRHncYYk0qlSPsWRXCEi3Xwcmg1eA9nSI0x5vT0lDSu0+KMZhJoxguhgRci6PaOlpYW0nyNFP+0fe6H2zMydUm0mtLSUusejmSTtherTcGepFho4IXQwAsR1OP7+vpIr6ysWPfQe3EfDIdvwXOBvo6jXb5Nu7+/P6P64kYzXggNvBBBrWZwcJD08vKydQ+twbeFD0e4vu4k1oHl9vb2rHKLi4ueFieHZrwQGnghgloNzncfHR1Z93AXr89OsFeD5ThYDufj+XYR7dVkGRp4ITTwQgT1+Pb2dtK4XmqM7eU+j8d7Po93LazU1tZ+o8XJoRkvhAZeiKBWg/hswjXq/E4d2J3EHcFtbW2ZNjFRNOOF0MAL8SOtxlfOZUN8Yg13EmOvBtd9JdGMF0IDL4QGXoj/zuPRu9HX+VosnlGA2nXsSmg044XQwAshZjWZbr/zTZL5yrm6nY+Pj5k2MVE044XQwAshZjU4cfUdXBbFf1OF12hPd3d3f/XcuNGMF0IDL4QGXoigHo8/9OKgD+MJetzTXUdg8ZErjnDx3vX1dWaNTRjNeCE08EIEtZrz83PSvgUJ7GryBQ7cFoILHKiNsU/yw0ky348eQqIZL4QGXggNvBBBPf7k5IQ092R8xweeQ8A9eXd3lzSetMe35uGZB3h+ge/XJiH5Ga3IQjTwQgS1GvwVCB+B4ugSu4wHBwdWuc3NTdLT09Ok8TVFxri7q2hBkmjGC6GBFyKo1eDLE3nvwrUuyns1/I1pv+ELK65JN10IyXI08EJo4IUI6vH7+/uk0XeNsUer/KQ8F/imMn6oM9aHiyK+94+ERDNeCA28EEGt5urqijR/g9nl5SXp5+dn0vzsgcnJSdL4+iBeH66tVlVVRT5HEs14ITTwQgS1Ghyt8vlzvMaXM/rWZufn50njKyeMMWZgYIA0Whf/YQKOkvlhoEmiGS+EBl4IDbwQQc+PlwL9n7+OSArNeCE08EL8AoF1nZkR3PplAAAAAElFTkSuQmCC\" y=\"-6.924138\"/>\r\n   </g>\r\n   <g id=\"matplotlib.axis_9\">\r\n    <g id=\"text_5\">\r\n     <!-- T-shirt/top -->\r\n     <g transform=\"translate(493.89736 112.522575)scale(0.1 -0.1)\">\r\n      <use xlink:href=\"#DejaVuSans-84\"/>\r\n      <use x=\"51.958984\" xlink:href=\"#DejaVuSans-45\"/>\r\n      <use x=\"88.042969\" xlink:href=\"#DejaVuSans-115\"/>\r\n      <use x=\"140.142578\" xlink:href=\"#DejaVuSans-104\"/>\r\n      <use x=\"203.521484\" xlink:href=\"#DejaVuSans-105\"/>\r\n      <use x=\"231.304688\" xlink:href=\"#DejaVuSans-114\"/>\r\n      <use x=\"272.417969\" xlink:href=\"#DejaVuSans-116\"/>\r\n      <use x=\"311.626953\" xlink:href=\"#DejaVuSans-47\"/>\r\n      <use x=\"345.318359\" xlink:href=\"#DejaVuSans-116\"/>\r\n      <use x=\"384.527344\" xlink:href=\"#DejaVuSans-111\"/>\r\n      <use x=\"445.708984\" xlink:href=\"#DejaVuSans-112\"/>\r\n     </g>\r\n    </g>\r\n   </g>\r\n   <g id=\"matplotlib.axis_10\"/>\r\n   <g id=\"patch_23\">\r\n    <path d=\"M 472.493103 100.924138 \r\nL 472.493103 7.2 \r\n\" style=\"fill:none;stroke:#000000;stroke-linecap:square;stroke-linejoin:miter;stroke-width:0.8;\"/>\r\n   </g>\r\n   <g id=\"patch_24\">\r\n    <path d=\"M 566.217241 100.924138 \r\nL 566.217241 7.2 \r\n\" style=\"fill:none;stroke:#000000;stroke-linecap:square;stroke-linejoin:miter;stroke-width:0.8;\"/>\r\n   </g>\r\n   <g id=\"patch_25\">\r\n    <path d=\"M 472.493103 100.924138 \r\nL 566.217241 100.924138 \r\n\" style=\"fill:none;stroke:#000000;stroke-linecap:square;stroke-linejoin:miter;stroke-width:0.8;\"/>\r\n   </g>\r\n   <g id=\"patch_26\">\r\n    <path d=\"M 472.493103 7.2 \r\nL 566.217241 7.2 \r\n\" style=\"fill:none;stroke:#000000;stroke-linecap:square;stroke-linejoin:miter;stroke-width:0.8;\"/>\r\n   </g>\r\n  </g>\r\n  <g id=\"axes_6\">\r\n   <g id=\"patch_27\">\r\n    <path d=\"M 10.7 213.393103 \r\nL 104.424138 213.393103 \r\nL 104.424138 119.668966 \r\nL 10.7 119.668966 \r\nz\r\n\" style=\"fill:#ffffff;\"/>\r\n   </g>\r\n   <g clip-path=\"url(#pde3ef52ce8)\">\r\n    <image height=\"94\" id=\"image383caf16e7\" transform=\"scale(1 -1)translate(0 -94)\" width=\"94\" x=\"10.7\" xlink:href=\"data:image/png;base64,\r\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\" y=\"-119.393103\"/>\r\n   </g>\r\n   <g id=\"matplotlib.axis_11\">\r\n    <g id=\"text_6\">\r\n     <!-- Pullover -->\r\n     <defs>\r\n      <path d=\"M 19.671875 64.796875 \r\nL 19.671875 37.40625 \r\nL 32.078125 37.40625 \r\nQ 38.96875 37.40625 42.71875 40.96875 \r\nQ 46.484375 44.53125 46.484375 51.125 \r\nQ 46.484375 57.671875 42.71875 61.234375 \r\nQ 38.96875 64.796875 32.078125 64.796875 \r\nz\r\nM 9.8125 72.90625 \r\nL 32.078125 72.90625 \r\nQ 44.34375 72.90625 50.609375 67.359375 \r\nQ 56.890625 61.8125 56.890625 51.125 \r\nQ 56.890625 40.328125 50.609375 34.8125 \r\nQ 44.34375 29.296875 32.078125 29.296875 \r\nL 19.671875 29.296875 \r\nL 19.671875 0 \r\nL 9.8125 0 \r\nz\r\n\" id=\"DejaVuSans-80\"/>\r\n      <path d=\"M 8.5 21.578125 \r\nL 8.5 54.6875 \r\nL 17.484375 54.6875 \r\nL 17.484375 21.921875 \r\nQ 17.484375 14.15625 20.5 10.265625 \r\nQ 23.53125 6.390625 29.59375 6.390625 \r\nQ 36.859375 6.390625 41.078125 11.03125 \r\nQ 45.3125 15.671875 45.3125 23.6875 \r\nL 45.3125 54.6875 \r\nL 54.296875 54.6875 \r\nL 54.296875 0 \r\nL 45.3125 0 \r\nL 45.3125 8.40625 \r\nQ 42.046875 3.421875 37.71875 1 \r\nQ 33.40625 -1.421875 27.6875 -1.421875 \r\nQ 18.265625 -1.421875 13.375 4.4375 \r\nQ 8.5 10.296875 8.5 21.578125 \r\nz\r\nM 31.109375 56 \r\nz\r\n\" id=\"DejaVuSans-117\"/>\r\n      <path d=\"M 2.984375 54.6875 \r\nL 12.5 54.6875 \r\nL 29.59375 8.796875 \r\nL 46.6875 54.6875 \r\nL 56.203125 54.6875 \r\nL 35.6875 0 \r\nL 23.484375 0 \r\nz\r\n\" id=\"DejaVuSans-118\"/>\r\n     </defs>\r\n     <g transform=\"translate(37.537069 224.991541)scale(0.1 -0.1)\">\r\n      <use xlink:href=\"#DejaVuSans-80\"/>\r\n      <use x=\"58.552734\" xlink:href=\"#DejaVuSans-117\"/>\r\n      <use x=\"121.931641\" xlink:href=\"#DejaVuSans-108\"/>\r\n      <use x=\"149.714844\" xlink:href=\"#DejaVuSans-108\"/>\r\n      <use x=\"177.498047\" xlink:href=\"#DejaVuSans-111\"/>\r\n      <use x=\"238.679688\" xlink:href=\"#DejaVuSans-118\"/>\r\n      <use x=\"297.859375\" xlink:href=\"#DejaVuSans-101\"/>\r\n      <use x=\"359.382812\" xlink:href=\"#DejaVuSans-114\"/>\r\n     </g>\r\n    </g>\r\n   </g>\r\n   <g id=\"matplotlib.axis_12\"/>\r\n   <g id=\"patch_28\">\r\n    <path d=\"M 10.7 213.393103 \r\nL 10.7 119.668966 \r\n\" style=\"fill:none;stroke:#000000;stroke-linecap:square;stroke-linejoin:miter;stroke-width:0.8;\"/>\r\n   </g>\r\n   <g id=\"patch_29\">\r\n    <path d=\"M 104.424138 213.393103 \r\nL 104.424138 119.668966 \r\n\" style=\"fill:none;stroke:#000000;stroke-linecap:square;stroke-linejoin:miter;stroke-width:0.8;\"/>\r\n   </g>\r\n   <g id=\"patch_30\">\r\n    <path d=\"M 10.7 213.393103 \r\nL 104.424138 213.393103 \r\n\" style=\"fill:none;stroke:#000000;stroke-linecap:square;stroke-linejoin:miter;stroke-width:0.8;\"/>\r\n   </g>\r\n   <g id=\"patch_31\">\r\n    <path d=\"M 10.7 119.668966 \r\nL 104.424138 119.668966 \r\n\" style=\"fill:none;stroke:#000000;stroke-linecap:square;stroke-linejoin:miter;stroke-width:0.8;\"/>\r\n   </g>\r\n  </g>\r\n  <g id=\"axes_7\">\r\n   <g id=\"patch_32\">\r\n    <path d=\"M 126.148276 213.393103 \r\nL 219.872414 213.393103 \r\nL 219.872414 119.668966 \r\nL 126.148276 119.668966 \r\nz\r\n\" style=\"fill:#ffffff;\"/>\r\n   </g>\r\n   <g clip-path=\"url(#p5e73a98e14)\">\r\n    <image height=\"94\" id=\"image1a41754c10\" transform=\"scale(1 -1)translate(0 -94)\" width=\"94\" x=\"126.148276\" xlink:href=\"data:image/png;base64,\r\niVBORw0KGgoAAAANSUhEUgAAAF4AAABeCAYAAACq0qNuAAAABHNCSVQICAgIfAhkiAAABJJJREFUeJztnDlLbUkUhes6z4qK4IQiGJroPzA0MTXxT4iRsb/Ai5qLCCIqYqYYimAgBgaKggMoKOI8jy/qzaqN52A/7Lea7vVF696qU1V3UbXPrjpHM5+fn59B/HFy2AP4vyLjSch4EjKehIwnIeNJyHgSMp6EjCch40nIeBIynoSMJyHjSch4EjKehIwnIeNJyHgSMp6EjCch40nIeBJ5P9HI4+Oj6dfXV9Pv7+9RvYeHB9PPz89RGV6H+DY+Pj5M5+bmJo4Jr3t7ezOdlxf/5IqKCtP4ihFe48fn+8W+sKy0tDSq19DQYFoznoSMJ5HBV/ju7++jwpubG9Npb/rh8i0pKTH99PQU1cvPz09sA5drJpMxjaHFt4nXvLy8RPUwNOA1fkwYJm9vb7+83o/dhyEMoeXl5aZ9WGtpaTGtGU9CxpPIXF5eWgzxocDflf/CZyT7+/um9/b2TB8cHET1Tk5OTPslj6EMw0tOTjw3ampqTOOyxu9DCKGqqsp0ZWXll9+HEIdG1B4MZWlht7a21rT3D0OoZjwJGU9CxpPIw7iztbUVFa6urn5Zdnh4GNW7uLgwnbSLDSFOr3yaiKnh+fm5aR/jk1JI31dSHC4rK4s+YxwuKCgw7Xen6FNRUVFiX3gPwTQzhBCy2axpzXgSMp5EJpvN2jqZm5uLCjFs4HLCJRlCvMwxJfXLHXd8vgxTOVzmfpeISx5TUt8eprx+vAi2kZYy4ph8mMTfXFhYaBp3/iGE0Nvba1oznoSMJxEdkm1sbESFy8vLpnd2dkz7XSfuSPGgyS9xzCiur6+jMlza2L4PNRiS0kJX0vJHHUIcurAN/L2+zB8mNjY2mq6rqzPts5ru7m7TmvEkZDwJGU8i89P/y2BkZMT0+Ph4VHZ6emq6ubk5Kkt6gIDXeDA+ezCW43NVH+PxnoT3ltbW1qje/Px8Yl/Dw8OmR0dHTeODjxBCmJycNK0ZT0LGk0gNNUkPJ9Jeq0hjZWXF9OzsbFQ2NTVlurq62nRTU1NUD8MQpqQ+dSsuLjaNB2F3d3dRPUz/zs7OTGOK7Nvr6OiIyhYWFkxjuErrSzOehIwn8e2sJu05KB4upR1IpXF1dWV6aGjI9PT0dFQPw0Z9fX1iv3hwh7qzszOqt76+brq/v9/04OBgVA/DkB/TwMCA6e3tbdP4m0IIoaury7RmPAkZT0LGk/jxnWsa2FXarhPZ3d2NPs/MzJheW1szvbS0FNVra2szje+64A45hPjdn+PjY9P+9DSNiYmJL8e3uLiYeI1mPAkZT+JH/jDhu6SFl6Qw1N7eHtXDVBPBnW8IIWxubprG5e9fzcA0tKenJ3F8afT19Zk+Ojr61jWa8SRkPIk/mtX8Dv6Zq3/Z/+8yNjYWfcazdH8w9k+iGU9CxpOQ8SRoMT6tW0wn/d+54sko1vvde0Haqet3wdNP7DctfdaMJyHjSfzr08n/KprxJGQ8CRlPQsaTkPEkZDwJGU9CxpOQ8SRkPAkZT0LGk5DxJGQ8CRlPQsaTkPEkZDwJGU9CxpOQ8SRkPAkZT0LGk5DxJGQ8iV/pDtzQNxoBngAAAABJRU5ErkJggg==\" y=\"-119.393103\"/>\r\n   </g>\r\n   <g id=\"matplotlib.axis_13\">\r\n    <g id=\"text_7\">\r\n     <!-- Sneaker -->\r\n     <defs>\r\n      <path d=\"M 53.515625 70.515625 \r\nL 53.515625 60.890625 \r\nQ 47.90625 63.578125 42.921875 64.890625 \r\nQ 37.9375 66.21875 33.296875 66.21875 \r\nQ 25.25 66.21875 20.875 63.09375 \r\nQ 16.5 59.96875 16.5 54.203125 \r\nQ 16.5 49.359375 19.40625 46.890625 \r\nQ 22.3125 44.4375 30.421875 42.921875 \r\nL 36.375 41.703125 \r\nQ 47.40625 39.59375 52.65625 34.296875 \r\nQ 57.90625 29 57.90625 20.125 \r\nQ 57.90625 9.515625 50.796875 4.046875 \r\nQ 43.703125 -1.421875 29.984375 -1.421875 \r\nQ 24.8125 -1.421875 18.96875 -0.25 \r\nQ 13.140625 0.921875 6.890625 3.21875 \r\nL 6.890625 13.375 \r\nQ 12.890625 10.015625 18.65625 8.296875 \r\nQ 24.421875 6.59375 29.984375 6.59375 \r\nQ 38.421875 6.59375 43.015625 9.90625 \r\nQ 47.609375 13.234375 47.609375 19.390625 \r\nQ 47.609375 24.75 44.3125 27.78125 \r\nQ 41.015625 30.8125 33.5 32.328125 \r\nL 27.484375 33.5 \r\nQ 16.453125 35.6875 11.515625 40.375 \r\nQ 6.59375 45.0625 6.59375 53.421875 \r\nQ 6.59375 63.09375 13.40625 68.65625 \r\nQ 20.21875 74.21875 32.171875 74.21875 \r\nQ 37.3125 74.21875 42.625 73.28125 \r\nQ 47.953125 72.359375 53.515625 70.515625 \r\nz\r\n\" id=\"DejaVuSans-83\"/>\r\n      <path d=\"M 34.28125 27.484375 \r\nQ 23.390625 27.484375 19.1875 25 \r\nQ 14.984375 22.515625 14.984375 16.5 \r\nQ 14.984375 11.71875 18.140625 8.90625 \r\nQ 21.296875 6.109375 26.703125 6.109375 \r\nQ 34.1875 6.109375 38.703125 11.40625 \r\nQ 43.21875 16.703125 43.21875 25.484375 \r\nL 43.21875 27.484375 \r\nz\r\nM 52.203125 31.203125 \r\nL 52.203125 0 \r\nL 43.21875 0 \r\nL 43.21875 8.296875 \r\nQ 40.140625 3.328125 35.546875 0.953125 \r\nQ 30.953125 -1.421875 24.3125 -1.421875 \r\nQ 15.921875 -1.421875 10.953125 3.296875 \r\nQ 6 8.015625 6 15.921875 \r\nQ 6 25.140625 12.171875 29.828125 \r\nQ 18.359375 34.515625 30.609375 34.515625 \r\nL 43.21875 34.515625 \r\nL 43.21875 35.40625 \r\nQ 43.21875 41.609375 39.140625 45 \r\nQ 35.0625 48.390625 27.6875 48.390625 \r\nQ 23 48.390625 18.546875 47.265625 \r\nQ 14.109375 46.140625 10.015625 43.890625 \r\nL 10.015625 52.203125 \r\nQ 14.9375 54.109375 19.578125 55.046875 \r\nQ 24.21875 56 28.609375 56 \r\nQ 40.484375 56 46.34375 49.84375 \r\nQ 52.203125 43.703125 52.203125 31.203125 \r\nz\r\n\" id=\"DejaVuSans-97\"/>\r\n     </defs>\r\n     <g transform=\"translate(152.680657 224.991541)scale(0.1 -0.1)\">\r\n      <use xlink:href=\"#DejaVuSans-83\"/>\r\n      <use x=\"63.476562\" xlink:href=\"#DejaVuSans-110\"/>\r\n      <use x=\"126.855469\" xlink:href=\"#DejaVuSans-101\"/>\r\n      <use x=\"188.378906\" xlink:href=\"#DejaVuSans-97\"/>\r\n      <use x=\"249.658203\" xlink:href=\"#DejaVuSans-107\"/>\r\n      <use x=\"303.943359\" xlink:href=\"#DejaVuSans-101\"/>\r\n      <use x=\"365.466797\" xlink:href=\"#DejaVuSans-114\"/>\r\n     </g>\r\n    </g>\r\n   </g>\r\n   <g id=\"matplotlib.axis_14\"/>\r\n   <g id=\"patch_33\">\r\n    <path d=\"M 126.148276 213.393103 \r\nL 126.148276 119.668966 \r\n\" style=\"fill:none;stroke:#000000;stroke-linecap:square;stroke-linejoin:miter;stroke-width:0.8;\"/>\r\n   </g>\r\n   <g id=\"patch_34\">\r\n    <path d=\"M 219.872414 213.393103 \r\nL 219.872414 119.668966 \r\n\" style=\"fill:none;stroke:#000000;stroke-linecap:square;stroke-linejoin:miter;stroke-width:0.8;\"/>\r\n   </g>\r\n   <g id=\"patch_35\">\r\n    <path d=\"M 126.148276 213.393103 \r\nL 219.872414 213.393103 \r\n\" style=\"fill:none;stroke:#000000;stroke-linecap:square;stroke-linejoin:miter;stroke-width:0.8;\"/>\r\n   </g>\r\n   <g id=\"patch_36\">\r\n    <path d=\"M 126.148276 119.668966 \r\nL 219.872414 119.668966 \r\n\" style=\"fill:none;stroke:#000000;stroke-linecap:square;stroke-linejoin:miter;stroke-width:0.8;\"/>\r\n   </g>\r\n  </g>\r\n  <g id=\"axes_8\">\r\n   <g id=\"patch_37\">\r\n    <path d=\"M 241.596552 213.393103 \r\nL 335.32069 213.393103 \r\nL 335.32069 119.668966 \r\nL 241.596552 119.668966 \r\nz\r\n\" style=\"fill:#ffffff;\"/>\r\n   </g>\r\n   <g clip-path=\"url(#p4ae0f10282)\">\r\n    <image height=\"94\" id=\"imagebed6ea8cd9\" transform=\"scale(1 -1)translate(0 -94)\" width=\"94\" x=\"241.596552\" xlink:href=\"data:image/png;base64,\r\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\" y=\"-119.393103\"/>\r\n   </g>\r\n   <g id=\"matplotlib.axis_15\">\r\n    <g id=\"text_8\">\r\n     <!-- Pullover -->\r\n     <g transform=\"translate(268.433621 224.991541)scale(0.1 -0.1)\">\r\n      <use xlink:href=\"#DejaVuSans-80\"/>\r\n      <use x=\"58.552734\" xlink:href=\"#DejaVuSans-117\"/>\r\n      <use x=\"121.931641\" xlink:href=\"#DejaVuSans-108\"/>\r\n      <use x=\"149.714844\" xlink:href=\"#DejaVuSans-108\"/>\r\n      <use x=\"177.498047\" xlink:href=\"#DejaVuSans-111\"/>\r\n      <use x=\"238.679688\" xlink:href=\"#DejaVuSans-118\"/>\r\n      <use x=\"297.859375\" xlink:href=\"#DejaVuSans-101\"/>\r\n      <use x=\"359.382812\" xlink:href=\"#DejaVuSans-114\"/>\r\n     </g>\r\n    </g>\r\n   </g>\r\n   <g id=\"matplotlib.axis_16\"/>\r\n   <g id=\"patch_38\">\r\n    <path d=\"M 241.596552 213.393103 \r\nL 241.596552 119.668966 \r\n\" style=\"fill:none;stroke:#000000;stroke-linecap:square;stroke-linejoin:miter;stroke-width:0.8;\"/>\r\n   </g>\r\n   <g id=\"patch_39\">\r\n    <path d=\"M 335.32069 213.393103 \r\nL 335.32069 119.668966 \r\n\" style=\"fill:none;stroke:#000000;stroke-linecap:square;stroke-linejoin:miter;stroke-width:0.8;\"/>\r\n   </g>\r\n   <g id=\"patch_40\">\r\n    <path d=\"M 241.596552 213.393103 \r\nL 335.32069 213.393103 \r\n\" style=\"fill:none;stroke:#000000;stroke-linecap:square;stroke-linejoin:miter;stroke-width:0.8;\"/>\r\n   </g>\r\n   <g id=\"patch_41\">\r\n    <path d=\"M 241.596552 119.668966 \r\nL 335.32069 119.668966 \r\n\" style=\"fill:none;stroke:#000000;stroke-linecap:square;stroke-linejoin:miter;stroke-width:0.8;\"/>\r\n   </g>\r\n  </g>\r\n  <g id=\"axes_9\">\r\n   <g id=\"patch_42\">\r\n    <path d=\"M 357.044828 213.393103 \r\nL 450.768966 213.393103 \r\nL 450.768966 119.668966 \r\nL 357.044828 119.668966 \r\nz\r\n\" style=\"fill:#ffffff;\"/>\r\n   </g>\r\n   <g clip-path=\"url(#p080bde5065)\">\r\n    <image height=\"94\" id=\"image2cdaa17dbc\" transform=\"scale(1 -1)translate(0 -94)\" width=\"94\" x=\"357.044828\" xlink:href=\"data:image/png;base64,\r\niVBORw0KGgoAAAANSUhEUgAAAF4AAABeCAYAAACq0qNuAAAABHNCSVQICAgIfAhkiAAABe1JREFUeJztnUsopX8Yx39nHENuDSKXmIU7uW5cipksqGk27AjZTCOKhZSNUlYWTNlakESkLCiXzZhcauQuSTauKYVC45I5ZvPv+T/Prznv/3j/58xzjOez+r5+z3nf33l63uf87iyPj4+PSvjjvOKuwEtFHM+ElbsCfxstLS2g29ra7NpJxDMhjmdCHM+ExUxz8uzsjFwfHR2BPj8//+3flVIKP2p/f5+UbW9vg768vASdn59P7MrLy0FHRUU9pdouY29vD3RmZiboi4sLu5+RiGdCHM+EpaenB95//MoopdTp6Snoq6sr0J6ensQuMDAQtIeHB+jb21tih6/T0tJIWVBQEOiFhQXQm5ubxO7NmzegOzo6QMfGxhK7u7s70F5eXsqV4DQ5MjICGjctdSTimRDHM2H5+vUrpJrXr1+TQn9/f9A4Ffj6+hI7/Cp7e3uDLi0tJXZTU1Ogk5KSSNnExATo0NBQ0NPT08SurKwMdHp6OujJyUlip38XV7KysgK6vr4e9NzcnN3PSMQzIY5nQhzPhPX9+/dOvSHunerNSdzka2xsJGU4r2OKiorIdUNDA+jW1lbQzc3NxK6zs9OxCjsI/l4Wi4WUvXr1b/ziZqwREvFMiOOZsNhsNniH9FfIHvq4mqOfczYfPnwAvbW1RcrGx8dBp6am/u9nGaUa3LvGKVRvCmMk4pkQxzMhjmfCaiY/G30GjyweHh6SsoCAANDv3r0jZT4+Pk+uR3d3N+jq6mpSVltbC3p2dvbJ9/758ye5xk1GHZvNBjoxMdGh+0vEMyGOZ8LUuhqj5mRycjLo4OBgYndycgLaTGrRiYyMBJ2Xl0fK8CROSUkJ6NHRUYfurX9HnHqsVqtd2+joaIfuLxHPhDieCVPLO/4kZnvJnz59Ah0REQFaX1bS29trvnL/gHuuy8vLoPWWFkYinglxPBPieCacnuONbufsUUzcxMPreZRS6vj4GDSeMNEn2b9//w56aGjIVD3W19dB4966PomDJ+Al4pkQxzNhKtXoA0j6a+5K8LNx1e/v74kd7hnjJXZNTU3ELj4+HjROE8PDw8TOKE2ura2Bxr3z3NxcYoeXH0rEMyGOZ8Lte67ORl8RjVs8Dw8PoPXlJrj3GxcXR8pw+ktJSbH77ISEBNAS8UyI45kQxzPxInK8UQ8X097eDhpvolNKqZqaGtDfvn0jZXjCBy+J1H9P8PoeiXgmxPFMvIhUYwbcG1WKpig8r6wUXS6IV0hfX18Tu8rKStAS8UyI45lwaapxl1XFGH2AD2PU4unv7we9uLhIyvDAGF7dNjY2RuzwEhSJeCbE8UyI45lw6dFY7pDTlTLuuTr6E4ePilldXSVlHz9+BI3PfIiJiSF2P378AC0Rz4Q4nolndwofTht4swDeHKAUnYM1OtcAp0OjDWb4/Ia6ujpShjcj4OfqPVe8ylginglxPBPPLtXY610a9TqN9i85SkhICGi994vTEn6Wn58fsZNU4waI45kQxzPBluMdHbnEPUGlaK8RjxhWVFQQu4KCgifXyainHR4eDlo/GRAfUDo/Pw86Ozub2L19+xa0RDwT4ngm2FKN3tPEzTD8yt/c3BA7XFZYWAh6YGCA2OEt+/iEvuLiYlP1xUs48NEAStENZ4ODg6D1dIfvIRHPhDieCXE8E26/rgZPHihFj2UJCwsDrefdg4MD0F++fAGNzz9QSqmuri7Q+PwDfZk2btbqvyd4LQ0+afbz58/KHhLxTIjjmWBLNc5Yc4M3leHdHErR9IJHCfVVwFlZWaBxExT/XSmllpaWfqv1z+FJF/1Me4xEPBPieCaedaoxoq+vD3ROTg5o/WA43KrBG8zwNnml6H5YPQ1VVVWBzsjIcKh+EvFMiOOZEMcz4fY9V716eFTTlWcozMzMkGs8+bG7u0vKNjY2QOP66oc64/+lIhHPhDieiWedauxNnvzXPTBmmrF4oE4putNjZ2cHNG6C6s+SiGdCHM+E26eavxWJeCbE8UyI45kQxzMhjmdCHM/ELx21ElsQWfJrAAAAAElFTkSuQmCC\" y=\"-119.393103\"/>\r\n   </g>\r\n   <g id=\"matplotlib.axis_17\">\r\n    <g id=\"text_9\">\r\n     <!-- Sandal -->\r\n     <defs>\r\n      <path d=\"M 45.40625 46.390625 \r\nL 45.40625 75.984375 \r\nL 54.390625 75.984375 \r\nL 54.390625 0 \r\nL 45.40625 0 \r\nL 45.40625 8.203125 \r\nQ 42.578125 3.328125 38.25 0.953125 \r\nQ 33.9375 -1.421875 27.875 -1.421875 \r\nQ 17.96875 -1.421875 11.734375 6.484375 \r\nQ 5.515625 14.40625 5.515625 27.296875 \r\nQ 5.515625 40.1875 11.734375 48.09375 \r\nQ 17.96875 56 27.875 56 \r\nQ 33.9375 56 38.25 53.625 \r\nQ 42.578125 51.265625 45.40625 46.390625 \r\nz\r\nM 14.796875 27.296875 \r\nQ 14.796875 17.390625 18.875 11.75 \r\nQ 22.953125 6.109375 30.078125 6.109375 \r\nQ 37.203125 6.109375 41.296875 11.75 \r\nQ 45.40625 17.390625 45.40625 27.296875 \r\nQ 45.40625 37.203125 41.296875 42.84375 \r\nQ 37.203125 48.484375 30.078125 48.484375 \r\nQ 22.953125 48.484375 18.875 42.84375 \r\nQ 14.796875 37.203125 14.796875 27.296875 \r\nz\r\n\" id=\"DejaVuSans-100\"/>\r\n     </defs>\r\n     <g transform=\"translate(386.872522 224.991541)scale(0.1 -0.1)\">\r\n      <use xlink:href=\"#DejaVuSans-83\"/>\r\n      <use x=\"63.476562\" xlink:href=\"#DejaVuSans-97\"/>\r\n      <use x=\"124.755859\" xlink:href=\"#DejaVuSans-110\"/>\r\n      <use x=\"188.134766\" xlink:href=\"#DejaVuSans-100\"/>\r\n      <use x=\"251.611328\" xlink:href=\"#DejaVuSans-97\"/>\r\n      <use x=\"312.890625\" xlink:href=\"#DejaVuSans-108\"/>\r\n     </g>\r\n    </g>\r\n   </g>\r\n   <g id=\"matplotlib.axis_18\"/>\r\n   <g id=\"patch_43\">\r\n    <path d=\"M 357.044828 213.393103 \r\nL 357.044828 119.668966 \r\n\" style=\"fill:none;stroke:#000000;stroke-linecap:square;stroke-linejoin:miter;stroke-width:0.8;\"/>\r\n   </g>\r\n   <g id=\"patch_44\">\r\n    <path d=\"M 450.768966 213.393103 \r\nL 450.768966 119.668966 \r\n\" style=\"fill:none;stroke:#000000;stroke-linecap:square;stroke-linejoin:miter;stroke-width:0.8;\"/>\r\n   </g>\r\n   <g id=\"patch_45\">\r\n    <path d=\"M 357.044828 213.393103 \r\nL 450.768966 213.393103 \r\n\" style=\"fill:none;stroke:#000000;stroke-linecap:square;stroke-linejoin:miter;stroke-width:0.8;\"/>\r\n   </g>\r\n   <g id=\"patch_46\">\r\n    <path d=\"M 357.044828 119.668966 \r\nL 450.768966 119.668966 \r\n\" style=\"fill:none;stroke:#000000;stroke-linecap:square;stroke-linejoin:miter;stroke-width:0.8;\"/>\r\n   </g>\r\n  </g>\r\n  <g id=\"axes_10\">\r\n   <g id=\"patch_47\">\r\n    <path d=\"M 472.493103 213.393103 \r\nL 566.217241 213.393103 \r\nL 566.217241 119.668966 \r\nL 472.493103 119.668966 \r\nz\r\n\" style=\"fill:#ffffff;\"/>\r\n   </g>\r\n   <g clip-path=\"url(#pede4cf85d9)\">\r\n    <image height=\"94\" id=\"imageae69791470\" transform=\"scale(1 -1)translate(0 -94)\" width=\"94\" x=\"472.493103\" xlink:href=\"data:image/png;base64,\r\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\" y=\"-119.393103\"/>\r\n   </g>\r\n   <g id=\"matplotlib.axis_19\">\r\n    <g id=\"text_10\">\r\n     <!-- Sandal -->\r\n     <g transform=\"translate(502.320797 224.991541)scale(0.1 -0.1)\">\r\n      <use xlink:href=\"#DejaVuSans-83\"/>\r\n      <use x=\"63.476562\" xlink:href=\"#DejaVuSans-97\"/>\r\n      <use x=\"124.755859\" xlink:href=\"#DejaVuSans-110\"/>\r\n      <use x=\"188.134766\" xlink:href=\"#DejaVuSans-100\"/>\r\n      <use x=\"251.611328\" xlink:href=\"#DejaVuSans-97\"/>\r\n      <use x=\"312.890625\" xlink:href=\"#DejaVuSans-108\"/>\r\n     </g>\r\n    </g>\r\n   </g>\r\n   <g id=\"matplotlib.axis_20\"/>\r\n   <g id=\"patch_48\">\r\n    <path d=\"M 472.493103 213.393103 \r\nL 472.493103 119.668966 \r\n\" style=\"fill:none;stroke:#000000;stroke-linecap:square;stroke-linejoin:miter;stroke-width:0.8;\"/>\r\n   </g>\r\n   <g id=\"patch_49\">\r\n    <path d=\"M 566.217241 213.393103 \r\nL 566.217241 119.668966 \r\n\" style=\"fill:none;stroke:#000000;stroke-linecap:square;stroke-linejoin:miter;stroke-width:0.8;\"/>\r\n   </g>\r\n   <g id=\"patch_50\">\r\n    <path d=\"M 472.493103 213.393103 \r\nL 566.217241 213.393103 \r\n\" style=\"fill:none;stroke:#000000;stroke-linecap:square;stroke-linejoin:miter;stroke-width:0.8;\"/>\r\n   </g>\r\n   <g id=\"patch_51\">\r\n    <path d=\"M 472.493103 119.668966 \r\nL 566.217241 119.668966 \r\n\" style=\"fill:none;stroke:#000000;stroke-linecap:square;stroke-linejoin:miter;stroke-width:0.8;\"/>\r\n   </g>\r\n  </g>\r\n  <g id=\"axes_11\">\r\n   <g id=\"patch_52\">\r\n    <path d=\"M 10.7 325.862069 \r\nL 104.424138 325.862069 \r\nL 104.424138 232.137931 \r\nL 10.7 232.137931 \r\nz\r\n\" style=\"fill:#ffffff;\"/>\r\n   </g>\r\n   <g clip-path=\"url(#pd8360f89c1)\">\r\n    <image height=\"94\" id=\"imaged47f936887\" transform=\"scale(1 -1)translate(0 -94)\" width=\"94\" x=\"10.7\" xlink:href=\"data:image/png;base64,\r\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\" y=\"-231.862069\"/>\r\n   </g>\r\n   <g id=\"matplotlib.axis_21\">\r\n    <g id=\"text_11\">\r\n     <!-- T-shirt/top -->\r\n     <g transform=\"translate(32.104256 337.460506)scale(0.1 -0.1)\">\r\n      <use xlink:href=\"#DejaVuSans-84\"/>\r\n      <use x=\"51.958984\" xlink:href=\"#DejaVuSans-45\"/>\r\n      <use x=\"88.042969\" xlink:href=\"#DejaVuSans-115\"/>\r\n      <use x=\"140.142578\" xlink:href=\"#DejaVuSans-104\"/>\r\n      <use x=\"203.521484\" xlink:href=\"#DejaVuSans-105\"/>\r\n      <use x=\"231.304688\" xlink:href=\"#DejaVuSans-114\"/>\r\n      <use x=\"272.417969\" xlink:href=\"#DejaVuSans-116\"/>\r\n      <use x=\"311.626953\" xlink:href=\"#DejaVuSans-47\"/>\r\n      <use x=\"345.318359\" xlink:href=\"#DejaVuSans-116\"/>\r\n      <use x=\"384.527344\" xlink:href=\"#DejaVuSans-111\"/>\r\n      <use x=\"445.708984\" xlink:href=\"#DejaVuSans-112\"/>\r\n     </g>\r\n    </g>\r\n   </g>\r\n   <g id=\"matplotlib.axis_22\"/>\r\n   <g id=\"patch_53\">\r\n    <path d=\"M 10.7 325.862069 \r\nL 10.7 232.137931 \r\n\" style=\"fill:none;stroke:#000000;stroke-linecap:square;stroke-linejoin:miter;stroke-width:0.8;\"/>\r\n   </g>\r\n   <g id=\"patch_54\">\r\n    <path d=\"M 104.424138 325.862069 \r\nL 104.424138 232.137931 \r\n\" style=\"fill:none;stroke:#000000;stroke-linecap:square;stroke-linejoin:miter;stroke-width:0.8;\"/>\r\n   </g>\r\n   <g id=\"patch_55\">\r\n    <path d=\"M 10.7 325.862069 \r\nL 104.424138 325.862069 \r\n\" style=\"fill:none;stroke:#000000;stroke-linecap:square;stroke-linejoin:miter;stroke-width:0.8;\"/>\r\n   </g>\r\n   <g id=\"patch_56\">\r\n    <path d=\"M 10.7 232.137931 \r\nL 104.424138 232.137931 \r\n\" style=\"fill:none;stroke:#000000;stroke-linecap:square;stroke-linejoin:miter;stroke-width:0.8;\"/>\r\n   </g>\r\n  </g>\r\n  <g id=\"axes_12\">\r\n   <g id=\"patch_57\">\r\n    <path d=\"M 126.148276 325.862069 \r\nL 219.872414 325.862069 \r\nL 219.872414 232.137931 \r\nL 126.148276 232.137931 \r\nz\r\n\" style=\"fill:#ffffff;\"/>\r\n   </g>\r\n   <g clip-path=\"url(#pb4bb06648d)\">\r\n    <image height=\"94\" id=\"imageab859ff839\" transform=\"scale(1 -1)translate(0 -94)\" width=\"94\" x=\"126.148276\" xlink:href=\"data:image/png;base64,\r\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\" y=\"-231.862069\"/>\r\n   </g>\r\n   <g id=\"matplotlib.axis_23\">\r\n    <g id=\"text_12\">\r\n     <!-- Ankle boot -->\r\n     <g transform=\"translate(146.218157 337.460506)scale(0.1 -0.1)\">\r\n      <use xlink:href=\"#DejaVuSans-65\"/>\r\n      <use x=\"68.408203\" xlink:href=\"#DejaVuSans-110\"/>\r\n      <use x=\"131.787109\" xlink:href=\"#DejaVuSans-107\"/>\r\n      <use x=\"189.697266\" xlink:href=\"#DejaVuSans-108\"/>\r\n      <use x=\"217.480469\" xlink:href=\"#DejaVuSans-101\"/>\r\n      <use x=\"279.003906\" xlink:href=\"#DejaVuSans-32\"/>\r\n      <use x=\"310.791016\" xlink:href=\"#DejaVuSans-98\"/>\r\n      <use x=\"374.267578\" xlink:href=\"#DejaVuSans-111\"/>\r\n      <use x=\"435.449219\" xlink:href=\"#DejaVuSans-111\"/>\r\n      <use x=\"496.630859\" xlink:href=\"#DejaVuSans-116\"/>\r\n     </g>\r\n    </g>\r\n   </g>\r\n   <g id=\"matplotlib.axis_24\"/>\r\n   <g id=\"patch_58\">\r\n    <path d=\"M 126.148276 325.862069 \r\nL 126.148276 232.137931 \r\n\" style=\"fill:none;stroke:#000000;stroke-linecap:square;stroke-linejoin:miter;stroke-width:0.8;\"/>\r\n   </g>\r\n   <g id=\"patch_59\">\r\n    <path d=\"M 219.872414 325.862069 \r\nL 219.872414 232.137931 \r\n\" style=\"fill:none;stroke:#000000;stroke-linecap:square;stroke-linejoin:miter;stroke-width:0.8;\"/>\r\n   </g>\r\n   <g id=\"patch_60\">\r\n    <path d=\"M 126.148276 325.862069 \r\nL 219.872414 325.862069 \r\n\" style=\"fill:none;stroke:#000000;stroke-linecap:square;stroke-linejoin:miter;stroke-width:0.8;\"/>\r\n   </g>\r\n   <g id=\"patch_61\">\r\n    <path d=\"M 126.148276 232.137931 \r\nL 219.872414 232.137931 \r\n\" style=\"fill:none;stroke:#000000;stroke-linecap:square;stroke-linejoin:miter;stroke-width:0.8;\"/>\r\n   </g>\r\n  </g>\r\n  <g id=\"axes_13\">\r\n   <g id=\"patch_62\">\r\n    <path d=\"M 241.596552 325.862069 \r\nL 335.32069 325.862069 \r\nL 335.32069 232.137931 \r\nL 241.596552 232.137931 \r\nz\r\n\" style=\"fill:#ffffff;\"/>\r\n   </g>\r\n   <g clip-path=\"url(#p48f993e524)\">\r\n    <image height=\"94\" id=\"imagee52942aeb6\" transform=\"scale(1 -1)translate(0 -94)\" width=\"94\" x=\"241.596552\" xlink:href=\"data:image/png;base64,\r\niVBORw0KGgoAAAANSUhEUgAAAF4AAABeCAYAAACq0qNuAAAABHNCSVQICAgIfAhkiAAABetJREFUeJztnEtIlVsUx9fJo2maj6AotAxBBRXNwBA0n4ThzJkTEXzgzIFzGztplANFaFIzQRwE0qSJookSPlAExUeZ+X6bmqmN7vK/Nuec6xW9q+5dv9H/c+/zfd/5s8/61l57f3pOT09PyfjXuaZ9A/9XzHglzHglzHglzHglzHglzHglzHglzHglzHglzHglzHglzHglzHglzHglzHglzHglzHglzHglvIEaT05OWE9OTrJeXFwU/ZaXl1l//fqVdXh4uOh3cHBwdmGvvHRUVBTrnz9/so6JiRH98PjmzZusg4KCRL979+75/My1a+cba8fHx+IYv2NwcLBoOzw89Hkf+J2IiMLCws7u41x3YVw6ZrwSZrwSHtxX09HRIRpnZmZYh4SE+D3J1tYW6/T0dNYbGxuinxuHkZ2dHdYYG1dXV0U/jKf4GXweEREdHR351C6RkZGsMf5/+/ZN9Pvy5QvrGzduiLbr16+z9ng8rB89eiT6NTQ0nF3L7x0ZV4oZr4T3x48ffIAhg4goOTmZ9ebmJmtM44iI9vb2WGOYwM8QyZ+yGxowRbt16xZrDAVEMtTg+dw08e7du6zX19dZY5pJRDQxMcEaQ0Zqaqroh98L+xHJNPnBgwc+z00kv7ONeCXMeCW829vbfOD+/LFtd3eXtZvhYHaxtrbG2v35p6SksP78+bNoi4uLYz06OsranblimMPwtLKyIvphFhIdHc3aDacYuvb391nfvn1b9MNwOjs7K9pCQ0NZ48zd3YiNHtqIV8KMV8KMV8KLcS02NlY0JiUlscbUyE3xcEaKqVtiYqLoNzQ0xNpNST99+sT68ePHrDHdJZKpHFZM4+PjRb+5uTnyhZsK4kwTZ7j4PdzPuc+Jhw8fssbn5MLCguj3/ft31jbilTDjlfCMj49zzvP+/XvRiOkQ/oSwoE9EFBERwbqlpYU1hjEiooqKCtadnZ2irbu7m3VTUxNrt8CFqSzOrDEtJJKhZ2BggHVCQgL5A8+BM18iopGREdaZmZmibX5+njUu4rhFQQy9NuKVMOOV8BweHnI8wacukSwM4dM/EEVFRawLCgpE24sXL1hnZ2eLturqata1tbWscQZKRPTx40fW09PTrLFQRSRnkFlZWazddWAMLxieBgcHRT/Mwtzi3/3791ljSMYQRERUWlrK2ka8Ema8Ema8El5MzwKtqwaira2NNVYW3biLbe7MsqSkxOe5MX76Ov6L4eFhcVxXV8ca08mcnBzRD2fGWD3ESioR0Z07d1i7qSuC+4VwQce9lo14Jcx4Jbw4O3UL9/5SSPfvY2NjrHF25hbTpqamWJeVlYk2XKs8LzirdUMNhgpcuOjv7xf9sPi3tLTE+tmzZ6JfT08Pa1wgIpKzVQw17lY/m7n+BpjxSnhOTk44vgSanWIYCtQPdxK/efNGtHV1dbH+8OHDP7tTH1RVVfk8N5H8mWPByy26YZbT3Nzs91q4e9itx2M2hIVBtx4vdi37vZJxpZjxSpjxSngu8l/43P03533L4jLAdLC4uNjvPeDiDKaqbmWxtbWVdX5+/qXd599hI14JM16JC4WaQGAYctPO8y6mBCIvL481LpLk5ub6/QxuK+zr6xNtuHUwIyODdWVlpeiXlpbG2t1xjKCdOKMlkimujXglzHglAr7nehEumuHgzBC3RWANn0ju8MKXB9yCFK7N4k7iV69eiX6FhYWs3717x/rly5eiH85Inz59KtrKy8tZY0hy7wmxEa+EGa+EGa/EpaeTF0W8mAXPCdwfQ0RUX1/vs81d38T1XtS9vb3nuh+sOBIRvX79mrX77i3Gf5wxu88C3HNkI14JM16J3ybUXIT29nbWjY2Nou358+esa2pqWGO6dxW8ffuWNb7YQUT05MkT1jbilTDjlTDjlfijYzzivvSLW6QDVS61sBGvhBmvxH8m1Pxp2IhXwoxXwoxXwoxXwoxXwoxXwoxXwoxXwoxXwoxXwoxXwoxXwoxXwoxXwoxXwoxXwoxXwoxXwoxX4hcyQxbbgQjoBwAAAABJRU5ErkJggg==\" y=\"-231.862069\"/>\r\n   </g>\r\n   <g id=\"matplotlib.axis_25\">\r\n    <g id=\"text_13\">\r\n     <!-- Sandal -->\r\n     <g transform=\"translate(271.424246 337.460506)scale(0.1 -0.1)\">\r\n      <use xlink:href=\"#DejaVuSans-83\"/>\r\n      <use x=\"63.476562\" xlink:href=\"#DejaVuSans-97\"/>\r\n      <use x=\"124.755859\" xlink:href=\"#DejaVuSans-110\"/>\r\n      <use x=\"188.134766\" xlink:href=\"#DejaVuSans-100\"/>\r\n      <use x=\"251.611328\" xlink:href=\"#DejaVuSans-97\"/>\r\n      <use x=\"312.890625\" xlink:href=\"#DejaVuSans-108\"/>\r\n     </g>\r\n    </g>\r\n   </g>\r\n   <g id=\"matplotlib.axis_26\"/>\r\n   <g id=\"patch_63\">\r\n    <path d=\"M 241.596552 325.862069 \r\nL 241.596552 232.137931 \r\n\" style=\"fill:none;stroke:#000000;stroke-linecap:square;stroke-linejoin:miter;stroke-width:0.8;\"/>\r\n   </g>\r\n   <g id=\"patch_64\">\r\n    <path d=\"M 335.32069 325.862069 \r\nL 335.32069 232.137931 \r\n\" style=\"fill:none;stroke:#000000;stroke-linecap:square;stroke-linejoin:miter;stroke-width:0.8;\"/>\r\n   </g>\r\n   <g id=\"patch_65\">\r\n    <path d=\"M 241.596552 325.862069 \r\nL 335.32069 325.862069 \r\n\" style=\"fill:none;stroke:#000000;stroke-linecap:square;stroke-linejoin:miter;stroke-width:0.8;\"/>\r\n   </g>\r\n   <g id=\"patch_66\">\r\n    <path d=\"M 241.596552 232.137931 \r\nL 335.32069 232.137931 \r\n\" style=\"fill:none;stroke:#000000;stroke-linecap:square;stroke-linejoin:miter;stroke-width:0.8;\"/>\r\n   </g>\r\n  </g>\r\n  <g id=\"axes_14\">\r\n   <g id=\"patch_67\">\r\n    <path d=\"M 357.044828 325.862069 \r\nL 450.768966 325.862069 \r\nL 450.768966 232.137931 \r\nL 357.044828 232.137931 \r\nz\r\n\" style=\"fill:#ffffff;\"/>\r\n   </g>\r\n   <g clip-path=\"url(#p79d7a5ccae)\">\r\n    <image height=\"94\" id=\"image148fb544b2\" transform=\"scale(1 -1)translate(0 -94)\" width=\"94\" x=\"357.044828\" xlink:href=\"data:image/png;base64,\r\niVBORw0KGgoAAAANSUhEUgAAAF4AAABeCAYAAACq0qNuAAAABHNCSVQICAgIfAhkiAAABORJREFUeJztm7kvdm0QxufhsQQh9thFQawFIfEHCFEo9QqFRMQfQCQS0UvoaKgoJDoJhVBYGkIlIQpL7Pu+fdU37zUTj++JvPnmTd75Vdede5xzXO4zZ+bcR+Dz8/OTnP+dCOsL+Ftx441w441w441w441w441w441w441w441w441w441w441w441w441w441w441w441w441w441w441w441w441w441w441w441w440I/uSH3t/fxfjp6Yn1/f0967u7OxH38fHB+ubmRsxFR0ezfn19ZR0IBETc1dXVl8fLzs4WcbGxsazf3t5YPzw8hDwexkVFRYk4/F0iIyPFXGJiIuu4uDjWubm5Ii4lJYW1r3gj3Hgjgnirzc7OismDgwPWLy8vrDMyMkRcRMSvvx+mHZ1Ozs7OWD8/P4s5vJXxA+bt7W0RV1hYyBrTBqYJDR5Pfxy9ubnJOikp6UtNJFMepkJNWVkZa/SPiGh0dJS1r3gj3Hgj3HgjgltbWzxYWVkRk1lZWaxTU1NZHx8fi7jT01PWmON1OYljXSZi7sWSrKenR8RhLg8Gf1XDWMYSyecOxmHZSiRLQ/yZ6+trEXd7e8ta53gcYxl6cnIi4nDOV7wRbrwRgZ/881lvb68YX15efhmnUxJ2kwUFBWLu8PCQ9c7ODuuFhYWQ14Fp5+joSMxhqsCyTqckPC92v/n5+SIuOTmZdXx8vJjDFIKpTHfJmZmZrH3FG+HGG/Gjl2R1dXVinJ6ezhpvf/0yCTtZ7ISJ5K08MzMT1nVgtZKXlyfmcFxRURHyGNitNzU1famJZAedlpYm5rBCQy90SpqYmGDtK94IN94IN96IIG4m6G5Sj/9lf39fjJeWlliXl5ezxo6WiGh+fp71wMCAmFtcXGSNzwn9FjMmJoY1bshg16mvHStm/Ts1Njaybm9vZ41lJhFRcXExa+xiieSzC8tYLJ/1MX3FG+HGGxHUtygS6hbt6OgQcaurq6yxi52amhJxDQ0NrHXniucaGRlh3dbWJuIqKyv/8/o0380hXV1drIeHh8Ucdqf6JRmmECyT9b6tp5o/ADfeiG8711C3KFZCRLKTxTncHyUiKikpYV1fXy/mxsbGWGOH912awM71O77bV15fX2e9u7vLWnedzc3NrHWXjC8D8dr1CznEV7wRbrwRbrwRP3o7qfMu5nUs8TCna/r6+sS4u7ubdWdnJ2u99zk5Ockay7WLi4uQ14gbEjp34zdC+NzBzRg9rq6uFnO4wYH7xfhsIZKf9PmKN8KNN+K3pJpwy07skvVGA3ay2PHqF3IJCQmscfMEb3ci+YIKy87Hx0cRh5/qnZ+ff3mtRPLTlPHxcTHX2trKGktNfS5PNX8AbrwRP/q843egv+4N1YXOzc2JcVVVFWvc35yenhZxuEeAlcbGxoaIKyoqYl1bW8u6pqZGxJWWlrLe29sTc7jPsLa2xlp/Vd3f38/aV7wRbrwRbrwRZjlenzbczYqhoSHW2EHqfLq8vMwanwX4jCAiysnJCeu84TI4OMga95+JiFpaWlj7ijfCjTfCLNX87fiKN8KNN8KNN8KNN8KNN8KNN8KNN8KNN8KNN8KNN8KNN8KNN8KNN8KNN8KNN8KNN8KNN8KNN8KNN8KNN8KNN8KNN8KNN8KNN8KNN8KNN+IfACWoS77mvFsAAAAASUVORK5CYII=\" y=\"-231.862069\"/>\r\n   </g>\r\n   <g id=\"matplotlib.axis_27\">\r\n    <g id=\"text_14\">\r\n     <!-- Sandal -->\r\n     <g transform=\"translate(386.872522 337.460506)scale(0.1 -0.1)\">\r\n      <use xlink:href=\"#DejaVuSans-83\"/>\r\n      <use x=\"63.476562\" xlink:href=\"#DejaVuSans-97\"/>\r\n      <use x=\"124.755859\" xlink:href=\"#DejaVuSans-110\"/>\r\n      <use x=\"188.134766\" xlink:href=\"#DejaVuSans-100\"/>\r\n      <use x=\"251.611328\" xlink:href=\"#DejaVuSans-97\"/>\r\n      <use x=\"312.890625\" xlink:href=\"#DejaVuSans-108\"/>\r\n     </g>\r\n    </g>\r\n   </g>\r\n   <g id=\"matplotlib.axis_28\"/>\r\n   <g id=\"patch_68\">\r\n    <path d=\"M 357.044828 325.862069 \r\nL 357.044828 232.137931 \r\n\" style=\"fill:none;stroke:#000000;stroke-linecap:square;stroke-linejoin:miter;stroke-width:0.8;\"/>\r\n   </g>\r\n   <g id=\"patch_69\">\r\n    <path d=\"M 450.768966 325.862069 \r\nL 450.768966 232.137931 \r\n\" style=\"fill:none;stroke:#000000;stroke-linecap:square;stroke-linejoin:miter;stroke-width:0.8;\"/>\r\n   </g>\r\n   <g id=\"patch_70\">\r\n    <path d=\"M 357.044828 325.862069 \r\nL 450.768966 325.862069 \r\n\" style=\"fill:none;stroke:#000000;stroke-linecap:square;stroke-linejoin:miter;stroke-width:0.8;\"/>\r\n   </g>\r\n   <g id=\"patch_71\">\r\n    <path d=\"M 357.044828 232.137931 \r\nL 450.768966 232.137931 \r\n\" style=\"fill:none;stroke:#000000;stroke-linecap:square;stroke-linejoin:miter;stroke-width:0.8;\"/>\r\n   </g>\r\n  </g>\r\n  <g id=\"axes_15\">\r\n   <g id=\"patch_72\">\r\n    <path d=\"M 472.493103 325.862069 \r\nL 566.217241 325.862069 \r\nL 566.217241 232.137931 \r\nL 472.493103 232.137931 \r\nz\r\n\" style=\"fill:#ffffff;\"/>\r\n   </g>\r\n   <g clip-path=\"url(#p609ce07b25)\">\r\n    <image height=\"94\" id=\"imagef3a9929163\" transform=\"scale(1 -1)translate(0 -94)\" width=\"94\" x=\"472.493103\" xlink:href=\"data:image/png;base64,\r\niVBORw0KGgoAAAANSUhEUgAAAF4AAABeCAYAAACq0qNuAAAABHNCSVQICAgIfAhkiAAABAxJREFUeJztnMsuZFEUhteh3OJ+CQmJCDExkpgiMTCUeAYzhmIghp6BR2BgaGLAxEgikQghTBAhggrK/VrVI6vX2qnTqe5Qf7r7/0b/6bNr1/HZZ9U6uyuiTCaTEZJ3CtAX8L9C8SAoHgTFg6B4EBQPguJBUDwIigdB8SAoHgTFg6B4EBQPguJBUDwIigdB8SAoHgTFg6B4EBQPguJBUDwIigdB8SAoHgTFg6B4EAl7cHt7K3HHHx8fmgsLC/0kiURO4yxRFLnjl5cXzaWlpbFzpNPprPOFX3qO+xJ0+O92Ppvt9YiIvL+/x15T3Hyvr6/uXGNjo2aueBAUD4LiQUSpVEqLXlVV1be+2dvbm+aCAv87tzW1qKhIc1iTn5+fs84d1l07h83hZ0s+ubu708wVD4LiQUTJZFLv5eXlZXdyfX1d89HRUU4TVlZWan56enLnDg8PNdsWVMSXGvu6cA7brtoWL5VKuXH2dbas2bIj4sufLbXl5eVuXEVFheZflauSkhLN5+fn7tzs7OzPa4qdgXwrFA8isbS0pAeTk5Pu5MjIiOaBgQHNYfdTVlam2d6G9vYUEbm8vMz6GhGRq6urrHN0dna6cbaE2LITdj/39/eabRl7eHhw48Kny08eHx/dcTKZ1ByWK9tRXVxcaA7Lc09Pj2aueBAUD4LiQUT2bxmEO397e3uaj4+PNdt6LOJbOVsbbWsp4tu/cCe0paVF89ramub6+no3rq2tTfPCwkLsfKOjo5KNsMbbndCbmxvNYTtpPzPC+l9TU6O5urpas23HRUQmJiY0c8WDoHgQ7vEx3Ljq6urKmsOSZG9D23bZ8iTiS5TdMBIR2d3d1dzf3695c3PTjbNPg7Z1q62tdeNOTk4kG8XFxe54f39fs21JwzbTPpGGG3Knp6ea7SZe+OTa0NCgmSseBMWDiNLptN5f4dOffYL86n3ssAxNTU1ptqWstbXVjbMlpa6uTnPYQS0uLmq2XYftYkREmpubNdsOKnw6jevwRHwJmZub09zU1OTGbW1taeaKB0HxICgeRPQVf4Uvborf+Vyw/yGxs7Oj2dZqEZGzszPNdqcybE97e3s1X19fax4cHHTj+vr6cr7GTzY2Ntzx2NiY5u3tbc3Dw8Nu3Pz8vGaueBAUD+JLSk2u2Lf60/b04OBA8/T0tGa7eSYisrq6qnloaEjz+Pj4H71vrszMzGju7u5252z544oHQfEg8lpqvpPwx1hZWdHc3t6uuaOjI/Z1+fyWGVc8CIoHQfEg/pka/7fBFQ+C4kFQPAiKB0HxICgeBMWDoHgQFA+C4kFQPAiKB0HxICgeBMWDoHgQFA+C4kFQPAiKB0HxICgeBMWDoHgQFA+C4kFQPAiKB0HxIH4A06pnIrzqMGsAAAAASUVORK5CYII=\" y=\"-231.862069\"/>\r\n   </g>\r\n   <g id=\"matplotlib.axis_29\">\r\n    <g id=\"text_15\">\r\n     <!-- Sneaker -->\r\n     <g transform=\"translate(499.025485 337.460506)scale(0.1 -0.1)\">\r\n      <use xlink:href=\"#DejaVuSans-83\"/>\r\n      <use x=\"63.476562\" xlink:href=\"#DejaVuSans-110\"/>\r\n      <use x=\"126.855469\" xlink:href=\"#DejaVuSans-101\"/>\r\n      <use x=\"188.378906\" xlink:href=\"#DejaVuSans-97\"/>\r\n      <use x=\"249.658203\" xlink:href=\"#DejaVuSans-107\"/>\r\n      <use x=\"303.943359\" xlink:href=\"#DejaVuSans-101\"/>\r\n      <use x=\"365.466797\" xlink:href=\"#DejaVuSans-114\"/>\r\n     </g>\r\n    </g>\r\n   </g>\r\n   <g id=\"matplotlib.axis_30\"/>\r\n   <g id=\"patch_73\">\r\n    <path d=\"M 472.493103 325.862069 \r\nL 472.493103 232.137931 \r\n\" style=\"fill:none;stroke:#000000;stroke-linecap:square;stroke-linejoin:miter;stroke-width:0.8;\"/>\r\n   </g>\r\n   <g id=\"patch_74\">\r\n    <path d=\"M 566.217241 325.862069 \r\nL 566.217241 232.137931 \r\n\" style=\"fill:none;stroke:#000000;stroke-linecap:square;stroke-linejoin:miter;stroke-width:0.8;\"/>\r\n   </g>\r\n   <g id=\"patch_75\">\r\n    <path d=\"M 472.493103 325.862069 \r\nL 566.217241 325.862069 \r\n\" style=\"fill:none;stroke:#000000;stroke-linecap:square;stroke-linejoin:miter;stroke-width:0.8;\"/>\r\n   </g>\r\n   <g id=\"patch_76\">\r\n    <path d=\"M 472.493103 232.137931 \r\nL 566.217241 232.137931 \r\n\" style=\"fill:none;stroke:#000000;stroke-linecap:square;stroke-linejoin:miter;stroke-width:0.8;\"/>\r\n   </g>\r\n  </g>\r\n  <g id=\"axes_16\">\r\n   <g id=\"patch_77\">\r\n    <path d=\"M 10.7 438.331034 \r\nL 104.424138 438.331034 \r\nL 104.424138 344.606897 \r\nL 10.7 344.606897 \r\nz\r\n\" style=\"fill:#ffffff;\"/>\r\n   </g>\r\n   <g clip-path=\"url(#pe46442ab69)\">\r\n    <image height=\"94\" id=\"imagef9dd86120b\" transform=\"scale(1 -1)translate(0 -94)\" width=\"94\" x=\"10.7\" xlink:href=\"data:image/png;base64,\r\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\" y=\"-344.331034\"/>\r\n   </g>\r\n   <g id=\"matplotlib.axis_31\">\r\n    <g id=\"text_16\">\r\n     <!-- Ankle boot -->\r\n     <g transform=\"translate(30.769881 449.929472)scale(0.1 -0.1)\">\r\n      <use xlink:href=\"#DejaVuSans-65\"/>\r\n      <use x=\"68.408203\" xlink:href=\"#DejaVuSans-110\"/>\r\n      <use x=\"131.787109\" xlink:href=\"#DejaVuSans-107\"/>\r\n      <use x=\"189.697266\" xlink:href=\"#DejaVuSans-108\"/>\r\n      <use x=\"217.480469\" xlink:href=\"#DejaVuSans-101\"/>\r\n      <use x=\"279.003906\" xlink:href=\"#DejaVuSans-32\"/>\r\n      <use x=\"310.791016\" xlink:href=\"#DejaVuSans-98\"/>\r\n      <use x=\"374.267578\" xlink:href=\"#DejaVuSans-111\"/>\r\n      <use x=\"435.449219\" xlink:href=\"#DejaVuSans-111\"/>\r\n      <use x=\"496.630859\" xlink:href=\"#DejaVuSans-116\"/>\r\n     </g>\r\n    </g>\r\n   </g>\r\n   <g id=\"matplotlib.axis_32\"/>\r\n   <g id=\"patch_78\">\r\n    <path d=\"M 10.7 438.331034 \r\nL 10.7 344.606897 \r\n\" style=\"fill:none;stroke:#000000;stroke-linecap:square;stroke-linejoin:miter;stroke-width:0.8;\"/>\r\n   </g>\r\n   <g id=\"patch_79\">\r\n    <path d=\"M 104.424138 438.331034 \r\nL 104.424138 344.606897 \r\n\" style=\"fill:none;stroke:#000000;stroke-linecap:square;stroke-linejoin:miter;stroke-width:0.8;\"/>\r\n   </g>\r\n   <g id=\"patch_80\">\r\n    <path d=\"M 10.7 438.331034 \r\nL 104.424138 438.331034 \r\n\" style=\"fill:none;stroke:#000000;stroke-linecap:square;stroke-linejoin:miter;stroke-width:0.8;\"/>\r\n   </g>\r\n   <g id=\"patch_81\">\r\n    <path d=\"M 10.7 344.606897 \r\nL 104.424138 344.606897 \r\n\" style=\"fill:none;stroke:#000000;stroke-linecap:square;stroke-linejoin:miter;stroke-width:0.8;\"/>\r\n   </g>\r\n  </g>\r\n  <g id=\"axes_17\">\r\n   <g id=\"patch_82\">\r\n    <path d=\"M 126.148276 438.331034 \r\nL 219.872414 438.331034 \r\nL 219.872414 344.606897 \r\nL 126.148276 344.606897 \r\nz\r\n\" style=\"fill:#ffffff;\"/>\r\n   </g>\r\n   <g clip-path=\"url(#p0d6be7b667)\">\r\n    <image height=\"94\" id=\"image4b05e0bbe2\" transform=\"scale(1 -1)translate(0 -94)\" width=\"94\" x=\"126.148276\" xlink:href=\"data:image/png;base64,\r\niVBORw0KGgoAAAANSUhEUgAAAF4AAABeCAYAAACq0qNuAAAABHNCSVQICAgIfAhkiAAABR5JREFUeJztnclKZEEQRcN5nicEUVeifoTD2p1f4Fr8Oxd+hAsFUVAURQXneZ57ZfTNsDLbhvfeXVSc1S0qfVYF2deIjMzsiq+vry8piJWVFdVLS0vBe+/v76p3dnZUz83NBeOmp6dVf3x8qK6qqgrGPT8/q56fn1d9fX0djMPXs7OzqhcWFkp/iYyozPXpThQPPInqIn/Z2tqa6sXFxeC97u5u1Wg1Q0NDwTi0ms/PT9XWao6Pj1Vvb2+rrq+vD8adnZ2pXl9fT3+BDPEZT8IDT8IDT6JQj+/p6VHd29sbvIfeixrTQktlZXzevL29qa6rq1NdW1sbjKupqVHd3NwcfV7W+Iwn4YEnUajVIFdXV8Hr/v5+1Y+Pj6qfnp6iz0hZzcXFhWqsitFaRESwcE/ZWtb4jCfhgSdRqNXgP3PMOiwVFRWq0XZS4yxoGy8vL6oxwxERub29LfkzeeMznoQHnoQHngTN47GJIRJWlOjDtnHxW05PT1Vjymj7Pvh77WfKE5/xJDzwJAq1Glz8ur+/D97D1LChoUE1VqD/w97enmq0k1SLGSvcvPEZT8IDT8IDT4K2OmlTN1xpbGxsVG1XMV9fX1XbpgaCfxvwZ2xTHJ/hHl8GeOBJ0KzGNjHQXpqamlRjBSoSWk9fX1/0+bHKtb29PRiHlpdqrGSNz3gSHngSNKuxoL0gttlxeXmpOmU1h4eHqjs7O1XjFhMRkZubG9Wp5kzW+Iwn4YEn4YEnUajHY+qGK5AiIgMDA6pxm7bdB7O1taV6bGws+ruwch0dHVVtq9NUkyRPfMaT8MCToKWTNq17eHhQndrdi6c7UmCjBZ9nrQabM165lgEeeBK07R02qzk/Py85zm65Ozg4KPnsu7u74DVWodXVf7+m7QPga1y3zxuf8SQ88CQ88CQK9Xjsd9pVR/T1jo4O1dbTNzY2Sj47tdUPDyKj31u8ci0DPPAkCrUatBdbkWIFiac00CZEfqaN3ywvLwevsQpFe7F2gumqW00Z4IEnQVsks/+s0Q7wEJjNQux2j29i2Y6ISFdXl2qb/eC1KfaYf574jCfhgSfhgSdRqMejr9uGROz+gtbW1mAc9mMR7MWKhFeg4N8MvDLLYncS54nPeBIeeBK0ytVWpAi+Z7d3xG5Rsr3YwcFB1dh/tXcj4Gfyc65lgAeeBC2r+e3NS/YMFFoIYsfh4hdeNIpVrEi4OOdWUwZ44El44EnQ7jLALXuW1CWc2IPFvxl21REPmQ0PD0eft7m5qTp1bjZrfMaT8MCTKNRqcNuG3S4Xq1btOFzIGh8fj46LpZ02jcX+bltbW/SzZ43PeBIeeBIeeBKFejwe9LX7Y7DpjGmdTfFiV6rYbd+4TNDS0qLaNrSxSZK6uTVrfMaT8MCTKNRqcMXQ9lLxjgJcnbT7ZTAdxErY3oWADQ9MQfHkiYjIycmJ6snJyfQXyBCf8SQ88CRoW/hslYjbLnABzfZIMTPCjMdWrrGDZKmeK1bCeeMznoQHnoQHngTN4/F/sxQJmxrou7aaxIoXq1A7DtNLrGptI+To6Eg1rp7mjc94Eh54EjSrGRkZCV5jFYpVLGqRnxXvN/bkCFa/uEhmLQ5/bmJi4l8fOzN8xpPwwJOgWY1d1Nrd3VWNGYo9Uo87f3HBy2YkWBljP9fewoQLd7gNJG98xpPwwJPwwJOgefzU1FTwen9/XzVupZ6ZmQnGYfqHHm8rV9xXs7q6qtoeUC7S1xGf8SQ88CT+APvf0sqguTl2AAAAAElFTkSuQmCC\" y=\"-344.331034\"/>\r\n   </g>\r\n   <g id=\"matplotlib.axis_33\">\r\n    <g id=\"text_17\">\r\n     <!-- Trouser -->\r\n     <g transform=\"translate(154.786126 449.929472)scale(0.1 -0.1)\">\r\n      <use xlink:href=\"#DejaVuSans-84\"/>\r\n      <use x=\"46.333984\" xlink:href=\"#DejaVuSans-114\"/>\r\n      <use x=\"85.197266\" xlink:href=\"#DejaVuSans-111\"/>\r\n      <use x=\"146.378906\" xlink:href=\"#DejaVuSans-117\"/>\r\n      <use x=\"209.757812\" xlink:href=\"#DejaVuSans-115\"/>\r\n      <use x=\"261.857422\" xlink:href=\"#DejaVuSans-101\"/>\r\n      <use x=\"323.380859\" xlink:href=\"#DejaVuSans-114\"/>\r\n     </g>\r\n    </g>\r\n   </g>\r\n   <g id=\"matplotlib.axis_34\"/>\r\n   <g id=\"patch_83\">\r\n    <path d=\"M 126.148276 438.331034 \r\nL 126.148276 344.606897 \r\n\" style=\"fill:none;stroke:#000000;stroke-linecap:square;stroke-linejoin:miter;stroke-width:0.8;\"/>\r\n   </g>\r\n   <g id=\"patch_84\">\r\n    <path d=\"M 219.872414 438.331034 \r\nL 219.872414 344.606897 \r\n\" style=\"fill:none;stroke:#000000;stroke-linecap:square;stroke-linejoin:miter;stroke-width:0.8;\"/>\r\n   </g>\r\n   <g id=\"patch_85\">\r\n    <path d=\"M 126.148276 438.331034 \r\nL 219.872414 438.331034 \r\n\" style=\"fill:none;stroke:#000000;stroke-linecap:square;stroke-linejoin:miter;stroke-width:0.8;\"/>\r\n   </g>\r\n   <g id=\"patch_86\">\r\n    <path d=\"M 126.148276 344.606897 \r\nL 219.872414 344.606897 \r\n\" style=\"fill:none;stroke:#000000;stroke-linecap:square;stroke-linejoin:miter;stroke-width:0.8;\"/>\r\n   </g>\r\n  </g>\r\n  <g id=\"axes_18\">\r\n   <g id=\"patch_87\">\r\n    <path d=\"M 241.596552 438.331034 \r\nL 335.32069 438.331034 \r\nL 335.32069 344.606897 \r\nL 241.596552 344.606897 \r\nz\r\n\" style=\"fill:#ffffff;\"/>\r\n   </g>\r\n   <g clip-path=\"url(#pa6d4ab7030)\">\r\n    <image height=\"94\" id=\"image964f9370dd\" transform=\"scale(1 -1)translate(0 -94)\" width=\"94\" x=\"241.596552\" xlink:href=\"data:image/png;base64,\r\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\" y=\"-344.331034\"/>\r\n   </g>\r\n   <g id=\"matplotlib.axis_35\">\r\n    <g id=\"text_18\">\r\n     <!-- T-shirt/top -->\r\n     <g transform=\"translate(263.000808 449.929472)scale(0.1 -0.1)\">\r\n      <use xlink:href=\"#DejaVuSans-84\"/>\r\n      <use x=\"51.958984\" xlink:href=\"#DejaVuSans-45\"/>\r\n      <use x=\"88.042969\" xlink:href=\"#DejaVuSans-115\"/>\r\n      <use x=\"140.142578\" xlink:href=\"#DejaVuSans-104\"/>\r\n      <use x=\"203.521484\" xlink:href=\"#DejaVuSans-105\"/>\r\n      <use x=\"231.304688\" xlink:href=\"#DejaVuSans-114\"/>\r\n      <use x=\"272.417969\" xlink:href=\"#DejaVuSans-116\"/>\r\n      <use x=\"311.626953\" xlink:href=\"#DejaVuSans-47\"/>\r\n      <use x=\"345.318359\" xlink:href=\"#DejaVuSans-116\"/>\r\n      <use x=\"384.527344\" xlink:href=\"#DejaVuSans-111\"/>\r\n      <use x=\"445.708984\" xlink:href=\"#DejaVuSans-112\"/>\r\n     </g>\r\n    </g>\r\n   </g>\r\n   <g id=\"matplotlib.axis_36\"/>\r\n   <g id=\"patch_88\">\r\n    <path d=\"M 241.596552 438.331034 \r\nL 241.596552 344.606897 \r\n\" style=\"fill:none;stroke:#000000;stroke-linecap:square;stroke-linejoin:miter;stroke-width:0.8;\"/>\r\n   </g>\r\n   <g id=\"patch_89\">\r\n    <path d=\"M 335.32069 438.331034 \r\nL 335.32069 344.606897 \r\n\" style=\"fill:none;stroke:#000000;stroke-linecap:square;stroke-linejoin:miter;stroke-width:0.8;\"/>\r\n   </g>\r\n   <g id=\"patch_90\">\r\n    <path d=\"M 241.596552 438.331034 \r\nL 335.32069 438.331034 \r\n\" style=\"fill:none;stroke:#000000;stroke-linecap:square;stroke-linejoin:miter;stroke-width:0.8;\"/>\r\n   </g>\r\n   <g id=\"patch_91\">\r\n    <path d=\"M 241.596552 344.606897 \r\nL 335.32069 344.606897 \r\n\" style=\"fill:none;stroke:#000000;stroke-linecap:square;stroke-linejoin:miter;stroke-width:0.8;\"/>\r\n   </g>\r\n  </g>\r\n  <g id=\"axes_19\">\r\n   <g id=\"patch_92\">\r\n    <path d=\"M 357.044828 438.331034 \r\nL 450.768966 438.331034 \r\nL 450.768966 344.606897 \r\nL 357.044828 344.606897 \r\nz\r\n\" style=\"fill:#ffffff;\"/>\r\n   </g>\r\n   <g clip-path=\"url(#p99008a1e3e)\">\r\n    <image height=\"94\" id=\"image40b1b7e50c\" transform=\"scale(1 -1)translate(0 -94)\" width=\"94\" x=\"357.044828\" xlink:href=\"data:image/png;base64,\r\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\" y=\"-344.331034\"/>\r\n   </g>\r\n   <g id=\"matplotlib.axis_37\">\r\n    <g id=\"text_19\">\r\n     <!-- Shirt -->\r\n     <g transform=\"translate(392.15924 449.929472)scale(0.1 -0.1)\">\r\n      <use xlink:href=\"#DejaVuSans-83\"/>\r\n      <use x=\"63.476562\" xlink:href=\"#DejaVuSans-104\"/>\r\n      <use x=\"126.855469\" xlink:href=\"#DejaVuSans-105\"/>\r\n      <use x=\"154.638672\" xlink:href=\"#DejaVuSans-114\"/>\r\n      <use x=\"195.751953\" xlink:href=\"#DejaVuSans-116\"/>\r\n     </g>\r\n    </g>\r\n   </g>\r\n   <g id=\"matplotlib.axis_38\"/>\r\n   <g id=\"patch_93\">\r\n    <path d=\"M 357.044828 438.331034 \r\nL 357.044828 344.606897 \r\n\" style=\"fill:none;stroke:#000000;stroke-linecap:square;stroke-linejoin:miter;stroke-width:0.8;\"/>\r\n   </g>\r\n   <g id=\"patch_94\">\r\n    <path d=\"M 450.768966 438.331034 \r\nL 450.768966 344.606897 \r\n\" style=\"fill:none;stroke:#000000;stroke-linecap:square;stroke-linejoin:miter;stroke-width:0.8;\"/>\r\n   </g>\r\n   <g id=\"patch_95\">\r\n    <path d=\"M 357.044828 438.331034 \r\nL 450.768966 438.331034 \r\n\" style=\"fill:none;stroke:#000000;stroke-linecap:square;stroke-linejoin:miter;stroke-width:0.8;\"/>\r\n   </g>\r\n   <g id=\"patch_96\">\r\n    <path d=\"M 357.044828 344.606897 \r\nL 450.768966 344.606897 \r\n\" style=\"fill:none;stroke:#000000;stroke-linecap:square;stroke-linejoin:miter;stroke-width:0.8;\"/>\r\n   </g>\r\n  </g>\r\n  <g id=\"axes_20\">\r\n   <g id=\"patch_97\">\r\n    <path d=\"M 472.493103 438.331034 \r\nL 566.217241 438.331034 \r\nL 566.217241 344.606897 \r\nL 472.493103 344.606897 \r\nz\r\n\" style=\"fill:#ffffff;\"/>\r\n   </g>\r\n   <g clip-path=\"url(#p44d34a111f)\">\r\n    <image height=\"94\" id=\"image6014beb8e4\" transform=\"scale(1 -1)translate(0 -94)\" width=\"94\" x=\"472.493103\" xlink:href=\"data:image/png;base64,\r\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\" y=\"-344.331034\"/>\r\n   </g>\r\n   <g id=\"matplotlib.axis_39\">\r\n    <g id=\"text_20\">\r\n     <!-- Coat -->\r\n     <defs>\r\n      <path d=\"M 64.40625 67.28125 \r\nL 64.40625 56.890625 \r\nQ 59.421875 61.53125 53.78125 63.8125 \r\nQ 48.140625 66.109375 41.796875 66.109375 \r\nQ 29.296875 66.109375 22.65625 58.46875 \r\nQ 16.015625 50.828125 16.015625 36.375 \r\nQ 16.015625 21.96875 22.65625 14.328125 \r\nQ 29.296875 6.6875 41.796875 6.6875 \r\nQ 48.140625 6.6875 53.78125 8.984375 \r\nQ 59.421875 11.28125 64.40625 15.921875 \r\nL 64.40625 5.609375 \r\nQ 59.234375 2.09375 53.4375 0.328125 \r\nQ 47.65625 -1.421875 41.21875 -1.421875 \r\nQ 24.65625 -1.421875 15.125 8.703125 \r\nQ 5.609375 18.84375 5.609375 36.375 \r\nQ 5.609375 53.953125 15.125 64.078125 \r\nQ 24.65625 74.21875 41.21875 74.21875 \r\nQ 47.75 74.21875 53.53125 72.484375 \r\nQ 59.328125 70.75 64.40625 67.28125 \r\nz\r\n\" id=\"DejaVuSans-67\"/>\r\n     </defs>\r\n     <g transform=\"translate(507.780172 449.929472)scale(0.1 -0.1)\">\r\n      <use xlink:href=\"#DejaVuSans-67\"/>\r\n      <use x=\"69.824219\" xlink:href=\"#DejaVuSans-111\"/>\r\n      <use x=\"131.005859\" xlink:href=\"#DejaVuSans-97\"/>\r\n      <use x=\"192.285156\" xlink:href=\"#DejaVuSans-116\"/>\r\n     </g>\r\n    </g>\r\n   </g>\r\n   <g id=\"matplotlib.axis_40\"/>\r\n   <g id=\"patch_98\">\r\n    <path d=\"M 472.493103 438.331034 \r\nL 472.493103 344.606897 \r\n\" style=\"fill:none;stroke:#000000;stroke-linecap:square;stroke-linejoin:miter;stroke-width:0.8;\"/>\r\n   </g>\r\n   <g id=\"patch_99\">\r\n    <path d=\"M 566.217241 438.331034 \r\nL 566.217241 344.606897 \r\n\" style=\"fill:none;stroke:#000000;stroke-linecap:square;stroke-linejoin:miter;stroke-width:0.8;\"/>\r\n   </g>\r\n   <g id=\"patch_100\">\r\n    <path d=\"M 472.493103 438.331034 \r\nL 566.217241 438.331034 \r\n\" style=\"fill:none;stroke:#000000;stroke-linecap:square;stroke-linejoin:miter;stroke-width:0.8;\"/>\r\n   </g>\r\n   <g id=\"patch_101\">\r\n    <path d=\"M 472.493103 344.606897 \r\nL 566.217241 344.606897 \r\n\" style=\"fill:none;stroke:#000000;stroke-linecap:square;stroke-linejoin:miter;stroke-width:0.8;\"/>\r\n   </g>\r\n  </g>\r\n  <g id=\"axes_21\">\r\n   <g id=\"patch_102\">\r\n    <path d=\"M 10.7 550.8 \r\nL 104.424138 550.8 \r\nL 104.424138 457.075862 \r\nL 10.7 457.075862 \r\nz\r\n\" style=\"fill:#ffffff;\"/>\r\n   </g>\r\n   <g clip-path=\"url(#p20b366c1d8)\">\r\n    <image height=\"94\" id=\"imagee2afb1def9\" transform=\"scale(1 -1)translate(0 -94)\" width=\"94\" x=\"10.7\" xlink:href=\"data:image/png;base64,\r\niVBORw0KGgoAAAANSUhEUgAAAF4AAABeCAYAAACq0qNuAAAABHNCSVQICAgIfAhkiAAABXVJREFUeJztnbsubkEUx8f9fk0QFCpEI1ohQryARK9R6hTewQt4CI8gQaVBp0EhUbjE/X6/nOqs8591zJzNme2fyPpVa2fPN3t/K+v7WzOzZhS8v7+/OwJjY2Pe9ebmpti1tbViNzY2eu1KS0vFvr29FbukpMRrh1+rsLBQ7IuLC6/dw8OD2Ovr62IXFRV57d7e3j7s76v8fw/GlzDHkyhO3SH+xAsKCoLt9vb2vGuUjeLiP691c3Pjtbu6uhL78fFRbC012AdSUVHhXaPUYN8NDQ3Bd0+BRTwJczwJczwJmsafnp5611qjf1NdXe1dY1qHnykrK/PaocbHUsHn5+fgOyKps26LeBLmeBLJpSYrbW1t3vXR0ZHYLy8vYsfkCom1Q5l4fX317uGz7u7uxNbpZNb3yIpFPAlzPAma1OCo0zl/UgqzkKxoKcA+8J7OarDdycmJ2O3t7V47y2p+COZ4EuZ4Et+q8ajrmMY55+vwV/RUfyaU/sXSQpyd/MznvoJFPAlzPIlvlRqUFy0NmE6iJOmfeOgnrxc+8FnYdyztxEWRvLGIJ2GOJ2GOJ5HrQoimvLxc7Jh247A+xexkLFXFZ+mF8DyxiCdhjieRXGpiP3lM6/TP+vr6+s9LQWqopQGvQ7Uzsec+PT0F37e1tTVTfymwiCdhjidBWwjRJXx1dXVix0a4KA1oa9lBSYllNVgioiuT88QinoQ5noQ5nsS3ppNIVVVV8B6mf3rBJOuzUMtjo+nKykqx8e9M3ljEkzDHk6BJjR4lHhwciI2TabrGBmUIy/F0O3yP0Gec80v1Umwqy4pFPAlzPIlcR66xUWdLS4t3b39/X+zYpBZKSkxCQhXC+p2ybkxILUMW8STM8STM8SRoGj86Ourdi50jgGCqeXl5KbZeWMERL+ozbmT+6D2+C4t4EuZ4EgUpjk3Jurc1Rk9Pz4d94DEpzvkydHZ2JnZNTY3XDqUmts91ZWVFbBzF6pGwpZM/BHM8iSRZTWhN8zOyg1KB2YruA0eyuI3+/v7ea4f39NErSOh4lNQbETQW8STM8STM8SRyXQjJuiHMOee2trbE7ujoEFvPOmL9DN6LVR+HUlAmFvEkzPEkaJNkegEC00SUE50momzgqFZLEoKjTjwahYlFPAlzPIkkUhMarcbm3/SxKQhW8OrJKpQUlB09h4/tsL9YZRpiI9cfijmehDmeRPLZyVDdiwaPoXLOP9gztOvDufAe2NhCRWj91Tk/vcTK4byxiCdhjieRZM01K+Pj42IvLi569/r6+sTGPa9aGlA2cISrN5/hESho63bHx8diz8zMiD09PR34FmmwiCdhjidhjieRq8ZPTEx412tra2LX19d793BxOnaoM6Z/5+fnYjc3N3vtcJoAy/b0FESov5GREa/d/Py8S4lFPAlzPIkkUoM/36GhIbFxQ5lzzjU1NQX7wFEjzizqHSGHh4f/fAfn/j6f/je6Whg/h8/SCzCdnZ1iLy0tfdj3Z7CIJ2GOJ5FkkgxHl/39/WLr0SmiF0JQajCT0dKApX74XL3AgVKBfesNDNgOt/nr/8YzNTX1wbf4OhbxJMzxJMzxJJKPXDE9GxgYCLbDUmzn/FQTZxN1Ook6jJuUt7e3vXahE/r0f0jLmk5iiWEKLOJJmONJJC/hwxSvu7vbu7ewsCA2jgSdC9fIdHV1ee1wkWR4eFhsLSGYNm5sbIitJ92wDHB3d1fs2dlZlycW8STM8SRy3eeK89vO+Wuu+h7On+PoV1cBo5RhRhLbcIATa/jPHHV/uF1/dXU12F8KLOJJmONJmONJ0M4yWF5e9q53dnbEnpyc/N9XCjI3N+dd9/b2ij04OJjbczUW8STM8SR+Abn4IDHzGBxQAAAAAElFTkSuQmCC\" y=\"-456.8\"/>\r\n   </g>\r\n   <g id=\"matplotlib.axis_41\">\r\n    <g id=\"text_21\">\r\n     <!-- Dress -->\r\n     <g transform=\"translate(43.483163 562.398438)scale(0.1 -0.1)\">\r\n      <use xlink:href=\"#DejaVuSans-68\"/>\r\n      <use x=\"77.001953\" xlink:href=\"#DejaVuSans-114\"/>\r\n      <use x=\"115.865234\" xlink:href=\"#DejaVuSans-101\"/>\r\n      <use x=\"177.388672\" xlink:href=\"#DejaVuSans-115\"/>\r\n      <use x=\"229.488281\" xlink:href=\"#DejaVuSans-115\"/>\r\n     </g>\r\n    </g>\r\n   </g>\r\n   <g id=\"matplotlib.axis_42\"/>\r\n   <g id=\"patch_103\">\r\n    <path d=\"M 10.7 550.8 \r\nL 10.7 457.075862 \r\n\" style=\"fill:none;stroke:#000000;stroke-linecap:square;stroke-linejoin:miter;stroke-width:0.8;\"/>\r\n   </g>\r\n   <g id=\"patch_104\">\r\n    <path d=\"M 104.424138 550.8 \r\nL 104.424138 457.075862 \r\n\" style=\"fill:none;stroke:#000000;stroke-linecap:square;stroke-linejoin:miter;stroke-width:0.8;\"/>\r\n   </g>\r\n   <g id=\"patch_105\">\r\n    <path d=\"M 10.7 550.8 \r\nL 104.424138 550.8 \r\n\" style=\"fill:none;stroke:#000000;stroke-linecap:square;stroke-linejoin:miter;stroke-width:0.8;\"/>\r\n   </g>\r\n   <g id=\"patch_106\">\r\n    <path d=\"M 10.7 457.075862 \r\nL 104.424138 457.075862 \r\n\" style=\"fill:none;stroke:#000000;stroke-linecap:square;stroke-linejoin:miter;stroke-width:0.8;\"/>\r\n   </g>\r\n  </g>\r\n  <g id=\"axes_22\">\r\n   <g id=\"patch_107\">\r\n    <path d=\"M 126.148276 550.8 \r\nL 219.872414 550.8 \r\nL 219.872414 457.075862 \r\nL 126.148276 457.075862 \r\nz\r\n\" style=\"fill:#ffffff;\"/>\r\n   </g>\r\n   <g clip-path=\"url(#p3a3ee50bc9)\">\r\n    <image height=\"94\" id=\"image58d76b2d54\" transform=\"scale(1 -1)translate(0 -94)\" width=\"94\" x=\"126.148276\" xlink:href=\"data:image/png;base64,\r\niVBORw0KGgoAAAANSUhEUgAAAF4AAABeCAYAAACq0qNuAAAABHNCSVQICAgIfAhkiAAABMVJREFUeJztnbdOLEEQRXvxHoQTRrgcIUK+Bn6AkJCQTyKAkIAcIRIkBAgJK7z3+7LS7YId9u0b+j5p74lqmKZnVOq9W1VttlAsFoshEa+vr2Y3NDRU1Mfz87PZdXV139pZfHx8RNfv7+9mNzY2VvROlVCT7EkiQo4nUUgpNSlBSamtrSW+yfdoxJOQ40nI8STKi8FyYnl52eylpaXo3sDAgNm7u7tmz87ORu0WFha+7XttbS26XlxcNLuzs9Ps09PTqN38/LzZc3NzJd89bzTiScjxJJJKzfb2ttl7e3vRvZubG7NfXl7M3tjYKKvvzc3N6Prq6srst7c3s+/u7qJ2q6urZktqqgA5nkRSqZmYmDC7p6cnutfU1GR2V1eX2Ts7O2X1fXBwEF1jtop9t7e3R+3Gx8fL6j9vNOJJyPEk5HgSSTUe8eHk1NSU2c3NzWZvbW2V1d/h4WF0jRqPBVic+AghnlhJiUY8CTmeRFKpeXx8NLtQKET3WlpazMa5T59plprgOD4+jtrhvdbW1pL9eelJhUY8CTmehBxPIqnGY5XQr4PBimRfX5/ZXoMfHh7M7ujoMPv6+rrkc1Hv6+vro3ufn58/vfavoBFPQo4nQctc/VoXlB4MJ73U4Hzs9PS02ZeXl1G70dFRs2tq/r/x9f+9UZUgx5NIKjWYrfrootRq37a2tuh6f3/fbJSa29vbqB1OfuBzveywlvdpxJOQ40nI8SSSajyGib46ideou7j8LoS4unh2dma2/87A/nAixH+XYFU0JRrxJOR4EjSp8RtRMEPFTWpeGo6OjsxGqcHJjhDighxudMO/h/BVolKhEU9CjidBK5L5jzxKD9bIfeaKyzhweZ/fN4t9oAydn59H7crdH5s3GvEk5HgScjyJpAKHGamvEmKmifrszxfAnR4nJydme43H7xCfJSMKJ6sMOZ4ETWqyjijB0DJLQnBJiA8L8Vm47M9LS8qjUhCNeBJyPImkUlPuqUxZEQkW0DDCeXp6itr5jPdf3ylvNOJJyPEk5HgSSTUe17r4pXmYrWL458NEnHPFSRFPqYzUP1dzrlWGHE8iqdRgiIdhoSdLalAqsNDmJQP7wPDUb0TQEr4qQ44nQctc/UceJeT+/t5s3F4fQrykY3193ez+/v6oHW5UwGNY/HP9WcOp0IgnIceTkONJ0NbVeDCrxaNMvMbjxAX+j5/QwKpmVniq6mSVIceTSCo13d3dZvuJCyxqodRkZZalNh/4e/gs3JIfQgi9vb0/vfavoBFPQo4nIceToGm8n5DAiessXce1NBhq+tP0sHKJz8JlfyF83dyWCo14EnI8Cdqcq68mYnaJFUQ/d4rhILbz4Sme3oTPvbi4iNoNDQ2V9e55oxFPQo4nQSuS+eIUSg1uFvNzs/irNiMjIyX7QxnCg0Z9hjs2NvY3r50bGvEk5HgScjwJmsbjL52FEGeXGBr6gzxxwgNP5PNajZkrfk/MzMxU+Mb5ohFPQo4nQZOaycnJ6HplZcVsXAfjw7/BwUGzs5bm4al8uMKYdZawRyOehBxPgvab3T4jxTr58PCw2Vmvh9GPr8fjPSyM4ZxACMpcqw45noQcTyKpxqPu+qV5LDBjTnlMlkY8CTmexB/6ALWQymZztgAAAABJRU5ErkJggg==\" y=\"-456.8\"/>\r\n   </g>\r\n   <g id=\"matplotlib.axis_43\">\r\n    <g id=\"text_22\">\r\n     <!-- Trouser -->\r\n     <g transform=\"translate(154.786126 562.398438)scale(0.1 -0.1)\">\r\n      <use xlink:href=\"#DejaVuSans-84\"/>\r\n      <use x=\"46.333984\" xlink:href=\"#DejaVuSans-114\"/>\r\n      <use x=\"85.197266\" xlink:href=\"#DejaVuSans-111\"/>\r\n      <use x=\"146.378906\" xlink:href=\"#DejaVuSans-117\"/>\r\n      <use x=\"209.757812\" xlink:href=\"#DejaVuSans-115\"/>\r\n      <use x=\"261.857422\" xlink:href=\"#DejaVuSans-101\"/>\r\n      <use x=\"323.380859\" xlink:href=\"#DejaVuSans-114\"/>\r\n     </g>\r\n    </g>\r\n   </g>\r\n   <g id=\"matplotlib.axis_44\"/>\r\n   <g id=\"patch_108\">\r\n    <path d=\"M 126.148276 550.8 \r\nL 126.148276 457.075862 \r\n\" style=\"fill:none;stroke:#000000;stroke-linecap:square;stroke-linejoin:miter;stroke-width:0.8;\"/>\r\n   </g>\r\n   <g id=\"patch_109\">\r\n    <path d=\"M 219.872414 550.8 \r\nL 219.872414 457.075862 \r\n\" style=\"fill:none;stroke:#000000;stroke-linecap:square;stroke-linejoin:miter;stroke-width:0.8;\"/>\r\n   </g>\r\n   <g id=\"patch_110\">\r\n    <path d=\"M 126.148276 550.8 \r\nL 219.872414 550.8 \r\n\" style=\"fill:none;stroke:#000000;stroke-linecap:square;stroke-linejoin:miter;stroke-width:0.8;\"/>\r\n   </g>\r\n   <g id=\"patch_111\">\r\n    <path d=\"M 126.148276 457.075862 \r\nL 219.872414 457.075862 \r\n\" style=\"fill:none;stroke:#000000;stroke-linecap:square;stroke-linejoin:miter;stroke-width:0.8;\"/>\r\n   </g>\r\n  </g>\r\n  <g id=\"axes_23\">\r\n   <g id=\"patch_112\">\r\n    <path d=\"M 241.596552 550.8 \r\nL 335.32069 550.8 \r\nL 335.32069 457.075862 \r\nL 241.596552 457.075862 \r\nz\r\n\" style=\"fill:#ffffff;\"/>\r\n   </g>\r\n   <g clip-path=\"url(#p0d9bd99e90)\">\r\n    <image height=\"94\" id=\"image269d5a9af9\" transform=\"scale(1 -1)translate(0 -94)\" width=\"94\" x=\"241.596552\" xlink:href=\"data:image/png;base64,\r\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\" y=\"-456.8\"/>\r\n   </g>\r\n   <g id=\"matplotlib.axis_45\">\r\n    <g id=\"text_23\">\r\n     <!-- Coat -->\r\n     <g transform=\"translate(276.883621 562.398438)scale(0.1 -0.1)\">\r\n      <use xlink:href=\"#DejaVuSans-67\"/>\r\n      <use x=\"69.824219\" xlink:href=\"#DejaVuSans-111\"/>\r\n      <use x=\"131.005859\" xlink:href=\"#DejaVuSans-97\"/>\r\n      <use x=\"192.285156\" xlink:href=\"#DejaVuSans-116\"/>\r\n     </g>\r\n    </g>\r\n   </g>\r\n   <g id=\"matplotlib.axis_46\"/>\r\n   <g id=\"patch_113\">\r\n    <path d=\"M 241.596552 550.8 \r\nL 241.596552 457.075862 \r\n\" style=\"fill:none;stroke:#000000;stroke-linecap:square;stroke-linejoin:miter;stroke-width:0.8;\"/>\r\n   </g>\r\n   <g id=\"patch_114\">\r\n    <path d=\"M 335.32069 550.8 \r\nL 335.32069 457.075862 \r\n\" style=\"fill:none;stroke:#000000;stroke-linecap:square;stroke-linejoin:miter;stroke-width:0.8;\"/>\r\n   </g>\r\n   <g id=\"patch_115\">\r\n    <path d=\"M 241.596552 550.8 \r\nL 335.32069 550.8 \r\n\" style=\"fill:none;stroke:#000000;stroke-linecap:square;stroke-linejoin:miter;stroke-width:0.8;\"/>\r\n   </g>\r\n   <g id=\"patch_116\">\r\n    <path d=\"M 241.596552 457.075862 \r\nL 335.32069 457.075862 \r\n\" style=\"fill:none;stroke:#000000;stroke-linecap:square;stroke-linejoin:miter;stroke-width:0.8;\"/>\r\n   </g>\r\n  </g>\r\n  <g id=\"axes_24\">\r\n   <g id=\"patch_117\">\r\n    <path d=\"M 357.044828 550.8 \r\nL 450.768966 550.8 \r\nL 450.768966 457.075862 \r\nL 357.044828 457.075862 \r\nz\r\n\" style=\"fill:#ffffff;\"/>\r\n   </g>\r\n   <g clip-path=\"url(#p6c41f2a36e)\">\r\n    <image height=\"94\" id=\"imagecf6b9abb84\" transform=\"scale(1 -1)translate(0 -94)\" width=\"94\" x=\"357.044828\" xlink:href=\"data:image/png;base64,\r\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\" y=\"-456.8\"/>\r\n   </g>\r\n   <g id=\"matplotlib.axis_47\">\r\n    <g id=\"text_24\">\r\n     <!-- Bag -->\r\n     <defs>\r\n      <path d=\"M 19.671875 34.8125 \r\nL 19.671875 8.109375 \r\nL 35.5 8.109375 \r\nQ 43.453125 8.109375 47.28125 11.40625 \r\nQ 51.125 14.703125 51.125 21.484375 \r\nQ 51.125 28.328125 47.28125 31.5625 \r\nQ 43.453125 34.8125 35.5 34.8125 \r\nz\r\nM 19.671875 64.796875 \r\nL 19.671875 42.828125 \r\nL 34.28125 42.828125 \r\nQ 41.5 42.828125 45.03125 45.53125 \r\nQ 48.578125 48.25 48.578125 53.8125 \r\nQ 48.578125 59.328125 45.03125 62.0625 \r\nQ 41.5 64.796875 34.28125 64.796875 \r\nz\r\nM 9.8125 72.90625 \r\nL 35.015625 72.90625 \r\nQ 46.296875 72.90625 52.390625 68.21875 \r\nQ 58.5 63.53125 58.5 54.890625 \r\nQ 58.5 48.1875 55.375 44.234375 \r\nQ 52.25 40.28125 46.1875 39.3125 \r\nQ 53.46875 37.75 57.5 32.78125 \r\nQ 61.53125 27.828125 61.53125 20.40625 \r\nQ 61.53125 10.640625 54.890625 5.3125 \r\nQ 48.25 0 35.984375 0 \r\nL 9.8125 0 \r\nz\r\n\" id=\"DejaVuSans-66\"/>\r\n      <path d=\"M 45.40625 27.984375 \r\nQ 45.40625 37.75 41.375 43.109375 \r\nQ 37.359375 48.484375 30.078125 48.484375 \r\nQ 22.859375 48.484375 18.828125 43.109375 \r\nQ 14.796875 37.75 14.796875 27.984375 \r\nQ 14.796875 18.265625 18.828125 12.890625 \r\nQ 22.859375 7.515625 30.078125 7.515625 \r\nQ 37.359375 7.515625 41.375 12.890625 \r\nQ 45.40625 18.265625 45.40625 27.984375 \r\nz\r\nM 54.390625 6.78125 \r\nQ 54.390625 -7.171875 48.1875 -13.984375 \r\nQ 42 -20.796875 29.203125 -20.796875 \r\nQ 24.46875 -20.796875 20.265625 -20.09375 \r\nQ 16.0625 -19.390625 12.109375 -17.921875 \r\nL 12.109375 -9.1875 \r\nQ 16.0625 -11.328125 19.921875 -12.34375 \r\nQ 23.78125 -13.375 27.78125 -13.375 \r\nQ 36.625 -13.375 41.015625 -8.765625 \r\nQ 45.40625 -4.15625 45.40625 5.171875 \r\nL 45.40625 9.625 \r\nQ 42.625 4.78125 38.28125 2.390625 \r\nQ 33.9375 0 27.875 0 \r\nQ 17.828125 0 11.671875 7.65625 \r\nQ 5.515625 15.328125 5.515625 27.984375 \r\nQ 5.515625 40.671875 11.671875 48.328125 \r\nQ 17.828125 56 27.875 56 \r\nQ 33.9375 56 38.28125 53.609375 \r\nQ 42.625 51.21875 45.40625 46.390625 \r\nL 45.40625 54.6875 \r\nL 54.390625 54.6875 \r\nz\r\n\" id=\"DejaVuSans-103\"/>\r\n     </defs>\r\n     <g transform=\"translate(394.238147 562.398438)scale(0.1 -0.1)\">\r\n      <use xlink:href=\"#DejaVuSans-66\"/>\r\n      <use x=\"68.603516\" xlink:href=\"#DejaVuSans-97\"/>\r\n      <use x=\"129.882812\" xlink:href=\"#DejaVuSans-103\"/>\r\n     </g>\r\n    </g>\r\n   </g>\r\n   <g id=\"matplotlib.axis_48\"/>\r\n   <g id=\"patch_118\">\r\n    <path d=\"M 357.044828 550.8 \r\nL 357.044828 457.075862 \r\n\" style=\"fill:none;stroke:#000000;stroke-linecap:square;stroke-linejoin:miter;stroke-width:0.8;\"/>\r\n   </g>\r\n   <g id=\"patch_119\">\r\n    <path d=\"M 450.768966 550.8 \r\nL 450.768966 457.075862 \r\n\" style=\"fill:none;stroke:#000000;stroke-linecap:square;stroke-linejoin:miter;stroke-width:0.8;\"/>\r\n   </g>\r\n   <g id=\"patch_120\">\r\n    <path d=\"M 357.044828 550.8 \r\nL 450.768966 550.8 \r\n\" style=\"fill:none;stroke:#000000;stroke-linecap:square;stroke-linejoin:miter;stroke-width:0.8;\"/>\r\n   </g>\r\n   <g id=\"patch_121\">\r\n    <path d=\"M 357.044828 457.075862 \r\nL 450.768966 457.075862 \r\n\" style=\"fill:none;stroke:#000000;stroke-linecap:square;stroke-linejoin:miter;stroke-width:0.8;\"/>\r\n   </g>\r\n  </g>\r\n  <g id=\"axes_25\">\r\n   <g id=\"patch_122\">\r\n    <path d=\"M 472.493103 550.8 \r\nL 566.217241 550.8 \r\nL 566.217241 457.075862 \r\nL 472.493103 457.075862 \r\nz\r\n\" style=\"fill:#ffffff;\"/>\r\n   </g>\r\n   <g clip-path=\"url(#p1365985b65)\">\r\n    <image height=\"94\" id=\"imagedbfec23016\" transform=\"scale(1 -1)translate(0 -94)\" width=\"94\" x=\"472.493103\" xlink:href=\"data:image/png;base64,\r\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\" y=\"-456.8\"/>\r\n   </g>\r\n   <g id=\"matplotlib.axis_49\">\r\n    <g id=\"text_25\">\r\n     <!-- Coat -->\r\n     <g transform=\"translate(507.780172 562.398438)scale(0.1 -0.1)\">\r\n      <use xlink:href=\"#DejaVuSans-67\"/>\r\n      <use x=\"69.824219\" xlink:href=\"#DejaVuSans-111\"/>\r\n      <use x=\"131.005859\" xlink:href=\"#DejaVuSans-97\"/>\r\n      <use x=\"192.285156\" xlink:href=\"#DejaVuSans-116\"/>\r\n     </g>\r\n    </g>\r\n   </g>\r\n   <g id=\"matplotlib.axis_50\"/>\r\n   <g id=\"patch_123\">\r\n    <path d=\"M 472.493103 550.8 \r\nL 472.493103 457.075862 \r\n\" style=\"fill:none;stroke:#000000;stroke-linecap:square;stroke-linejoin:miter;stroke-width:0.8;\"/>\r\n   </g>\r\n   <g id=\"patch_124\">\r\n    <path d=\"M 566.217241 550.8 \r\nL 566.217241 457.075862 \r\n\" style=\"fill:none;stroke:#000000;stroke-linecap:square;stroke-linejoin:miter;stroke-width:0.8;\"/>\r\n   </g>\r\n   <g id=\"patch_125\">\r\n    <path d=\"M 472.493103 550.8 \r\nL 566.217241 550.8 \r\n\" style=\"fill:none;stroke:#000000;stroke-linecap:square;stroke-linejoin:miter;stroke-width:0.8;\"/>\r\n   </g>\r\n   <g id=\"patch_126\">\r\n    <path d=\"M 472.493103 457.075862 \r\nL 566.217241 457.075862 \r\n\" style=\"fill:none;stroke:#000000;stroke-linecap:square;stroke-linejoin:miter;stroke-width:0.8;\"/>\r\n   </g>\r\n  </g>\r\n </g>\r\n <defs>\r\n  <clipPath id=\"p1206de99ec\">\r\n   <rect height=\"93.724138\" width=\"93.724138\" x=\"10.7\" y=\"7.2\"/>\r\n  </clipPath>\r\n  <clipPath id=\"p22df761b1f\">\r\n   <rect height=\"93.724138\" width=\"93.724138\" x=\"126.148276\" y=\"7.2\"/>\r\n  </clipPath>\r\n  <clipPath id=\"pc474fd0f40\">\r\n   <rect height=\"93.724138\" width=\"93.724138\" x=\"241.596552\" y=\"7.2\"/>\r\n  </clipPath>\r\n  <clipPath id=\"peea2537226\">\r\n   <rect height=\"93.724138\" width=\"93.724138\" x=\"357.044828\" y=\"7.2\"/>\r\n  </clipPath>\r\n  <clipPath id=\"pe5469fd81d\">\r\n   <rect height=\"93.724138\" width=\"93.724138\" x=\"472.493103\" y=\"7.2\"/>\r\n  </clipPath>\r\n  <clipPath id=\"pde3ef52ce8\">\r\n   <rect height=\"93.724138\" width=\"93.724138\" x=\"10.7\" y=\"119.668966\"/>\r\n  </clipPath>\r\n  <clipPath id=\"p5e73a98e14\">\r\n   <rect height=\"93.724138\" width=\"93.724138\" x=\"126.148276\" y=\"119.668966\"/>\r\n  </clipPath>\r\n  <clipPath id=\"p4ae0f10282\">\r\n   <rect height=\"93.724138\" width=\"93.724138\" x=\"241.596552\" y=\"119.668966\"/>\r\n  </clipPath>\r\n  <clipPath id=\"p080bde5065\">\r\n   <rect height=\"93.724138\" width=\"93.724138\" x=\"357.044828\" y=\"119.668966\"/>\r\n  </clipPath>\r\n  <clipPath id=\"pede4cf85d9\">\r\n   <rect height=\"93.724138\" width=\"93.724138\" x=\"472.493103\" y=\"119.668966\"/>\r\n  </clipPath>\r\n  <clipPath id=\"pd8360f89c1\">\r\n   <rect height=\"93.724138\" width=\"93.724138\" x=\"10.7\" y=\"232.137931\"/>\r\n  </clipPath>\r\n  <clipPath id=\"pb4bb06648d\">\r\n   <rect height=\"93.724138\" width=\"93.724138\" x=\"126.148276\" y=\"232.137931\"/>\r\n  </clipPath>\r\n  <clipPath id=\"p48f993e524\">\r\n   <rect height=\"93.724138\" width=\"93.724138\" x=\"241.596552\" y=\"232.137931\"/>\r\n  </clipPath>\r\n  <clipPath id=\"p79d7a5ccae\">\r\n   <rect height=\"93.724138\" width=\"93.724138\" x=\"357.044828\" y=\"232.137931\"/>\r\n  </clipPath>\r\n  <clipPath id=\"p609ce07b25\">\r\n   <rect height=\"93.724138\" width=\"93.724138\" x=\"472.493103\" y=\"232.137931\"/>\r\n  </clipPath>\r\n  <clipPath id=\"pe46442ab69\">\r\n   <rect height=\"93.724138\" width=\"93.724138\" x=\"10.7\" y=\"344.606897\"/>\r\n  </clipPath>\r\n  <clipPath id=\"p0d6be7b667\">\r\n   <rect height=\"93.724138\" width=\"93.724138\" x=\"126.148276\" y=\"344.606897\"/>\r\n  </clipPath>\r\n  <clipPath id=\"pa6d4ab7030\">\r\n   <rect height=\"93.724138\" width=\"93.724138\" x=\"241.596552\" y=\"344.606897\"/>\r\n  </clipPath>\r\n  <clipPath id=\"p99008a1e3e\">\r\n   <rect height=\"93.724138\" width=\"93.724138\" x=\"357.044828\" y=\"344.606897\"/>\r\n  </clipPath>\r\n  <clipPath id=\"p44d34a111f\">\r\n   <rect height=\"93.724138\" width=\"93.724138\" x=\"472.493103\" y=\"344.606897\"/>\r\n  </clipPath>\r\n  <clipPath id=\"p20b366c1d8\">\r\n   <rect height=\"93.724138\" width=\"93.724138\" x=\"10.7\" y=\"457.075862\"/>\r\n  </clipPath>\r\n  <clipPath id=\"p3a3ee50bc9\">\r\n   <rect height=\"93.724138\" width=\"93.724138\" x=\"126.148276\" y=\"457.075862\"/>\r\n  </clipPath>\r\n  <clipPath id=\"p0d9bd99e90\">\r\n   <rect height=\"93.724138\" width=\"93.724138\" x=\"241.596552\" y=\"457.075862\"/>\r\n  </clipPath>\r\n  <clipPath id=\"p6c41f2a36e\">\r\n   <rect height=\"93.724138\" width=\"93.724138\" x=\"357.044828\" y=\"457.075862\"/>\r\n  </clipPath>\r\n  <clipPath id=\"p1365985b65\">\r\n   <rect height=\"93.724138\" width=\"93.724138\" x=\"472.493103\" y=\"457.075862\"/>\r\n  </clipPath>\r\n </defs>\r\n</svg>\r\n",
      "image/png": "[encoded data removed]"
     },
     "metadata": {}
    }
   ],
   "source": [
    "plt.figure(figsize=(10,10))\n",
    "for i in range(25):\n",
    "    plt.subplot(5,5,i+1)\n",
    "    plt.xticks([])\n",
    "    plt.yticks([])\n",
    "    plt.grid(False)\n",
    "    plt.imshow(train_images[i], cmap=plt.cm.binary)\n",
    "    plt.xlabel(class_names[train_labels[i]])\n",
    "plt.show()"
   ]
  },
  {
   "cell_type": "markdown",
   "metadata": {
    "id": "59veuiEZCaW4"
   },
   "source": [
    "## Construir el Modelo\n",
    "\n",
    "Construir la red neuronal requiere configurar las capas del modelo y luego compilar el modelo."
   ]
  },
  {
   "cell_type": "markdown",
   "metadata": {
    "id": "Gxg1XGm0eOBy"
   },
   "source": [
    "### Configurar las Capas\n",
    "\n",
    "Los bloques de construccion basicos de una red neuronal son las *capas* o *layers*. Las capas extraen representaciones de el set de datos que se les alimentan. Con suerte, estas representaciones son considerables para el problema que estamos solucionando.\n",
    "\n",
    "La mayoria de aprendizaje profundo consiste de unir capas sencillas. \n",
    "La mayoria de las capas como `tf.keras.layers.Dense`, tienen parametros que son aprendidos durante el entrenamiento."
   ]
  },
  {
   "cell_type": "code",
   "execution_count": 14,
   "metadata": {},
   "outputs": [
    {
     "output_type": "execute_result",
     "data": {
      "text/plain": "(60000, 28, 28)"
     },
     "metadata": {},
     "execution_count": 14
    }
   ],
   "source": [
    "train_images.shape"
   ]
  },
  {
   "cell_type": "code",
   "execution_count": 15,
   "metadata": {},
   "outputs": [
    {
     "output_type": "execute_result",
     "data": {
      "text/plain": "(10000, 28, 28)"
     },
     "metadata": {},
     "execution_count": 15
    }
   ],
   "source": [
    "test_images.shape"
   ]
  },
  {
   "cell_type": "code",
   "execution_count": 16,
   "metadata": {
    "tags": []
   },
   "outputs": [
    {
     "output_type": "stream",
     "name": "stdout",
     "text": "train_images_gr shape: (60000, 28, 28, 1)\ntest_images_gr shape: (10000, 28, 28, 1)\n"
    }
   ],
   "source": [
    "train_images_gr = train_images.reshape(train_images.shape[0], 28, 28, 1)\n",
    "test_images_gr = test_images.reshape(test_images.shape[0], 28, 28, 1)\n",
    "\n",
    "print(\"train_images_gr shape:\", train_images_gr.shape)\n",
    "print(\"test_images_gr shape:\", test_images_gr.shape)"
   ]
  },
  {
   "cell_type": "code",
   "execution_count": 40,
   "metadata": {
    "execution": {
     "iopub.execute_input": "2020-09-23T00:12:05.902968Z",
     "iopub.status.busy": "2020-09-23T00:12:05.900405Z",
     "iopub.status.idle": "2020-09-23T00:12:07.650519Z",
     "shell.execute_reply": "2020-09-23T00:12:07.650995Z"
    },
    "id": "9ODch-OFCaW4",
    "tags": []
   },
   "outputs": [
    {
     "output_type": "stream",
     "name": "stdout",
     "text": "Model: \"sequential_10\"\n_________________________________________________________________\nLayer (type)                 Output Shape              Param #   \n=================================================================\nconv2d_20 (Conv2D)           (None, 26, 26, 32)        320       \n_________________________________________________________________\nmax_pooling2d_20 (MaxPooling (None, 13, 13, 32)        0         \n_________________________________________________________________\nconv2d_21 (Conv2D)           (None, 11, 11, 64)        18496     \n_________________________________________________________________\nmax_pooling2d_21 (MaxPooling (None, 5, 5, 64)          0         \n_________________________________________________________________\nflatten_10 (Flatten)         (None, 1600)              0         \n_________________________________________________________________\ndense_25 (Dense)             (None, 128)               204928    \n_________________________________________________________________\ndropout_17 (Dropout)         (None, 128)               0         \n_________________________________________________________________\ndense_26 (Dense)             (None, 10)                1290      \n=================================================================\nTotal params: 225,034\nTrainable params: 225,034\nNon-trainable params: 0\n_________________________________________________________________\n"
    }
   ],
   "source": [
    "\"\"\"\n",
    "model = keras.Sequential([\n",
    "    keras.layers.Flatten(input_shape=(28, 28)),\n",
    "    keras.layers.Dense(128, activation='relu'),\n",
    "    keras.layers.Dense(10, activation='softmax')\n",
    "])\n",
    "\"\"\"\n",
    "tf.config.run_functions_eagerly(True)\n",
    "\n",
    "\n",
    "INPUT_SHAPE = (28,28,1)\n",
    "\n",
    "model = keras.models.Sequential()\n",
    "\n",
    "# First conv-pool layers - set 1\n",
    "model.add(keras.layers.Conv2D(filters=32, kernel_size=(3, 3), strides=(1, 1), activation=\"relu\", padding=\"valid\", input_shape=INPUT_SHAPE))\n",
    "model.add(keras.layers.MaxPool2D(pool_size=(2, 2)))\n",
    "\n",
    "# Second conv-pool layers - set 2\n",
    "model.add(keras.layers.Conv2D(filters=64, kernel_size=(3, 3), strides=(1, 1), activation=\"relu\", padding=\"valid\", input_shape=INPUT_SHAPE))\n",
    "model.add(keras.layers.MaxPool2D(pool_size=(2, 2)))\n",
    "\n",
    "# Flatten layer\n",
    "model.add(keras.layers.Flatten())\n",
    "\n",
    "# Dense layer with dropout\n",
    "model.add(keras.layers.Dense(units=128, activation=\"relu\"))\n",
    "model.add(keras.layers.Dropout(rate=0.3)) \n",
    "# Output layer\n",
    "model.add(keras.layers.Dense(units=10, activation=\"softmax\"))\n",
    "model.summary()"
   ]
  },
  {
   "cell_type": "markdown",
   "metadata": {
    "id": "gut8A_7rCaW6"
   },
   "source": [
    "La primera capa de esta red, `tf.keras.layers.Flatten`, \n",
    "transforma el formato de las imagenes de un arreglo bi-dimensional (de 28 por 28 pixeles) a un arreglo uni dimensional (de 28*28 pixeles = 784 pixeles). Observe esta capa como una capa no apilada de filas de pixeles en la misma imagen y alineandolo. Esta capa no tiene parametros que aprender; solo reformatea el set de datos.\n",
    "\n",
    "Despues de que los pixeles estan \"aplanados\", la secuencia consiste de dos capas`tf.keras.layers.Dense`. Estas estan densamente conectadas, o completamente conectadas. La primera capa `Dense` tiene 128 nodos (o neuronas). La segunda (y ultima) capa es una capa de 10 nodos *softmax* que devuelve un arreglo de 10 probabilidades que suman a 1. Cada nodo contiene una calificacion que indica la probabilidad que la actual imagen pertenece a una de las 10 clases.\n",
    "\n",
    "### Compile el modelo\n",
    "\n",
    "Antes de que el modelo este listo para entrenar , se necesitan algunas configuraciones mas. Estas son agregadas durante el paso de compilacion del modelo:\n",
    "\n",
    "* *Loss function* —Esto mide que tan exacto es el modelo durante el entrenamiento. Quiere minimizar esta funcion para dirigir el modelo en la direccion adecuada.\n",
    "* *Optimizer* — Esto es como el modelo se actualiza basado en el set de datos que ve y la funcion de perdida.\n",
    "* *Metrics* — Se usan para monitorear los pasos de entrenamiento y de pruebas.\n",
    "El siguiente ejemplo usa *accuracy* (exactitud) , la fraccion de la imagenes que son correctamente clasificadas."
   ]
  },
  {
   "cell_type": "code",
   "execution_count": 41,
   "metadata": {
    "execution": {
     "iopub.execute_input": "2020-09-23T00:12:07.663857Z",
     "iopub.status.busy": "2020-09-23T00:12:07.663044Z",
     "iopub.status.idle": "2020-09-23T00:12:07.670764Z",
     "shell.execute_reply": "2020-09-23T00:12:07.670104Z"
    },
    "id": "Lhan11blCaW7"
   },
   "outputs": [],
   "source": [
    "model.compile(optimizer='adam',\n",
    "              loss='sparse_categorical_crossentropy',\n",
    "              metrics=['accuracy'])"
   ]
  },
  {
   "cell_type": "markdown",
   "metadata": {
    "id": "qKF6uW-BCaW-"
   },
   "source": [
    "## Entrenar el Modelo\n",
    "\n",
    "Entrenar el modelo de red neuronal requiere de los siguientes pasos:\n",
    "\n",
    "1. Entregue los datos de entrenamiento al modelo. En este ejemplo , el set de datos de entrenamiento estan en los arreglos `train_images` y `train_labels`.\n",
    "2. el modelo aprende a asociar imagenes y etiquetas.\n",
    "3. Usted le pregunta al modelo que haga predicciones sobre un set de datos que se encuentran en el ejemplo,incluido en el arreglo `test_images`. Verifique que las predicciones sean iguales a las etiquetas de el arreglo`test_labels`.\n",
    "\n",
    "Para comenzar a entrenar, llame el metodo `model.fit`, es llamado asi por que *fit* (ajusta) el modelo a el set de datos de entrenamiento:"
   ]
  },
  {
   "cell_type": "code",
   "execution_count": 42,
   "metadata": {
    "execution": {
     "iopub.execute_input": "2020-09-23T00:12:07.675211Z",
     "iopub.status.busy": "2020-09-23T00:12:07.674345Z",
     "iopub.status.idle": "2020-09-23T00:12:36.454526Z",
     "shell.execute_reply": "2020-09-23T00:12:36.453882Z"
    },
    "id": "xvwvpA64CaW_",
    "tags": []
   },
   "outputs": [
    {
     "output_type": "stream",
     "name": "stdout",
     "text": "Epoch 1/10\n1875/1875 [==============================] - 36s 19ms/step - loss: 0.4835 - accuracy: 0.8250\nEpoch 2/10\n1875/1875 [==============================] - 36s 19ms/step - loss: 0.3299 - accuracy: 0.8795\nEpoch 3/10\n1875/1875 [==============================] - 34s 18ms/step - loss: 0.2860 - accuracy: 0.8948\nEpoch 4/10\n1875/1875 [==============================] - 35s 18ms/step - loss: 0.2563 - accuracy: 0.9055\nEpoch 5/10\n1875/1875 [==============================] - 34s 18ms/step - loss: 0.2336 - accuracy: 0.9131\nEpoch 6/10\n1875/1875 [==============================] - 34s 18ms/step - loss: 0.2145 - accuracy: 0.9198\nEpoch 7/10\n1875/1875 [==============================] - 34s 18ms/step - loss: 0.1986 - accuracy: 0.9262\nEpoch 8/10\n1875/1875 [==============================] - 34s 18ms/step - loss: 0.1832 - accuracy: 0.9305\nEpoch 9/10\n1875/1875 [==============================] - 35s 18ms/step - loss: 0.1713 - accuracy: 0.9355\nEpoch 10/10\n1875/1875 [==============================] - 35s 19ms/step - loss: 0.1590 - accuracy: 0.9391\n"
    },
    {
     "output_type": "execute_result",
     "data": {
      "text/plain": "<tensorflow.python.keras.callbacks.History at 0x237ad9e1128>"
     },
     "metadata": {},
     "execution_count": 42
    }
   ],
   "source": [
    "history = model.fit(train_images_gr, train_labels, epochs=10)"
   ]
  },
  {
   "cell_type": "markdown",
   "metadata": {
    "id": "W3ZVOhugCaXA"
   },
   "source": [
    "A medida que el modelo entrena, la perdida y la exactitud son desplegadas. Este modelo alcanza una exactitud de 0.88 (o 88%) sobre el set de datos de entrenamiento."
   ]
  },
  {
   "cell_type": "markdown",
   "metadata": {
    "id": "oEw4bZgGCaXB"
   },
   "source": [
    "## Evaluar Exactitud\n",
    "\n",
    "Siguente, compare como el rendimiento del modelo sobre el set de datos:"
   ]
  },
  {
   "cell_type": "code",
   "execution_count": 43,
   "metadata": {
    "execution": {
     "iopub.execute_input": "2020-09-23T00:12:36.459549Z",
     "iopub.status.busy": "2020-09-23T00:12:36.458790Z",
     "iopub.status.idle": "2020-09-23T00:12:37.082116Z",
     "shell.execute_reply": "2020-09-23T00:12:37.082547Z"
    },
    "id": "VflXLEeECaXC",
    "tags": []
   },
   "outputs": [
    {
     "output_type": "stream",
     "name": "stdout",
     "text": "313/313 - 2s - loss: 0.2583 - accuracy: 0.9132\n\nTest accuracy: 0.9132000207901001\n"
    }
   ],
   "source": [
    "test_loss, test_acc = model.evaluate(test_images,  test_labels, verbose=2)\n",
    "\n",
    "print('\\nTest accuracy:', test_acc)"
   ]
  },
  {
   "cell_type": "markdown",
   "metadata": {
    "id": "yWfgsmVXCaXG"
   },
   "source": [
    "Resulta que la exactitud sobre el set de datos es un poco menor que la exactitud sobre el set de entrenamiento. Esta diferencia entre el entrenamiento y el test se debe a *overfitting* (sobre ajuste). Sobre ajuste sucede cuando un modelo de aprendizaje de maquina (ML) tiene un rendimiento peor sobre un set de datos nuevo, que nunca antes ha visto comparado con el de entrenamiento."
   ]
  },
  {
   "cell_type": "markdown",
   "metadata": {
    "id": "xsoS7CPDCaXH"
   },
   "source": [
    "## Hacer predicciones\n",
    "\n",
    "Con el modelo entrenado usted puede usarlo para hacer predicciones sobre imagenes."
   ]
  },
  {
   "cell_type": "code",
   "execution_count": null,
   "metadata": {
    "execution": {
     "iopub.execute_input": "2020-09-23T00:12:37.087029Z",
     "iopub.status.busy": "2020-09-23T00:12:37.086398Z",
     "iopub.status.idle": "2020-09-23T00:12:37.407345Z",
     "shell.execute_reply": "2020-09-23T00:12:37.406539Z"
    },
    "id": "Gl91RPhdCaXI"
   },
   "outputs": [],
   "source": [
    "predictions = model.predict(test_images)"
   ]
  },
  {
   "cell_type": "markdown",
   "metadata": {
    "id": "x9Kk1voUCaXJ"
   },
   "source": [
    "Aca, el modelo ha predecido la etiqueta para cada imagen en el set de datos de *test* (prueba). Miremos la primera prediccion:"
   ]
  },
  {
   "cell_type": "code",
   "execution_count": null,
   "metadata": {
    "execution": {
     "iopub.execute_input": "2020-09-23T00:12:37.412550Z",
     "iopub.status.busy": "2020-09-23T00:12:37.411807Z",
     "iopub.status.idle": "2020-09-23T00:12:37.414437Z",
     "shell.execute_reply": "2020-09-23T00:12:37.414875Z"
    },
    "id": "3DmJEUinCaXK"
   },
   "outputs": [],
   "source": [
    "predictions[0]"
   ]
  },
  {
   "cell_type": "markdown",
   "metadata": {
    "id": "-hw1hgeSCaXN"
   },
   "source": [
    "*una* prediccion es un arreglo de 10 numeros. Estos representan el nivel de \"confianza\" del modelo sobre las imagenes de cada uno de los 10 articulos de moda/ropa. Ustedes pueden revisar cual tiene el nivel mas alto de confianza:"
   ]
  },
  {
   "cell_type": "code",
   "execution_count": null,
   "metadata": {
    "execution": {
     "iopub.execute_input": "2020-09-23T00:12:37.419598Z",
     "iopub.status.busy": "2020-09-23T00:12:37.418897Z",
     "iopub.status.idle": "2020-09-23T00:12:37.421942Z",
     "shell.execute_reply": "2020-09-23T00:12:37.421420Z"
    },
    "id": "qsqenuPnCaXO"
   },
   "outputs": [],
   "source": [
    "np.argmax(predictions[0])"
   ]
  },
  {
   "cell_type": "markdown",
   "metadata": {
    "id": "E51yS7iCCaXO"
   },
   "source": [
    "Entonces,el modelo tiene mayor confianza que esta imagen es un bota de tobillo \"ankle boot\" o `class_names[9]`. Examinando las etiquetas de *test* o de pruebas muestra que esta clasificaion es correcta:"
   ]
  },
  {
   "cell_type": "code",
   "execution_count": null,
   "metadata": {
    "execution": {
     "iopub.execute_input": "2020-09-23T00:12:37.426275Z",
     "iopub.status.busy": "2020-09-23T00:12:37.425639Z",
     "iopub.status.idle": "2020-09-23T00:12:37.428526Z",
     "shell.execute_reply": "2020-09-23T00:12:37.428018Z"
    },
    "id": "Sd7Pgsu6CaXP"
   },
   "outputs": [],
   "source": [
    "test_labels[0]"
   ]
  },
  {
   "cell_type": "markdown",
   "metadata": {
    "id": "ygh2yYC972ne"
   },
   "source": [
    "**Grafique** esto para poder ver todo el set de la prediccion de las 10 clases."
   ]
  },
  {
   "cell_type": "code",
   "execution_count": null,
   "metadata": {
    "execution": {
     "iopub.execute_input": "2020-09-23T00:12:37.436576Z",
     "iopub.status.busy": "2020-09-23T00:12:37.435927Z",
     "iopub.status.idle": "2020-09-23T00:12:37.437739Z",
     "shell.execute_reply": "2020-09-23T00:12:37.438165Z"
    },
    "id": "DvYmmrpIy6Y1"
   },
   "outputs": [],
   "source": [
    "def plot_image(i, predictions_array, true_label, img):\n",
    "  predictions_array, true_label, img = predictions_array, true_label[i], img[i]\n",
    "  plt.grid(False)\n",
    "  plt.xticks([])\n",
    "  plt.yticks([])\n",
    "\n",
    "  plt.imshow(img, cmap=plt.cm.binary)\n",
    "\n",
    "  predicted_label = np.argmax(predictions_array)\n",
    "  if predicted_label == true_label:\n",
    "    color = 'blue'\n",
    "  else:\n",
    "    color = 'red'\n",
    "\n",
    "  plt.xlabel(\"{} {:2.0f}% ({})\".format(class_names[predicted_label],\n",
    "                                100*np.max(predictions_array),\n",
    "                                class_names[true_label]),\n",
    "                                color=color)\n",
    "\n",
    "def plot_value_array(i, predictions_array, true_label):\n",
    "  predictions_array, true_label = predictions_array, true_label[i]\n",
    "  plt.grid(False)\n",
    "  plt.xticks(range(10))\n",
    "  plt.yticks([])\n",
    "  thisplot = plt.bar(range(10), predictions_array, color=\"#777777\")\n",
    "  plt.ylim([0, 1])\n",
    "  predicted_label = np.argmax(predictions_array)\n",
    "\n",
    "  thisplot[predicted_label].set_color('red')\n",
    "  thisplot[true_label].set_color('blue')"
   ]
  },
  {
   "cell_type": "markdown",
   "metadata": {
    "id": "d4Ov9OFDMmOD"
   },
   "source": [
    "Miremos la imagen [0], sus predicciones y el arreglo de predicciones. Las etiquetas de prediccion correctas estan en azul y las incorrectas estan en rojo. El numero entrega el porcentaje (sobre 100) para la etiqueta predecida."
   ]
  },
  {
   "cell_type": "code",
   "execution_count": null,
   "metadata": {
    "execution": {
     "iopub.execute_input": "2020-09-23T00:12:37.447943Z",
     "iopub.status.busy": "2020-09-23T00:12:37.443377Z",
     "iopub.status.idle": "2020-09-23T00:12:37.559790Z",
     "shell.execute_reply": "2020-09-23T00:12:37.560326Z"
    },
    "id": "HV5jw-5HwSmO"
   },
   "outputs": [],
   "source": [
    "i = 0\n",
    "plt.figure(figsize=(6,3))\n",
    "plt.subplot(1,2,1)\n",
    "plot_image(i, predictions[i], test_labels, test_images)\n",
    "plt.subplot(1,2,2)\n",
    "plot_value_array(i, predictions[i],  test_labels)\n",
    "plt.show()"
   ]
  },
  {
   "cell_type": "code",
   "execution_count": null,
   "metadata": {
    "execution": {
     "iopub.execute_input": "2020-09-23T00:12:37.574455Z",
     "iopub.status.busy": "2020-09-23T00:12:37.572922Z",
     "iopub.status.idle": "2020-09-23T00:12:37.679858Z",
     "shell.execute_reply": "2020-09-23T00:12:37.679297Z"
    },
    "id": "Ko-uzOufSCSe"
   },
   "outputs": [],
   "source": [
    "i = 12\n",
    "plt.figure(figsize=(6,3))\n",
    "plt.subplot(1,2,1)\n",
    "plot_image(i, predictions[i], test_labels, test_images)\n",
    "plt.subplot(1,2,2)\n",
    "plot_value_array(i, predictions[i],  test_labels)\n",
    "plt.show()"
   ]
  },
  {
   "cell_type": "markdown",
   "metadata": {
    "id": "kgdvGD52CaXR"
   },
   "source": [
    "Vamos a graficar multiples imagenes con sus predicciones. Notese que el modelo puede estar equivocado aun cuando tiene mucha confianza."
   ]
  },
  {
   "cell_type": "code",
   "execution_count": null,
   "metadata": {
    "execution": {
     "iopub.execute_input": "2020-09-23T00:12:37.704262Z",
     "iopub.status.busy": "2020-09-23T00:12:37.703472Z",
     "iopub.status.idle": "2020-09-23T00:12:39.542467Z",
     "shell.execute_reply": "2020-09-23T00:12:39.543014Z"
    },
    "id": "hQlnbqaw2Qu_"
   },
   "outputs": [],
   "source": [
    "# Plot the first X test images, their predicted labels, and the true labels.\n",
    "# Color correct predictions in blue and incorrect predictions in red.\n",
    "num_rows = 5\n",
    "num_cols = 3\n",
    "num_images = num_rows*num_cols\n",
    "plt.figure(figsize=(2*2*num_cols, 2*num_rows))\n",
    "for i in range(num_images):\n",
    "  plt.subplot(num_rows, 2*num_cols, 2*i+1)\n",
    "  plot_image(i, predictions[i], test_labels, test_images)\n",
    "  plt.subplot(num_rows, 2*num_cols, 2*i+2)\n",
    "  plot_value_array(i, predictions[i], test_labels)\n",
    "plt.tight_layout()\n",
    "plt.show()"
   ]
  },
  {
   "cell_type": "markdown",
   "metadata": {
    "id": "R32zteKHCaXT"
   },
   "source": [
    "Finalmente, usamos el modelo entrenado para hacer una prediccion sobre una unica imagen."
   ]
  },
  {
   "cell_type": "code",
   "execution_count": null,
   "metadata": {
    "execution": {
     "iopub.execute_input": "2020-09-23T00:12:39.547795Z",
     "iopub.status.busy": "2020-09-23T00:12:39.547091Z",
     "iopub.status.idle": "2020-09-23T00:12:39.549226Z",
     "shell.execute_reply": "2020-09-23T00:12:39.549730Z"
    },
    "id": "yRJ7JU7JCaXT"
   },
   "outputs": [],
   "source": [
    "# Grab an image from the test dataset.\n",
    "img = test_images[1]\n",
    "\n",
    "print(img.shape)"
   ]
  },
  {
   "cell_type": "markdown",
   "metadata": {
    "id": "vz3bVp21CaXV"
   },
   "source": [
    "Los modelos de `tf.keras` son optimizados sobre *batch* o bloques, \n",
    "o coleciones de ejemplos por vez.\n",
    "De acuerdo a esto, aunque use una unica imagen toca agregarla a una lista:"
   ]
  },
  {
   "cell_type": "code",
   "execution_count": null,
   "metadata": {
    "execution": {
     "iopub.execute_input": "2020-09-23T00:12:39.554000Z",
     "iopub.status.busy": "2020-09-23T00:12:39.553363Z",
     "iopub.status.idle": "2020-09-23T00:12:39.556184Z",
     "shell.execute_reply": "2020-09-23T00:12:39.555583Z"
    },
    "id": "lDFh5yF_CaXW"
   },
   "outputs": [],
   "source": [
    "# Add the image to a batch where it's the only member.\n",
    "img = (np.expand_dims(img,0))\n",
    "\n",
    "print(img.shape)"
   ]
  },
  {
   "cell_type": "markdown",
   "metadata": {
    "id": "EQ5wLTkcCaXY"
   },
   "source": [
    "Ahora prediga la etiqueta correcta para esta imagen:"
   ]
  },
  {
   "cell_type": "code",
   "execution_count": null,
   "metadata": {
    "execution": {
     "iopub.execute_input": "2020-09-23T00:12:39.560100Z",
     "iopub.status.busy": "2020-09-23T00:12:39.559462Z",
     "iopub.status.idle": "2020-09-23T00:12:39.595462Z",
     "shell.execute_reply": "2020-09-23T00:12:39.595894Z"
    },
    "id": "o_rzNSdrCaXY"
   },
   "outputs": [],
   "source": [
    "predictions_single = model.predict(img)\n",
    "\n",
    "print(predictions_single)"
   ]
  },
  {
   "cell_type": "code",
   "execution_count": null,
   "metadata": {
    "execution": {
     "iopub.execute_input": "2020-09-23T00:12:39.613213Z",
     "iopub.status.busy": "2020-09-23T00:12:39.607790Z",
     "iopub.status.idle": "2020-09-23T00:12:39.693950Z",
     "shell.execute_reply": "2020-09-23T00:12:39.693294Z"
    },
    "id": "6Ai-cpLjO-3A"
   },
   "outputs": [],
   "source": [
    "plot_value_array(1, predictions_single[0], test_labels)\n",
    "_ = plt.xticks(range(10), class_names, rotation=45)"
   ]
  },
  {
   "cell_type": "markdown",
   "metadata": {
    "id": "cU1Y2OAMCaXb"
   },
   "source": [
    "`model.predict` retorna una lista de listas para cada imagen dentro del *batch* o bloque de datos. Tome la prediccion para nuestra unica imagen dentro del *batch* o bloque:"
   ]
  },
  {
   "cell_type": "code",
   "execution_count": null,
   "metadata": {
    "execution": {
     "iopub.execute_input": "2020-09-23T00:12:39.698805Z",
     "iopub.status.busy": "2020-09-23T00:12:39.698163Z",
     "iopub.status.idle": "2020-09-23T00:12:39.701361Z",
     "shell.execute_reply": "2020-09-23T00:12:39.700720Z"
    },
    "id": "2tRmdq_8CaXb"
   },
   "outputs": [],
   "source": [
    "np.argmax(predictions_single[0])"
   ]
  },
  {
   "cell_type": "markdown",
   "metadata": {
    "id": "YFc2HbEVCaXd"
   },
   "source": [
    "Y el modelo predice una etiqueta de 2."
   ]
  }
 ],
 "metadata": {
  "colab": {
   "collapsed_sections": [],
   "name": "classification.ipynb",
   "toc_visible": true
  },
  "kernelspec": {
   "name": "Python 3.6.4 64-bit",
   "display_name": "Python 3.6.4 64-bit",
   "metadata": {
    "interpreter": {
     "hash": "5c4d2f1fdcd3716c7a5eea90ad07be30193490dd4e63617705244f5fd89ea793"
    }
   }
  },
  "language_info": {
   "codemirror_mode": {
    "name": "ipython",
    "version": 3
   },
   "file_extension": ".py",
   "mimetype": "text/x-python",
   "name": "python",
   "nbconvert_exporter": "python",
   "pygments_lexer": "ipython3",
   "version": "3.6.4-final"
  }
 },
 "nbformat": 4,
 "nbformat_minor": 0
}