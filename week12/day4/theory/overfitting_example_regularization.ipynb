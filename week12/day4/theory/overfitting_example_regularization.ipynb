{
  "nbformat": 4,
  "nbformat_minor": 0,
  "metadata": {
    "kernelspec": {
      "display_name": "Python 3",
      "language": "python",
      "name": "python3"
    },
    "language_info": {
      "codemirror_mode": {
        "name": "ipython",
        "version": 3
      },
      "file_extension": ".py",
      "mimetype": "text/x-python",
      "name": "python",
      "nbconvert_exporter": "python",
      "pygments_lexer": "ipython3",
      "version": "3.5.2"
    },
    "colab": {
      "name": "hyperparameter_tuning.ipynb",
      "provenance": []
    }
  },
  "cells": [
    {
      "cell_type": "code",
      "metadata": {
        "id": "bKbMJyIAAcS2",
        "outputId": "205de721-0aad-4446-e46b-3e3d2e2c648f",
        "colab": {
          "base_uri": "https://localhost:8080/",
          "height": 54
        }
      },
      "source": [
        "import keras\n",
        "keras.__version__"
      ],
      "execution_count": null,
      "outputs": [
        {
          "output_type": "stream",
          "text": [
            "Using TensorFlow backend.\n"
          ],
          "name": "stderr"
        },
        {
          "output_type": "execute_result",
          "data": {
            "application/vnd.google.colaboratory.intrinsic": {
              "type": "string"
            },
            "text/plain": [
              "'2.3.1'"
            ]
          },
          "metadata": {
            "tags": []
          },
          "execution_count": 1
        }
      ]
    },
    {
      "cell_type": "markdown",
      "metadata": {
        "id": "rQYZKUIQAcS7"
      },
      "source": [
        "# Overfitting and underfitting\n",
        "\n",
        "This notebook contains the code samples found in Chapter 3, Section 6 of [Deep Learning with Python](https://www.manning.com/books/deep-learning-with-python?a_aid=keras&a_bid=76564dff). Note that the original text features far more content, in particular further explanations and figures: in this notebook, you will only find source code and related comments.\n",
        "\n",
        "----\n",
        "\n",
        "\n",
        "In all the examples we saw in the previous chapter -- movie review sentiment prediction, topic classification, and house price regression -- \n",
        "we could notice that the performance of our model on the held-out validation data would always peak after a few epochs and would then start \n",
        "degrading, i.e. our model would quickly start to _overfit_ to the training data. Overfitting happens in every single machine learning \n",
        "problem. Learning how to deal with overfitting is essential to mastering machine learning.\n",
        "\n",
        "The fundamental issue in machine learning is the tension between optimization and generalization. \"Optimization\" refers to the process of \n",
        "adjusting a model to get the best performance possible on the training data (the \"learning\" in \"machine learning\"), while \"generalization\" \n",
        "refers to how well the trained model would perform on data it has never seen before. The goal of the game is to get good generalization, of \n",
        "course, but you do not control generalization; you can only adjust the model based on its training data.\n",
        "\n",
        "At the beginning of training, optimization and generalization are correlated: the lower your loss on training data, the lower your loss on \n",
        "test data. While this is happening, your model is said to be _under-fit_: there is still progress to be made; the network hasn't yet \n",
        "modeled all relevant patterns in the training data. But after a certain number of iterations on the training data, generalization stops \n",
        "improving, validation metrics stall then start degrading: the model is then starting to over-fit, i.e. is it starting to learn patterns \n",
        "that are specific to the training data but that are misleading or irrelevant when it comes to new data.\n",
        "\n",
        "To prevent a model from learning misleading or irrelevant patterns found in the training data, _the best solution is of course to get \n",
        "more training data_. A model trained on more data will naturally generalize better. When that is no longer possible, the next best solution \n",
        "is to modulate the quantity of information that your model is allowed to store, or to add constraints on what information it is allowed to \n",
        "store. If a network can only afford to memorize a small number of patterns, the optimization process will force it to focus on the most \n",
        "prominent patterns, which have a better chance of generalizing well.\n",
        "\n",
        "The processing of fighting overfitting in this way is called _regularization_. Let's review some of the most common regularization \n",
        "techniques, and let's apply them in practice to improve our movie classification model from  the previous chapter."
      ]
    },
    {
      "cell_type": "markdown",
      "metadata": {
        "id": "BSVCbCfzAcS8"
      },
      "source": [
        "Note: in this notebook we will be using the IMDB test set as our validation set. It doesn't matter in this context.\n",
        "\n",
        "Let's prepare the data using the code from Chapter 3, Section 5:"
      ]
    },
    {
      "cell_type": "code",
      "metadata": {
        "id": "rOaOdSJTAcS8",
        "outputId": "7ad6bf84-e29c-4385-8b4c-7c344410f013",
        "colab": {
          "base_uri": "https://localhost:8080/",
          "height": 53
        }
      },
      "source": [
        "from keras.datasets import imdb\n",
        "import numpy as np\n",
        "\n",
        "(train_data, train_labels), (test_data, test_labels) = imdb.load_data(num_words=10000)\n",
        "\n",
        "def vectorize_sequences(sequences, dimension=10000):\n",
        "    # Create an all-zero matrix of shape (len(sequences), dimension)\n",
        "    results = np.zeros((len(sequences), dimension))\n",
        "    for i, sequence in enumerate(sequences):\n",
        "        results[i, sequence] = 1.  # set specific indices of results[i] to 1s\n",
        "    return results\n",
        "\n",
        "# Our vectorized training data\n",
        "x_train = vectorize_sequences(train_data)\n",
        "# Our vectorized test data\n",
        "x_test = vectorize_sequences(test_data)\n",
        "# Our vectorized labels\n",
        "y_train = np.asarray(train_labels).astype('float32')\n",
        "y_test = np.asarray(test_labels).astype('float32')"
      ],
      "execution_count": null,
      "outputs": [
        {
          "output_type": "stream",
          "text": [
            "Downloading data from https://s3.amazonaws.com/text-datasets/imdb.npz\n",
            "17465344/17464789 [==============================] - 1s 0us/step\n"
          ],
          "name": "stdout"
        }
      ]
    },
    {
      "cell_type": "code",
      "metadata": {
        "id": "gRcEPI-tNcVK",
        "outputId": "0810a1d2-10e4-4904-e6b2-3b59c3c647a6",
        "colab": {
          "base_uri": "https://localhost:8080/",
          "height": 35
        }
      },
      "source": [
        "x_train.shape"
      ],
      "execution_count": null,
      "outputs": [
        {
          "output_type": "execute_result",
          "data": {
            "text/plain": [
              "(25000, 10000)"
            ]
          },
          "metadata": {
            "tags": []
          },
          "execution_count": 3
        }
      ]
    },
    {
      "cell_type": "markdown",
      "metadata": {
        "id": "IsOSnIy4AcS_"
      },
      "source": [
        "# Fighting overfitting\n",
        "\n",
        "## Reducing the network's size\n",
        "\n",
        "\n",
        "The simplest way to prevent overfitting is to reduce the size of the model, i.e. the number of learnable parameters in the model (which is \n",
        "determined by the number of layers and the number of units per layer). In deep learning, the number of learnable parameters in a model is \n",
        "often referred to as the model's \"capacity\". Intuitively, a model with more parameters will have more \"memorization capacity\" and therefore \n",
        "will be able to easily learn a perfect dictionary-like mapping between training samples and their targets, a mapping without any \n",
        "generalization power. For instance, a model with 500,000 binary parameters could easily be made to learn the class of every digits in the \n",
        "MNIST training set: we would only need 10 binary parameters for each of the 50,000 digits. Such a model would be useless for classifying \n",
        "new digit samples. Always keep this in mind: deep learning models tend to be good at fitting to the training data, but the real challenge \n",
        "is generalization, not fitting.\n",
        "\n",
        "On the other hand, if the network has limited memorization resources, it will not be able to learn this mapping as easily, and thus, in \n",
        "order to minimize its loss, it will have to resort to learning compressed representations that have predictive power regarding the targets \n",
        "-- precisely the type of representations that we are interested in. At the same time, keep in mind that you should be using models that have \n",
        "enough parameters that they won't be underfitting: your model shouldn't be starved for memorization resources. There is a compromise to be \n",
        "found between \"too much capacity\" and \"not enough capacity\".\n",
        "\n",
        "Unfortunately, there is no magical formula to determine what the right number of layers is, or what the right size for each layer is. You \n",
        "will have to evaluate an array of different architectures (on your validation set, not on your test set, of course) in order to find the \n",
        "right model size for your data. The general workflow to find an appropriate model size is to start with relatively few layers and \n",
        "parameters, and start increasing the size of the layers or adding new layers until you see diminishing returns with regard to the \n",
        "validation loss.\n",
        "\n",
        "Let's try this on our movie review classification network. Our original network was as such:"
      ]
    },
    {
      "cell_type": "code",
      "metadata": {
        "id": "JLBHv6meAcTA"
      },
      "source": [
        "from keras import models\n",
        "from keras import layers\n",
        "\n",
        "original_model = models.Sequential()\n",
        "original_model.add(layers.Dense(16, activation='relu', input_shape=(10000,)))\n",
        "original_model.add(layers.Dense(16, activation='relu'))\n",
        "original_model.add(layers.Dense(1, activation='sigmoid'))\n",
        "\n",
        "original_model.compile(optimizer='rmsprop',\n",
        "                       loss='binary_crossentropy',\n",
        "                       metrics=['acc'])"
      ],
      "execution_count": null,
      "outputs": []
    },
    {
      "cell_type": "code",
      "metadata": {
        "id": "LPAP_XM2NThH"
      },
      "source": [
        ""
      ],
      "execution_count": null,
      "outputs": []
    },
    {
      "cell_type": "markdown",
      "metadata": {
        "id": "dWgJxAQ2AcTC"
      },
      "source": [
        "Now let's try to replace it with this smaller network:"
      ]
    },
    {
      "cell_type": "code",
      "metadata": {
        "id": "zCysBlHRAcTD"
      },
      "source": [
        "smaller_model = models.Sequential()\n",
        "smaller_model.add(layers.Dense(4, activation='relu', input_shape=(10000,)))\n",
        "smaller_model.add(layers.Dense(4, activation='relu'))\n",
        "smaller_model.add(layers.Dense(1, activation='sigmoid'))\n",
        "\n",
        "smaller_model.compile(optimizer='rmsprop',\n",
        "                      loss='binary_crossentropy',\n",
        "                      metrics=['acc'])"
      ],
      "execution_count": null,
      "outputs": []
    },
    {
      "cell_type": "markdown",
      "metadata": {
        "id": "qVEmgpPhAcTF"
      },
      "source": [
        "\n",
        "Here's a comparison of the validation losses of the original network and the smaller network. The dots are the validation loss values of \n",
        "the smaller network, and the crosses are the initial network (remember: a lower validation loss signals a better model)."
      ]
    },
    {
      "cell_type": "code",
      "metadata": {
        "id": "jhr3U_PsAcTG",
        "outputId": "07f0b21a-5416-4e4a-80aa-edc6a6e3cbf8",
        "colab": {
          "base_uri": "https://localhost:8080/",
          "height": 762
        }
      },
      "source": [
        "original_hist = original_model.fit(x_train, y_train,\n",
        "                                   epochs=20,\n",
        "                                   batch_size=512,\n",
        "                                   validation_data=(x_test, y_test))"
      ],
      "execution_count": null,
      "outputs": [
        {
          "output_type": "stream",
          "text": [
            "Train on 25000 samples, validate on 25000 samples\n",
            "Epoch 1/20\n",
            "25000/25000 [==============================] - 2s 85us/step - loss: 0.5004 - acc: 0.7536 - val_loss: 0.3605 - val_acc: 0.8600\n",
            "Epoch 2/20\n",
            "25000/25000 [==============================] - 2s 70us/step - loss: 0.2660 - acc: 0.9080 - val_loss: 0.3176 - val_acc: 0.8716\n",
            "Epoch 3/20\n",
            "25000/25000 [==============================] - 2s 70us/step - loss: 0.2038 - acc: 0.9282 - val_loss: 0.2913 - val_acc: 0.8846\n",
            "Epoch 4/20\n",
            "25000/25000 [==============================] - 2s 70us/step - loss: 0.1674 - acc: 0.9401 - val_loss: 0.3240 - val_acc: 0.8714\n",
            "Epoch 5/20\n",
            "25000/25000 [==============================] - 2s 70us/step - loss: 0.1425 - acc: 0.9505 - val_loss: 0.3475 - val_acc: 0.8705\n",
            "Epoch 6/20\n",
            "25000/25000 [==============================] - 2s 69us/step - loss: 0.1223 - acc: 0.9575 - val_loss: 0.3350 - val_acc: 0.8768\n",
            "Epoch 7/20\n",
            "25000/25000 [==============================] - 2s 69us/step - loss: 0.1059 - acc: 0.9648 - val_loss: 0.3591 - val_acc: 0.8718\n",
            "Epoch 8/20\n",
            "25000/25000 [==============================] - 2s 69us/step - loss: 0.0896 - acc: 0.9704 - val_loss: 0.4371 - val_acc: 0.8539\n",
            "Epoch 9/20\n",
            "25000/25000 [==============================] - 2s 70us/step - loss: 0.0764 - acc: 0.9762 - val_loss: 0.4573 - val_acc: 0.8542\n",
            "Epoch 10/20\n",
            "25000/25000 [==============================] - 2s 70us/step - loss: 0.0643 - acc: 0.9810 - val_loss: 0.4565 - val_acc: 0.8653\n",
            "Epoch 11/20\n",
            "25000/25000 [==============================] - 2s 69us/step - loss: 0.0543 - acc: 0.9842 - val_loss: 0.4759 - val_acc: 0.8640\n",
            "Epoch 12/20\n",
            "25000/25000 [==============================] - 2s 69us/step - loss: 0.0442 - acc: 0.9883 - val_loss: 0.5097 - val_acc: 0.8579\n",
            "Epoch 13/20\n",
            "25000/25000 [==============================] - 2s 69us/step - loss: 0.0357 - acc: 0.9909 - val_loss: 0.5715 - val_acc: 0.8505\n",
            "Epoch 14/20\n",
            "25000/25000 [==============================] - 2s 70us/step - loss: 0.0289 - acc: 0.9932 - val_loss: 0.5764 - val_acc: 0.8580\n",
            "Epoch 15/20\n",
            "25000/25000 [==============================] - 2s 70us/step - loss: 0.0245 - acc: 0.9941 - val_loss: 0.6167 - val_acc: 0.8588\n",
            "Epoch 16/20\n",
            "25000/25000 [==============================] - 2s 71us/step - loss: 0.0169 - acc: 0.9967 - val_loss: 0.6877 - val_acc: 0.8574\n",
            "Epoch 17/20\n",
            "25000/25000 [==============================] - 2s 70us/step - loss: 0.0132 - acc: 0.9977 - val_loss: 0.6994 - val_acc: 0.8556\n",
            "Epoch 18/20\n",
            "25000/25000 [==============================] - 2s 70us/step - loss: 0.0101 - acc: 0.9979 - val_loss: 0.7525 - val_acc: 0.8564\n",
            "Epoch 19/20\n",
            "25000/25000 [==============================] - 2s 70us/step - loss: 0.0090 - acc: 0.9980 - val_loss: 0.7875 - val_acc: 0.8550\n",
            "Epoch 20/20\n",
            "25000/25000 [==============================] - 2s 69us/step - loss: 0.0080 - acc: 0.9981 - val_loss: 0.8221 - val_acc: 0.8534\n"
          ],
          "name": "stdout"
        }
      ]
    },
    {
      "cell_type": "code",
      "metadata": {
        "id": "Ru-wIX6FAcTI",
        "outputId": "564e24ab-a7e6-4466-dac2-834dce7763dd",
        "colab": {
          "base_uri": "https://localhost:8080/",
          "height": 762
        }
      },
      "source": [
        "smaller_model_hist = smaller_model.fit(x_train, y_train,\n",
        "                                       epochs=20,\n",
        "                                       batch_size=512,\n",
        "                                       validation_data=(x_test, y_test))"
      ],
      "execution_count": null,
      "outputs": [
        {
          "output_type": "stream",
          "text": [
            "Train on 25000 samples, validate on 25000 samples\n",
            "Epoch 1/20\n",
            "25000/25000 [==============================] - 2s 69us/step - loss: 0.5371 - acc: 0.8021 - val_loss: 0.4447 - val_acc: 0.8539\n",
            "Epoch 2/20\n",
            "25000/25000 [==============================] - 2s 66us/step - loss: 0.3634 - acc: 0.8867 - val_loss: 0.3543 - val_acc: 0.8752\n",
            "Epoch 3/20\n",
            "25000/25000 [==============================] - 2s 66us/step - loss: 0.2813 - acc: 0.9088 - val_loss: 0.3059 - val_acc: 0.8866\n",
            "Epoch 4/20\n",
            "25000/25000 [==============================] - 2s 66us/step - loss: 0.2346 - acc: 0.9208 - val_loss: 0.2877 - val_acc: 0.8885\n",
            "Epoch 5/20\n",
            "25000/25000 [==============================] - 2s 66us/step - loss: 0.2037 - acc: 0.9309 - val_loss: 0.2810 - val_acc: 0.8886\n",
            "Epoch 6/20\n",
            "25000/25000 [==============================] - 2s 65us/step - loss: 0.1815 - acc: 0.9371 - val_loss: 0.2793 - val_acc: 0.8890\n",
            "Epoch 7/20\n",
            "25000/25000 [==============================] - 2s 66us/step - loss: 0.1644 - acc: 0.9444 - val_loss: 0.2851 - val_acc: 0.8865\n",
            "Epoch 8/20\n",
            "25000/25000 [==============================] - 2s 65us/step - loss: 0.1499 - acc: 0.9490 - val_loss: 0.2919 - val_acc: 0.8846\n",
            "Epoch 9/20\n",
            "25000/25000 [==============================] - 2s 65us/step - loss: 0.1382 - acc: 0.9538 - val_loss: 0.3073 - val_acc: 0.8795\n",
            "Epoch 10/20\n",
            "25000/25000 [==============================] - 2s 66us/step - loss: 0.1280 - acc: 0.9570 - val_loss: 0.3102 - val_acc: 0.8810\n",
            "Epoch 11/20\n",
            "25000/25000 [==============================] - 2s 66us/step - loss: 0.1190 - acc: 0.9605 - val_loss: 0.3198 - val_acc: 0.8796\n",
            "Epoch 12/20\n",
            "25000/25000 [==============================] - 2s 65us/step - loss: 0.1107 - acc: 0.9643 - val_loss: 0.3318 - val_acc: 0.8772\n",
            "Epoch 13/20\n",
            "25000/25000 [==============================] - 2s 65us/step - loss: 0.1037 - acc: 0.9668 - val_loss: 0.3482 - val_acc: 0.8733\n",
            "Epoch 14/20\n",
            "25000/25000 [==============================] - 2s 65us/step - loss: 0.0967 - acc: 0.9699 - val_loss: 0.3597 - val_acc: 0.8733\n",
            "Epoch 15/20\n",
            "25000/25000 [==============================] - 2s 66us/step - loss: 0.0907 - acc: 0.9717 - val_loss: 0.3744 - val_acc: 0.8712\n",
            "Epoch 16/20\n",
            "25000/25000 [==============================] - 2s 66us/step - loss: 0.0848 - acc: 0.9743 - val_loss: 0.3907 - val_acc: 0.8697\n",
            "Epoch 17/20\n",
            "25000/25000 [==============================] - 2s 65us/step - loss: 0.0798 - acc: 0.9759 - val_loss: 0.4057 - val_acc: 0.8678\n",
            "Epoch 18/20\n",
            "25000/25000 [==============================] - 2s 66us/step - loss: 0.0743 - acc: 0.9787 - val_loss: 0.4234 - val_acc: 0.8656\n",
            "Epoch 19/20\n",
            "25000/25000 [==============================] - 2s 65us/step - loss: 0.0696 - acc: 0.9798 - val_loss: 0.4410 - val_acc: 0.8641\n",
            "Epoch 20/20\n",
            "25000/25000 [==============================] - 2s 66us/step - loss: 0.0654 - acc: 0.9806 - val_loss: 0.4643 - val_acc: 0.8612\n"
          ],
          "name": "stdout"
        }
      ]
    },
    {
      "cell_type": "code",
      "metadata": {
        "id": "o12EXhmAAcTL"
      },
      "source": [
        "epochs = range(1, 21)\n",
        "original_val_loss = original_hist.history['val_loss']\n",
        "smaller_model_val_loss = smaller_model_hist.history['val_loss']\n",
        "original_val_acc = original_hist.history['val_acc']\n",
        "smaller_model_val_acc = smaller_model_hist.history['val_acc']"
      ],
      "execution_count": null,
      "outputs": []
    },
    {
      "cell_type": "code",
      "metadata": {
        "id": "M00m_KLQAcTN",
        "outputId": "0d462b07-844d-471a-8cbb-b80adc27ff7d",
        "colab": {
          "base_uri": "https://localhost:8080/",
          "height": 279
        }
      },
      "source": [
        "import matplotlib.pyplot as plt\n",
        "\n",
        "# b+ is for \"blue cross\"\n",
        "plt.plot(epochs, original_val_loss, 'b+', label='Original model')\n",
        "# \"bo\" is for \"blue dot\"\n",
        "plt.plot(epochs, smaller_model_val_loss, 'bo', label='Smaller model')\n",
        "plt.xlabel('Epochs')\n",
        "plt.ylabel('Validation loss')\n",
        "plt.legend()\n",
        "\n",
        "plt.show()"
      ],
      "execution_count": null,
      "outputs": [
        {
          "output_type": "display_data",
          "data": {
            "image/png": "[encoded data removed]",
            "text/plain": [
              "<Figure size 432x288 with 1 Axes>"
            ]
          },
          "metadata": {
            "tags": [],
            "needs_background": "light"
          }
        }
      ]
    },
    {
      "cell_type": "code",
      "metadata": {
        "id": "gzS5moXg-V4p",
        "outputId": "904314e8-50fa-4384-fde1-cc9d0ed91cff",
        "colab": {
          "base_uri": "https://localhost:8080/",
          "height": 279
        }
      },
      "source": [
        "import matplotlib.pyplot as plt\n",
        "\n",
        "# b+ is for \"blue cross\"\n",
        "plt.plot(epochs, original_val_acc, 'b+', label='Original model')\n",
        "# \"bo\" is for \"blue dot\"\n",
        "plt.plot(epochs, smaller_model_val_acc, 'bo', label='Smaller model')\n",
        "plt.xlabel('Epochs')\n",
        "plt.ylabel('Accuracy')\n",
        "plt.legend()\n",
        "\n",
        "plt.show()"
      ],
      "execution_count": null,
      "outputs": [
        {
          "output_type": "display_data",
          "data": {
            "image/png": "[encoded data removed]",
            "text/plain": [
              "<Figure size 432x288 with 1 Axes>"
            ]
          },
          "metadata": {
            "tags": [],
            "needs_background": "light"
          }
        }
      ]
    },
    {
      "cell_type": "markdown",
      "metadata": {
        "id": "4Q0zsXJQAcTP"
      },
      "source": [
        "\n",
        "As you can see, the smaller network starts overfitting later than the reference one (after 6 epochs rather than 4) and its performance \n",
        "degrades much more slowly once it starts overfitting.\n",
        "\n",
        "Now, for kicks, let's add to this benchmark a network that has much more capacity, far more than the problem would warrant:"
      ]
    },
    {
      "cell_type": "code",
      "metadata": {
        "id": "fynnS9-mAcTP"
      },
      "source": [
        "bigger_model = models.Sequential()\n",
        "bigger_model.add(layers.Dense(512, activation='relu', input_shape=(10000,)))\n",
        "bigger_model.add(layers.Dense(512, activation='relu'))\n",
        "bigger_model.add(layers.Dense(1, activation='sigmoid'))\n",
        "\n",
        "bigger_model.compile(optimizer='rmsprop',\n",
        "                     loss='binary_crossentropy',\n",
        "                     metrics=['acc'])"
      ],
      "execution_count": null,
      "outputs": []
    },
    {
      "cell_type": "code",
      "metadata": {
        "id": "ozs4JzyQAcTS",
        "outputId": "45f6edab-c05d-4db6-856f-2fa2f437149d",
        "colab": {
          "base_uri": "https://localhost:8080/",
          "height": 762
        }
      },
      "source": [
        "bigger_model_hist = bigger_model.fit(x_train, y_train,\n",
        "                                     epochs=20,\n",
        "                                     batch_size=512,\n",
        "                                     validation_data=(x_test, y_test))"
      ],
      "execution_count": null,
      "outputs": [
        {
          "output_type": "stream",
          "text": [
            "Train on 25000 samples, validate on 25000 samples\n",
            "Epoch 1/20\n",
            "25000/25000 [==============================] - 15s 599us/step - loss: 0.4763 - acc: 0.8126 - val_loss: 0.4776 - val_acc: 0.7946\n",
            "Epoch 2/20\n",
            "25000/25000 [==============================] - 15s 595us/step - loss: 0.2310 - acc: 0.9057 - val_loss: 0.2789 - val_acc: 0.8867\n",
            "Epoch 3/20\n",
            "25000/25000 [==============================] - 15s 594us/step - loss: 0.1253 - acc: 0.9527 - val_loss: 0.3249 - val_acc: 0.8859\n",
            "Epoch 4/20\n",
            "25000/25000 [==============================] - 15s 593us/step - loss: 0.0780 - acc: 0.9810 - val_loss: 0.4614 - val_acc: 0.8707\n",
            "Epoch 5/20\n",
            "25000/25000 [==============================] - 15s 592us/step - loss: 0.0807 - acc: 0.9862 - val_loss: 0.4955 - val_acc: 0.8821\n",
            "Epoch 6/20\n",
            "25000/25000 [==============================] - 15s 589us/step - loss: 0.0019 - acc: 0.9998 - val_loss: 0.7886 - val_acc: 0.8661\n",
            "Epoch 7/20\n",
            "25000/25000 [==============================] - 15s 583us/step - loss: 0.0975 - acc: 0.9880 - val_loss: 0.6141 - val_acc: 0.8792\n",
            "Epoch 8/20\n",
            "25000/25000 [==============================] - 15s 581us/step - loss: 0.0751 - acc: 0.9900 - val_loss: 0.6042 - val_acc: 0.8654\n",
            "Epoch 9/20\n",
            "25000/25000 [==============================] - 14s 578us/step - loss: 6.2928e-04 - acc: 1.0000 - val_loss: 0.7529 - val_acc: 0.8790\n",
            "Epoch 10/20\n",
            "25000/25000 [==============================] - 14s 578us/step - loss: 6.9553e-05 - acc: 1.0000 - val_loss: 0.9447 - val_acc: 0.8784\n",
            "Epoch 11/20\n",
            "25000/25000 [==============================] - 14s 580us/step - loss: 8.7538e-06 - acc: 1.0000 - val_loss: 1.0852 - val_acc: 0.8779\n",
            "Epoch 12/20\n",
            "25000/25000 [==============================] - 14s 578us/step - loss: 1.0816e-06 - acc: 1.0000 - val_loss: 1.2962 - val_acc: 0.8787\n",
            "Epoch 13/20\n",
            "25000/25000 [==============================] - 14s 579us/step - loss: 1.7330e-07 - acc: 1.0000 - val_loss: 1.4181 - val_acc: 0.8795\n",
            "Epoch 14/20\n",
            "25000/25000 [==============================] - 15s 580us/step - loss: 4.3417e-08 - acc: 1.0000 - val_loss: 1.5260 - val_acc: 0.8791\n",
            "Epoch 15/20\n",
            "25000/25000 [==============================] - 14s 579us/step - loss: 1.9517e-08 - acc: 1.0000 - val_loss: 1.5824 - val_acc: 0.8790\n",
            "Epoch 16/20\n",
            "25000/25000 [==============================] - 15s 581us/step - loss: 1.2676e-08 - acc: 1.0000 - val_loss: 1.6133 - val_acc: 0.8790\n",
            "Epoch 17/20\n",
            "25000/25000 [==============================] - 15s 583us/step - loss: 9.4135e-09 - acc: 1.0000 - val_loss: 1.6368 - val_acc: 0.8790\n",
            "Epoch 18/20\n",
            "25000/25000 [==============================] - 15s 581us/step - loss: 7.4531e-09 - acc: 1.0000 - val_loss: 1.6566 - val_acc: 0.8787\n",
            "Epoch 19/20\n",
            "25000/25000 [==============================] - 15s 580us/step - loss: 6.2133e-09 - acc: 1.0000 - val_loss: 1.6721 - val_acc: 0.8786\n",
            "Epoch 20/20\n",
            "25000/25000 [==============================] - 15s 580us/step - loss: 5.3219e-09 - acc: 1.0000 - val_loss: 1.6840 - val_acc: 0.8786\n"
          ],
          "name": "stdout"
        }
      ]
    },
    {
      "cell_type": "markdown",
      "metadata": {
        "id": "7wHrsZsgAcTU"
      },
      "source": [
        "Here's how the bigger network fares compared to the reference one. The dots are the validation loss values of the bigger network, and the \n",
        "crosses are the initial network."
      ]
    },
    {
      "cell_type": "code",
      "metadata": {
        "id": "URjOJ-zvAcTU",
        "outputId": "b6ad2fb4-172c-49dd-d1dc-82cf0198c46e",
        "colab": {
          "base_uri": "https://localhost:8080/",
          "height": 279
        }
      },
      "source": [
        "bigger_model_val_loss = bigger_model_hist.history['val_loss']\n",
        "\n",
        "plt.plot(epochs, original_val_loss, 'b+', label='Original model')\n",
        "plt.plot(epochs, bigger_model_val_loss, 'bo', label='Bigger model')\n",
        "plt.xlabel('Epochs')\n",
        "plt.ylabel('Validation loss')\n",
        "plt.legend()\n",
        "\n",
        "plt.show()"
      ],
      "execution_count": null,
      "outputs": [
        {
          "output_type": "display_data",
          "data": {
            "image/png": "[encoded data removed]",
            "text/plain": [
              "<Figure size 432x288 with 1 Axes>"
            ]
          },
          "metadata": {
            "tags": [],
            "needs_background": "light"
          }
        }
      ]
    },
    {
      "cell_type": "markdown",
      "metadata": {
        "id": "To2Qpu-jAcTW"
      },
      "source": [
        "\n",
        "The bigger network starts overfitting almost right away, after just one epoch, and overfits much more severely. Its validation loss is also \n",
        "more noisy.\n",
        "\n",
        "Meanwhile, here are the training losses for our two networks:"
      ]
    },
    {
      "cell_type": "code",
      "metadata": {
        "id": "d0t10N5NAcTX",
        "outputId": "718b6cfa-9b73-40f0-8411-fd4f7c61a847",
        "colab": {
          "base_uri": "https://localhost:8080/",
          "height": 279
        }
      },
      "source": [
        "original_train_loss = original_hist.history['loss']\n",
        "bigger_model_train_loss = bigger_model_hist.history['loss']\n",
        "\n",
        "plt.plot(epochs, original_train_loss, 'b+', label='Original model')\n",
        "plt.plot(epochs, bigger_model_train_loss, 'bo', label='Bigger model')\n",
        "plt.xlabel('Epochs')\n",
        "plt.ylabel('Training loss')\n",
        "plt.legend()\n",
        "\n",
        "plt.show()"
      ],
      "execution_count": null,
      "outputs": [
        {
          "output_type": "display_data",
          "data": {
            "image/png": "[encoded data removed]",
            "text/plain": [
              "<Figure size 432x288 with 1 Axes>"
            ]
          },
          "metadata": {
            "tags": [],
            "needs_background": "light"
          }
        }
      ]
    },
    {
      "cell_type": "markdown",
      "metadata": {
        "id": "RRec5cN1AcTZ"
      },
      "source": [
        "As you can see, the bigger network gets its training loss near zero very quickly. The more capacity the network has, the quicker it will be \n",
        "able to model the training data (resulting in a low training loss), but the more susceptible it is to overfitting (resulting in a large \n",
        "difference between the training and validation loss)."
      ]
    },
    {
      "cell_type": "markdown",
      "metadata": {
        "id": "AcJsnrZpAcTZ"
      },
      "source": [
        "## Adding weight regularization\n",
        "\n",
        "\n",
        "You may be familiar with _Occam's Razor_ principle: given two explanations for something, the explanation most likely to be correct is the \n",
        "\"simplest\" one, the one that makes the least amount of assumptions. This also applies to the models learned by neural networks: given some \n",
        "training data and a network architecture, there are multiple sets of weights values (multiple _models_) that could explain the data, and \n",
        "simpler models are less likely to overfit than complex ones.\n",
        "\n",
        "A \"simple model\" in this context is a model where the distribution of parameter values has less entropy (or a model with fewer \n",
        "parameters altogether, as we saw in the section above). Thus a common way to mitigate overfitting is to put constraints on the complexity \n",
        "of a network by forcing its weights to only take small values, which makes the distribution of weight values more \"regular\". This is called \n",
        "\"weight regularization\", and it is done by adding to the loss function of the network a _cost_ associated with having large weights. This \n",
        "cost comes in two flavors:\n",
        "\n",
        "* L1 regularization, where the cost added is proportional to the _absolute value of the weights coefficients_ (i.e. to what is called the \n",
        "\"L1 norm\" of the weights).\n",
        "* L2 regularization, where the cost added is proportional to the _square of the value of the weights coefficients_ (i.e. to what is called \n",
        "the \"L2 norm\" of the weights). L2 regularization is also called _weight decay_ in the context of neural networks. Don't let the different \n",
        "name confuse you: weight decay is mathematically the exact same as L2 regularization.\n",
        "\n",
        "In Keras, weight regularization is added by passing _weight regularizer instances_ to layers as keyword arguments. Let's add L2 weight \n",
        "regularization to our movie review classification network:"
      ]
    },
    {
      "cell_type": "code",
      "metadata": {
        "id": "FmvDHx8nAcTZ"
      },
      "source": [
        "from keras import regularizers\n",
        "\n",
        "l2_model = models.Sequential()\n",
        "l2_model.add(layers.Dense(16, kernel_regularizer=regularizers.l2(0.001),\n",
        "                          activation='relu', input_shape=(10000,)))\n",
        "l2_model.add(layers.Dense(16, kernel_regularizer=regularizers.l2(0.001),\n",
        "                          activation='relu'))\n",
        "l2_model.add(layers.Dense(1, activation='sigmoid'))"
      ],
      "execution_count": null,
      "outputs": []
    },
    {
      "cell_type": "code",
      "metadata": {
        "id": "gtAhmQ6OAcTc"
      },
      "source": [
        "l2_model.compile(optimizer='rmsprop',\n",
        "                 loss='binary_crossentropy',\n",
        "                 metrics=['acc'])"
      ],
      "execution_count": null,
      "outputs": []
    },
    {
      "cell_type": "markdown",
      "metadata": {
        "id": "Kskm2jQ9AcTe"
      },
      "source": [
        "`l2(0.001)` means that every coefficient in the weight matrix of the layer will add `0.001 * weight_coefficient_value` to the total loss of \n",
        "the network. Note that because this penalty is _only added at training time_, the loss for this network will be much higher at training \n",
        "than at test time.\n",
        "\n",
        "Here's the impact of our L2 regularization penalty:"
      ]
    },
    {
      "cell_type": "code",
      "metadata": {
        "id": "_yX4XPnSAcTe",
        "outputId": "02c2c1e0-c9e3-4989-9afa-8a5f8a74b9b8",
        "colab": {
          "base_uri": "https://localhost:8080/",
          "height": 740
        }
      },
      "source": [
        "l2_model_hist = l2_model.fit(x_train, y_train,\n",
        "                             epochs=20,\n",
        "                             batch_size=512,\n",
        "                             validation_data=(x_test, y_test))"
      ],
      "execution_count": null,
      "outputs": [
        {
          "output_type": "stream",
          "text": [
            "Train on 25000 samples, validate on 25000 samples\n",
            "Epoch 1/20\n",
            "25000/25000 [==============================] - 3s 122us/step - loss: 0.4964 - acc: 0.8179 - val_loss: 0.3788 - val_acc: 0.8800\n",
            "Epoch 2/20\n",
            "25000/25000 [==============================] - 3s 118us/step - loss: 0.3140 - acc: 0.9046 - val_loss: 0.3565 - val_acc: 0.8747\n",
            "Epoch 3/20\n",
            "25000/25000 [==============================] - 3s 116us/step - loss: 0.2671 - acc: 0.9224 - val_loss: 0.3276 - val_acc: 0.8889\n",
            "Epoch 4/20\n",
            "25000/25000 [==============================] - 3s 118us/step - loss: 0.2458 - acc: 0.9285 - val_loss: 0.3553 - val_acc: 0.8768\n",
            "Epoch 5/20\n",
            "25000/25000 [==============================] - 3s 116us/step - loss: 0.2343 - acc: 0.9337 - val_loss: 0.3419 - val_acc: 0.8835\n",
            "Epoch 6/20\n",
            "25000/25000 [==============================] - 3s 118us/step - loss: 0.2247 - acc: 0.9375 - val_loss: 0.3718 - val_acc: 0.8741\n",
            "Epoch 7/20\n",
            "25000/25000 [==============================] - 3s 117us/step - loss: 0.2186 - acc: 0.9404 - val_loss: 0.3850 - val_acc: 0.8691\n",
            "Epoch 8/20\n",
            "25000/25000 [==============================] - 3s 119us/step - loss: 0.2139 - acc: 0.9420 - val_loss: 0.4042 - val_acc: 0.8648\n",
            "Epoch 9/20\n",
            "25000/25000 [==============================] - 3s 117us/step - loss: 0.2080 - acc: 0.9467 - val_loss: 0.3709 - val_acc: 0.8767\n",
            "Epoch 10/20\n",
            "25000/25000 [==============================] - 3s 118us/step - loss: 0.2063 - acc: 0.9446 - val_loss: 0.3835 - val_acc: 0.8746\n",
            "Epoch 11/20\n",
            "25000/25000 [==============================] - 3s 117us/step - loss: 0.2003 - acc: 0.9483 - val_loss: 0.3862 - val_acc: 0.8735\n",
            "Epoch 12/20\n",
            "25000/25000 [==============================] - 3s 117us/step - loss: 0.1987 - acc: 0.9488 - val_loss: 0.3978 - val_acc: 0.8712\n",
            "Epoch 13/20\n",
            "25000/25000 [==============================] - 3s 116us/step - loss: 0.1922 - acc: 0.9509 - val_loss: 0.4159 - val_acc: 0.8679\n",
            "Epoch 14/20\n",
            "25000/25000 [==============================] - 3s 118us/step - loss: 0.1886 - acc: 0.9528 - val_loss: 0.4245 - val_acc: 0.8638\n",
            "Epoch 15/20\n",
            "25000/25000 [==============================] - 3s 117us/step - loss: 0.1902 - acc: 0.9508 - val_loss: 0.4037 - val_acc: 0.8712\n",
            "Epoch 16/20\n",
            "25000/25000 [==============================] - 3s 118us/step - loss: 0.1851 - acc: 0.9544 - val_loss: 0.4121 - val_acc: 0.8694\n",
            "Epoch 17/20\n",
            "25000/25000 [==============================] - 3s 117us/step - loss: 0.1817 - acc: 0.9559 - val_loss: 0.4136 - val_acc: 0.8707\n",
            "Epoch 18/20\n",
            "25000/25000 [==============================] - 3s 118us/step - loss: 0.1749 - acc: 0.9578 - val_loss: 0.4578 - val_acc: 0.8570\n",
            "Epoch 19/20\n",
            "25000/25000 [==============================] - 3s 116us/step - loss: 0.1798 - acc: 0.9555 - val_loss: 0.4306 - val_acc: 0.8662\n",
            "Epoch 20/20\n",
            "25000/25000 [==============================] - 3s 117us/step - loss: 0.1723 - acc: 0.9604 - val_loss: 0.4339 - val_acc: 0.8686\n"
          ],
          "name": "stdout"
        }
      ]
    },
    {
      "cell_type": "code",
      "metadata": {
        "id": "uoboDwV6AcTg",
        "outputId": "618ddad4-c5b6-4851-c6ce-17608f684009",
        "colab": {
          "base_uri": "https://localhost:8080/",
          "height": 233
        }
      },
      "source": [
        "l2_model_val_loss = l2_model_hist.history['val_loss']\n",
        "\n",
        "plt.plot(epochs, original_val_loss, 'b+', label='Original model')\n",
        "plt.plot(epochs, l2_model_val_loss, 'bo', label='L2-regularized model')\n",
        "plt.xlabel('Epochs')\n",
        "plt.ylabel('Validation loss')\n",
        "plt.legend()\n",
        "\n",
        "plt.show()"
      ],
      "execution_count": null,
      "outputs": [
        {
          "output_type": "error",
          "ename": "NameError",
          "evalue": "ignored",
          "traceback": [
            "\u001b[0;31m---------------------------------------------------------------------------\u001b[0m",
            "\u001b[0;31mNameError\u001b[0m                                 Traceback (most recent call last)",
            "\u001b[0;32m<ipython-input-27-c837eb1303b0>\u001b[0m in \u001b[0;36m<module>\u001b[0;34m()\u001b[0m\n\u001b[0;32m----> 1\u001b[0;31m \u001b[0ml2_model_val_loss\u001b[0m \u001b[0;34m=\u001b[0m \u001b[0ml2_model_hist\u001b[0m\u001b[0;34m.\u001b[0m\u001b[0mhistory\u001b[0m\u001b[0;34m[\u001b[0m\u001b[0;34m'val_loss'\u001b[0m\u001b[0;34m]\u001b[0m\u001b[0;34m\u001b[0m\u001b[0;34m\u001b[0m\u001b[0m\n\u001b[0m\u001b[1;32m      2\u001b[0m \u001b[0;34m\u001b[0m\u001b[0m\n\u001b[1;32m      3\u001b[0m \u001b[0mplt\u001b[0m\u001b[0;34m.\u001b[0m\u001b[0mplot\u001b[0m\u001b[0;34m(\u001b[0m\u001b[0mepochs\u001b[0m\u001b[0;34m,\u001b[0m \u001b[0moriginal_val_loss\u001b[0m\u001b[0;34m,\u001b[0m \u001b[0;34m'b+'\u001b[0m\u001b[0;34m,\u001b[0m \u001b[0mlabel\u001b[0m\u001b[0;34m=\u001b[0m\u001b[0;34m'Original model'\u001b[0m\u001b[0;34m)\u001b[0m\u001b[0;34m\u001b[0m\u001b[0;34m\u001b[0m\u001b[0m\n\u001b[1;32m      4\u001b[0m \u001b[0mplt\u001b[0m\u001b[0;34m.\u001b[0m\u001b[0mplot\u001b[0m\u001b[0;34m(\u001b[0m\u001b[0mepochs\u001b[0m\u001b[0;34m,\u001b[0m \u001b[0ml2_model_val_loss\u001b[0m\u001b[0;34m,\u001b[0m \u001b[0;34m'bo'\u001b[0m\u001b[0;34m,\u001b[0m \u001b[0mlabel\u001b[0m\u001b[0;34m=\u001b[0m\u001b[0;34m'L2-regularized model'\u001b[0m\u001b[0;34m)\u001b[0m\u001b[0;34m\u001b[0m\u001b[0;34m\u001b[0m\u001b[0m\n\u001b[1;32m      5\u001b[0m \u001b[0mplt\u001b[0m\u001b[0;34m.\u001b[0m\u001b[0mxlabel\u001b[0m\u001b[0;34m(\u001b[0m\u001b[0;34m'Epochs'\u001b[0m\u001b[0;34m)\u001b[0m\u001b[0;34m\u001b[0m\u001b[0;34m\u001b[0m\u001b[0m\n",
            "\u001b[0;31mNameError\u001b[0m: name 'l2_model_hist' is not defined"
          ]
        }
      ]
    },
    {
      "cell_type": "markdown",
      "metadata": {
        "id": "qBERcv_EAcTi"
      },
      "source": [
        "\n",
        "\n",
        "As you can see, the model with L2 regularization (dots) has become much more resistant to overfitting than the reference model (crosses), \n",
        "even though both models have the same number of parameters.\n",
        "\n",
        "As alternatives to L2 regularization, you could use one of the following Keras weight regularizers:"
      ]
    },
    {
      "cell_type": "code",
      "metadata": {
        "id": "EWLzMjmxAcTj",
        "outputId": "bf883425-08da-4e33-d24e-7d8686d51d31",
        "colab": {
          "base_uri": "https://localhost:8080/",
          "height": 34
        }
      },
      "source": [
        "from keras import regularizers\n",
        "\n",
        "# L1 regularization\n",
        "regularizers.l1(0.001)\n",
        "\n",
        "# L1 and L2 regularization at the same time\n",
        "regularizers.l1_l2(l1=0.001, l2=0.001)"
      ],
      "execution_count": null,
      "outputs": [
        {
          "output_type": "execute_result",
          "data": {
            "text/plain": [
              "<keras.regularizers.L1L2 at 0x7f41f812bd30>"
            ]
          },
          "metadata": {
            "tags": []
          },
          "execution_count": 17
        }
      ]
    },
    {
      "cell_type": "markdown",
      "metadata": {
        "id": "bNa3YsS5AcTl"
      },
      "source": [
        "## Adding dropout\n",
        "\n",
        "\n",
        "Dropout is one of the most effective and most commonly used regularization techniques for neural networks, developed by Hinton and his \n",
        "students at the University of Toronto. Dropout, applied to a layer, consists of randomly \"dropping out\" (i.e. setting to zero) a number of \n",
        "output features of the layer during training. Let's say a given layer would normally have returned a vector `[0.2, 0.5, 1.3, 0.8, 1.1]` for a \n",
        "given input sample during training; after applying dropout, this vector will have a few zero entries distributed at random, e.g. `[0, 0.5, \n",
        "1.3, 0, 1.1]`. The \"dropout rate\" is the fraction of the features that are being zeroed-out; it is usually set between 0.2 and 0.5. At test \n",
        "time, no units are dropped out, and instead the layer's output values are scaled down by a factor equal to the dropout rate, so as to \n",
        "balance for the fact that more units are active than at training time.\n",
        "\n",
        "Consider a Numpy matrix containing the output of a layer, `layer_output`, of shape `(batch_size, features)`. At training time, we would be \n",
        "zero-ing out at random a fraction of the values in the matrix:"
      ]
    },
    {
      "cell_type": "markdown",
      "metadata": {
        "id": "1VOuvoNTCz6q"
      },
      "source": [
        ""
      ]
    },
    {
      "cell_type": "code",
      "metadata": {
        "id": "Pw6FQBHXAcTl"
      },
      "source": [
        "# At training time: we drop out 50% of the units in the output\n",
        "layer_output *= np.randint(0, high=2, size=layer_output.shape)"
      ],
      "execution_count": null,
      "outputs": []
    },
    {
      "cell_type": "markdown",
      "metadata": {
        "id": "TrXuveHnAcTn"
      },
      "source": [
        "\n",
        "At test time, we would be scaling the output down by the dropout rate. Here we scale by 0.5 (because we were previous dropping half the \n",
        "units):"
      ]
    },
    {
      "cell_type": "code",
      "metadata": {
        "id": "IIMiQNpuAcTn"
      },
      "source": [
        "# At test time:\n",
        "layer_output *= 0.5"
      ],
      "execution_count": null,
      "outputs": []
    },
    {
      "cell_type": "markdown",
      "metadata": {
        "id": "vgAENYOVAcTp"
      },
      "source": [
        "\n",
        "Note that this process can be implemented by doing both operations at training time and leaving the output unchanged at test time, which is \n",
        "often the way it is implemented in practice:"
      ]
    },
    {
      "cell_type": "code",
      "metadata": {
        "id": "qU3box72AcTp"
      },
      "source": [
        "# At training time:\n",
        "layer_output *= np.randint(0, high=2, size=layer_output.shape)\n",
        "# Note that we are scaling *up* rather scaling *down* in this case\n",
        "layer_output /= 0.5"
      ],
      "execution_count": null,
      "outputs": []
    },
    {
      "cell_type": "markdown",
      "metadata": {
        "id": "_NFjjQ33AcTr"
      },
      "source": [
        "\n",
        "This technique may seem strange and arbitrary. Why would this help reduce overfitting? Geoff Hinton has said that he was inspired, among \n",
        "other things, by a fraud prevention mechanism used by banks -- in his own words: _\"I went to my bank. The tellers kept changing and I asked \n",
        "one of them why. He said he didn’t know but they got moved around a lot. I figured it must be because it would require cooperation \n",
        "between employees to successfully defraud the bank. This made me realize that randomly removing a different subset of neurons on each \n",
        "example would prevent conspiracies and thus reduce overfitting\"_.\n",
        "\n",
        "The core idea is that introducing noise in the output values of a layer can break up happenstance patterns that are not significant (what \n",
        "Hinton refers to as \"conspiracies\"), which the network would start memorizing if no noise was present. \n",
        "\n",
        "In Keras you can introduce dropout in a network via the `Dropout` layer, which gets applied to the output of layer right before it, e.g.:"
      ]
    },
    {
      "cell_type": "code",
      "metadata": {
        "id": "6Fhm68cCAcTr",
        "outputId": "eb344195-c3cf-4443-e12b-f9f3a1098635",
        "colab": {
          "base_uri": "https://localhost:8080/",
          "height": 164
        }
      },
      "source": [
        "model.add(layers.Dropout(0.5))"
      ],
      "execution_count": null,
      "outputs": [
        {
          "output_type": "error",
          "ename": "NameError",
          "evalue": "ignored",
          "traceback": [
            "\u001b[0;31m---------------------------------------------------------------------------\u001b[0m",
            "\u001b[0;31mNameError\u001b[0m                                 Traceback (most recent call last)",
            "\u001b[0;32m<ipython-input-20-65ed89de200e>\u001b[0m in \u001b[0;36m<module>\u001b[0;34m()\u001b[0m\n\u001b[0;32m----> 1\u001b[0;31m \u001b[0mmodel\u001b[0m\u001b[0;34m.\u001b[0m\u001b[0madd\u001b[0m\u001b[0;34m(\u001b[0m\u001b[0mlayers\u001b[0m\u001b[0;34m.\u001b[0m\u001b[0mDropout\u001b[0m\u001b[0;34m(\u001b[0m\u001b[0;36m0.5\u001b[0m\u001b[0;34m)\u001b[0m\u001b[0;34m)\u001b[0m\u001b[0;34m\u001b[0m\u001b[0;34m\u001b[0m\u001b[0m\n\u001b[0m",
            "\u001b[0;31mNameError\u001b[0m: name 'model' is not defined"
          ]
        }
      ]
    },
    {
      "cell_type": "markdown",
      "metadata": {
        "id": "S0C-41CKAcTu"
      },
      "source": [
        "Let's add two `Dropout` layers in our IMDB network to see how well they do at reducing overfitting:"
      ]
    },
    {
      "cell_type": "code",
      "metadata": {
        "id": "NkGpSJgFAcTu"
      },
      "source": [
        "dpt_model = models.Sequential()\n",
        "dpt_model.add(layers.Dense(16, activation='relu', input_shape=(10000,)))\n",
        "dpt_model.add(layers.Dropout(0.5))\n",
        "dpt_model.add(layers.Dense(16, activation='relu'))\n",
        "dpt_model.add(layers.Dropout(0.5))\n",
        "dpt_model.add(layers.Dense(1, activation='sigmoid'))\n",
        "\n",
        "dpt_model.compile(optimizer='rmsprop',\n",
        "                  loss='binary_crossentropy',\n",
        "                  metrics=['acc'])"
      ],
      "execution_count": null,
      "outputs": []
    },
    {
      "cell_type": "code",
      "metadata": {
        "id": "NwUfilOTAcTw",
        "outputId": "a3732ced-7e90-428f-bb25-6db73f9941d7",
        "colab": {
          "base_uri": "https://localhost:8080/",
          "height": 740
        }
      },
      "source": [
        "dpt_model_hist = dpt_model.fit(x_train, y_train,\n",
        "                               epochs=20,\n",
        "                               batch_size=512,\n",
        "                               validation_data=(x_test, y_test))"
      ],
      "execution_count": null,
      "outputs": [
        {
          "output_type": "stream",
          "text": [
            "Train on 25000 samples, validate on 25000 samples\n",
            "Epoch 1/20\n",
            "25000/25000 [==============================] - 3s 123us/step - loss: 0.5776 - acc: 0.7046 - val_loss: 0.4350 - val_acc: 0.8686\n",
            "Epoch 2/20\n",
            "25000/25000 [==============================] - 3s 118us/step - loss: 0.4275 - acc: 0.8337 - val_loss: 0.3432 - val_acc: 0.8800\n",
            "Epoch 3/20\n",
            "25000/25000 [==============================] - 3s 119us/step - loss: 0.3464 - acc: 0.8757 - val_loss: 0.2945 - val_acc: 0.8864\n",
            "Epoch 4/20\n",
            "25000/25000 [==============================] - 3s 123us/step - loss: 0.2938 - acc: 0.8998 - val_loss: 0.2802 - val_acc: 0.8895\n",
            "Epoch 5/20\n",
            "25000/25000 [==============================] - 3s 115us/step - loss: 0.2559 - acc: 0.9133 - val_loss: 0.2820 - val_acc: 0.8873\n",
            "Epoch 6/20\n",
            "25000/25000 [==============================] - 3s 117us/step - loss: 0.2327 - acc: 0.9233 - val_loss: 0.2912 - val_acc: 0.8851\n",
            "Epoch 7/20\n",
            "25000/25000 [==============================] - 3s 116us/step - loss: 0.2070 - acc: 0.9348 - val_loss: 0.3088 - val_acc: 0.8871\n",
            "Epoch 8/20\n",
            "25000/25000 [==============================] - 3s 119us/step - loss: 0.1934 - acc: 0.9371 - val_loss: 0.3312 - val_acc: 0.8830\n",
            "Epoch 9/20\n",
            "25000/25000 [==============================] - 3s 116us/step - loss: 0.1752 - acc: 0.9437 - val_loss: 0.3423 - val_acc: 0.8834\n",
            "Epoch 10/20\n",
            "25000/25000 [==============================] - 3s 118us/step - loss: 0.1658 - acc: 0.9476 - val_loss: 0.3756 - val_acc: 0.8831\n",
            "Epoch 11/20\n",
            "25000/25000 [==============================] - 3s 117us/step - loss: 0.1570 - acc: 0.9502 - val_loss: 0.3840 - val_acc: 0.8735\n",
            "Epoch 12/20\n",
            "25000/25000 [==============================] - 3s 118us/step - loss: 0.1500 - acc: 0.9536 - val_loss: 0.4054 - val_acc: 0.8769\n",
            "Epoch 13/20\n",
            "25000/25000 [==============================] - 3s 115us/step - loss: 0.1421 - acc: 0.9561 - val_loss: 0.4347 - val_acc: 0.8784\n",
            "Epoch 14/20\n",
            "25000/25000 [==============================] - 3s 118us/step - loss: 0.1332 - acc: 0.9596 - val_loss: 0.4639 - val_acc: 0.8767\n",
            "Epoch 15/20\n",
            "25000/25000 [==============================] - 3s 117us/step - loss: 0.1320 - acc: 0.9593 - val_loss: 0.4774 - val_acc: 0.8706\n",
            "Epoch 16/20\n",
            "25000/25000 [==============================] - 3s 118us/step - loss: 0.1283 - acc: 0.9603 - val_loss: 0.5114 - val_acc: 0.8765\n",
            "Epoch 17/20\n",
            "25000/25000 [==============================] - 3s 116us/step - loss: 0.1218 - acc: 0.9633 - val_loss: 0.5422 - val_acc: 0.8740\n",
            "Epoch 18/20\n",
            "25000/25000 [==============================] - 3s 118us/step - loss: 0.1238 - acc: 0.9637 - val_loss: 0.5419 - val_acc: 0.8716\n",
            "Epoch 19/20\n",
            "25000/25000 [==============================] - 3s 116us/step - loss: 0.1215 - acc: 0.9634 - val_loss: 0.5586 - val_acc: 0.8709\n",
            "Epoch 20/20\n",
            "25000/25000 [==============================] - 3s 116us/step - loss: 0.1173 - acc: 0.9650 - val_loss: 0.5633 - val_acc: 0.8570\n"
          ],
          "name": "stdout"
        }
      ]
    },
    {
      "cell_type": "markdown",
      "metadata": {
        "id": "Cespws-BAcT1"
      },
      "source": [
        "Let's plot the results:"
      ]
    },
    {
      "cell_type": "code",
      "metadata": {
        "id": "GC-MnnsnAcT1",
        "outputId": "084688b2-dd34-461c-d8a2-5e57fe1f43aa",
        "colab": {
          "base_uri": "https://localhost:8080/",
          "height": 279
        }
      },
      "source": [
        "dpt_model_val_loss = dpt_model_hist.history['val_loss']\n",
        "\n",
        "plt.plot(epochs, original_val_loss, 'b+', label='Original model')\n",
        "plt.plot(epochs, dpt_model_val_loss, 'bo', label='Dropout-regularized model')\n",
        "plt.xlabel('Epochs')\n",
        "plt.ylabel('Validation loss')\n",
        "plt.legend()\n",
        "\n",
        "plt.show()"
      ],
      "execution_count": null,
      "outputs": [
        {
          "output_type": "display_data",
          "data": {
            "image/png": "[encoded data removed]",
            "text/plain": [
              "<Figure size 432x288 with 1 Axes>"
            ]
          },
          "metadata": {
            "tags": [],
            "needs_background": "light"
          }
        }
      ]
    },
    {
      "cell_type": "markdown",
      "metadata": {
        "id": "0uI2N1cWAcT3"
      },
      "source": [
        "\n",
        "Again, a clear improvement over the reference network.\n",
        "\n",
        "To recap: here the most common ways to prevent overfitting in neural networks:\n",
        "\n",
        "* Getting more training data.\n",
        "* Reducing the capacity of the network.\n",
        "* Adding weight regularization.\n",
        "* Adding dropout."
      ]
    }
  ]
}