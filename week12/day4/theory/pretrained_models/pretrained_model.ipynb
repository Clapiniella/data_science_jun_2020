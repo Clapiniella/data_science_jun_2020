{
 "metadata": {
  "language_info": {
   "codemirror_mode": {
    "name": "ipython",
    "version": 3
   },
   "file_extension": ".py",
   "mimetype": "text/x-python",
   "name": "python",
   "nbconvert_exporter": "python",
   "pygments_lexer": "ipython3",
   "version": "3.6.4-final"
  },
  "orig_nbformat": 2,
  "kernelspec": {
   "name": "Python 3.6.4 64-bit",
   "display_name": "Python 3.6.4 64-bit",
   "metadata": {
    "interpreter": {
     "hash": "5c4d2f1fdcd3716c7a5eea90ad07be30193490dd4e63617705244f5fd89ea793"
    }
   }
  }
 },
 "nbformat": 4,
 "nbformat_minor": 2,
 "cells": [
  {
   "cell_type": "code",
   "execution_count": 42,
   "metadata": {},
   "outputs": [],
   "source": [
    "import tensorflow as tf\n",
    "from tensorflow.keras.preprocessing import image\n",
    "from tensorflow.keras import datasets, layers, models\n",
    "import matplotlib.pyplot as plt\n",
    "import numpy as np\n",
    "\n",
    "from tensorflow.keras.applications.resnet_v2 import ResNet50V2, decode_predictions, preprocess_input"
   ]
  },
  {
   "cell_type": "code",
   "execution_count": 48,
   "metadata": {
    "tags": []
   },
   "outputs": [],
   "source": [
    "#http://www.image-net.org/\n",
    "base_model = ResNet50V2(input_shape=(224, 224,3), include_top=True, weights=\"imagenet\", classifier_activation=\"softmax\")"
   ]
  },
  {
   "cell_type": "code",
   "execution_count": 83,
   "metadata": {
    "tags": []
   },
   "outputs": [
    {
     "output_type": "stream",
     "name": "stdout",
     "text": "x_dimns: (224, 224, 3)\n"
    },
    {
     "output_type": "execute_result",
     "data": {
      "text/plain": "(1, 224, 224, 3)"
     },
     "metadata": {},
     "execution_count": 83
    }
   ],
   "source": [
    "#img_path = 'horse.jpg'\n",
    "img_path = 'poodle.jpg'\n",
    "img = image.load_img(img_path, target_size=(224, 224,3))\n",
    "x = image.img_to_array(img)\n",
    "print(\"x_dimns:\", x.shape)\n",
    "x = np.expand_dims(x, axis=0)\n",
    "x.shape"
   ]
  },
  {
   "cell_type": "code",
   "execution_count": 81,
   "metadata": {},
   "outputs": [
    {
     "output_type": "execute_result",
     "data": {
      "text/plain": "(1, 224, 224, 3)"
     },
     "metadata": {},
     "execution_count": 81
    }
   ],
   "source": [
    "# Normaliza la imagen tal y como se hizo con las imágenes entrenadas en el modelo\n",
    "x = preprocess_input(x)\n",
    "x.shape"
   ]
  },
  {
   "cell_type": "code",
   "execution_count": 82,
   "metadata": {
    "tags": []
   },
   "outputs": [
    {
     "output_type": "stream",
     "name": "stdout",
     "text": "Predicted:\n (&#39;n02113799&#39;, &#39;standard_poodle&#39;, 0.7325748)\nPredicted:\n (&#39;n02113712&#39;, &#39;miniature_poodle&#39;, 0.25567994)\nPredicted:\n (&#39;n02113624&#39;, &#39;toy_poodle&#39;, 0.010026402)\n"
    }
   ],
   "source": [
    "preds = base_model.predict(x)\n",
    "\n",
    "# decode the results into a list of tuples (class, description, probability)\n",
    "decodes = decode_predictions(preds, top=3)[0]\n",
    "\n",
    "for i,decode in enumerate(decodes):\n",
    "    print('Predicted:\\n', decode)"
   ]
  }
 ]
}