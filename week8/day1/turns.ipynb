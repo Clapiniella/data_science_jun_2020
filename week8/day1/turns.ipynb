{
 "metadata": {
  "language_info": {
   "codemirror_mode": {
    "name": "ipython",
    "version": 3
   },
   "file_extension": ".py",
   "mimetype": "text/x-python",
   "name": "python",
   "nbconvert_exporter": "python",
   "pygments_lexer": "ipython3",
   "version": 3
  },
  "orig_nbformat": 2,
  "kernelspec": {
   "name": "python_defaultSpec_1598863907633",
   "display_name": "Python 3.6.4 64-bit"
  }
 },
 "nbformat": 4,
 "nbformat_minor": 2,
 "cells": [
  {
   "cell_type": "markdown",
   "metadata": {},
   "source": [
    "### Turnos de grupos\n",
    "\n",
    "Durante el jueves se realizarán a las presentaciones de los grupos a partir de las 9:10 am."
   ]
  },
  {
   "cell_type": "code",
   "execution_count": 11,
   "metadata": {},
   "outputs": [
    {
     "output_type": "execute_result",
     "data": {
      "text/plain": "['C', 'D', 'B', 'A']"
     },
     "metadata": {},
     "execution_count": 11
    }
   ],
   "source": [
    "# ['D', 'C', 'B', 'A']\n",
    "\n",
    "import random, pandas, numpy \n",
    "\n",
    "grupos = [\"A\", \"B\", \"C\", \"D\"]\n",
    "\n",
    "random.shuffle(grupos)\n",
    "grupos"
   ]
  },
  {
   "cell_type": "markdown",
   "metadata": {},
   "source": [
    "### Turnos individuales\n",
    "\n",
    "Durante el viernes se empezarán a realizar las presentaciones de los proyectos individuales a partir de las 9:10 am."
   ]
  },
  {
   "cell_type": "code",
   "execution_count": 13,
   "metadata": {},
   "outputs": [],
   "source": [
    "lista_alumnos = [[\"Jalex\", 6, 47, 1.80], [\"Tomas\", 5, 31, 1.80], [\"David\", 6, 39, 1.81], [\"Natalio\", 2, 29, 1.73], [\"Monica\", 3, 47, 1.73], [\"Roxanna\", 4,24,1.75], [\"Filipa\", 5,34,1.64], [\"Elsa\", 4, 36, 1.89], [\"Cristina\", 3, 46, 1.70], [\"Alba\", 3, 29, 1.68], [\"Valeria\",1, 40, 1.60], [\"Jose Luis\", 4, 47, 1.69], [\"Rochi\", 2, 38, 1.60], [\"Jose Maria\", 5, 51, 1.75]]\n",
    "\n",
    "nombre_alumnos = []\n",
    "\n",
    "for x in lista_alumnos:\n",
    "    nombre_alumnos.append(x[0])\n",
    "\n",
    "random.shuffle(nombre_alumnos)\n"
   ]
  },
  {
   "cell_type": "code",
   "execution_count": 15,
   "metadata": {},
   "outputs": [
    {
     "output_type": "execute_result",
     "data": {
      "text/plain": "['Jalex',\n 'Tomas',\n 'David',\n 'Natalio',\n 'Monica',\n 'Roxanna',\n 'Filipa',\n 'Elsa',\n 'Cristina',\n 'Alba',\n 'Valeria',\n 'Jose Luis',\n 'Rochi',\n 'Jose Maria']"
     },
     "metadata": {},
     "execution_count": 15
    }
   ],
   "source": [
    "nombre_alumnos2 = [x[0] for x in lista_alumnos]\n",
    "nombre_alumnos2"
   ]
  },
  {
   "cell_type": "code",
   "execution_count": 14,
   "metadata": {},
   "outputs": [
    {
     "output_type": "execute_result",
     "data": {
      "text/plain": "['David',\n 'Valeria',\n 'Natalio',\n 'Alba',\n 'Elsa',\n 'Tomas',\n 'Roxanna',\n 'Cristina',\n 'Rochi',\n 'Jose Luis',\n 'Jose Maria',\n 'Jalex',\n 'Monica',\n 'Filipa']"
     },
     "metadata": {},
     "execution_count": 14
    }
   ],
   "source": [
    "nombre_alumnos"
   ]
  },
  {
   "cell_type": "code",
   "execution_count": null,
   "metadata": {},
   "outputs": [],
   "source": []
  }
 ]
}