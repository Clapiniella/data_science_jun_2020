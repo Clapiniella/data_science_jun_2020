{
 "metadata": {
  "language_info": {
   "codemirror_mode": {
    "name": "ipython",
    "version": 3
   },
   "file_extension": ".py",
   "mimetype": "text/x-python",
   "name": "python",
   "nbconvert_exporter": "python",
   "pygments_lexer": "ipython3",
   "version": "3.6.4-final"
  },
  "orig_nbformat": 2,
  "kernelspec": {
   "name": "python_defaultSpec_1598914975750",
   "display_name": "Python 3.6.4 64-bit ('env': venv)"
  }
 },
 "nbformat": 4,
 "nbformat_minor": 2,
 "cells": [
  {
   "cell_type": "markdown",
   "metadata": {},
   "source": [
    "### Se pide, usando regresión lineal:\n",
    "\n",
    "Dibujar con una línea la relación que hay entre la altura y la edad de los alumnos de la clase: \n",
    "\n",
    "- ¿Es una buena técnica para este tipo de problemas? ¿Por qué? \n",
    "- ¿Qué error se comete? Calcula los errores que está cometiendo tu modelo uno a uno (lo tienes que calcular tú con python). Aparte, usa el MSE y el RMSE. ¿Alguno es mejor para este problema?\n",
    "- Representa la matriz de correlación, ¿los datos están correlacionados?\n",
    "- ¿Qué ocurre si la altura se multiplica por dos? ¿Y si se multiplica solo la edad? "
   ]
  },
  {
   "cell_type": "code",
   "execution_count": 1,
   "metadata": {},
   "outputs": [],
   "source": [
    "lista_alumnos = [[\"Jalex\", 6, 47, 1.80], [\"Tomas\", 5, 31, 1.80], [\"David\", 6, 39, 1.81], [\"Natalio\", 2, 29, 1.73], [\"Monica\", 3, 47, 1.73], [\"Roxanna\", 4,24,1.75], [\"Filipa\", 5,34,1.64], [\"Elsa\", 4, 36, 1.89], [\"Cristina\", 3, 46, 1.70], [\"Alba\", 3, 29, 1.68], [\"Valeria\",1, 40, 1.60], [\"Jose Luis\", 4, 47, 1.69], [\"Rochi\", 2, 38, 1.60], [\"Jose Maria\", 5, 51, 1.75]]"
   ]
  }
 ]
}