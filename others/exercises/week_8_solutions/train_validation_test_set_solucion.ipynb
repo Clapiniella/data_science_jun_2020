{
 "cells": [
  {
   "cell_type": "markdown",
   "metadata": {},
   "source": [
    "1. \n",
    "\n",
    "Crear una función que reciba cuatro parámetros: una lista 'L', un número 'T', un número 'V' y un booleano 'S'. La función debe devolver otras dos listas: \"lista_train_val\" y \"lista_test\".\n",
    "\n",
    "- \"lista_train_val\" es una lista con dos elementos. Cada elemento es una lista: \"list_train\", que representa el conjunto de entrenamiento y \"list_val\", que representa el conjunto de validación. \n",
    "- \"list_test\" es el conjunto de test. Como mínimo ha de tener 1 elemento (si 'L' > 1).\n",
    "- \"L\" es cualquier lista de elementos. Al principio, entra con un tamaño completo (100%). Esta es la lista que se partirá y se generarán los conjuntos entrenamiento, de validación y de test.\n",
    "- \"T\" es un número entre 1 y 100 que va a representar el tamaño, en porcentaje, del conjunto de test \"list_test\". \n",
    "- \"V\" es un número entre 0 y 100 que va a representar el tamaño, en porcentaje, del conjunto de validación \"list_val\". Su valor por defecto es 0.\n",
    "- \"S\", que por defecto es False, determinará si los conjuntos \"list_train\", \"list_test\" y \"list_val\" son aleatoriamente ordenados. ¿Encuentras alguna posible incoherencia si se reordenan aleatoriamente?\n",
    "\n",
    "Prueba la función con una lista de 100 elementos números aleatorios del 0 al 100. \n",
    "\n",
    "2. \n",
    "\n",
    "Rehacer el ejercicio anterior en otra función para que no devuelva dos listas, sino los tres conjuntos: \n",
    "\n",
    "--> return list_train, list_val, list_test "
   ]
  },
  {
   "cell_type": "code",
   "execution_count": 17,
   "metadata": {},
   "outputs": [],
   "source": [
    "import random\n",
    "import numpy as np\n",
    "import math"
   ]
  },
  {
   "cell_type": "code",
   "execution_count": 40,
   "metadata": {},
   "outputs": [],
   "source": [
    "def two_list_train_test(L, T, V=0, S=False):\n",
    "    '''\n",
    "    Esta función recibe cuatro parámetros: una lista 'L', un número 'T', un número 'V' y un booleano 'S'\n",
    "    La función devuelve dos listas: \"lista_train_val\" y \"lista_test\", esta última con dos elementos\n",
    "    '''\n",
    "    lista_train_val = []\n",
    "\n",
    "    test_size = int((len(L))*(T/100))\n",
    "    \n",
    "    lista_test = L[:test_size]\n",
    "    lista_to_split = L[test_size:]\n",
    "    \n",
    "    val_size = int((len(lista_to_split))*(V/100))    \n",
    "    \n",
    "    lista_train_val.append(lista_to_split[val_size:])\n",
    "    lista_train_val.append(lista_to_split[:val_size])\n",
    "    \n",
    "    lists = [lista_train_val[0], lista_train_val[1], lista_test]\n",
    "    \n",
    "    for lista in lists: \n",
    "        if S==False:\n",
    "            lista.sort()\n",
    "        else:\n",
    "            random.shuffle(lista)\n",
    "            \n",
    "    print(\"#####################\")\n",
    "    print(f\"The len of the train list is: {len(lista_train_val[0])}\")\n",
    "    print()\n",
    "    print(f\"The len of the validation list is: {len(lista_train_val[1])}\")\n",
    "    print()\n",
    "    print(f\"The len of the test list is: {len(lista_test)}\")\n",
    "    print(\"#####################\")\n",
    "    print()\n",
    "    \n",
    "    return lista_train_val, lista_test"
   ]
  },
  {
   "cell_type": "code",
   "execution_count": 41,
   "metadata": {},
   "outputs": [
    {
     "name": "stdout",
     "output_type": "stream",
     "text": [
      "[36, 61, 32, 76, 4, 87, 80, 59, 34, 41, 16, 57, 78, 98, 63, 93, 38, 53, 46, 33, 88, 50, 35, 40, 68, 97, 62, 45, 9, 84, 42, 10, 67, 72, 60, 19, 22, 79, 6, 92, 27, 30, 21, 52, 95, 15, 20, 77, 11, 26, 17, 96, 48, 70, 58, 28, 74, 86, 0, 18, 43, 54, 65, 1, 99, 5, 81, 89, 85, 51, 3, 55, 37, 47, 71, 13, 7, 66, 14, 69, 91, 23, 82, 83, 24, 29, 44, 75, 64, 56, 73, 2, 94, 12, 25, 31, 39, 49, 8, 90]\n"
     ]
    }
   ],
   "source": [
    "# genera una lista de 100 numeros random de 0 a 100\n",
    "randomlist = random.sample(range(0, 100), 100)\n",
    "print(randomlist)"
   ]
  },
  {
   "cell_type": "code",
   "execution_count": 42,
   "metadata": {},
   "outputs": [
    {
     "name": "stdout",
     "output_type": "stream",
     "text": [
      "#####################\n",
      "The len of the train list is: 56\n",
      "\n",
      "The len of the validation list is: 24\n",
      "\n",
      "The len of the test list is: 20\n",
      "#####################\n",
      "\n",
      "([[69, 73, 26, 70, 3, 56, 20, 96, 77, 99, 91, 25, 1, 37, 17, 14, 65, 31, 85, 29, 66, 51, 7, 49, 15, 23, 44, 82, 86, 8, 95, 71, 39, 90, 74, 81, 12, 94, 83, 11, 55, 89, 24, 18, 58, 54, 75, 0, 48, 64, 2, 28, 43, 5, 47, 13], [97, 60, 72, 30, 79, 45, 92, 50, 42, 52, 27, 6, 19, 67, 21, 35, 88, 22, 40, 84, 68, 62, 9, 10]], [80, 87, 98, 38, 63, 16, 32, 78, 33, 53, 61, 57, 41, 34, 59, 4, 36, 93, 46, 76])\n"
     ]
    }
   ],
   "source": [
    "print(two_list_train_test(L=randomlist, T=20, V=30, S=True))"
   ]
  },
  {
   "cell_type": "code",
   "execution_count": 43,
   "metadata": {},
   "outputs": [
    {
     "name": "stdout",
     "output_type": "stream",
     "text": [
      "Help on function two_list_train_test in module __main__:\n",
      "\n",
      "two_list_train_test(L, T, V=0, S=False)\n",
      "    Esta función recibe cuatro parámetros: una lista 'L', un número 'T', un número 'V' y un booleano 'S'\n",
      "    La función devuelve dos listas: \"lista_train_val\" y \"lista_test\", esta última con dos elementos\n",
      "\n"
     ]
    }
   ],
   "source": [
    "help(two_list_train_test)"
   ]
  }
 ],
 "metadata": {
  "kernelspec": {
   "display_name": "Python 3",
   "language": "python",
   "name": "python3"
  },
  "language_info": {
   "codemirror_mode": {
    "name": "ipython",
    "version": 3
   },
   "file_extension": ".py",
   "mimetype": "text/x-python",
   "name": "python",
   "nbconvert_exporter": "python",
   "pygments_lexer": "ipython3",
   "version": "3.8.3"
  }
 },
 "nbformat": 4,
 "nbformat_minor": 2
}
