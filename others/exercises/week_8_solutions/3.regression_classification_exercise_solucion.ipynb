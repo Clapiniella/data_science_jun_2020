{
 "cells": [
  {
   "cell_type": "markdown",
   "metadata": {},
   "source": [
    "### Nivel intermedio:\n",
    "\n",
    "Hacer con objetivo de preparar entrevista técnica y tener un código reutilizable, útil y funcional."
   ]
  },
  {
   "cell_type": "code",
   "execution_count": 1,
   "metadata": {},
   "outputs": [],
   "source": [
    "import pandas as pd\n",
    "import numpy as np\n",
    "\n",
    "from sklearn.model_selection import train_test_split\n",
    "\n",
    "from sklearn.neighbors import KNeighborsClassifier\n",
    "from sklearn.linear_model import LinearRegression, LogisticRegression\n",
    "\n",
    "from sklearn import metrics"
   ]
  },
  {
   "cell_type": "markdown",
   "metadata": {},
   "source": [
    "1. \n",
    "\n",
    "Crea un programa que pregunte al usuario qué tipo de algoritmo desea utilizar (entre regresión lineal, regresión logística y Knn).\n",
    "\n",
    "Se presupone que el usuario proporcionará un dataframe con los datos a entrenar, el nombre de la columna target que está en el dataframe.\n",
    "\n",
    "El programa debe contener, como mínimo, estas tres funciones tal que así:"
   ]
  },
  {
   "cell_type": "markdown",
   "metadata": {},
   "source": [
    "\"choose_model\" recibe:\n",
    "\n",
    "- 'option_user': la opción del usuario. \n",
    "- 'params': es un diccionario que puede contener ciertos parámetros necesarios para la creación de los modelos (por ejemplo, el valor k para el algoritmo Knn). Por defecto, su valor es None.\n",
    "\n",
    "Deberá crear el modelo necesario sin entrenar, retornándolo al final."
   ]
  },
  {
   "cell_type": "code",
   "execution_count": 2,
   "metadata": {},
   "outputs": [],
   "source": [
    "def choose_model(option_user, params=None):\n",
    "    '''\n",
    "    Para el primer parámetro actualmente solo disponemos de tres opciones: \n",
    "    \n",
    "    - Regresión: regresion lineal (1)\n",
    "    - Clasificación: regresion logistica (2) o knn (3)\n",
    "    Inserta una de estas opciones.\n",
    "    \n",
    "    Para el segundo parámetro actualmente solo recogemos la \"k\" de KneighborsClassifier\n",
    "    '''\n",
    "    # your code\n",
    "    if option_user == 1:\n",
    "        model = LinearRegression() \n",
    "    elif option_user == 2:\n",
    "        model = LogisticRegression()\n",
    "    elif option_user == 3:\n",
    "        if params:\n",
    "            if \"k\" in params.keys():\n",
    "                model = KNeighborsClassifier(params[\"k\"])\n",
    "            else: \n",
    "                raise Exception(\"Solo conozco el parámetro 'k'\")\n",
    "        else: \n",
    "            model = KneighborsClassifier()\n",
    "    else:\n",
    "        raise Exception(\"Actualmente solo disponemos de tres opciones [regresion linear, regresión logística, knn]\")\n",
    "    return model"
   ]
  },
  {
   "cell_type": "code",
   "execution_count": 3,
   "metadata": {},
   "outputs": [],
   "source": [
    "param = {\"k\":3}"
   ]
  },
  {
   "cell_type": "code",
   "execution_count": 4,
   "metadata": {},
   "outputs": [
    {
     "data": {
      "text/plain": [
       "LogisticRegression()"
      ]
     },
     "execution_count": 4,
     "metadata": {},
     "output_type": "execute_result"
    }
   ],
   "source": [
    "choose_model(2, param)"
   ]
  },
  {
   "cell_type": "code",
   "execution_count": 5,
   "metadata": {},
   "outputs": [
    {
     "name": "stdout",
     "output_type": "stream",
     "text": [
      "Help on function choose_model in module __main__:\n",
      "\n",
      "choose_model(option_user, params=None)\n",
      "    Para el primer parámetro actualmente solo disponemos de tres opciones: \n",
      "    \n",
      "    - Regresión: regresion lineal (1)\n",
      "    - Clasificación: regresion logistica (2) o knn (3)\n",
      "    Inserta una de estas opciones.\n",
      "    \n",
      "    Para el segundo parámetro actualmente solo recogemos la \"k\" de KneighborsClassifier\n",
      "\n"
     ]
    }
   ],
   "source": [
    "help(choose_model)"
   ]
  },
  {
   "cell_type": "markdown",
   "metadata": {},
   "source": [
    "\"train_model\" recibe:\n",
    "\n",
    "- 'model': el modelo sin entrenar elegido por el usario\n",
    "- 'df': el dataframe tratado y limpio que contiene todos los datos del conjunto de entrenamiento y de test, incluyendo el target. \n",
    "- 'target_name': el nombre de la columna que representa el target.\n",
    "\n",
    "Retornará el modelo entrenado con los datos y la precisión del modelo."
   ]
  },
  {
   "cell_type": "code",
   "execution_count": 6,
   "metadata": {},
   "outputs": [],
   "source": [
    "def train_model(model, df, target_name):\n",
    "    '''\n",
    "    Esta función por defecto divide el dataset en: \n",
    "    80% train\n",
    "    20% test\n",
    "    \n",
    "    Y devuelve el modelo entrenado y el porcentaje del accuracy\n",
    "    '''\n",
    "    # your code\n",
    "    X = df._get_numeric_data().drop(target_name, axis = 1)\n",
    "    y = df[target_name]\n",
    "    X_train, X_test, y_train, y_test = train_test_split(X, y, test_size=0.2)\n",
    "    model_trained = model.fit(X_train, y_train)\n",
    "    accuracy = model_trained.score(X_test, y_test) \n",
    "    return model_trained, accuracy, X_test.head(1).values"
   ]
  },
  {
   "cell_type": "code",
   "execution_count": 7,
   "metadata": {},
   "outputs": [
    {
     "data": {
      "text/html": [
       "<div>\n",
       "<style scoped>\n",
       "    .dataframe tbody tr th:only-of-type {\n",
       "        vertical-align: middle;\n",
       "    }\n",
       "\n",
       "    .dataframe tbody tr th {\n",
       "        vertical-align: top;\n",
       "    }\n",
       "\n",
       "    .dataframe thead th {\n",
       "        text-align: right;\n",
       "    }\n",
       "</style>\n",
       "<table border=\"1\" class=\"dataframe\">\n",
       "  <thead>\n",
       "    <tr style=\"text-align: right;\">\n",
       "      <th></th>\n",
       "      <th>Avg. Area Income</th>\n",
       "      <th>Avg. Area House Age</th>\n",
       "      <th>Avg. Area Number of Rooms</th>\n",
       "      <th>Avg. Area Number of Bedrooms</th>\n",
       "      <th>Area Population</th>\n",
       "      <th>Price</th>\n",
       "      <th>Address</th>\n",
       "    </tr>\n",
       "  </thead>\n",
       "  <tbody>\n",
       "    <tr>\n",
       "      <th>0</th>\n",
       "      <td>79545.458574</td>\n",
       "      <td>5.682861</td>\n",
       "      <td>7.009188</td>\n",
       "      <td>4.09</td>\n",
       "      <td>23086.800503</td>\n",
       "      <td>1.059034e+06</td>\n",
       "      <td>208 Michael Ferry Apt. 674\\nLaurabury, NE 3701...</td>\n",
       "    </tr>\n",
       "    <tr>\n",
       "      <th>1</th>\n",
       "      <td>79248.642455</td>\n",
       "      <td>6.002900</td>\n",
       "      <td>6.730821</td>\n",
       "      <td>3.09</td>\n",
       "      <td>40173.072174</td>\n",
       "      <td>1.505891e+06</td>\n",
       "      <td>188 Johnson Views Suite 079\\nLake Kathleen, CA...</td>\n",
       "    </tr>\n",
       "    <tr>\n",
       "      <th>2</th>\n",
       "      <td>61287.067179</td>\n",
       "      <td>5.865890</td>\n",
       "      <td>8.512727</td>\n",
       "      <td>5.13</td>\n",
       "      <td>36882.159400</td>\n",
       "      <td>1.058988e+06</td>\n",
       "      <td>9127 Elizabeth Stravenue\\nDanieltown, WI 06482...</td>\n",
       "    </tr>\n",
       "    <tr>\n",
       "      <th>3</th>\n",
       "      <td>63345.240046</td>\n",
       "      <td>7.188236</td>\n",
       "      <td>5.586729</td>\n",
       "      <td>3.26</td>\n",
       "      <td>34310.242831</td>\n",
       "      <td>1.260617e+06</td>\n",
       "      <td>USS Barnett\\nFPO AP 44820</td>\n",
       "    </tr>\n",
       "    <tr>\n",
       "      <th>4</th>\n",
       "      <td>59982.197226</td>\n",
       "      <td>5.040555</td>\n",
       "      <td>7.839388</td>\n",
       "      <td>4.23</td>\n",
       "      <td>26354.109472</td>\n",
       "      <td>6.309435e+05</td>\n",
       "      <td>USNS Raymond\\nFPO AE 09386</td>\n",
       "    </tr>\n",
       "  </tbody>\n",
       "</table>\n",
       "</div>"
      ],
      "text/plain": [
       "   Avg. Area Income  Avg. Area House Age  Avg. Area Number of Rooms  \\\n",
       "0      79545.458574             5.682861                   7.009188   \n",
       "1      79248.642455             6.002900                   6.730821   \n",
       "2      61287.067179             5.865890                   8.512727   \n",
       "3      63345.240046             7.188236                   5.586729   \n",
       "4      59982.197226             5.040555                   7.839388   \n",
       "\n",
       "   Avg. Area Number of Bedrooms  Area Population         Price  \\\n",
       "0                          4.09     23086.800503  1.059034e+06   \n",
       "1                          3.09     40173.072174  1.505891e+06   \n",
       "2                          5.13     36882.159400  1.058988e+06   \n",
       "3                          3.26     34310.242831  1.260617e+06   \n",
       "4                          4.23     26354.109472  6.309435e+05   \n",
       "\n",
       "                                             Address  \n",
       "0  208 Michael Ferry Apt. 674\\nLaurabury, NE 3701...  \n",
       "1  188 Johnson Views Suite 079\\nLake Kathleen, CA...  \n",
       "2  9127 Elizabeth Stravenue\\nDanieltown, WI 06482...  \n",
       "3                          USS Barnett\\nFPO AP 44820  \n",
       "4                         USNS Raymond\\nFPO AE 09386  "
      ]
     },
     "execution_count": 7,
     "metadata": {},
     "output_type": "execute_result"
    }
   ],
   "source": [
    "usa = pd.read_csv(\"https://raw.githubusercontent.com/Gabvaztor/data_science_jun_2020/master/week9/day1/data/USA_Housing.csv\")\n",
    "usa.head()"
   ]
  },
  {
   "cell_type": "code",
   "execution_count": 8,
   "metadata": {},
   "outputs": [],
   "source": [
    "model, accu, to_pred = train_model(choose_model(1), usa, \"Price\")"
   ]
  },
  {
   "cell_type": "code",
   "execution_count": 9,
   "metadata": {},
   "outputs": [
    {
     "data": {
      "text/plain": [
       "array([[7.04044961e+04, 5.54408373e+00, 6.00126136e+00, 2.02000000e+00,\n",
       "        3.71279255e+04]])"
      ]
     },
     "execution_count": 9,
     "metadata": {},
     "output_type": "execute_result"
    }
   ],
   "source": [
    "to_pred"
   ]
  },
  {
   "cell_type": "markdown",
   "metadata": {},
   "source": [
    "\"main\": \n",
    "\n",
    "Es la función que ha de ser ejecutada cada vez que queremos lanzar el programa. \n",
    "\n",
    "Al final, mostrará la precisión del modelo entrenado y retornará el modelo entreado."
   ]
  },
  {
   "cell_type": "code",
   "execution_count": 10,
   "metadata": {},
   "outputs": [],
   "source": [
    "def main():\n",
    "    sel_model = input (\"Indica el modelo a utilizar: (1):Regr.Lineal, (2): Regr.Logística, (3): Knm\")\n",
    "    mod = choose_model(int(sel_model),param)    #Selección del modelo según lo indicado por el usuario\n",
    "    model_trained, accuracy = train_model(mod,df,target_col)        # Entrenamiento del modelo con los datos\n",
    "    print(\"Accuracy: \", round(accuracy*100,2), \"%\")     #Precisión del modelo\n",
    "    return model_trained"
   ]
  },
  {
   "cell_type": "code",
   "execution_count": 13,
   "metadata": {},
   "outputs": [],
   "source": [
    "def main():\n",
    "    # your code\n",
    "    selection = input(\"Introduce un número del 1 al 3, help(choose_model) para saber más: \")\n",
    "    params = input(\"Escribe True en caso de que quieras incluir parámetros al modelo, False si no: \")\n",
    "    path = input(\"Inserta el path del dataframe <<sin comillas>> : \")\n",
    "    targ = input(\"¿Cual es la columna target? \")\n",
    "    \n",
    "    if bool(params) == True:\n",
    "        model = choose_model(int(selection), param)\n",
    "    else: \n",
    "        model = choose_model(int(selection))\n",
    "        \n",
    "    df = pd.read_csv(path)\n",
    "    \n",
    "    model_trained, accu, to_pred = train_model(model, df, targ)\n",
    "    \n",
    "    print()\n",
    "    \n",
    "    if int(selection) == 1:\n",
    "        print(f\"The model you've just trained got an error of {round(accu,2)}\")\n",
    "    else: \n",
    "        print(f\"The model you've just trained got an accuracy of {accu*100}%\")\n",
    "        \n",
    "    return model_trained"
   ]
  },
  {
   "cell_type": "code",
   "execution_count": 14,
   "metadata": {},
   "outputs": [
    {
     "name": "stdout",
     "output_type": "stream",
     "text": [
      "Introduce un número del 1 al 3, help(choose_model) para saber más: 1\n",
      "Escribe True en caso de que quieras incluir parámetros al modelo, False si no: False\n",
      "Inserta el path del dataframe <<sin comillas>> : https://raw.githubusercontent.com/Gabvaztor/data_science_jun_2020/master/week9/day1/data/USA_Housing.csv\n",
      "¿Cual es la columna target? Price\n",
      "\n",
      "The model you've just trained got an error of 0.91\n"
     ]
    },
    {
     "data": {
      "text/plain": [
       "LinearRegression()"
      ]
     },
     "execution_count": 14,
     "metadata": {},
     "output_type": "execute_result"
    }
   ],
   "source": [
    "main()"
   ]
  },
  {
   "cell_type": "markdown",
   "metadata": {},
   "source": [
    "2.\n"
   ]
  },
  {
   "cell_type": "markdown",
   "metadata": {},
   "source": [
    "Haz que el programa sea capaz de predecir un nuevo ejemplo del modelo elegido y entrenado con la siguiente función:"
   ]
  },
  {
   "cell_type": "code",
   "execution_count": 15,
   "metadata": {},
   "outputs": [],
   "source": [
    "def predict_new_data(model_trained, to_pred):\n",
    "    \"\"\"\n",
    "    Dado el modelo entrenado y los datos sobre los que predecir,\n",
    "    esta función devuelve la predicción\n",
    "    \"\"\"\n",
    "    y_pred = model_trained.predict(to_pred)\n",
    "    return y_pred"
   ]
  },
  {
   "cell_type": "markdown",
   "metadata": {},
   "source": [
    "----------------\n",
    "\n",
    "\"predict_new_data\" recibe:\n",
    "\n",
    "- 'model_trained': el modelo entrenado elegido por el usario\n",
    "- 'to_pred': los datos del nuevo ejemplo a predecir.\n",
    "\n",
    "Retornará y mostrará por pantalla la predicción.\n",
    "\n",
    "----------------\n",
    "\n",
    "Se presupone que el usuario proporcionará los datos del nuevo ejemplo."
   ]
  },
  {
   "cell_type": "code",
   "execution_count": 17,
   "metadata": {},
   "outputs": [
    {
     "name": "stdout",
     "output_type": "stream",
     "text": [
      "Introduce un número del 1 al 3, help(choose_model) para saber más: 1\n",
      "Escribe True en caso de que quieras incluir parámetros al modelo, False si no: False\n",
      "Inserta el path del dataframe <<sin comillas>> : https://raw.githubusercontent.com/Gabvaztor/data_science_jun_2020/master/week9/day1/data/USA_Housing.csv\n",
      "¿Cual es la columna target? Price\n",
      "\n",
      "The model you've just trained got an error of 0.92\n"
     ]
    },
    {
     "data": {
      "text/plain": [
       "array([1093531.83479797])"
      ]
     },
     "execution_count": 17,
     "metadata": {},
     "output_type": "execute_result"
    }
   ],
   "source": [
    "predict_new_data(main(), to_pred)"
   ]
  }
 ],
 "metadata": {
  "kernelspec": {
   "display_name": "Python 3",
   "language": "python",
   "name": "python3"
  },
  "language_info": {
   "codemirror_mode": {
    "name": "ipython",
    "version": 3
   },
   "file_extension": ".py",
   "mimetype": "text/x-python",
   "name": "python",
   "nbconvert_exporter": "python",
   "pygments_lexer": "ipython3",
   "version": "3.8.3"
  }
 },
 "nbformat": 4,
 "nbformat_minor": 2
}
