{
 "cells": [
  {
   "cell_type": "markdown",
   "metadata": {},
   "source": [
    "1. \n",
    "\n",
    "(X_train=80%)\n",
    "(X_test=20%)\n",
    "\n",
    "A partir del archivo \"iris.csv\" que se corresponde con datos relacionados con tres tipos de plantas (el target es el tipo de planta):\n",
    "\n",
    "- Mediante knn, predice qué planta se corresponde con los ejemplos: [[15.7,2.8,9.5,0.1]] y [[1.7,3.8,4.5,11.3]] para k=3 y k=7\n",
    "- ¿Qué acierto tiene tu modelo para k=3, k=7? (score)\n",
    "- Entre 1 y 20, ¿qué k tiene un mejor acierto en tu modelo? visualiza el score con el valor de k en una gráfica.\n",
    "- Utiliza un conjunto de test con el 60% de los datos: ¿cambian los resultados anteriores? ¿por qué?\n",
    "- Elimina la clase \"Setosa\" de tus datos. Repite el proceso anterior, ¿cambian los resultados?\n",
    "- ¿Consideras Knn un buen algoritmo para estos datos? ¿por qué?"
   ]
  },
  {
   "cell_type": "code",
   "execution_count": 1,
   "metadata": {},
   "outputs": [],
   "source": [
    "import pandas as pd\n",
    "import numpy as np\n",
    "import matplotlib.pyplot as plt\n",
    "import seaborn as sns\n",
    "\n",
    "from sklearn.neighbors import KNeighborsClassifier\n",
    "from sklearn.model_selection import train_test_split\n",
    "from sklearn.preprocessing import LabelEncoder"
   ]
  },
  {
   "cell_type": "code",
   "execution_count": 2,
   "metadata": {},
   "outputs": [
    {
     "data": {
      "text/html": [
       "<div>\n",
       "<style scoped>\n",
       "    .dataframe tbody tr th:only-of-type {\n",
       "        vertical-align: middle;\n",
       "    }\n",
       "\n",
       "    .dataframe tbody tr th {\n",
       "        vertical-align: top;\n",
       "    }\n",
       "\n",
       "    .dataframe thead th {\n",
       "        text-align: right;\n",
       "    }\n",
       "</style>\n",
       "<table border=\"1\" class=\"dataframe\">\n",
       "  <thead>\n",
       "    <tr style=\"text-align: right;\">\n",
       "      <th></th>\n",
       "      <th>sepal.length</th>\n",
       "      <th>sepal.width</th>\n",
       "      <th>petal.length</th>\n",
       "      <th>petal.width</th>\n",
       "      <th>variety</th>\n",
       "    </tr>\n",
       "  </thead>\n",
       "  <tbody>\n",
       "    <tr>\n",
       "      <th>0</th>\n",
       "      <td>5.1</td>\n",
       "      <td>3.5</td>\n",
       "      <td>1.4</td>\n",
       "      <td>0.2</td>\n",
       "      <td>Setosa</td>\n",
       "    </tr>\n",
       "    <tr>\n",
       "      <th>1</th>\n",
       "      <td>4.9</td>\n",
       "      <td>3.0</td>\n",
       "      <td>1.4</td>\n",
       "      <td>0.2</td>\n",
       "      <td>Setosa</td>\n",
       "    </tr>\n",
       "    <tr>\n",
       "      <th>2</th>\n",
       "      <td>4.7</td>\n",
       "      <td>3.2</td>\n",
       "      <td>1.3</td>\n",
       "      <td>0.2</td>\n",
       "      <td>Setosa</td>\n",
       "    </tr>\n",
       "    <tr>\n",
       "      <th>3</th>\n",
       "      <td>4.6</td>\n",
       "      <td>3.1</td>\n",
       "      <td>1.5</td>\n",
       "      <td>0.2</td>\n",
       "      <td>Setosa</td>\n",
       "    </tr>\n",
       "    <tr>\n",
       "      <th>4</th>\n",
       "      <td>5.0</td>\n",
       "      <td>3.6</td>\n",
       "      <td>1.4</td>\n",
       "      <td>0.2</td>\n",
       "      <td>Setosa</td>\n",
       "    </tr>\n",
       "  </tbody>\n",
       "</table>\n",
       "</div>"
      ],
      "text/plain": [
       "   sepal.length  sepal.width  petal.length  petal.width variety\n",
       "0           5.1          3.5           1.4          0.2  Setosa\n",
       "1           4.9          3.0           1.4          0.2  Setosa\n",
       "2           4.7          3.2           1.3          0.2  Setosa\n",
       "3           4.6          3.1           1.5          0.2  Setosa\n",
       "4           5.0          3.6           1.4          0.2  Setosa"
      ]
     },
     "execution_count": 2,
     "metadata": {},
     "output_type": "execute_result"
    }
   ],
   "source": [
    "iris = pd.read_csv(\"https://raw.githubusercontent.com/Gabvaztor/data_science_jun_2020/master/week8/day4/data/iris.csv\")\n",
    "iris.head()"
   ]
  },
  {
   "cell_type": "code",
   "execution_count": 3,
   "metadata": {},
   "outputs": [],
   "source": [
    "X =  iris.drop(\"variety\", 1)"
   ]
  },
  {
   "cell_type": "code",
   "execution_count": 4,
   "metadata": {},
   "outputs": [],
   "source": [
    "le = LabelEncoder()\n",
    "def encode_columna(columna, encoder):\n",
    "    variety_encoded = encoder.fit_transform(columna)\n",
    "    variety_encoded = np.array(variety_encoded)\n",
    "    return variety_encoded"
   ]
  },
  {
   "cell_type": "code",
   "execution_count": 5,
   "metadata": {},
   "outputs": [],
   "source": [
    "y = encode_columna(iris[\"variety\"],le)"
   ]
  },
  {
   "cell_type": "code",
   "execution_count": 6,
   "metadata": {},
   "outputs": [],
   "source": [
    "X_train, X_test, y_train, y_test = train_test_split(X, y, test_size=0.20)"
   ]
  },
  {
   "cell_type": "code",
   "execution_count": 7,
   "metadata": {},
   "outputs": [],
   "source": [
    "def modelo_knn(n_neighbors, X_set, y_set):\n",
    "    model = KNeighborsClassifier(n_neighbors)\n",
    "    model.fit(X_set, y_set)\n",
    "    return model"
   ]
  },
  {
   "cell_type": "code",
   "execution_count": 8,
   "metadata": {},
   "outputs": [],
   "source": [
    "def predicting(X_set, y_set, encoder):\n",
    "    for bors in [3,7]:\n",
    "        print(\"#############\")\n",
    "        print(f\"fitting Knn with k={bors}\")\n",
    "        print()\n",
    "        model = modelo_knn(bors, X_set,y_set)\n",
    "        print(f\"getting a score of {round(model.score(X_set, y_set)*100)}%\")\n",
    "        for pred in [[[15.7,2.8,9.5,0.1]],[[1.7,3.8,4.5,11.3]]]:\n",
    "            print()\n",
    "            print(f\"for the list: {pred} the prediction is {le.inverse_transform(model.predict(pred))[0]}\")\n",
    "        print(\"#############\")"
   ]
  },
  {
   "cell_type": "code",
   "execution_count": 9,
   "metadata": {},
   "outputs": [
    {
     "name": "stdout",
     "output_type": "stream",
     "text": [
      "#############\n",
      "fitting Knn with k=3\n",
      "\n",
      "getting a score of 95%\n",
      "\n",
      "for the list: [[15.7, 2.8, 9.5, 0.1]] the prediction is Virginica\n",
      "\n",
      "for the list: [[1.7, 3.8, 4.5, 11.3]] the prediction is Virginica\n",
      "#############\n",
      "#############\n",
      "fitting Knn with k=7\n",
      "\n",
      "getting a score of 97%\n",
      "\n",
      "for the list: [[15.7, 2.8, 9.5, 0.1]] the prediction is Virginica\n",
      "\n",
      "for the list: [[1.7, 3.8, 4.5, 11.3]] the prediction is Virginica\n",
      "#############\n"
     ]
    }
   ],
   "source": [
    "predicting(X_train,y_train, le)"
   ]
  },
  {
   "cell_type": "markdown",
   "metadata": {},
   "source": [
    "**Entre 1 y 20, ¿qué k tiene un mejor acierto en tu modelo? visualiza el score con el valor de k en una gráfica.**"
   ]
  },
  {
   "cell_type": "code",
   "execution_count": 10,
   "metadata": {},
   "outputs": [
    {
     "data": {
      "text/plain": [
       "([<matplotlib.axis.XTick at 0x15193124fa0>,\n",
       "  <matplotlib.axis.XTick at 0x15193124850>,\n",
       "  <matplotlib.axis.XTick at 0x15193128520>,\n",
       "  <matplotlib.axis.XTick at 0x15195170f40>,\n",
       "  <matplotlib.axis.XTick at 0x15195192490>],\n",
       " <a list of 5 Text major ticklabel objects>)"
      ]
     },
     "execution_count": 10,
     "metadata": {},
     "output_type": "execute_result"
    },
    {
     "data": {
      "image/png": "[encoded data removed]",
      "text/plain": [
       "<Figure size 432x288 with 1 Axes>"
      ]
     },
     "metadata": {
      "needs_background": "light"
     },
     "output_type": "display_data"
    }
   ],
   "source": [
    "k_range = range(1, 20)\n",
    "scores = []\n",
    "for k in k_range:\n",
    "    knn = KNeighborsClassifier(n_neighbors = k)\n",
    "    knn.fit(X_train, y_train)\n",
    "    scores.append(knn.score(X_test, y_test))\n",
    "plt.figure()\n",
    "plt.xlabel('k')\n",
    "plt.ylabel('accuracy')\n",
    "plt.scatter(k_range, scores)\n",
    "plt.xticks([0,5,10,15,20])"
   ]
  },
  {
   "cell_type": "markdown",
   "metadata": {},
   "source": [
    "**Utiliza un conjunto de test con el 60% de los datos: ¿cambian los resultados anteriores? ¿por qué?**"
   ]
  },
  {
   "cell_type": "code",
   "execution_count": 11,
   "metadata": {},
   "outputs": [],
   "source": [
    "X_2_train, X_2_test, y_2_train, y_2_test = train_test_split(X, y, test_size=0.60)"
   ]
  },
  {
   "cell_type": "code",
   "execution_count": 12,
   "metadata": {},
   "outputs": [
    {
     "name": "stdout",
     "output_type": "stream",
     "text": [
      "#############\n",
      "fitting Knn with k=3\n",
      "\n",
      "getting a score of 97%\n",
      "\n",
      "for the list: [[15.7, 2.8, 9.5, 0.1]] the prediction is Virginica\n",
      "\n",
      "for the list: [[1.7, 3.8, 4.5, 11.3]] the prediction is Virginica\n",
      "#############\n",
      "#############\n",
      "fitting Knn with k=7\n",
      "\n",
      "getting a score of 98%\n",
      "\n",
      "for the list: [[15.7, 2.8, 9.5, 0.1]] the prediction is Virginica\n",
      "\n",
      "for the list: [[1.7, 3.8, 4.5, 11.3]] the prediction is Virginica\n",
      "#############\n"
     ]
    }
   ],
   "source": [
    "predicting(X_2_train, y_2_train, le)"
   ]
  },
  {
   "cell_type": "markdown",
   "metadata": {},
   "source": [
    "**Elimina la clase \"Setosa\" de tus datos. Repite el proceso anterior, ¿cambian los resultados?**"
   ]
  },
  {
   "cell_type": "code",
   "execution_count": 13,
   "metadata": {},
   "outputs": [
    {
     "data": {
      "text/plain": [
       "array(['Versicolor', 'Virginica'], dtype=object)"
      ]
     },
     "execution_count": 13,
     "metadata": {},
     "output_type": "execute_result"
    }
   ],
   "source": [
    "iris_no_setosa = iris[~(iris.variety == \"Setosa\")]\n",
    "iris_no_setosa.variety.unique()"
   ]
  },
  {
   "cell_type": "code",
   "execution_count": 14,
   "metadata": {},
   "outputs": [],
   "source": [
    "X = iris_no_setosa.drop(\"variety\", 1)\n",
    "y = encode_columna(iris_no_setosa[\"variety\"], le)"
   ]
  },
  {
   "cell_type": "code",
   "execution_count": 15,
   "metadata": {},
   "outputs": [],
   "source": [
    "X_3_train, X_3_test, y_3_train, y_3_test = train_test_split(X, y, test_size=0.20)"
   ]
  },
  {
   "cell_type": "code",
   "execution_count": 16,
   "metadata": {},
   "outputs": [
    {
     "name": "stdout",
     "output_type": "stream",
     "text": [
      "#############\n",
      "fitting Knn with k=3\n",
      "\n",
      "getting a score of 94%\n",
      "\n",
      "for the list: [[15.7, 2.8, 9.5, 0.1]] the prediction is Virginica\n",
      "\n",
      "for the list: [[1.7, 3.8, 4.5, 11.3]] the prediction is Virginica\n",
      "#############\n",
      "#############\n",
      "fitting Knn with k=7\n",
      "\n",
      "getting a score of 96%\n",
      "\n",
      "for the list: [[15.7, 2.8, 9.5, 0.1]] the prediction is Virginica\n",
      "\n",
      "for the list: [[1.7, 3.8, 4.5, 11.3]] the prediction is Virginica\n",
      "#############\n"
     ]
    }
   ],
   "source": [
    "predicting(X_3_train, y_3_train, le)"
   ]
  },
  {
   "cell_type": "code",
   "execution_count": null,
   "metadata": {},
   "outputs": [],
   "source": []
  }
 ],
 "metadata": {
  "kernelspec": {
   "display_name": "Python 3",
   "language": "python",
   "name": "python3"
  },
  "language_info": {
   "codemirror_mode": {
    "name": "ipython",
    "version": 3
   },
   "file_extension": ".py",
   "mimetype": "text/x-python",
   "name": "python",
   "nbconvert_exporter": "python",
   "pygments_lexer": "ipython3",
   "version": "3.8.3"
  }
 },
 "nbformat": 4,
 "nbformat_minor": 2
}
