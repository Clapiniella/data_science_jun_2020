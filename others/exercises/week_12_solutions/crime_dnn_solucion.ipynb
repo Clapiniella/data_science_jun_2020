{
 "cells": [
  {
   "cell_type": "code",
   "execution_count": 19,
   "metadata": {},
   "outputs": [
    {
     "name": "stdout",
     "output_type": "stream",
     "text": [
      "2.3.0\n"
     ]
    }
   ],
   "source": [
    "import time\n",
    "\n",
    "import matplotlib.pyplot as plt\n",
    "import pandas as pd\n",
    "import numpy as np\n",
    "import seaborn as sns\n",
    "\n",
    "import tensorflow as tf\n",
    "\n",
    "from tensorflow import keras\n",
    "from tensorflow.keras import layers\n",
    "\n",
    "\n",
    "print(tf.__version__)"
   ]
  },
  {
   "cell_type": "markdown",
   "metadata": {},
   "source": [
    "A partir del fichero \"US_Crime_Rates_1960_2014\", se pide:\n",
    "\n",
    "**1. Tratar el dataset como una serie temporal a partir de la columna Year. Siempre el eje X será el nuevo índice Year.**"
   ]
  },
  {
   "cell_type": "code",
   "execution_count": 6,
   "metadata": {},
   "outputs": [
    {
     "data": {
      "text/plain": [
       "<matplotlib.axes._subplots.AxesSubplot at 0x1c50f24de50>"
      ]
     },
     "execution_count": 6,
     "metadata": {},
     "output_type": "execute_result"
    },
    {
     "data": {
      "image/png": "[encoded data removed]",
      "text/plain": [
       "<Figure size 432x288 with 1 Axes>"
      ]
     },
     "metadata": {
      "needs_background": "light"
     },
     "output_type": "display_data"
    }
   ],
   "source": [
    "df = pd.read_csv(\"US_Crime_Rates_1960_2014.csv\")\n",
    "\n",
    "df.set_index(\"Year\", inplace=True)\n",
    "df.plot()"
   ]
  },
  {
   "cell_type": "code",
   "execution_count": 7,
   "metadata": {},
   "outputs": [],
   "source": [
    "to_train = df.loc[df.index[:-4]]\n",
    "to_predict = df.loc[df.index[-4:]]"
   ]
  },
  {
   "cell_type": "code",
   "execution_count": 8,
   "metadata": {},
   "outputs": [],
   "source": [
    "X_train = to_train.drop('Murder',axis=1)\n",
    "y_train = to_train[\"Murder\"]"
   ]
  },
  {
   "cell_type": "markdown",
   "metadata": {},
   "source": [
    "**2. Crea una red neuronal no convolucional de 3 capas y 32, 32, 64 neuronas respectivamente. Entrénala con los datos desde 1960 hasta 2010. Usa los datos desde 2010 hasta 2014 para predecir la columna \"Murder\" (y). ¿Se aproxima al número real?**"
   ]
  },
  {
   "cell_type": "code",
   "execution_count": 5,
   "metadata": {},
   "outputs": [
    {
     "name": "stdout",
     "output_type": "stream",
     "text": [
      "Model: \"sequential\"\n",
      "_________________________________________________________________\n",
      "Layer (type)                 Output Shape              Param #   \n",
      "=================================================================\n",
      "dense (Dense)                (None, 32)                352       \n",
      "_________________________________________________________________\n",
      "dense_1 (Dense)              (None, 32)                1056      \n",
      "_________________________________________________________________\n",
      "dense_2 (Dense)              (None, 64)                2112      \n",
      "_________________________________________________________________\n",
      "dense_3 (Dense)              (None, 1)                 65        \n",
      "=================================================================\n",
      "Total params: 3,585\n",
      "Trainable params: 3,585\n",
      "Non-trainable params: 0\n",
      "_________________________________________________________________\n"
     ]
    }
   ],
   "source": [
    "model = keras.models.Sequential()\n",
    "model.add(keras.layers.Dense(units=32, input_dim = 10, activation=\"relu\"))\n",
    "model.add(keras.layers.Dense(units=32, activation=\"relu\"))\n",
    "model.add(keras.layers.Dense(units=64, activation=\"relu\"))\n",
    "model.add(keras.layers.Dense(units=1, activation = 'linear'))\n",
    "model.summary()"
   ]
  },
  {
   "cell_type": "code",
   "execution_count": 6,
   "metadata": {},
   "outputs": [],
   "source": [
    "model.compile(loss='mse',\n",
    "                optimizer='adam',\n",
    "                metrics=['mae', 'mse'])"
   ]
  },
  {
   "cell_type": "code",
   "execution_count": 7,
   "metadata": {},
   "outputs": [
    {
     "data": {
      "text/plain": [
       "array([[11601790.],\n",
       "       [11670840.],\n",
       "       [11717618.],\n",
       "       [11751895.]], dtype=float32)"
      ]
     },
     "execution_count": 7,
     "metadata": {},
     "output_type": "execute_result"
    }
   ],
   "source": [
    "result = model.predict(to_predict.drop('Murder', axis = 1))\n",
    "result"
   ]
  },
  {
   "cell_type": "code",
   "execution_count": 8,
   "metadata": {},
   "outputs": [],
   "source": [
    "class PrintLine(keras.callbacks.Callback):\n",
    "    def on_epoch_end(self, epoch, logs):\n",
    "        print('|', end='')"
   ]
  },
  {
   "cell_type": "code",
   "execution_count": 9,
   "metadata": {},
   "outputs": [
    {
     "name": "stdout",
     "output_type": "stream",
     "text": [
      "|||||||||||||||||"
     ]
    }
   ],
   "source": [
    "EPOCHS = 200\n",
    "\n",
    "early_stop = keras.callbacks.EarlyStopping(monitor='val_loss', patience=10)\n",
    "\n",
    "model_history = model.fit(X_train, y_train, epochs=EPOCHS,\n",
    "                    validation_split = 0.2, verbose=0, callbacks=[early_stop, PrintLine()])"
   ]
  },
  {
   "cell_type": "code",
   "execution_count": 10,
   "metadata": {},
   "outputs": [
    {
     "name": "stdout",
     "output_type": "stream",
     "text": [
      "Entrena durante 17 epochs\n"
     ]
    }
   ],
   "source": [
    "print(f\"Entrena durante {len(model_history.history['loss'])} epochs\")"
   ]
  },
  {
   "cell_type": "code",
   "execution_count": 11,
   "metadata": {},
   "outputs": [
    {
     "name": "stdout",
     "output_type": "stream",
     "text": [
      "2/2 - 0s - loss: 309865185280.0000 - mae: 539313.0000 - mse: 309865185280.0000\n"
     ]
    }
   ],
   "source": [
    "loss, mae, mse = model.evaluate(X_train, y_train, verbose=2)"
   ]
  },
  {
   "cell_type": "code",
   "execution_count": 12,
   "metadata": {},
   "outputs": [
    {
     "data": {
      "text/plain": [
       "dict_keys(['loss', 'mae', 'mse', 'val_loss', 'val_mae', 'val_mse'])"
      ]
     },
     "execution_count": 12,
     "metadata": {},
     "output_type": "execute_result"
    }
   ],
   "source": [
    "model_history.history.keys()"
   ]
  },
  {
   "cell_type": "code",
   "execution_count": 13,
   "metadata": {},
   "outputs": [
    {
     "data": {
      "image/png": "[encoded data removed]",
      "text/plain": [
       "<Figure size 432x288 with 1 Axes>"
      ]
     },
     "metadata": {
      "needs_background": "light"
     },
     "output_type": "display_data"
    }
   ],
   "source": [
    "plt.plot(model_history.history['loss'])\n",
    "plt.plot(model_history.history['val_loss'])\n",
    "plt.title('model loss')\n",
    "plt.ylabel('loss')\n",
    "plt.xlabel('epoch')\n",
    "plt.legend(['train', 'val'])\n",
    "plt.show()"
   ]
  },
  {
   "cell_type": "markdown",
   "metadata": {},
   "source": [
    "To get to understand your loss plot: https://developers.google.com/machine-learning/testing-debugging/metrics/interpretic "
   ]
  },
  {
   "cell_type": "code",
   "execution_count": 14,
   "metadata": {},
   "outputs": [],
   "source": [
    "X_predict = to_predict.drop(\"Murder\", axis =1)"
   ]
  },
  {
   "cell_type": "code",
   "execution_count": 15,
   "metadata": {},
   "outputs": [
    {
     "data": {
      "text/plain": [
       "Year\n",
       "2011    14661\n",
       "2012    14866\n",
       "2013    14319\n",
       "2014    14249\n",
       "Name: Murder, dtype: int64"
      ]
     },
     "execution_count": 15,
     "metadata": {},
     "output_type": "execute_result"
    }
   ],
   "source": [
    "y_predict = to_predict.Murder\n",
    "y_predict"
   ]
  },
  {
   "cell_type": "code",
   "execution_count": 16,
   "metadata": {},
   "outputs": [],
   "source": [
    "prediction = [e for array in model.predict(X_predict) for e in array]"
   ]
  },
  {
   "cell_type": "code",
   "execution_count": 17,
   "metadata": {},
   "outputs": [
    {
     "data": {
      "text/plain": [
       "[-861682.25, -875289.0, -904148.25, -937158.75]"
      ]
     },
     "execution_count": 17,
     "metadata": {},
     "output_type": "execute_result"
    }
   ],
   "source": [
    "prediction"
   ]
  },
  {
   "cell_type": "code",
   "execution_count": 18,
   "metadata": {},
   "outputs": [
    {
     "data": {
      "text/html": [
       "<div>\n",
       "<style scoped>\n",
       "    .dataframe tbody tr th:only-of-type {\n",
       "        vertical-align: middle;\n",
       "    }\n",
       "\n",
       "    .dataframe tbody tr th {\n",
       "        vertical-align: top;\n",
       "    }\n",
       "\n",
       "    .dataframe thead th {\n",
       "        text-align: right;\n",
       "    }\n",
       "</style>\n",
       "<table border=\"1\" class=\"dataframe\">\n",
       "  <thead>\n",
       "    <tr style=\"text-align: right;\">\n",
       "      <th></th>\n",
       "      <th>real</th>\n",
       "      <th>pred_3_layer</th>\n",
       "    </tr>\n",
       "    <tr>\n",
       "      <th>Year</th>\n",
       "      <th></th>\n",
       "      <th></th>\n",
       "    </tr>\n",
       "  </thead>\n",
       "  <tbody>\n",
       "    <tr>\n",
       "      <th>2011</th>\n",
       "      <td>14661</td>\n",
       "      <td>-861682.25</td>\n",
       "    </tr>\n",
       "    <tr>\n",
       "      <th>2012</th>\n",
       "      <td>14866</td>\n",
       "      <td>-875289.00</td>\n",
       "    </tr>\n",
       "    <tr>\n",
       "      <th>2013</th>\n",
       "      <td>14319</td>\n",
       "      <td>-904148.25</td>\n",
       "    </tr>\n",
       "    <tr>\n",
       "      <th>2014</th>\n",
       "      <td>14249</td>\n",
       "      <td>-937158.75</td>\n",
       "    </tr>\n",
       "  </tbody>\n",
       "</table>\n",
       "</div>"
      ],
      "text/plain": [
       "       real  pred_3_layer\n",
       "Year                     \n",
       "2011  14661    -861682.25\n",
       "2012  14866    -875289.00\n",
       "2013  14319    -904148.25\n",
       "2014  14249    -937158.75"
      ]
     },
     "execution_count": 18,
     "metadata": {},
     "output_type": "execute_result"
    }
   ],
   "source": [
    "predicciones = pd.DataFrame({\"real\": y_predict, \"pred_3_layer\": prediction})\n",
    "predicciones"
   ]
  },
  {
   "cell_type": "markdown",
   "metadata": {},
   "source": [
    "**3. Ahora, prueba 3 optimizadores diferentes, ¿se modifica el resultado? ¿cuál te ha dado mejores resultados?**\n",
    "**4. Con el mejor optimizador modifica la función de activación a otra diferente. ¿Cuál ha dado mejor resultado?**"
   ]
  },
  {
   "cell_type": "markdown",
   "metadata": {},
   "source": [
    "https://towardsdatascience.com/deep-learning-which-loss-and-activation-functions-should-i-use-ac02f1c56aa8"
   ]
  },
  {
   "cell_type": "code",
   "execution_count": 16,
   "metadata": {},
   "outputs": [],
   "source": [
    "def train_model(model, epochs, X, y, verbose=0):\n",
    "    EPOCHS = epochs\n",
    "    early_stop = keras.callbacks.EarlyStopping(monitor='val_loss', patience=10)\n",
    "    model_history = model.fit(X, y, epochs=EPOCHS,\n",
    "                    validation_split = 0.2, verbose=verbose, callbacks=[early_stop])\n",
    "    return model_history"
   ]
  },
  {
   "cell_type": "code",
   "execution_count": 45,
   "metadata": {},
   "outputs": [],
   "source": [
    "hiper_dict = {\"act1\":[\"relu\", \"linear\", \"sigmoid\"],\n",
    "              \"act2\":[\"relu\", \"linear\", \"sigmoid\"],\n",
    "              \"act3\":[\"relu\", \"linear\", \"sigmoid\"],\n",
    "              \"act_output\":[\"relu\", \"tanh\", \"softmax\", \"linear\", \"sigmoid\"],\n",
    "              \"opt\":[\"RMSprop\", \"adam\", \"SGD\", \"Adadelta\"]}"
   ]
  },
  {
   "cell_type": "code",
   "execution_count": 51,
   "metadata": {},
   "outputs": [],
   "source": [
    "def try_model_3(params, X, y, epochs):\n",
    "    \n",
    "    loss_dict = {}\n",
    "    \n",
    "    for act1 in params[\"act1\"]:\n",
    "        for act2 in params[\"act2\"]:\n",
    "            for act3 in params[\"act3\"]:\n",
    "                for act_output in params[\"act_output\"]:\n",
    "                    for opt in params[\"opt\"]:\n",
    "                        model = keras.models.Sequential()\n",
    "                        model.add(keras.layers.Dense(units=32, input_dim = X.shape[1], activation=act1))\n",
    "                        model.add(keras.layers.Dense(units=32, activation=act2))\n",
    "                        model.add(keras.layers.Dense(units=64, activation=act3))\n",
    "                        model.add(keras.layers.Dense(units=1, activation = act_output))\n",
    "                        \n",
    "                        model.compile(loss='mse',\n",
    "                                    optimizer=opt,\n",
    "                                    metrics=['mae', 'mse'])\n",
    "\n",
    "                        history = train_model(model=model, epochs=epochs, X=X, y=y)\n",
    "                        \n",
    "                        loss_keys = [\"act1\", \"act2\", \"act3\", \"act_output\", \"opt\", \"min_loss\"]\n",
    "                        loss_values = [act1, act2, act3, act_output, opt, min(history.history[\"loss\"])]\n",
    "                        for i, e in enumerate(loss_keys):\n",
    "                            loss_dict.setdefault(e, []).extend([loss_values[i]])\n",
    "                            \n",
    "                                                                            \n",
    "    return loss_dict"
   ]
  },
  {
   "cell_type": "code",
   "execution_count": 52,
   "metadata": {},
   "outputs": [
    {
     "name": "stderr",
     "output_type": "stream",
     "text": [
      "c:\\users\\clara\\appdata\\local\\programs\\python\\python38\\lib\\site-packages\\tensorflow\\python\\keras\\callbacks.py:1664: RuntimeWarning: invalid value encountered in less\n",
      "  if self.monitor_op(current - self.min_delta, self.best):\n",
      "c:\\users\\clara\\appdata\\local\\programs\\python\\python38\\lib\\site-packages\\tensorflow\\python\\keras\\callbacks.py:1664: RuntimeWarning: invalid value encountered in less\n",
      "  if self.monitor_op(current - self.min_delta, self.best):\n",
      "c:\\users\\clara\\appdata\\local\\programs\\python\\python38\\lib\\site-packages\\tensorflow\\python\\keras\\callbacks.py:1664: RuntimeWarning: invalid value encountered in less\n",
      "  if self.monitor_op(current - self.min_delta, self.best):\n",
      "c:\\users\\clara\\appdata\\local\\programs\\python\\python38\\lib\\site-packages\\tensorflow\\python\\keras\\callbacks.py:1664: RuntimeWarning: invalid value encountered in less\n",
      "  if self.monitor_op(current - self.min_delta, self.best):\n",
      "c:\\users\\clara\\appdata\\local\\programs\\python\\python38\\lib\\site-packages\\tensorflow\\python\\keras\\callbacks.py:1664: RuntimeWarning: invalid value encountered in less\n",
      "  if self.monitor_op(current - self.min_delta, self.best):\n",
      "c:\\users\\clara\\appdata\\local\\programs\\python\\python38\\lib\\site-packages\\tensorflow\\python\\keras\\callbacks.py:1664: RuntimeWarning: invalid value encountered in less\n",
      "  if self.monitor_op(current - self.min_delta, self.best):\n",
      "c:\\users\\clara\\appdata\\local\\programs\\python\\python38\\lib\\site-packages\\tensorflow\\python\\keras\\callbacks.py:1664: RuntimeWarning: invalid value encountered in less\n",
      "  if self.monitor_op(current - self.min_delta, self.best):\n",
      "c:\\users\\clara\\appdata\\local\\programs\\python\\python38\\lib\\site-packages\\tensorflow\\python\\keras\\callbacks.py:1664: RuntimeWarning: invalid value encountered in less\n",
      "  if self.monitor_op(current - self.min_delta, self.best):\n",
      "c:\\users\\clara\\appdata\\local\\programs\\python\\python38\\lib\\site-packages\\tensorflow\\python\\keras\\callbacks.py:1664: RuntimeWarning: invalid value encountered in less\n",
      "  if self.monitor_op(current - self.min_delta, self.best):\n",
      "c:\\users\\clara\\appdata\\local\\programs\\python\\python38\\lib\\site-packages\\tensorflow\\python\\keras\\callbacks.py:1664: RuntimeWarning: invalid value encountered in less\n",
      "  if self.monitor_op(current - self.min_delta, self.best):\n",
      "c:\\users\\clara\\appdata\\local\\programs\\python\\python38\\lib\\site-packages\\tensorflow\\python\\keras\\callbacks.py:1664: RuntimeWarning: invalid value encountered in less\n",
      "  if self.monitor_op(current - self.min_delta, self.best):\n",
      "c:\\users\\clara\\appdata\\local\\programs\\python\\python38\\lib\\site-packages\\tensorflow\\python\\keras\\callbacks.py:1664: RuntimeWarning: invalid value encountered in less\n",
      "  if self.monitor_op(current - self.min_delta, self.best):\n",
      "c:\\users\\clara\\appdata\\local\\programs\\python\\python38\\lib\\site-packages\\tensorflow\\python\\keras\\callbacks.py:1664: RuntimeWarning: invalid value encountered in less\n",
      "  if self.monitor_op(current - self.min_delta, self.best):\n",
      "c:\\users\\clara\\appdata\\local\\programs\\python\\python38\\lib\\site-packages\\tensorflow\\python\\keras\\callbacks.py:1664: RuntimeWarning: invalid value encountered in less\n",
      "  if self.monitor_op(current - self.min_delta, self.best):\n",
      "c:\\users\\clara\\appdata\\local\\programs\\python\\python38\\lib\\site-packages\\tensorflow\\python\\keras\\callbacks.py:1664: RuntimeWarning: invalid value encountered in less\n",
      "  if self.monitor_op(current - self.min_delta, self.best):\n",
      "c:\\users\\clara\\appdata\\local\\programs\\python\\python38\\lib\\site-packages\\tensorflow\\python\\keras\\callbacks.py:1664: RuntimeWarning: invalid value encountered in less\n",
      "  if self.monitor_op(current - self.min_delta, self.best):\n",
      "c:\\users\\clara\\appdata\\local\\programs\\python\\python38\\lib\\site-packages\\tensorflow\\python\\keras\\callbacks.py:1664: RuntimeWarning: invalid value encountered in less\n",
      "  if self.monitor_op(current - self.min_delta, self.best):\n",
      "c:\\users\\clara\\appdata\\local\\programs\\python\\python38\\lib\\site-packages\\tensorflow\\python\\keras\\callbacks.py:1664: RuntimeWarning: invalid value encountered in less\n",
      "  if self.monitor_op(current - self.min_delta, self.best):\n",
      "c:\\users\\clara\\appdata\\local\\programs\\python\\python38\\lib\\site-packages\\tensorflow\\python\\keras\\callbacks.py:1664: RuntimeWarning: invalid value encountered in less\n",
      "  if self.monitor_op(current - self.min_delta, self.best):\n",
      "c:\\users\\clara\\appdata\\local\\programs\\python\\python38\\lib\\site-packages\\tensorflow\\python\\keras\\callbacks.py:1664: RuntimeWarning: invalid value encountered in less\n",
      "  if self.monitor_op(current - self.min_delta, self.best):\n",
      "c:\\users\\clara\\appdata\\local\\programs\\python\\python38\\lib\\site-packages\\tensorflow\\python\\keras\\callbacks.py:1664: RuntimeWarning: invalid value encountered in less\n",
      "  if self.monitor_op(current - self.min_delta, self.best):\n",
      "c:\\users\\clara\\appdata\\local\\programs\\python\\python38\\lib\\site-packages\\tensorflow\\python\\keras\\callbacks.py:1664: RuntimeWarning: invalid value encountered in less\n",
      "  if self.monitor_op(current - self.min_delta, self.best):\n"
     ]
    },
    {
     "name": "stdout",
     "output_type": "stream",
     "text": [
      "--- 13.643802650769551 minutes ---\n"
     ]
    }
   ],
   "source": [
    "# en mi ordenador ha tardado 12.39 minutos en ejecutarse\n",
    "start_time = time.time()\n",
    "lossd = try_model_3(params= hiper_dict, X= X_train, y= y_train, epochs=100)\n",
    "print(f\"--- {(time.time() - start_time)/60} minutes ---\")"
   ]
  },
  {
   "cell_type": "code",
   "execution_count": 55,
   "metadata": {},
   "outputs": [
    {
     "data": {
      "text/html": [
       "<div>\n",
       "<style scoped>\n",
       "    .dataframe tbody tr th:only-of-type {\n",
       "        vertical-align: middle;\n",
       "    }\n",
       "\n",
       "    .dataframe tbody tr th {\n",
       "        vertical-align: top;\n",
       "    }\n",
       "\n",
       "    .dataframe thead th {\n",
       "        text-align: right;\n",
       "    }\n",
       "</style>\n",
       "<table border=\"1\" class=\"dataframe\">\n",
       "  <thead>\n",
       "    <tr style=\"text-align: right;\">\n",
       "      <th></th>\n",
       "      <th>act1</th>\n",
       "      <th>act2</th>\n",
       "      <th>act3</th>\n",
       "      <th>act_output</th>\n",
       "      <th>opt</th>\n",
       "      <th>min_loss</th>\n",
       "    </tr>\n",
       "  </thead>\n",
       "  <tbody>\n",
       "    <tr>\n",
       "      <th>0</th>\n",
       "      <td>relu</td>\n",
       "      <td>relu</td>\n",
       "      <td>relu</td>\n",
       "      <td>relu</td>\n",
       "      <td>RMSprop</td>\n",
       "      <td>3.459116e+08</td>\n",
       "    </tr>\n",
       "    <tr>\n",
       "      <th>1</th>\n",
       "      <td>relu</td>\n",
       "      <td>relu</td>\n",
       "      <td>relu</td>\n",
       "      <td>relu</td>\n",
       "      <td>adam</td>\n",
       "      <td>3.438303e+08</td>\n",
       "    </tr>\n",
       "    <tr>\n",
       "      <th>2</th>\n",
       "      <td>relu</td>\n",
       "      <td>relu</td>\n",
       "      <td>relu</td>\n",
       "      <td>relu</td>\n",
       "      <td>SGD</td>\n",
       "      <td>1.159363e+15</td>\n",
       "    </tr>\n",
       "    <tr>\n",
       "      <th>3</th>\n",
       "      <td>relu</td>\n",
       "      <td>relu</td>\n",
       "      <td>relu</td>\n",
       "      <td>relu</td>\n",
       "      <td>Adadelta</td>\n",
       "      <td>3.438303e+08</td>\n",
       "    </tr>\n",
       "    <tr>\n",
       "      <th>4</th>\n",
       "      <td>relu</td>\n",
       "      <td>relu</td>\n",
       "      <td>relu</td>\n",
       "      <td>tanh</td>\n",
       "      <td>RMSprop</td>\n",
       "      <td>3.438010e+08</td>\n",
       "    </tr>\n",
       "    <tr>\n",
       "      <th>...</th>\n",
       "      <td>...</td>\n",
       "      <td>...</td>\n",
       "      <td>...</td>\n",
       "      <td>...</td>\n",
       "      <td>...</td>\n",
       "      <td>...</td>\n",
       "    </tr>\n",
       "    <tr>\n",
       "      <th>535</th>\n",
       "      <td>sigmoid</td>\n",
       "      <td>sigmoid</td>\n",
       "      <td>sigmoid</td>\n",
       "      <td>linear</td>\n",
       "      <td>Adadelta</td>\n",
       "      <td>3.437944e+08</td>\n",
       "    </tr>\n",
       "    <tr>\n",
       "      <th>536</th>\n",
       "      <td>sigmoid</td>\n",
       "      <td>sigmoid</td>\n",
       "      <td>sigmoid</td>\n",
       "      <td>sigmoid</td>\n",
       "      <td>RMSprop</td>\n",
       "      <td>3.437945e+08</td>\n",
       "    </tr>\n",
       "    <tr>\n",
       "      <th>537</th>\n",
       "      <td>sigmoid</td>\n",
       "      <td>sigmoid</td>\n",
       "      <td>sigmoid</td>\n",
       "      <td>sigmoid</td>\n",
       "      <td>adam</td>\n",
       "      <td>3.437948e+08</td>\n",
       "    </tr>\n",
       "    <tr>\n",
       "      <th>538</th>\n",
       "      <td>sigmoid</td>\n",
       "      <td>sigmoid</td>\n",
       "      <td>sigmoid</td>\n",
       "      <td>sigmoid</td>\n",
       "      <td>SGD</td>\n",
       "      <td>3.437945e+08</td>\n",
       "    </tr>\n",
       "    <tr>\n",
       "      <th>539</th>\n",
       "      <td>sigmoid</td>\n",
       "      <td>sigmoid</td>\n",
       "      <td>sigmoid</td>\n",
       "      <td>sigmoid</td>\n",
       "      <td>Adadelta</td>\n",
       "      <td>3.438200e+08</td>\n",
       "    </tr>\n",
       "  </tbody>\n",
       "</table>\n",
       "<p>540 rows × 6 columns</p>\n",
       "</div>"
      ],
      "text/plain": [
       "        act1     act2     act3 act_output       opt      min_loss\n",
       "0       relu     relu     relu       relu   RMSprop  3.459116e+08\n",
       "1       relu     relu     relu       relu      adam  3.438303e+08\n",
       "2       relu     relu     relu       relu       SGD  1.159363e+15\n",
       "3       relu     relu     relu       relu  Adadelta  3.438303e+08\n",
       "4       relu     relu     relu       tanh   RMSprop  3.438010e+08\n",
       "..       ...      ...      ...        ...       ...           ...\n",
       "535  sigmoid  sigmoid  sigmoid     linear  Adadelta  3.437944e+08\n",
       "536  sigmoid  sigmoid  sigmoid    sigmoid   RMSprop  3.437945e+08\n",
       "537  sigmoid  sigmoid  sigmoid    sigmoid      adam  3.437948e+08\n",
       "538  sigmoid  sigmoid  sigmoid    sigmoid       SGD  3.437945e+08\n",
       "539  sigmoid  sigmoid  sigmoid    sigmoid  Adadelta  3.438200e+08\n",
       "\n",
       "[540 rows x 6 columns]"
      ]
     },
     "execution_count": 55,
     "metadata": {},
     "output_type": "execute_result"
    }
   ],
   "source": [
    "lossdf = pd.DataFrame(lossd)\n",
    "lossdf"
   ]
  },
  {
   "cell_type": "code",
   "execution_count": 59,
   "metadata": {},
   "outputs": [],
   "source": [
    "lossdf.to_csv(\"lossdf.csv\", index= False)"
   ]
  },
  {
   "cell_type": "markdown",
   "metadata": {},
   "source": [
    "----------------------------------------------------------------------------------------------------------------------------"
   ]
  },
  {
   "cell_type": "code",
   "execution_count": 9,
   "metadata": {},
   "outputs": [],
   "source": [
    "lossdf_6 = pd.read_csv('lossdf.csv')"
   ]
  },
  {
   "cell_type": "code",
   "execution_count": 11,
   "metadata": {},
   "outputs": [
    {
     "data": {
      "text/html": [
       "<div>\n",
       "<style scoped>\n",
       "    .dataframe tbody tr th:only-of-type {\n",
       "        vertical-align: middle;\n",
       "    }\n",
       "\n",
       "    .dataframe tbody tr th {\n",
       "        vertical-align: top;\n",
       "    }\n",
       "\n",
       "    .dataframe thead th {\n",
       "        text-align: right;\n",
       "    }\n",
       "</style>\n",
       "<table border=\"1\" class=\"dataframe\">\n",
       "  <thead>\n",
       "    <tr style=\"text-align: right;\">\n",
       "      <th></th>\n",
       "      <th>act1</th>\n",
       "      <th>act2</th>\n",
       "      <th>act3</th>\n",
       "      <th>act_output</th>\n",
       "      <th>opt</th>\n",
       "      <th>min_loss</th>\n",
       "    </tr>\n",
       "  </thead>\n",
       "  <tbody>\n",
       "    <tr>\n",
       "      <th>234</th>\n",
       "      <td>linear</td>\n",
       "      <td>relu</td>\n",
       "      <td>sigmoid</td>\n",
       "      <td>linear</td>\n",
       "      <td>SGD</td>\n",
       "      <td>14940805.0</td>\n",
       "    </tr>\n",
       "    <tr>\n",
       "      <th>222</th>\n",
       "      <td>linear</td>\n",
       "      <td>relu</td>\n",
       "      <td>sigmoid</td>\n",
       "      <td>relu</td>\n",
       "      <td>SGD</td>\n",
       "      <td>20922666.0</td>\n",
       "    </tr>\n",
       "    <tr>\n",
       "      <th>114</th>\n",
       "      <td>relu</td>\n",
       "      <td>linear</td>\n",
       "      <td>sigmoid</td>\n",
       "      <td>linear</td>\n",
       "      <td>SGD</td>\n",
       "      <td>22972730.0</td>\n",
       "    </tr>\n",
       "    <tr>\n",
       "      <th>354</th>\n",
       "      <td>linear</td>\n",
       "      <td>sigmoid</td>\n",
       "      <td>sigmoid</td>\n",
       "      <td>linear</td>\n",
       "      <td>SGD</td>\n",
       "      <td>22977570.0</td>\n",
       "    </tr>\n",
       "    <tr>\n",
       "      <th>54</th>\n",
       "      <td>relu</td>\n",
       "      <td>relu</td>\n",
       "      <td>sigmoid</td>\n",
       "      <td>linear</td>\n",
       "      <td>SGD</td>\n",
       "      <td>22979298.0</td>\n",
       "    </tr>\n",
       "    <tr>\n",
       "      <th>...</th>\n",
       "      <td>...</td>\n",
       "      <td>...</td>\n",
       "      <td>...</td>\n",
       "      <td>...</td>\n",
       "      <td>...</td>\n",
       "      <td>...</td>\n",
       "    </tr>\n",
       "    <tr>\n",
       "      <th>202</th>\n",
       "      <td>linear</td>\n",
       "      <td>relu</td>\n",
       "      <td>linear</td>\n",
       "      <td>relu</td>\n",
       "      <td>SGD</td>\n",
       "      <td>NaN</td>\n",
       "    </tr>\n",
       "    <tr>\n",
       "      <th>214</th>\n",
       "      <td>linear</td>\n",
       "      <td>relu</td>\n",
       "      <td>linear</td>\n",
       "      <td>linear</td>\n",
       "      <td>SGD</td>\n",
       "      <td>NaN</td>\n",
       "    </tr>\n",
       "    <tr>\n",
       "      <th>254</th>\n",
       "      <td>linear</td>\n",
       "      <td>linear</td>\n",
       "      <td>relu</td>\n",
       "      <td>linear</td>\n",
       "      <td>SGD</td>\n",
       "      <td>NaN</td>\n",
       "    </tr>\n",
       "    <tr>\n",
       "      <th>262</th>\n",
       "      <td>linear</td>\n",
       "      <td>linear</td>\n",
       "      <td>linear</td>\n",
       "      <td>relu</td>\n",
       "      <td>SGD</td>\n",
       "      <td>NaN</td>\n",
       "    </tr>\n",
       "    <tr>\n",
       "      <th>274</th>\n",
       "      <td>linear</td>\n",
       "      <td>linear</td>\n",
       "      <td>linear</td>\n",
       "      <td>linear</td>\n",
       "      <td>SGD</td>\n",
       "      <td>NaN</td>\n",
       "    </tr>\n",
       "  </tbody>\n",
       "</table>\n",
       "<p>540 rows × 6 columns</p>\n",
       "</div>"
      ],
      "text/plain": [
       "       act1     act2     act3 act_output  opt    min_loss\n",
       "234  linear     relu  sigmoid     linear  SGD  14940805.0\n",
       "222  linear     relu  sigmoid       relu  SGD  20922666.0\n",
       "114    relu   linear  sigmoid     linear  SGD  22972730.0\n",
       "354  linear  sigmoid  sigmoid     linear  SGD  22977570.0\n",
       "54     relu     relu  sigmoid     linear  SGD  22979298.0\n",
       "..      ...      ...      ...        ...  ...         ...\n",
       "202  linear     relu   linear       relu  SGD         NaN\n",
       "214  linear     relu   linear     linear  SGD         NaN\n",
       "254  linear   linear     relu     linear  SGD         NaN\n",
       "262  linear   linear   linear       relu  SGD         NaN\n",
       "274  linear   linear   linear     linear  SGD         NaN\n",
       "\n",
       "[540 rows x 6 columns]"
      ]
     },
     "execution_count": 11,
     "metadata": {},
     "output_type": "execute_result"
    }
   ],
   "source": [
    "lossdf_6.sort_values(by= \"min_loss\")"
   ]
  },
  {
   "cell_type": "code",
   "execution_count": 14,
   "metadata": {},
   "outputs": [
    {
     "data": {
      "text/html": [
       "<div>\n",
       "<style scoped>\n",
       "    .dataframe tbody tr th:only-of-type {\n",
       "        vertical-align: middle;\n",
       "    }\n",
       "\n",
       "    .dataframe tbody tr th {\n",
       "        vertical-align: top;\n",
       "    }\n",
       "\n",
       "    .dataframe thead th {\n",
       "        text-align: right;\n",
       "    }\n",
       "</style>\n",
       "<table border=\"1\" class=\"dataframe\">\n",
       "  <thead>\n",
       "    <tr style=\"text-align: right;\">\n",
       "      <th></th>\n",
       "      <th>act1</th>\n",
       "      <th>act2</th>\n",
       "      <th>act3</th>\n",
       "      <th>act_output</th>\n",
       "      <th>opt</th>\n",
       "      <th>min_loss</th>\n",
       "    </tr>\n",
       "  </thead>\n",
       "  <tbody>\n",
       "    <tr>\n",
       "      <th>234</th>\n",
       "      <td>linear</td>\n",
       "      <td>relu</td>\n",
       "      <td>sigmoid</td>\n",
       "      <td>linear</td>\n",
       "      <td>SGD</td>\n",
       "      <td>14940805.0</td>\n",
       "    </tr>\n",
       "  </tbody>\n",
       "</table>\n",
       "</div>"
      ],
      "text/plain": [
       "       act1  act2     act3 act_output  opt    min_loss\n",
       "234  linear  relu  sigmoid     linear  SGD  14940805.0"
      ]
     },
     "execution_count": 14,
     "metadata": {},
     "output_type": "execute_result"
    }
   ],
   "source": [
    "lossdf_6[lossdf_6.min_loss == np.min(lossdf_6.min_loss)]"
   ]
  },
  {
   "cell_type": "markdown",
   "metadata": {},
   "source": [
    "**5. Ahora, haz que la red tenga 7 capas con 17,9,4,16,4,4,4 neuronas respectivamente. Utiliza la mejor función de activación y el mejor optimizador. ¿Esta red da mejor resultado? (Si da problema de memoria, prueba a quitar capas.)**"
   ]
  },
  {
   "cell_type": "code",
   "execution_count": null,
   "metadata": {},
   "outputs": [],
   "source": [
    "'''\n",
    "# add a checkpoint to save the lowest validation loss\n",
    "filepath = 'tf2_mnist_model.hdf5'\n",
    "\n",
    "checkpoint = ModelCheckpoint(filepath, monitor='val_loss', verbose=1, \\\n",
    "                             save_best_only=True, save_weights_only=False, \\\n",
    "                             mode='auto', save_frequency=1)\n",
    "\n",
    "model.fit(x_train, y_train,\n",
    "          batch_size=batch_size,\n",
    "          epochs=epochs,\n",
    "          verbose=1,\n",
    "          validation_data=(x_test, y_test),\n",
    "          callbacks=[checkpoint])\n",
    "'''"
   ]
  },
  {
   "cell_type": "code",
   "execution_count": 18,
   "metadata": {},
   "outputs": [
    {
     "name": "stdout",
     "output_type": "stream",
     "text": [
      "Epoch 1/100\n",
      "2/2 [==============================] - 0s 201ms/step - loss: 337931744.0000 - mae: 17716.2168 - mse: 337931744.0000 - val_loss: 197206432.0000 - val_mae: 14027.6250 - val_mse: 197206432.0000\n",
      "Epoch 2/100\n",
      "2/2 [==============================] - 0s 8ms/step - loss: 264289328.0000 - mae: 15518.9893 - mse: 264289328.0000 - val_loss: 135755088.0000 - val_mae: 11632.8369 - val_mse: 135755088.0000\n",
      "Epoch 3/100\n",
      "2/2 [==============================] - 0s 16ms/step - loss: 196529536.0000 - mae: 13163.3018 - mse: 196529536.0000 - val_loss: 92473312.0000 - val_mae: 9593.8057 - val_mse: 92473312.0000\n",
      "Epoch 4/100\n",
      "2/2 [==============================] - 0s 16ms/step - loss: 147674656.0000 - mae: 11156.7559 - mse: 147674656.0000 - val_loss: 62371332.0000 - val_mae: 7870.1421 - val_mse: 62371332.0000\n",
      "Epoch 5/100\n",
      "2/2 [==============================] - 0s 16ms/step - loss: 111983360.0000 - mae: 9473.0176 - mse: 111983360.0000 - val_loss: 39134248.0000 - val_mae: 6221.0967 - val_mse: 39134248.0000\n",
      "Epoch 6/100\n",
      "2/2 [==============================] - 0s 16ms/step - loss: 84071288.0000 - mae: 8115.8955 - mse: 84071288.0000 - val_loss: 24015092.0000 - val_mae: 4856.2222 - val_mse: 24015092.0000\n",
      "Epoch 7/100\n",
      "2/2 [==============================] - 0s 20ms/step - loss: 65311200.0000 - mae: 7237.5679 - mse: 65311200.0000 - val_loss: 15494249.0000 - val_mae: 3880.9858 - val_mse: 15494249.0000\n",
      "Epoch 8/100\n",
      "2/2 [==============================] - 0s 21ms/step - loss: 53780300.0000 - mae: 6636.6299 - mse: 53780300.0000 - val_loss: 9876918.0000 - val_mae: 3073.2258 - val_mse: 9876918.0000\n",
      "Epoch 9/100\n",
      "2/2 [==============================] - 0s 16ms/step - loss: 45639792.0000 - mae: 6134.1968 - mse: 45639792.0000 - val_loss: 6262875.0000 - val_mae: 2414.6790 - val_mse: 6262875.0000\n",
      "Epoch 10/100\n",
      "2/2 [==============================] - 0s 21ms/step - loss: 39886952.0000 - mae: 5759.9316 - mse: 39886952.0000 - val_loss: 3881905.5000 - val_mae: 1857.3380 - val_mse: 3881905.5000\n",
      "Epoch 11/100\n",
      "2/2 [==============================] - 0s 16ms/step - loss: 35811504.0000 - mae: 5454.4805 - mse: 35811504.0000 - val_loss: 2552222.2500 - val_mae: 1456.0295 - val_mse: 2552222.2500\n",
      "Epoch 12/100\n",
      "2/2 [==============================] - 0s 20ms/step - loss: 32907984.0000 - mae: 5224.7354 - mse: 32907984.0000 - val_loss: 1379505.5000 - val_mae: 1050.0192 - val_mse: 1379505.5000\n",
      "Epoch 13/100\n",
      "2/2 [==============================] - 0s 16ms/step - loss: 30492986.0000 - mae: 5021.4785 - mse: 30492986.0000 - val_loss: 1052650.6250 - val_mae: 898.1570 - val_mse: 1052650.6250\n",
      "Epoch 14/100\n",
      "2/2 [==============================] - 0s 20ms/step - loss: 29295468.0000 - mae: 4902.3701 - mse: 29295468.0000 - val_loss: 675002.0625 - val_mae: 723.0348 - val_mse: 675002.0625\n",
      "Epoch 15/100\n",
      "2/2 [==============================] - 0s 16ms/step - loss: 27834212.0000 - mae: 4764.9390 - mse: 27834212.0000 - val_loss: 460179.0938 - val_mae: 575.0891 - val_mse: 460179.0938\n",
      "Epoch 16/100\n",
      "2/2 [==============================] - 0s 20ms/step - loss: 26496764.0000 - mae: 4612.8955 - mse: 26496764.0000 - val_loss: 452123.2812 - val_mae: 527.8565 - val_mse: 452123.2812\n",
      "Epoch 17/100\n",
      "2/2 [==============================] - 0s 16ms/step - loss: 25427960.0000 - mae: 4493.2451 - mse: 25427960.0000 - val_loss: 626413.1875 - val_mae: 599.8040 - val_mse: 626413.1875\n",
      "Epoch 18/100\n",
      "2/2 [==============================] - 0s 20ms/step - loss: 24580210.0000 - mae: 4373.8770 - mse: 24580210.0000 - val_loss: 985353.7500 - val_mae: 768.6463 - val_mse: 985353.7500\n",
      "Epoch 19/100\n",
      "2/2 [==============================] - 0s 16ms/step - loss: 23960388.0000 - mae: 4258.3184 - mse: 23960388.0000 - val_loss: 1147283.1250 - val_mae: 848.7351 - val_mse: 1147283.1250\n",
      "Epoch 20/100\n",
      "2/2 [==============================] - 0s 22ms/step - loss: 23835554.0000 - mae: 4233.3389 - mse: 23835554.0000 - val_loss: 1148862.8750 - val_mae: 849.4990 - val_mse: 1148862.8750\n",
      "Epoch 21/100\n",
      "2/2 [==============================] - 0s 18ms/step - loss: 23729226.0000 - mae: 4220.2910 - mse: 23729226.0000 - val_loss: 1565632.1250 - val_mae: 1064.6277 - val_mse: 1565632.1250\n",
      "Epoch 22/100\n",
      "2/2 [==============================] - 0s 21ms/step - loss: 23406606.0000 - mae: 4145.9321 - mse: 23406606.0000 - val_loss: 1836950.0000 - val_mae: 1185.2214 - val_mse: 1836950.0000\n",
      "Epoch 23/100\n",
      "2/2 [==============================] - 0s 16ms/step - loss: 23272136.0000 - mae: 4108.2529 - mse: 23272136.0000 - val_loss: 2395446.5000 - val_mae: 1401.1589 - val_mse: 2395446.5000\n",
      "Epoch 24/100\n",
      "2/2 [==============================] - 0s 24ms/step - loss: 23135500.0000 - mae: 4033.0737 - mse: 23135500.0000 - val_loss: 2164320.2500 - val_mae: 1316.1003 - val_mse: 2164320.2500\n",
      "Epoch 25/100\n",
      "2/2 [==============================] - 0s 17ms/step - loss: 23162732.0000 - mae: 4065.0813 - mse: 23162732.0000 - val_loss: 2784777.0000 - val_mae: 1533.8113 - val_mse: 2784777.0000\n",
      "Epoch 26/100\n",
      "2/2 [==============================] - 0s 18ms/step - loss: 23009892.0000 - mae: 3987.0027 - mse: 23009892.0000 - val_loss: 3123429.7500 - val_mae: 1640.4968 - val_mse: 3123429.7500\n"
     ]
    }
   ],
   "source": [
    "model = keras.models.Sequential()\n",
    "model.add(keras.layers.Dense(units=17, input_dim = X_train.shape[1], activation='linear'))\n",
    "model.add(keras.layers.Dense(units=9, activation='linear'))\n",
    "model.add(keras.layers.Dense(units=4, activation='relu'))\n",
    "model.add(keras.layers.Dense(units=16, activation='relu'))\n",
    "model.add(keras.layers.Dense(units=4, activation='relu'))\n",
    "model.add(keras.layers.Dense(units=4, activation='sigmoid'))\n",
    "model.add(keras.layers.Dense(units=4, activation='sigmoid' ))\n",
    "model.add(keras.layers.Dense(units=1))\n",
    "\n",
    "model.compile(loss='mse',\n",
    "            optimizer='SGD',\n",
    "            metrics=['mae', 'mse'])\n",
    "\n",
    "history = train_model(model=model, epochs=100, X=X_train, y=y_train, verbose=1)"
   ]
  },
  {
   "cell_type": "code",
   "execution_count": 20,
   "metadata": {},
   "outputs": [
    {
     "data": {
      "image/png": "[encoded data removed]",
      "text/plain": [
       "<Figure size 432x288 with 1 Axes>"
      ]
     },
     "metadata": {
      "needs_background": "light"
     },
     "output_type": "display_data"
    }
   ],
   "source": [
    "plt.plot(history.history['loss'])\n",
    "plt.plot(history.history['val_loss'])\n",
    "plt.title('model loss')\n",
    "plt.ylabel('loss')\n",
    "plt.xlabel('epoch')\n",
    "plt.legend(['train', 'val'])\n",
    "plt.show()"
   ]
  }
 ],
 "metadata": {
  "kernelspec": {
   "display_name": "Python 3",
   "language": "python",
   "name": "python3"
  },
  "language_info": {
   "codemirror_mode": {
    "name": "ipython",
    "version": 3
   },
   "file_extension": ".py",
   "mimetype": "text/x-python",
   "name": "python",
   "nbconvert_exporter": "python",
   "pygments_lexer": "ipython3",
   "version": "3.8.3"
  }
 },
 "nbformat": 4,
 "nbformat_minor": 2
}
