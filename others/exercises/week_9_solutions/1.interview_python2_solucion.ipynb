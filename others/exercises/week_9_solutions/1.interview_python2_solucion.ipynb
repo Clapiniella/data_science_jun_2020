{
 "cells": [
  {
   "cell_type": "markdown",
   "metadata": {},
   "source": [
    "Here's your coding interview problem for today.\n",
    "\n",
    "This problem was asked by Google.\n",
    "\n",
    "You are given an M by N matrix consisting of booleans that represents a board. Each True boolean represents a wall. Each False boolean represents a tile you can walk on.\n",
    "\n",
    "Given this matrix, a start coordinate, and an end coordinate, return the minimum number of steps required to reach the end coordinate from the start. If there is no possible path, then return null. You can move up, left, down, and right. You cannot move through walls. You cannot wrap around the edges of the board.\n",
    "\n",
    "For example, given the following board:\n",
    "\n",
    ">f, f, f, f,\n",
    "\n",
    ">t, t, f, t,\n",
    "\n",
    ">f, f, f, f,\n",
    "\n",
    ">f, f, f, f\n",
    "\n",
    "and start = (3, 0) (bottom left) and end = (0, 0) (top left), the minimum number of steps required to reach the end is 7, since we would need to go through (1, 2) because there is a wall everywhere else on the second row."
   ]
  },
  {
   "cell_type": "markdown",
   "metadata": {},
   "source": [
    "**LA SOLUCIÓN AQUÍ**\n",
    "\n",
    "\n",
    "https://www.youtube.com/watch?v=IMuLFEozMZs\n",
    "\n",
    "https://gist.github.com/folksilva/465f89b46db0d8c56eb788677349637d\n",
    "\n",
    "No es Python pero viene bien explicado:\n",
    "\n",
    "https://galaiko.rocks/posts/dcp/maze/"
   ]
  },
  {
   "cell_type": "code",
   "execution_count": 1,
   "metadata": {},
   "outputs": [
    {
     "data": {
      "text/plain": [
       "[['f', 'f', 'f', 'f'],\n",
       " ['t', 't', 'f', 't'],\n",
       " ['f', 'f', 'f', 'f'],\n",
       " ['f', 'f', 'f', 'f']]"
      ]
     },
     "execution_count": 1,
     "metadata": {},
     "output_type": "execute_result"
    }
   ],
   "source": [
    "matrix = [[\"f\", \"f\", \"f\", \"f\"],\n",
    "\n",
    "[\"t\", \"t\", \"f\", \"t\"],\n",
    "\n",
    "[\"f\", \"f\", \"f\", \"f\"],\n",
    "\n",
    "[\"f\", \"f\", \"f\", \"f\"]]\n",
    "\n",
    "matrix"
   ]
  },
  {
   "cell_type": "code",
   "execution_count": 4,
   "metadata": {},
   "outputs": [],
   "source": [
    "start = (3, 0)\n",
    "end = (0, 0)"
   ]
  },
  {
   "cell_type": "code",
   "execution_count": null,
   "metadata": {},
   "outputs": [],
   "source": [
    "def run_game(matrix, start, end):\n",
    "    current_position = start\n",
    "    difference = end - start  # (-3, 0)\n",
    "    current_position = move_up(matrix=matrix, current_position=current_position)\n",
    "\n",
    "def move_up(matrix, current_position):\n",
    "    # (3, 0)\n",
    "    if matrix[]\n",
    "    #...\n",
    "\n",
    "    "
   ]
  }
 ],
 "metadata": {
  "kernelspec": {
   "display_name": "Python 3",
   "language": "python",
   "name": "python3"
  },
  "language_info": {
   "codemirror_mode": {
    "name": "ipython",
    "version": 3
   },
   "file_extension": ".py",
   "mimetype": "text/x-python",
   "name": "python",
   "nbconvert_exporter": "python",
   "pygments_lexer": "ipython3",
   "version": "3.8.3"
  }
 },
 "nbformat": 4,
 "nbformat_minor": 2
}
