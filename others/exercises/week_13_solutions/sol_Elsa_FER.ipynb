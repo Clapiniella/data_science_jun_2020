{
 "cells": [
  {
   "cell_type": "code",
   "execution_count": 45,
   "metadata": {},
   "outputs": [],
   "source": [
    "import pandas as pd\n",
    "import numpy as np\n",
    "import matplotlib.pyplot as plt\n",
    "import cv2\n",
    "import random\n",
    "\n",
    "from sklearn.preprocessing import LabelEncoder\n",
    "from sklearn.model_selection import train_test_split \n",
    "from tensorflow.keras.utils import to_categorical\n",
    "import tensorflow as tf\n",
    "from tensorflow import keras\n",
    "\n",
    "from tensorflow.keras.models import Sequential\n",
    "from tensorflow.keras.layers import Dense, Dropout, Activation, Flatten\n",
    "from tensorflow.keras.optimizers import SGD\n",
    "from tensorflow.keras.layers import Conv2D, MaxPooling2D\n",
    "from tensorflow.keras.models import Sequential\n",
    "\n",
    "from sklearn.metrics import confusion_matrix\n",
    "import seaborn as sns"
   ]
  },
  {
   "cell_type": "code",
   "execution_count": 2,
   "metadata": {},
   "outputs": [],
   "source": [
    "to_train = pd.read_csv(\"train_set.csv\")"
   ]
  },
  {
   "cell_type": "code",
   "execution_count": 3,
   "metadata": {},
   "outputs": [
    {
     "data": {
      "text/html": [
       "<div>\n",
       "<style scoped>\n",
       "    .dataframe tbody tr th:only-of-type {\n",
       "        vertical-align: middle;\n",
       "    }\n",
       "\n",
       "    .dataframe tbody tr th {\n",
       "        vertical-align: top;\n",
       "    }\n",
       "\n",
       "    .dataframe thead th {\n",
       "        text-align: right;\n",
       "    }\n",
       "</style>\n",
       "<table border=\"1\" class=\"dataframe\">\n",
       "  <thead>\n",
       "    <tr style=\"text-align: right;\">\n",
       "      <th></th>\n",
       "      <th>label</th>\n",
       "      <th>id_img</th>\n",
       "      <th>path</th>\n",
       "    </tr>\n",
       "  </thead>\n",
       "  <tbody>\n",
       "    <tr>\n",
       "      <th>0</th>\n",
       "      <td>happy</td>\n",
       "      <td>22373</td>\n",
       "      <td>happy/22373.jpg</td>\n",
       "    </tr>\n",
       "    <tr>\n",
       "      <th>1</th>\n",
       "      <td>happy</td>\n",
       "      <td>21433</td>\n",
       "      <td>happy/21433.jpg</td>\n",
       "    </tr>\n",
       "    <tr>\n",
       "      <th>2</th>\n",
       "      <td>happy</td>\n",
       "      <td>12418</td>\n",
       "      <td>happy/12418.jpg</td>\n",
       "    </tr>\n",
       "    <tr>\n",
       "      <th>3</th>\n",
       "      <td>happy</td>\n",
       "      <td>21278</td>\n",
       "      <td>happy/21278.jpg</td>\n",
       "    </tr>\n",
       "    <tr>\n",
       "      <th>4</th>\n",
       "      <td>happy</td>\n",
       "      <td>8081</td>\n",
       "      <td>happy/08081.jpg</td>\n",
       "    </tr>\n",
       "    <tr>\n",
       "      <th>...</th>\n",
       "      <td>...</td>\n",
       "      <td>...</td>\n",
       "      <td>...</td>\n",
       "    </tr>\n",
       "    <tr>\n",
       "      <th>6171</th>\n",
       "      <td>sadness</td>\n",
       "      <td>11346</td>\n",
       "      <td>sadness/11346.jpg</td>\n",
       "    </tr>\n",
       "    <tr>\n",
       "      <th>6172</th>\n",
       "      <td>sadness</td>\n",
       "      <td>4441</td>\n",
       "      <td>sadness/04441.jpg</td>\n",
       "    </tr>\n",
       "    <tr>\n",
       "      <th>6173</th>\n",
       "      <td>sadness</td>\n",
       "      <td>15236</td>\n",
       "      <td>sadness/15236.jpg</td>\n",
       "    </tr>\n",
       "    <tr>\n",
       "      <th>6174</th>\n",
       "      <td>sadness</td>\n",
       "      <td>27361</td>\n",
       "      <td>sadness/27361.jpg</td>\n",
       "    </tr>\n",
       "    <tr>\n",
       "      <th>6175</th>\n",
       "      <td>sadness</td>\n",
       "      <td>25239</td>\n",
       "      <td>sadness/25239.jpg</td>\n",
       "    </tr>\n",
       "  </tbody>\n",
       "</table>\n",
       "<p>6176 rows × 3 columns</p>\n",
       "</div>"
      ],
      "text/plain": [
       "        label  id_img               path\n",
       "0       happy   22373    happy/22373.jpg\n",
       "1       happy   21433    happy/21433.jpg\n",
       "2       happy   12418    happy/12418.jpg\n",
       "3       happy   21278    happy/21278.jpg\n",
       "4       happy    8081    happy/08081.jpg\n",
       "...       ...     ...                ...\n",
       "6171  sadness   11346  sadness/11346.jpg\n",
       "6172  sadness    4441  sadness/04441.jpg\n",
       "6173  sadness   15236  sadness/15236.jpg\n",
       "6174  sadness   27361  sadness/27361.jpg\n",
       "6175  sadness   25239  sadness/25239.jpg\n",
       "\n",
       "[6176 rows x 3 columns]"
      ]
     },
     "execution_count": 3,
     "metadata": {},
     "output_type": "execute_result"
    }
   ],
   "source": [
    "to_train"
   ]
  },
  {
   "cell_type": "code",
   "execution_count": 4,
   "metadata": {},
   "outputs": [
    {
     "name": "stdout",
     "output_type": "stream",
     "text": [
      "####################\n",
      "(6176, 48, 48, 1)\n"
     ]
    }
   ],
   "source": [
    "# Convertimos todas las imagenes en un array:\n",
    "X_train = []\n",
    "for elem in to_train.path:\n",
    "    path = \"totrain/totrain/\" + elem\n",
    "    X_train.append((cv2.cvtColor(cv2.imread(path), cv2.COLOR_BGR2GRAY).reshape(48,48,1)))\n",
    "\n",
    "X_train = np.array(X_train)\n",
    "#print(X_train)\n",
    "print(\"####################\")\n",
    "print(X_train.shape)"
   ]
  },
  {
   "cell_type": "code",
   "execution_count": 5,
   "metadata": {},
   "outputs": [],
   "source": [
    "# si quieres convertir una serie a lista puedes hacerlo con esta línea de código :) \n",
    "lista_label =  to_train.label.tolist()"
   ]
  },
  {
   "cell_type": "markdown",
   "metadata": {},
   "source": [
    "Para mezclar las imágenes de feliz y triste:\n",
    "\n",
    "https://stackoverflow.com/questions/23289547/shuffle-two-list-at-once-with-same-order\n",
    "\n",
    "```python\n",
    "a = ['a', 'b', 'c']\n",
    "b = [1, 2, 3]\n",
    "\n",
    "c = list(zip(a, b))\n",
    "\n",
    "random.shuffle(c)\n",
    "\n",
    "a, b = zip(*c)\n",
    "\n",
    "print a\n",
    "print b\n",
    "\n",
    "[OUTPUT]\n",
    "['a', 'c', 'b']\n",
    "[1, 3, 2]\n",
    "\n",
    "```"
   ]
  },
  {
   "cell_type": "code",
   "execution_count": 6,
   "metadata": {},
   "outputs": [],
   "source": [
    "c = list(zip(X_train.tolist(), lista_label))\n",
    "random.shuffle(c)\n",
    "X_train, lista_label = zip(*c)"
   ]
  },
  {
   "cell_type": "code",
   "execution_count": 7,
   "metadata": {},
   "outputs": [
    {
     "data": {
      "image/png": "[encoded data removed]",
      "text/plain": [
       "<Figure size 720x720 with 9 Axes>"
      ]
     },
     "metadata": {
      "needs_background": "light"
     },
     "output_type": "display_data"
    }
   ],
   "source": [
    "plt.figure(figsize=(10, 10))\n",
    "for i, foto in enumerate(X_train[:9]):\n",
    "    ax = plt.subplot(3, 3, i + 1)\n",
    "    plt.imshow(np.array(foto).reshape(48,48))\n",
    "    plt.title(lista_label[i])\n",
    "    plt.axis(\"off\")"
   ]
  },
  {
   "cell_type": "code",
   "execution_count": 8,
   "metadata": {},
   "outputs": [
    {
     "data": {
      "text/plain": [
       "array(['happy', 'sadness', 'happy', ..., 'sadness', 'happy', 'happy'],\n",
       "      dtype='<U7')"
      ]
     },
     "execution_count": 8,
     "metadata": {},
     "output_type": "execute_result"
    }
   ],
   "source": [
    "y_train = np.asarray(lista_label)\n",
    "X_train = np.asarray(X_train)\n",
    "y_train"
   ]
  },
  {
   "cell_type": "code",
   "execution_count": 9,
   "metadata": {},
   "outputs": [
    {
     "data": {
      "text/plain": [
       "array([1, 1, 1, ..., 1, 0, 0], dtype=int64)"
      ]
     },
     "execution_count": 9,
     "metadata": {},
     "output_type": "execute_result"
    }
   ],
   "source": [
    "le = LabelEncoder()\n",
    "y_train = le.fit_transform(y_train)\n",
    "y_train[10:]"
   ]
  },
  {
   "cell_type": "code",
   "execution_count": 10,
   "metadata": {},
   "outputs": [
    {
     "data": {
      "text/plain": [
       "((6176, 48, 48, 1), (6176,))"
      ]
     },
     "execution_count": 10,
     "metadata": {},
     "output_type": "execute_result"
    }
   ],
   "source": [
    "X_train.shape, y_train.shape"
   ]
  },
  {
   "cell_type": "code",
   "execution_count": 11,
   "metadata": {},
   "outputs": [
    {
     "name": "stdout",
     "output_type": "stream",
     "text": [
      "Model: \"sequential\"\n",
      "_________________________________________________________________\n",
      "Layer (type)                 Output Shape              Param #   \n",
      "=================================================================\n",
      "conv2d (Conv2D)              (None, 46, 46, 16)        160       \n",
      "_________________________________________________________________\n",
      "max_pooling2d (MaxPooling2D) (None, 23, 23, 16)        0         \n",
      "_________________________________________________________________\n",
      "conv2d_1 (Conv2D)            (None, 21, 21, 32)        4640      \n",
      "_________________________________________________________________\n",
      "max_pooling2d_1 (MaxPooling2 (None, 10, 10, 32)        0         \n",
      "_________________________________________________________________\n",
      "conv2d_2 (Conv2D)            (None, 8, 8, 64)          18496     \n",
      "_________________________________________________________________\n",
      "max_pooling2d_2 (MaxPooling2 (None, 4, 4, 64)          0         \n",
      "_________________________________________________________________\n",
      "dropout (Dropout)            (None, 4, 4, 64)          0         \n",
      "_________________________________________________________________\n",
      "flatten (Flatten)            (None, 1024)              0         \n",
      "_________________________________________________________________\n",
      "dense (Dense)                (None, 16)                16400     \n",
      "_________________________________________________________________\n",
      "dense_1 (Dense)              (None, 32)                544       \n",
      "_________________________________________________________________\n",
      "dense_2 (Dense)              (None, 2)                 66        \n",
      "=================================================================\n",
      "Total params: 40,306\n",
      "Trainable params: 40,306\n",
      "Non-trainable params: 0\n",
      "_________________________________________________________________\n"
     ]
    }
   ],
   "source": [
    "tf.config.run_functions_eagerly(True)\n",
    "\n",
    "INPUT_SHAPE = (48,48,1)\n",
    "\n",
    "model = keras.models.Sequential()\n",
    "\n",
    "model.add(keras.layers.Conv2D(filters=16, kernel_size=(3, 3), strides=(1, 1), activation=\"relu\", padding=\"valid\", input_shape=INPUT_SHAPE))\n",
    "model.add(keras.layers.MaxPool2D(pool_size=(2, 2)))\n",
    "\n",
    "# añadido por Gabriel\n",
    "model.add(keras.layers.Conv2D(filters=32, kernel_size=(3, 3), strides=(1, 1), activation=\"relu\", padding=\"valid\", input_shape=INPUT_SHAPE))\n",
    "model.add(keras.layers.MaxPool2D(pool_size=(2, 2)))\n",
    "model.add(keras.layers.Conv2D(filters=64, kernel_size=(3, 3), strides=(1, 1), activation=\"relu\", padding=\"valid\", input_shape=INPUT_SHAPE))\n",
    "model.add(keras.layers.MaxPool2D(pool_size=(2, 2)))\n",
    "\n",
    "model.add(keras.layers.Dropout(rate=0.5))\n",
    "\n",
    "model.add(keras.layers.Flatten())\n",
    "\n",
    "model.add(keras.layers.Dense(units=16, activation=\"relu\"))\n",
    "model.add(keras.layers.Dense(units=32, activation=\"relu\"))\n",
    "\n",
    "model.add(keras.layers.Dense(units=2, activation=\"softmax\"))\n",
    "model.summary()\n",
    "\n",
    "model.compile(optimizer='adam',\n",
    "              loss='sparse_categorical_crossentropy',\n",
    "              metrics=['accuracy'])"
   ]
  },
  {
   "cell_type": "code",
   "execution_count": 12,
   "metadata": {},
   "outputs": [
    {
     "name": "stdout",
     "output_type": "stream",
     "text": [
      "Epoch 1/20\n"
     ]
    },
    {
     "name": "stderr",
     "output_type": "stream",
     "text": [
      "c:\\users\\clara\\appdata\\local\\programs\\python\\python38\\lib\\site-packages\\tensorflow\\python\\data\\ops\\dataset_ops.py:3349: UserWarning: Even though the tf.config.experimental_run_functions_eagerly option is set, this option does not apply to tf.data functions. tf.data functions are still traced and executed as graphs.\n",
      "  warnings.warn(\n"
     ]
    },
    {
     "name": "stdout",
     "output_type": "stream",
     "text": [
      "155/155 [==============================] - 16s 101ms/step - loss: 0.8588 - accuracy: 0.5190 - val_loss: 0.7055 - val_accuracy: 0.4717\n",
      "Epoch 2/20\n",
      "155/155 [==============================] - 23s 150ms/step - loss: 0.6965 - accuracy: 0.5190 - val_loss: 0.6808 - val_accuracy: 0.5510\n",
      "Epoch 3/20\n",
      "155/155 [==============================] - 22s 143ms/step - loss: 0.6742 - accuracy: 0.5715 - val_loss: 0.6192 - val_accuracy: 0.6392\n",
      "Epoch 4/20\n",
      "155/155 [==============================] - 18s 118ms/step - loss: 0.6303 - accuracy: 0.6441 - val_loss: 0.5689 - val_accuracy: 0.7201\n",
      "Epoch 5/20\n",
      "155/155 [==============================] - 17s 110ms/step - loss: 0.5990 - accuracy: 0.6814 - val_loss: 0.5358 - val_accuracy: 0.7371\n",
      "Epoch 6/20\n",
      "155/155 [==============================] - 18s 114ms/step - loss: 0.5572 - accuracy: 0.7172 - val_loss: 0.5116 - val_accuracy: 0.7492\n",
      "Epoch 7/20\n",
      "155/155 [==============================] - 21s 134ms/step - loss: 0.5104 - accuracy: 0.7462 - val_loss: 0.4687 - val_accuracy: 0.7872\n",
      "Epoch 8/20\n",
      "155/155 [==============================] - 24s 153ms/step - loss: 0.4812 - accuracy: 0.7662 - val_loss: 0.4743 - val_accuracy: 0.7589\n",
      "Epoch 9/20\n",
      "155/155 [==============================] - 23s 149ms/step - loss: 0.4552 - accuracy: 0.7789 - val_loss: 0.4419 - val_accuracy: 0.7953\n",
      "Epoch 10/20\n",
      "155/155 [==============================] - 21s 135ms/step - loss: 0.4506 - accuracy: 0.7883 - val_loss: 0.4548 - val_accuracy: 0.7880\n",
      "Epoch 11/20\n",
      "155/155 [==============================] - 16s 104ms/step - loss: 0.4300 - accuracy: 0.8004 - val_loss: 0.4197 - val_accuracy: 0.8123\n",
      "Epoch 12/20\n",
      "155/155 [==============================] - 20s 128ms/step - loss: 0.4024 - accuracy: 0.8154 - val_loss: 0.4119 - val_accuracy: 0.8155\n",
      "Epoch 13/20\n",
      "155/155 [==============================] - 24s 153ms/step - loss: 0.3968 - accuracy: 0.8162 - val_loss: 0.4169 - val_accuracy: 0.8123\n",
      "Epoch 14/20\n",
      "155/155 [==============================] - 24s 155ms/step - loss: 0.3817 - accuracy: 0.8275 - val_loss: 0.4185 - val_accuracy: 0.8163\n",
      "Epoch 15/20\n",
      "155/155 [==============================] - 21s 133ms/step - loss: 0.3573 - accuracy: 0.8393 - val_loss: 0.3919 - val_accuracy: 0.8317\n",
      "Epoch 16/20\n",
      "155/155 [==============================] - 17s 110ms/step - loss: 0.3477 - accuracy: 0.8455 - val_loss: 0.4059 - val_accuracy: 0.8139\n",
      "Epoch 17/20\n",
      "155/155 [==============================] - 18s 118ms/step - loss: 0.3286 - accuracy: 0.8575 - val_loss: 0.4013 - val_accuracy: 0.8293\n",
      "Epoch 18/20\n",
      "155/155 [==============================] - 22s 141ms/step - loss: 0.3140 - accuracy: 0.8581 - val_loss: 0.4228 - val_accuracy: 0.8172\n",
      "Epoch 19/20\n",
      "155/155 [==============================] - 20s 127ms/step - loss: 0.3028 - accuracy: 0.8652 - val_loss: 0.4018 - val_accuracy: 0.8398\n",
      "Epoch 20/20\n",
      "155/155 [==============================] - 24s 154ms/step - loss: 0.2912 - accuracy: 0.8741 - val_loss: 0.4226 - val_accuracy: 0.8091\n"
     ]
    }
   ],
   "source": [
    "history = model.fit(X_train, y_train, epochs=20, validation_split=0.20, verbose=1)"
   ]
  },
  {
   "cell_type": "code",
   "execution_count": 14,
   "metadata": {},
   "outputs": [
    {
     "name": "stdout",
     "output_type": "stream",
     "text": [
      "193/193 - 9s - loss: 0.2672 - accuracy: 0.8897\n",
      "\n",
      "Test accuracy: 0.8897344470024109\n"
     ]
    }
   ],
   "source": [
    "# Evaluar Exactitud\n",
    "test_loss, test_acc = model.evaluate(X_train, y_train, verbose=2)\n",
    "\n",
    "print('\\nTest accuracy:', test_acc)"
   ]
  },
  {
   "cell_type": "markdown",
   "metadata": {},
   "source": [
    "## Aplicamos to_pred & sample submission"
   ]
  },
  {
   "cell_type": "code",
   "execution_count": 15,
   "metadata": {},
   "outputs": [],
   "source": [
    "to_test = pd.read_csv(\"test_set.csv\")"
   ]
  },
  {
   "cell_type": "code",
   "execution_count": 16,
   "metadata": {},
   "outputs": [
    {
     "data": {
      "text/html": [
       "<div>\n",
       "<style scoped>\n",
       "    .dataframe tbody tr th:only-of-type {\n",
       "        vertical-align: middle;\n",
       "    }\n",
       "\n",
       "    .dataframe tbody tr th {\n",
       "        vertical-align: top;\n",
       "    }\n",
       "\n",
       "    .dataframe thead th {\n",
       "        text-align: right;\n",
       "    }\n",
       "</style>\n",
       "<table border=\"1\" class=\"dataframe\">\n",
       "  <thead>\n",
       "    <tr style=\"text-align: right;\">\n",
       "      <th></th>\n",
       "      <th>id_img</th>\n",
       "      <th>path</th>\n",
       "    </tr>\n",
       "  </thead>\n",
       "  <tbody>\n",
       "    <tr>\n",
       "      <th>0</th>\n",
       "      <td>18341</td>\n",
       "      <td>to_pred/18341.jpg</td>\n",
       "    </tr>\n",
       "    <tr>\n",
       "      <th>1</th>\n",
       "      <td>13176</td>\n",
       "      <td>to_pred/13176.jpg</td>\n",
       "    </tr>\n",
       "    <tr>\n",
       "      <th>2</th>\n",
       "      <td>23945</td>\n",
       "      <td>to_pred/23945.jpg</td>\n",
       "    </tr>\n",
       "    <tr>\n",
       "      <th>3</th>\n",
       "      <td>15968</td>\n",
       "      <td>to_pred/15968.jpg</td>\n",
       "    </tr>\n",
       "    <tr>\n",
       "      <th>4</th>\n",
       "      <td>18382</td>\n",
       "      <td>to_pred/18382.jpg</td>\n",
       "    </tr>\n",
       "    <tr>\n",
       "      <th>...</th>\n",
       "      <td>...</td>\n",
       "      <td>...</td>\n",
       "    </tr>\n",
       "    <tr>\n",
       "      <th>4112</th>\n",
       "      <td>8966</td>\n",
       "      <td>to_pred/08966.jpg</td>\n",
       "    </tr>\n",
       "    <tr>\n",
       "      <th>4113</th>\n",
       "      <td>12111</td>\n",
       "      <td>to_pred/12111.jpg</td>\n",
       "    </tr>\n",
       "    <tr>\n",
       "      <th>4114</th>\n",
       "      <td>16629</td>\n",
       "      <td>to_pred/16629.jpg</td>\n",
       "    </tr>\n",
       "    <tr>\n",
       "      <th>4115</th>\n",
       "      <td>24322</td>\n",
       "      <td>to_pred/24322.jpg</td>\n",
       "    </tr>\n",
       "    <tr>\n",
       "      <th>4116</th>\n",
       "      <td>23412</td>\n",
       "      <td>to_pred/23412.jpg</td>\n",
       "    </tr>\n",
       "  </tbody>\n",
       "</table>\n",
       "<p>4117 rows × 2 columns</p>\n",
       "</div>"
      ],
      "text/plain": [
       "      id_img               path\n",
       "0      18341  to_pred/18341.jpg\n",
       "1      13176  to_pred/13176.jpg\n",
       "2      23945  to_pred/23945.jpg\n",
       "3      15968  to_pred/15968.jpg\n",
       "4      18382  to_pred/18382.jpg\n",
       "...      ...                ...\n",
       "4112    8966  to_pred/08966.jpg\n",
       "4113   12111  to_pred/12111.jpg\n",
       "4114   16629  to_pred/16629.jpg\n",
       "4115   24322  to_pred/24322.jpg\n",
       "4116   23412  to_pred/23412.jpg\n",
       "\n",
       "[4117 rows x 2 columns]"
      ]
     },
     "execution_count": 16,
     "metadata": {},
     "output_type": "execute_result"
    }
   ],
   "source": [
    "to_test"
   ]
  },
  {
   "cell_type": "markdown",
   "metadata": {},
   "source": [
    "#### Aplico todos los pasos que he necesitado para X_train"
   ]
  },
  {
   "cell_type": "code",
   "execution_count": 48,
   "metadata": {},
   "outputs": [
    {
     "name": "stdout",
     "output_type": "stream",
     "text": [
      "####################\n",
      "(4117, 48, 48, 1)\n"
     ]
    }
   ],
   "source": [
    "to_pred = []\n",
    "for elem in to_test.path:\n",
    "    path = \"to_pred/\" + elem\n",
    "    to_pred.append((cv2.cvtColor(cv2.imread(path), cv2.COLOR_BGR2GRAY).reshape(48,48,1)))\n",
    "\n",
    "to_pred = np.array(to_pred)\n",
    "print(\"####################\")\n",
    "print(to_pred.shape)"
   ]
  },
  {
   "cell_type": "code",
   "execution_count": 24,
   "metadata": {},
   "outputs": [
    {
     "data": {
      "text/plain": [
       "4117"
      ]
     },
     "execution_count": 24,
     "metadata": {},
     "output_type": "execute_result"
    }
   ],
   "source": [
    "predictions_submit = model.predict(to_pred)\n",
    "len(predictions_submit)"
   ]
  },
  {
   "cell_type": "code",
   "execution_count": 36,
   "metadata": {},
   "outputs": [
    {
     "data": {
      "text/html": [
       "<div>\n",
       "<style scoped>\n",
       "    .dataframe tbody tr th:only-of-type {\n",
       "        vertical-align: middle;\n",
       "    }\n",
       "\n",
       "    .dataframe tbody tr th {\n",
       "        vertical-align: top;\n",
       "    }\n",
       "\n",
       "    .dataframe thead th {\n",
       "        text-align: right;\n",
       "    }\n",
       "</style>\n",
       "<table border=\"1\" class=\"dataframe\">\n",
       "  <thead>\n",
       "    <tr style=\"text-align: right;\">\n",
       "      <th></th>\n",
       "      <th>id_img</th>\n",
       "      <th>path</th>\n",
       "    </tr>\n",
       "  </thead>\n",
       "  <tbody>\n",
       "    <tr>\n",
       "      <th>0</th>\n",
       "      <td>18341</td>\n",
       "      <td>to_pred/18341.jpg</td>\n",
       "    </tr>\n",
       "    <tr>\n",
       "      <th>1</th>\n",
       "      <td>13176</td>\n",
       "      <td>to_pred/13176.jpg</td>\n",
       "    </tr>\n",
       "    <tr>\n",
       "      <th>2</th>\n",
       "      <td>23945</td>\n",
       "      <td>to_pred/23945.jpg</td>\n",
       "    </tr>\n",
       "    <tr>\n",
       "      <th>3</th>\n",
       "      <td>15968</td>\n",
       "      <td>to_pred/15968.jpg</td>\n",
       "    </tr>\n",
       "    <tr>\n",
       "      <th>4</th>\n",
       "      <td>18382</td>\n",
       "      <td>to_pred/18382.jpg</td>\n",
       "    </tr>\n",
       "  </tbody>\n",
       "</table>\n",
       "</div>"
      ],
      "text/plain": [
       "   id_img               path\n",
       "0   18341  to_pred/18341.jpg\n",
       "1   13176  to_pred/13176.jpg\n",
       "2   23945  to_pred/23945.jpg\n",
       "3   15968  to_pred/15968.jpg\n",
       "4   18382  to_pred/18382.jpg"
      ]
     },
     "execution_count": 36,
     "metadata": {},
     "output_type": "execute_result"
    }
   ],
   "source": [
    "to_test.head()"
   ]
  },
  {
   "cell_type": "code",
   "execution_count": 38,
   "metadata": {},
   "outputs": [],
   "source": [
    "to_test['solution'] = np.where((pd.DataFrame(predictions_submit)[0] > pd.DataFrame(predictions_submit)[1])\n",
    "                     , \"happy\", \"sadness\")"
   ]
  },
  {
   "cell_type": "code",
   "execution_count": 41,
   "metadata": {},
   "outputs": [
    {
     "data": {
      "text/html": [
       "<div>\n",
       "<style scoped>\n",
       "    .dataframe tbody tr th:only-of-type {\n",
       "        vertical-align: middle;\n",
       "    }\n",
       "\n",
       "    .dataframe tbody tr th {\n",
       "        vertical-align: top;\n",
       "    }\n",
       "\n",
       "    .dataframe thead th {\n",
       "        text-align: right;\n",
       "    }\n",
       "</style>\n",
       "<table border=\"1\" class=\"dataframe\">\n",
       "  <thead>\n",
       "    <tr style=\"text-align: right;\">\n",
       "      <th></th>\n",
       "      <th>id_img</th>\n",
       "      <th>path</th>\n",
       "      <th>solution</th>\n",
       "    </tr>\n",
       "  </thead>\n",
       "  <tbody>\n",
       "    <tr>\n",
       "      <th>0</th>\n",
       "      <td>18341</td>\n",
       "      <td>to_pred/18341.jpg</td>\n",
       "      <td>happy</td>\n",
       "    </tr>\n",
       "    <tr>\n",
       "      <th>1</th>\n",
       "      <td>13176</td>\n",
       "      <td>to_pred/13176.jpg</td>\n",
       "      <td>happy</td>\n",
       "    </tr>\n",
       "    <tr>\n",
       "      <th>2</th>\n",
       "      <td>23945</td>\n",
       "      <td>to_pred/23945.jpg</td>\n",
       "      <td>sadness</td>\n",
       "    </tr>\n",
       "    <tr>\n",
       "      <th>3</th>\n",
       "      <td>15968</td>\n",
       "      <td>to_pred/15968.jpg</td>\n",
       "      <td>happy</td>\n",
       "    </tr>\n",
       "    <tr>\n",
       "      <th>4</th>\n",
       "      <td>18382</td>\n",
       "      <td>to_pred/18382.jpg</td>\n",
       "      <td>happy</td>\n",
       "    </tr>\n",
       "  </tbody>\n",
       "</table>\n",
       "</div>"
      ],
      "text/plain": [
       "   id_img               path solution\n",
       "0   18341  to_pred/18341.jpg    happy\n",
       "1   13176  to_pred/13176.jpg    happy\n",
       "2   23945  to_pred/23945.jpg  sadness\n",
       "3   15968  to_pred/15968.jpg    happy\n",
       "4   18382  to_pred/18382.jpg    happy"
      ]
     },
     "execution_count": 41,
     "metadata": {},
     "output_type": "execute_result"
    }
   ],
   "source": [
    "to_test.head()"
   ]
  },
  {
   "cell_type": "code",
   "execution_count": 42,
   "metadata": {},
   "outputs": [],
   "source": [
    "submission = to_test[[\"id_img\", \"solution\"]]"
   ]
  },
  {
   "cell_type": "code",
   "execution_count": 43,
   "metadata": {},
   "outputs": [],
   "source": [
    "validando = pd.read_csv('ground_truth.csv')"
   ]
  },
  {
   "cell_type": "code",
   "execution_count": 46,
   "metadata": {},
   "outputs": [
    {
     "data": {
      "text/plain": [
       "<matplotlib.axes._subplots.AxesSubplot at 0x227c9f6f700>"
      ]
     },
     "execution_count": 46,
     "metadata": {},
     "output_type": "execute_result"
    },
    {
     "data": {
      "image/png": "[encoded data removed]",
      "text/plain": [
       "<Figure size 432x288 with 2 Axes>"
      ]
     },
     "metadata": {
      "needs_background": "light"
     },
     "output_type": "display_data"
    }
   ],
   "source": [
    "confusion = confusion_matrix(validando['label'], submission['solution'])\n",
    "sns.heatmap(confusion, annot=True)"
   ]
  },
  {
   "cell_type": "code",
   "execution_count": 47,
   "metadata": {},
   "outputs": [
    {
     "data": {
      "text/plain": [
       "array([[1902,  282],\n",
       "       [ 554, 1379]], dtype=int64)"
      ]
     },
     "execution_count": 47,
     "metadata": {},
     "output_type": "execute_result"
    }
   ],
   "source": [
    "confusion"
   ]
  },
  {
   "cell_type": "code",
   "execution_count": null,
   "metadata": {},
   "outputs": [],
   "source": []
  }
 ],
 "metadata": {
  "kernelspec": {
   "display_name": "Python 3",
   "language": "python",
   "name": "python3"
  },
  "language_info": {
   "codemirror_mode": {
    "name": "ipython",
    "version": 3
   },
   "file_extension": ".py",
   "mimetype": "text/x-python",
   "name": "python",
   "nbconvert_exporter": "python",
   "pygments_lexer": "ipython3",
   "version": "3.8.3"
  }
 },
 "nbformat": 4,
 "nbformat_minor": 2
}
