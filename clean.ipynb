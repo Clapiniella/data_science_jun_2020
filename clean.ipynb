{
 "cells": [
  {
   "cell_type": "code",
   "execution_count": 1,
   "metadata": {},
   "outputs": [],
   "source": [
    "import pandas as pd\n",
    "import re"
   ]
  },
  {
   "cell_type": "code",
   "execution_count": 65,
   "metadata": {},
   "outputs": [],
   "source": [
    "# path deberá ser una string con el nombre del dataframe, ejemplo: fix_df(\"commerce_clean.csv\")\n",
    "def fix_df(path):\n",
    "    df = pd.read_csv(path)\n",
    "    for i in range(0, df.shape[0]):\n",
    "        lista = df.iloc[i][\"Unnamed: 0\"].split(\",\")\n",
    "        df[\"Name\"][i]=lista[1]\n",
    "        df[\"Latitud\"][i]=lista[2]\n",
    "        df[\"Longitud\"][i]=lista[3]\n",
    "        df[\"Tipos\"][i]=\"\".join(lista[4:])\n",
    "    df[\"Tipos\"]= df[\"Tipos\"].apply(lambda x: re.findall(r\"\\w+\",x))\n",
    "    df.drop(\"Unnamed: 0\",axis=1,inplace=True)\n",
    "    return df "
   ]
  },
  {
   "cell_type": "markdown",
   "metadata": {},
   "source": [
    "Ejecuta las siguientes líneas de código: \n",
    "```python\n",
    "    fix_df(\"nombre_df_original.csv\").to_pickle(\"nombre_df_fixed.pkl\")\n",
    "    pd.read_pickle(\"nombre_df_fixed.pkl\").head()\n",
    "```"
   ]
  },
  {
   "cell_type": "code",
   "execution_count": null,
   "metadata": {},
   "outputs": [],
   "source": []
  }
 ],
 "metadata": {
  "kernelspec": {
   "display_name": "Python 3",
   "language": "python",
   "name": "python3"
  },
  "language_info": {
   "codemirror_mode": {
    "name": "ipython",
    "version": 3
   },
   "file_extension": ".py",
   "mimetype": "text/x-python",
   "name": "python",
   "nbconvert_exporter": "python",
   "pygments_lexer": "ipython3",
   "version": "3.8.3"
  }
 },
 "nbformat": 4,
 "nbformat_minor": 4
}
