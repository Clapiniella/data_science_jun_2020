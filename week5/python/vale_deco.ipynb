{
 "cells": [
  {
   "cell_type": "code",
   "execution_count": 1,
   "metadata": {},
   "outputs": [],
   "source": [
    "import pandas as pd \n",
    "from functools import wraps"
   ]
  },
  {
   "cell_type": "markdown",
   "metadata": {},
   "source": [
    "El código sigue dando error, pero si sigues las instrucciones, debería funcionar.\n",
    "¡Ten cuidado con las identaciones, que te las he arreglado un poquito porque estaba regular!"
   ]
  },
  {
   "cell_type": "code",
   "execution_count": null,
   "metadata": {},
   "outputs": [],
   "source": [
    "# aquí estás definiendo el decorador y por tanto en vez de `_f_protected` deberías poner `prepost`\n",
    "# la función decorada, en este caso es `_f_protected` y se define más abajo \n",
    "# date cuenta que la función decorada, sea cual sea, es `function` que es el parámetro de `inner` y de `@wraps` que en este caso tomará el valor de `_f_protected`\n",
    "def _f_protected(*arg, **kwargs):\n",
    "    def inner(function):\n",
    "        @wraps(function)\n",
    "        def wrapper(*a,**k):\n",
    "\t        #print(antes) <-- \"antes\" es una variable no definida\n",
    "            # kwargs.keys() es una lista de las keys de las kwargs que en este caso son los argumentos del decorador `prepost`, por tanto una lista nunca será igual a una string de un enlace... en todo caso busca una condición que compruebe si \"url\" está en la lista de keys de las kwargs que entran en `prepost`\n",
    "            if kwargs.keys() == 'http://winterolympicsmedals.com/medals.csv':\n",
    "                df = pd.read_csv(kwargs.values())\n",
    "                retval_variable = function(*a, **k)\n",
    "                # no hace falta que llames a `_f_protected` porque ya llamas a `function`que como te comentaba antes es cualquier función que decore el decorador `prepost` y que en este caso, sí es `_f_protected`\n",
    "                _f_protected()\n",
    "                # para mostrar un histograma, busca la forma para mostrar gráficos en python, es un método de matplotlib\n",
    "                print(\"sports: \", df.hist()\n",
    "                #los return están bien pero están mal identados... revisa eso porque puede ocurrir cuando se copia código \n",
    "              return retval_variable\n",
    "         return wrapper\n",
    "        return inner\n",
    "\n",
    "### 'f_protected' must return 'l1' filtered (with function 'filter') using the lambda function.\n",
    "\n",
    "@prepost(url=\"http://winterolympicsmedals.com/medals.csv\") # intenta no dejar espacios entre el decorador y la función decoradora\n",
    "\n",
    "def _f_protected (x):\n",
    "    # no dejes espacios entre el nombre de la función y el parámetro de entrada (los paréntesis)\n",
    "    # def _f_protected():\n",
    "    # en este caso además `_f_protected()` no tiene parámetros, ya que en la función se define `l1` y la función lambda, por tanto no necesita ninguna información del \"exterior\"\n",
    "    l1 = [x for x in range(16)]\n",
    "    filtrada = list(filter(lambda x: True if x > 5 else False), l1)\n",
    "    return filtrada\n",
    "\n",
    "# _f_protected no necesita argumento por la misma razón que no se define con parámetro\n",
    "# recuerda que si asignas el valor de `_f_protected()` a filter, si quieres mostrar el valor, tendrás que print(filter)\n",
    "filter = f_protected(x=10)"
   ]
  }
 ],
 "metadata": {
  "language_info": {
   "codemirror_mode": {
    "name": "ipython",
    "version": 3
   },
   "file_extension": ".py",
   "mimetype": "text/x-python",
   "name": "python",
   "nbconvert_exporter": "python",
   "pygments_lexer": "ipython3",
   "version": 3
  },
  "orig_nbformat": 2,
  "kernelspec": {
   "name": "python_defaultSpec_1594971262270",
   "display_name": "Python 3.8.3 32-bit"
  }
 },
 "nbformat": 4,
 "nbformat_minor": 2
}