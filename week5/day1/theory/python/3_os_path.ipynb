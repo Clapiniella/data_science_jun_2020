{
 "cells": [
  {
   "cell_type": "markdown",
   "metadata": {},
   "source": [
    "### sys.path, ____file____, getcwd(), dirname()"
   ]
  },
  {
   "cell_type": "code",
   "execution_count": 2,
   "metadata": {},
   "outputs": [
    {
     "output_type": "error",
     "ename": "ModuleNotFoundError",
     "evalue": "No module named 'week5'",
     "traceback": [
      "\u001b[1;31m---------------------------------------------------------------------------\u001b[0m",
      "\u001b[1;31mModuleNotFoundError\u001b[0m                       Traceback (most recent call last)",
      "\u001b[1;32m<ipython-input-2-9665a3829b67>\u001b[0m in \u001b[0;36m<module>\u001b[1;34m\u001b[0m\n\u001b[1;32m----> 1\u001b[1;33m \u001b[1;32mfrom\u001b[0m \u001b[0mweek5\u001b[0m\u001b[1;33m.\u001b[0m\u001b[0mday1\u001b[0m\u001b[1;33m.\u001b[0m\u001b[0mtheory\u001b[0m\u001b[1;33m.\u001b[0m\u001b[0mpython\u001b[0m\u001b[1;33m.\u001b[0m\u001b[0mmy_module\u001b[0m \u001b[1;32mimport\u001b[0m \u001b[0msuma\u001b[0m\u001b[1;33m\u001b[0m\u001b[0m\n\u001b[0m",
      "\u001b[1;31mModuleNotFoundError\u001b[0m: No module named 'week5'"
     ]
    }
   ],
   "source": [
    "from week5.day1.theory.python.my_module import suma"
   ]
  },
  {
   "cell_type": "code",
   "execution_count": 3,
   "metadata": {
    "tags": []
   },
   "outputs": [
    {
     "output_type": "stream",
     "name": "stdout",
     "text": "os.getcwd():\nz:\\Data_Science\\TheBridge\\Content\\Contenido_Curso\\data_science_jun_2020\\week5\\day1\\theory\\python\n\nos.path.dirname(os.getcwd()):\nz:\\Data_Science\\TheBridge\\Content\\Contenido_Curso\\data_science_jun_2020\\week5\\day1\\theory\n\nIterations:\n\nz:\\Data_Science\\TheBridge\\Content\\Contenido_Curso\\data_science_jun_2020\\week5\\day1\\theory\nz:\\Data_Science\\TheBridge\\Content\\Contenido_Curso\\data_science_jun_2020\\week5\\day1\nz:\\Data_Science\\TheBridge\\Content\\Contenido_Curso\\data_science_jun_2020\\week5\nz:\\Data_Science\\TheBridge\\Content\\Contenido_Curso\\data_science_jun_2020\nsys.path:\n\nz:\\Data_Science\\TheBridge\\Content\\Contenido_Curso\\data_science_jun_2020\\week5\\day1\\theory\\python\nc:\\Users\\gvazquez\\.vscode\\extensions\\ms-python.python-2020.6.91350\\pythonFiles\nc:\\Users\\gvazquez\\.vscode\\extensions\\ms-python.python-2020.6.91350\\pythonFiles\\lib\\python\nZ:\\Data_Science\\Software\\Python\\Python_3.6.4\\python36.zip\nZ:\\Data_Science\\Software\\Python\\Python_3.6.4\\DLLs\nZ:\\Data_Science\\Software\\Python\\Python_3.6.4\\lib\nZ:\\Data_Science\\Software\\Python\\Python_3.6.4\n\nC:\\Users\\gvazquez\\AppData\\Roaming\\Python\\Python36\\site-packages\nC:\\Users\\gvazquez\\AppData\\Roaming\\Python\\Python36\\site-packages\\win32\nC:\\Users\\gvazquez\\AppData\\Roaming\\Python\\Python36\\site-packages\\win32\\lib\nC:\\Users\\gvazquez\\AppData\\Roaming\\Python\\Python36\\site-packages\\Pythonwin\nZ:\\Data_Science\\Software\\Python\\Python_3.6.4\\lib\\site-packages\nC:\\Users\\gvazquez\\AppData\\Roaming\\Python\\Python36\\site-packages\\IPython\\extensions\nC:\\Users\\gvazquez\\.ipython\n"
    }
   ],
   "source": [
    "import sys, os\n",
    "\n",
    "if __name__ == \"__main__\":\n",
    "\n",
    "    print(\"os.getcwd():\")\n",
    "    print(os.getcwd())\n",
    "    print(\"\")\n",
    "    print(\"os.path.dirname(os.getcwd()):\")\n",
    "    print(os.path.dirname(os.getcwd()))\n",
    "    print(\"\")\n",
    "    print(\"Iterations:\")\n",
    "    print(\"\")\n",
    "    current_path = os.getcwd()\n",
    "    for iterations in range(4):\n",
    "        current_path = os.path.dirname(current_path)\n",
    "        print(current_path)\n",
    "        \n",
    "    print(\"sys.path:\")\n",
    "    print(\"\")\n",
    "    for x in sys.path:\n",
    "        print(x)"
   ]
  },
  {
   "cell_type": "markdown",
   "metadata": {},
   "source": [
    "### NOTE: This is not a good practice. You have to detect your root folder and then add it to sys.path."
   ]
  },
  {
   "cell_type": "code",
   "execution_count": 4,
   "metadata": {},
   "outputs": [],
   "source": [
    "def __get_root_project(number_of_descent): \n",
    "    # For .py files\n",
    "    #__file = __file__ \n",
    "    # For .ipynb files\n",
    "    __file = os.getcwd()\n",
    "    for _ in range(number_of_descent):\n",
    "        __file = os.path.dirname(__file)\n",
    "        sys.path.append(__file)\n",
    "    sys.path = list(set(sys.path))\n",
    "\n",
    "__get_root_project(number_of_descent=4)"
   ]
  },
  {
   "cell_type": "code",
   "execution_count": 5,
   "metadata": {},
   "outputs": [
    {
     "output_type": "execute_result",
     "data": {
      "text/plain": "13"
     },
     "metadata": {},
     "execution_count": 5
    }
   ],
   "source": [
    "from week5.day1.theory.python.my_module import suma\n",
    "\n",
    "suma(9, 4)"
   ]
  },
  {
   "cell_type": "code",
   "execution_count": null,
   "metadata": {},
   "outputs": [],
   "source": []
  }
 ],
 "metadata": {
  "language_info": {
   "codemirror_mode": {
    "name": "ipython",
    "version": 3
   },
   "file_extension": ".py",
   "mimetype": "text/x-python",
   "name": "python",
   "nbconvert_exporter": "python",
   "pygments_lexer": "ipython3",
   "version": "3.6.4-final"
  },
  "orig_nbformat": 2,
  "kernelspec": {
   "name": "python36464bitc2077ed07ea84d23aa5b518d224882ab",
   "display_name": "Python 3.6.4 64-bit"
  }
 },
 "nbformat": 4,
 "nbformat_minor": 2
}