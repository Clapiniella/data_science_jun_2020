{
 "cells": [
  {
   "cell_type": "markdown",
   "metadata": {},
   "source": [
    "# Classes "
   ]
  },
  {
   "cell_type": "markdown",
   "metadata": {},
   "source": [
    "### ¡Practice what you already know and keep learning!"
   ]
  },
  {
   "cell_type": "markdown",
   "metadata": {},
   "source": [
    "-------------------------------------------------------------------------------------------------------"
   ]
  },
  {
   "cell_type": "markdown",
   "metadata": {},
   "source": [
    "## Exercise 1. "
   ]
  },
  {
   "cell_type": "markdown",
   "metadata": {},
   "source": [
    "A friend of yours have asked you to define a class so they can use it at the Natural History Museum in London in order to describe dinosaurs. \n",
    "\n",
    "Since you have no idea about dinosaurs he has given you a couple of instructions:\n",
    "\n",
    "   - Dinosaurs have four attributes all along the whole kind:\n",
    "        - They all have teeth, although every one of them have a different number of those\n",
    "        - Special skills which will be an empty list \n",
    "        - He finds interesting to specify if they are dangerous with a boolean, he also told you to set it False since usually they are very nice \n",
    "        - All of them have an only head\n",
    "        \n",
    "        \n",
    "   - Define also a couple of methods:\n",
    "   \n",
    "       - `many_teeth` --> number of teeth gives you a clue of how old the dinosaurs are, that's why it could be interesting to be able to change the number of teeth they have.\n",
    "       - `add_skill` --> this method add skills to each dinosaurs instance. \n",
    "       - `is_dangerous` --> not all of the dinosaurs are nice, some of them are a little bit dangerous and could attacks you, with this method you should be able to change the boolean set. Make sure, using `if`, the argument is always a boolean, if not print something like \"Remember you should give a boolean, True or False?\"\n"
   ]
  },
  {
   "cell_type": "code",
   "execution_count": 48,
   "metadata": {},
   "outputs": [],
   "source": [
    "# define a class Dinosaur\n",
    "class Dinosaur():\n",
    "    def __init__(self, teeth, danger=False, head=1, special_skill=[]):\n",
    "        self.teeth = teeth\n",
    "        self.special_skill = special_skill\n",
    "        self.danger = danger\n",
    "        self.head = head\n",
    "    \n",
    "    def many_teeth(self, number):\n",
    "        self.teeth = number\n",
    "    \n",
    "    def add_skill(self, skill):\n",
    "        self.special_skill.append(skill)\n",
    "        \n",
    "    def is_dangerous(self, danger):\n",
    "        if type(danger) == bool:\n",
    "                self.danger = danger\n",
    "        else: \n",
    "            \"Remember you should give a boolean, True or False?\""
   ]
  },
  {
   "cell_type": "markdown",
   "metadata": {},
   "source": [
    "Once you have the class Dinosaur and its methods defined, create an instance **tyrannosaurus**. Your friend has told you that Tyrannosaurus rex had 50 to 60 solid cone-shaped teeth as big as bananas. Set the number of teeth as 60 since you will have the opportunity of changing it later using the method `many_teeth`. "
   ]
  },
  {
   "cell_type": "code",
   "execution_count": 42,
   "metadata": {},
   "outputs": [],
   "source": [
    "# create an Tyrannosaurus rex with 60 teeth\n",
    "tyrannosaurus = Dinosaur(teeth = 60)"
   ]
  },
  {
   "cell_type": "markdown",
   "metadata": {},
   "source": [
    "Tyrannosaurus rex are the most dangerous dinosaurs so please, use the method `is_dangerous` with the argument \"yes, it is dangerous\", to set this up. It should return a message telling you to give a boolean, True or False, instead of the string you used as argument. "
   ]
  },
  {
   "cell_type": "code",
   "execution_count": 43,
   "metadata": {},
   "outputs": [
    {
     "name": "stdout",
     "output_type": "stream",
     "text": [
      "Remember you should give a boolean, True or False?\n"
     ]
    }
   ],
   "source": [
    "# call is_dangerous method saying \"yes, it is dangerous\"\n",
    "tyrannosaurus.is_dangerous(\"yes, it is dangerous\")"
   ]
  },
  {
   "cell_type": "markdown",
   "metadata": {},
   "source": [
    "Good try! But you need to set this with a boolean. Since tyrannosaurus rex are dangerous give True as an argument to the method `is_dangerous`."
   ]
  },
  {
   "cell_type": "code",
   "execution_count": 44,
   "metadata": {},
   "outputs": [],
   "source": [
    "# call is_dangerous method with True as an argument\n",
    "tyrannosaurus.is_dangerous(True)"
   ]
  },
  {
   "cell_type": "markdown",
   "metadata": {},
   "source": [
    "Set \"lethality\" as an special skill of the tyrannosaurus rex using the `add_skill` method. "
   ]
  },
  {
   "cell_type": "code",
   "execution_count": 45,
   "metadata": {},
   "outputs": [],
   "source": [
    "# give lethality as an argument to the method add_skill\n",
    "tyrannosaurus.add_skill(\"lethality\")"
   ]
  },
  {
   "cell_type": "markdown",
   "metadata": {},
   "source": [
    "Show its `special_skill` to make sure you add the skill as expected."
   ]
  },
  {
   "cell_type": "code",
   "execution_count": 46,
   "metadata": {},
   "outputs": [
    {
     "data": {
      "text/plain": [
       "['lethality']"
      ]
     },
     "execution_count": 46,
     "metadata": {},
     "output_type": "execute_result"
    }
   ],
   "source": [
    "# show its special_skill \n",
    "tyrannosaurus.special_skill"
   ]
  },
  {
   "cell_type": "markdown",
   "metadata": {},
   "source": [
    "If you could add \"lethality\" to the tyrannosaurus special skills, let's try now adding \"strength\"."
   ]
  },
  {
   "cell_type": "code",
   "execution_count": 49,
   "metadata": {},
   "outputs": [],
   "source": [
    "# add strength to the list of special_skill\n",
    "tyrannosaurus.add_skill(\"strength\")"
   ]
  },
  {
   "cell_type": "markdown",
   "metadata": {},
   "source": [
    "Now, you know a lot about tyrannosaurus rex and found out the most of them lose some teeth due to their diet during their life, so 50 teeth should be more realistic. Use `many_teeth` method. "
   ]
  },
  {
   "cell_type": "code",
   "execution_count": 50,
   "metadata": {},
   "outputs": [],
   "source": [
    "# set 50 teeth as the number of teeth\n",
    "tyrannosaurus.many_teeth(50)"
   ]
  },
  {
   "cell_type": "markdown",
   "metadata": {},
   "source": [
    "Show the tyrannosaurus rex's attributes defining a dictionary called `tyrannosaurus_data`. The keys should be the attributes: `teeth`, `danger`, `head`, `special_skill`, and the values those given to the attributes during the exercise.\n",
    "\n",
    "*Hint: You could solve this exercise using a function. Try google.* "
   ]
  },
  {
   "cell_type": "code",
   "execution_count": 56,
   "metadata": {},
   "outputs": [
    {
     "data": {
      "text/plain": [
       "{'teeth': 50,\n",
       " 'special_skill': ['lethality', 'strength'],\n",
       " 'danger': True,\n",
       " 'head': 1}"
      ]
     },
     "execution_count": 56,
     "metadata": {},
     "output_type": "execute_result"
    }
   ],
   "source": [
    "# create the tyrannosaurus_data dictionary\n",
    "tyrannosaurus_data = tyrannosaurus.__dict__"
   ]
  },
  {
   "cell_type": "markdown",
   "metadata": {},
   "source": [
    "### Bonus\n",
    "\n",
    "Try to define a function named `if_danger` which check if **Dinosaur** is dangerous and if it is, then return something like \"RUN FOR YOUR LIFE, THIS GUY IS HUNGRY AND EAT PEOPLE\", in case the dinosaur isn't dangerous return \"all good, nothing to fear\".\n",
    "\n",
    "Call the function using as an argument the attribute `danger` of the **tyrannosaurus**."
   ]
  },
  {
   "cell_type": "code",
   "execution_count": 47,
   "metadata": {},
   "outputs": [],
   "source": [
    "# define if_danger with one parameter\n",
    "def if_danger(is_dangerous_method):\n",
    "    if is_dangerous_method == True:\n",
    "        return \"RUN FOR YOUR LIFE, THIS GUY IS HUNGRY AND EAT PEOPLE\"\n",
    "    else: \n",
    "        return \"all good, nothing to fear\""
   ]
  },
  {
   "cell_type": "code",
   "execution_count": 36,
   "metadata": {},
   "outputs": [
    {
     "name": "stdout",
     "output_type": "stream",
     "text": [
      "RUN FOR YOUR LIFE, THIS GUY IS HUNGRY AND EAT PEOPLE\n"
     ]
    }
   ],
   "source": [
    "print(if_danger(tyrannosaurus.danger))"
   ]
  },
  {
   "cell_type": "markdown",
   "metadata": {},
   "source": [
    "## Exercise 2. "
   ]
  },
  {
   "cell_type": "markdown",
   "metadata": {},
   "source": [
    "A company is opening a bank, but the coder who is designing the user class made some errors. They need you to help them.\n",
    "\n",
    "You must include the following:\n",
    "\n",
    "**A withdraw method**\n",
    "- Subtracts money from balance\n",
    "- One parameter, money to withdraw\n",
    "- Raise ValueError if there isn't enough money to withdraw\n",
    "- Return a string with name and balence(see examples)\n",
    "\n",
    "**A check method**\n",
    "- Adds money to baleance\n",
    "- Two parameters, other user and money\n",
    "- Other user will always be valid\n",
    "- Raise a ValueError if other user doesn't have enough money\n",
    "- Raise a ValueError if checking_account isn't true for other user\n",
    "- Return a string with name and balance plus other name and other balance(see examples)\n",
    "\n",
    "**An add_cash method**\n",
    "- Adds money to balance\n",
    "- One parameter, money to add\n",
    "- Return a string with name and balance(see examples)\n",
    "\n",
    "**Additional Notes:**\n",
    "\n",
    "- Checking_account should be stored as a boolean\n",
    "- No input numbers will be negitive\n",
    "- Output must end with period\n",
    "- Float numbers will not be used so, balance should be integer\n",
    "- No currency will be used"
   ]
  },
  {
   "cell_type": "markdown",
   "metadata": {},
   "source": [
    "KATA --> https://www.codewars.com/kata/5a03af9606d5b65ff7000009"
   ]
  },
  {
   "cell_type": "markdown",
   "metadata": {},
   "source": [
    "**If you dare trying to solve this problem, you'll need this:** https://www.w3schools.com/python/gloss_python_raise.asp"
   ]
  },
  {
   "cell_type": "code",
   "execution_count": 1,
   "metadata": {},
   "outputs": [],
   "source": [
    "#your code here\n",
    "class User(object):\n",
    "    pass"
   ]
  },
  {
   "cell_type": "code",
   "execution_count": null,
   "metadata": {},
   "outputs": [],
   "source": []
  }
 ],
 "metadata": {
  "kernelspec": {
   "display_name": "Python 3",
   "language": "python",
   "name": "python3"
  },
  "language_info": {
   "codemirror_mode": {
    "name": "ipython",
    "version": 3
   },
   "file_extension": ".py",
   "mimetype": "text/x-python",
   "name": "python",
   "nbconvert_exporter": "python",
   "pygments_lexer": "ipython3",
   "version": "3.7.6"
  }
 },
 "nbformat": 4,
 "nbformat_minor": 4
}
