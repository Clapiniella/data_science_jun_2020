{
 "cells": [
  {
   "cell_type": "markdown",
   "metadata": {},
   "source": [
    "# Examen Pandas - Unidad 1"
   ]
  },
  {
   "cell_type": "markdown",
   "metadata": {},
   "source": [
    "### Data Science The Bridge - 2020"
   ]
  },
  {
   "cell_type": "markdown",
   "metadata": {},
   "source": [
    "Primero de todo, importa la que seguro es ya tu librería favorita y que vas a necesitar, seguro, para realizar este examen. "
   ]
  },
  {
   "cell_type": "code",
   "execution_count": 49,
   "metadata": {},
   "outputs": [],
   "source": [
    "# no borres esto y ejecútalo junto con tu librería favorita\n",
    "import warnings\n",
    "warnings.simplefilter(action='ignore')\n",
    "\n",
    "# aquí tu librería favorita"
   ]
  },
  {
   "cell_type": "markdown",
   "metadata": {},
   "source": [
    "Para trabajar con **pandas** lo primero que necesitarás, son datos, en la vida real deberías entrar en este enlace de **kaggle** y descargar el dataset: https://www.kaggle.com/neuromusic/avocado-prices. Con el fin de poder leer el `.csv` sin problema, habría que copiarlo en la misma carpeta donde se encuentra este archivo `.ipynb`. \n",
    "\n",
    "Pero como esto es un examen, ya lo tienes en esta carpeta, por lo que solo tienes que leerlo. Asígnalo a la variable `avocado` y muestra las primeras 5 filas. \n",
    "\n",
    "**AVISO**: Al llamar a la función que lee el `.csv` no uses ningún argumento, solo el nombre del archivo `\"avocado_kaggle.csv\"`. "
   ]
  },
  {
   "cell_type": "code",
   "execution_count": 1,
   "metadata": {},
   "outputs": [],
   "source": [
    "# your code here"
   ]
  },
  {
   "cell_type": "markdown",
   "metadata": {},
   "source": [
    "Lo primero que debe hacer un Data Scientist es conocer los datos con los que está trabajando, por esto, explora el dataset:\n",
    "- sacando los nombres de las distintas columnas, \n",
    "- qué tipo de datos contienen estas columnas, \n",
    "- cuántas filas y columnas tiene el dataframe,\n",
    "- además de un marco de datos de estadísticas descriptivas de dicho dataframe.\n",
    "\n",
    "Utiliza la función/funciones que te parezcan mejor para hacer dicha exploración. "
   ]
  },
  {
   "cell_type": "code",
   "execution_count": 2,
   "metadata": {},
   "outputs": [],
   "source": [
    "# your code here"
   ]
  },
  {
   "cell_type": "markdown",
   "metadata": {},
   "source": [
    "Muestra el index número **2904** de la columna `Date`. "
   ]
  },
  {
   "cell_type": "code",
   "execution_count": 5,
   "metadata": {},
   "outputs": [],
   "source": [
    "# your code here"
   ]
  },
  {
   "cell_type": "markdown",
   "metadata": {},
   "source": [
    "¿De qué tipo es este valor? "
   ]
  },
  {
   "cell_type": "code",
   "execution_count": 5,
   "metadata": {},
   "outputs": [],
   "source": [
    "# your answer here"
   ]
  },
  {
   "cell_type": "markdown",
   "metadata": {},
   "source": [
    "Esta columna contiene fechas, por lo que para poder trabajarla como tal, pásala a tipo `datetime64[ns]`.\n",
    "\n",
    "Existe una forma de importar el archivo `.csv` estableciendo la columna `Date` como el index, si has hecho esto al importar el archivo, a pesar del AVISO, vuelve a importarlo sin incluir argumentos. "
   ]
  },
  {
   "cell_type": "code",
   "execution_count": 4,
   "metadata": {},
   "outputs": [],
   "source": [
    "# your code here"
   ]
  },
  {
   "cell_type": "markdown",
   "metadata": {},
   "source": [
    "Establece esta columna como el index de `avocado`. "
   ]
  },
  {
   "cell_type": "code",
   "execution_count": 7,
   "metadata": {},
   "outputs": [],
   "source": [
    "# your code here"
   ]
  },
  {
   "cell_type": "markdown",
   "metadata": {},
   "source": [
    "Muestra los 7 últimos valores del dataframe y observa que efectivamente se ha actualizado el index. "
   ]
  },
  {
   "cell_type": "code",
   "execution_count": 6,
   "metadata": {},
   "outputs": [],
   "source": [
    "# your code here"
   ]
  },
  {
   "cell_type": "markdown",
   "metadata": {},
   "source": [
    "Además si al leer el archivo `.csv` no eliminaste esta columna, el dataframe seguirá teniendo una columna llamada `Unnamed: 0` que contendría el valor de los index. Si es así, elimínala."
   ]
  },
  {
   "cell_type": "code",
   "execution_count": 7,
   "metadata": {},
   "outputs": [],
   "source": [
    "# your code here"
   ]
  },
  {
   "cell_type": "markdown",
   "metadata": {},
   "source": [
    "¿Qué columnas continúan siendo de tipo **object**? Usa al menos una función de **pandas** para ello. "
   ]
  },
  {
   "cell_type": "code",
   "execution_count": 8,
   "metadata": {},
   "outputs": [],
   "source": [
    "# your code here"
   ]
  },
  {
   "cell_type": "markdown",
   "metadata": {},
   "source": [
    "¿Cuántos valores únicos encontramos en estas columnas que continúan siendo de tipo **object**? "
   ]
  },
  {
   "cell_type": "code",
   "execution_count": 9,
   "metadata": {},
   "outputs": [],
   "source": [
    "# your code here"
   ]
  },
  {
   "cell_type": "markdown",
   "metadata": {},
   "source": [
    "¿Qué número de ocurrencias tiene cada uno de estos valores únicos en la columna en que se encuentra? "
   ]
  },
  {
   "cell_type": "code",
   "execution_count": 13,
   "metadata": {},
   "outputs": [],
   "source": [
    "# your code here"
   ]
  },
  {
   "cell_type": "markdown",
   "metadata": {},
   "source": [
    "Ahora que hemos explorado el dataframe, podemos empezar a trabajar con ello. En este caso, ordena el `index` de manera que la fecha **2015-01-04** quede arriba. "
   ]
  },
  {
   "cell_type": "code",
   "execution_count": 10,
   "metadata": {},
   "outputs": [],
   "source": [
    "# your code here"
   ]
  },
  {
   "cell_type": "markdown",
   "metadata": {},
   "source": [
    "Agrupa el dataframe `avocado` por tipo y quédate con el mínimo del resto de las columnas. "
   ]
  },
  {
   "cell_type": "code",
   "execution_count": 11,
   "metadata": {},
   "outputs": [],
   "source": [
    "# your code here"
   ]
  },
  {
   "cell_type": "markdown",
   "metadata": {},
   "source": [
    "Además, queremos conocer el máximo de bolsas pequeñas, bolsas grandes y bolsas extragrandes de aguacates que se vendieron por año, por cada región. Crea un dataframe que se llame `group_bags` que muestre dicha información. "
   ]
  },
  {
   "cell_type": "code",
   "execution_count": 12,
   "metadata": {},
   "outputs": [],
   "source": [
    "# your code here"
   ]
  },
  {
   "cell_type": "markdown",
   "metadata": {},
   "source": [
    "A partir del dataframe `group_bags` muestra en qué año y en qué región se vendió el máximo número de bolsas pequeñas de aguacates. "
   ]
  },
  {
   "cell_type": "code",
   "execution_count": 14,
   "metadata": {},
   "outputs": [],
   "source": [
    "# your code here"
   ]
  },
  {
   "cell_type": "markdown",
   "metadata": {},
   "source": [
    "Asigna a la variable `avocado_months` el dataframe `avocado` agrupado por **meses** y por la media de los valores de cada columna. Hay dos maneras diferentes de resolver este ejercicio, sin embargo, con uno sería suficiente. \n",
    "\n",
    "Muestra solo los primeros 15 valores. "
   ]
  },
  {
   "cell_type": "code",
   "execution_count": 15,
   "metadata": {},
   "outputs": [],
   "source": [
    "#your code here"
   ]
  },
  {
   "cell_type": "markdown",
   "metadata": {},
   "source": [
    "A partir de `avocado_months` calcula el precio máximo de los aguacates de los meses de enero. "
   ]
  },
  {
   "cell_type": "code",
   "execution_count": 16,
   "metadata": {},
   "outputs": [],
   "source": [
    "# your code here"
   ]
  },
  {
   "cell_type": "markdown",
   "metadata": {},
   "source": [
    "Asigna a la variable `avocado_tri` el dataframe `avocado` agrupado por **trimestre** y el sumatorio de los valores de cada columna. "
   ]
  },
  {
   "cell_type": "code",
   "execution_count": 17,
   "metadata": {},
   "outputs": [],
   "source": [
    "# your code here"
   ]
  },
  {
   "cell_type": "markdown",
   "metadata": {},
   "source": [
    "Crea un subset de `avocado` en el que solo se incluyan las siguientes columnas: `\"AveragePrice\"`,`\"Total Volume\"`,`\"type\"`,`\"year\"` y `\"region\"`, llámalo `avo_subset`."
   ]
  },
  {
   "cell_type": "code",
   "execution_count": 18,
   "metadata": {},
   "outputs": [],
   "source": [
    "# your code here"
   ]
  },
  {
   "cell_type": "markdown",
   "metadata": {},
   "source": [
    "Filtra el dataframe `avo_subset` de modo que muestre solo aquellos datos de los aguacates tipo organic en la region de California durante el año 2017. Llama a la variable `org_Cal`. "
   ]
  },
  {
   "cell_type": "code",
   "execution_count": 19,
   "metadata": {},
   "outputs": [],
   "source": [
    "# your code here"
   ]
  },
  {
   "cell_type": "markdown",
   "metadata": {},
   "source": [
    "Usando `org_Cal` saca la mediana del volumen total. "
   ]
  },
  {
   "cell_type": "code",
   "execution_count": 20,
   "metadata": {},
   "outputs": [],
   "source": [
    "# your code here"
   ]
  },
  {
   "cell_type": "markdown",
   "metadata": {},
   "source": [
    "¿Qué precio medio había el día que el volumen total fue igual a la mediana de la mencionada columna, `\"Total Volume\"`? "
   ]
  },
  {
   "cell_type": "code",
   "execution_count": 22,
   "metadata": {},
   "outputs": [],
   "source": [
    "# your code here"
   ]
  },
  {
   "cell_type": "markdown",
   "metadata": {},
   "source": [
    "Muestra la evolución del precio medio, `\"AveragePrice\"`, de los aguacates de tipo orgánicos de California durante el año 2017 con un gráfico de una línea, usando `org_Cal`. "
   ]
  },
  {
   "cell_type": "code",
   "execution_count": 23,
   "metadata": {},
   "outputs": [],
   "source": [
    "# your code here"
   ]
  },
  {
   "cell_type": "markdown",
   "metadata": {},
   "source": [
    "A partir del subset `avo_subset` trata de sacar un gráfico en el que se pueda observar la cantidad de aguacates de tipo **conventional**, a lo largo de todos los periodos. \n",
    "\n",
    "Haz un gráfico simple usando la librería **pandas**. "
   ]
  },
  {
   "cell_type": "code",
   "execution_count": 24,
   "metadata": {},
   "outputs": [],
   "source": [
    "# your code here"
   ]
  },
  {
   "cell_type": "markdown",
   "metadata": {},
   "source": [
    "Crea una función **lambda** que quite los dos primeros dígitos de cada año de la columna `\"year\"` y lo convierta a string. \n",
    "Después aplica esta función a toda la columna del dataframe `avo_subset`. \n",
    "\n",
    "Ejemplo: `2015` --> `\"15\"` "
   ]
  },
  {
   "cell_type": "code",
   "execution_count": 25,
   "metadata": {},
   "outputs": [],
   "source": [
    "# your code here"
   ]
  },
  {
   "cell_type": "markdown",
   "metadata": {},
   "source": [
    "# ¡Ya tienes un 10!"
   ]
  },
  {
   "cell_type": "markdown",
   "metadata": {},
   "source": [
    "**No te conformes y si te sobra tiempo, ve a por el 11 o si no, recupera algún puntito si algún ejercicio se te ha quedado atascado. ¡Otra oportunidad!**"
   ]
  },
  {
   "cell_type": "markdown",
   "metadata": {},
   "source": [
    "En esta misma carpeta encontrarás un archivo llamado `supermarket_region.csv`, asígnalo a la variable `supermarket` y muestra los primeros 5 filas. \n",
    "\n"
   ]
  },
  {
   "cell_type": "code",
   "execution_count": 26,
   "metadata": {},
   "outputs": [],
   "source": [
    "# your code here"
   ]
  },
  {
   "cell_type": "markdown",
   "metadata": {},
   "source": [
    "El dataframe `supermarket` y `avo_subset` tienen una columna en común que es `region`, sabiendo esto, utiliza el método adecuado para unir ambos dataframes en uno llamado `avo_merged`. \n",
    "\n",
    "Si lo has hecho bien, no debería salir ningún **null**. "
   ]
  },
  {
   "cell_type": "code",
   "execution_count": 27,
   "metadata": {},
   "outputs": [],
   "source": [
    "# your code here"
   ]
  },
  {
   "cell_type": "markdown",
   "metadata": {},
   "source": [
    "Guarda `avo_merged` como un `.json` usando la función de **pandas** correspondiente, el nombre del archivo deberá ser `\"avo_merged.json\"`. "
   ]
  },
  {
   "cell_type": "code",
   "execution_count": 28,
   "metadata": {},
   "outputs": [],
   "source": [
    "# your code here"
   ]
  }
 ],
 "metadata": {
  "kernelspec": {
   "display_name": "Python 3",
   "language": "python",
   "name": "python3"
  },
  "language_info": {
   "codemirror_mode": {
    "name": "ipython",
    "version": 3
   },
   "file_extension": ".py",
   "mimetype": "text/x-python",
   "name": "python",
   "nbconvert_exporter": "python",
   "pygments_lexer": "ipython3",
   "version": "3.8.3"
  }
 },
 "nbformat": 4,
 "nbformat_minor": 4
}