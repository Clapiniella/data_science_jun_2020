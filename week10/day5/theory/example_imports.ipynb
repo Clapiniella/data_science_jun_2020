{
 "metadata": {
  "language_info": {
   "codemirror_mode": {
    "name": "ipython",
    "version": 3
   },
   "file_extension": ".py",
   "mimetype": "text/x-python",
   "name": "python",
   "nbconvert_exporter": "python",
   "pygments_lexer": "ipython3",
   "version": "3.6.4-final"
  },
  "orig_nbformat": 2,
  "kernelspec": {
   "name": "python_defaultSpec_1600426924504",
   "display_name": "Python 3.6.4 64-bit"
  }
 },
 "nbformat": 4,
 "nbformat_minor": 2,
 "cells": [
  {
   "cell_type": "code",
   "execution_count": 5,
   "metadata": {},
   "outputs": [
    {
     "output_type": "execute_result",
     "data": {
      "text/plain": "['z:\\\\Data_Science\\\\TheBridge\\\\Content\\\\Contenido_Curso\\\\data_science_jun_2020\\\\week10\\\\day5\\\\theory',\n 'c:\\\\Users\\\\gvazquez\\\\.vscode\\\\extensions\\\\ms-python.python-2020.8.109390\\\\pythonFiles',\n 'c:\\\\Users\\\\gvazquez\\\\.vscode\\\\extensions\\\\ms-python.python-2020.8.109390\\\\pythonFiles\\\\lib\\\\python',\n 'Z:\\\\Data_Science\\\\Software\\\\Python\\\\Python_3.6.4\\\\python36.zip',\n 'Z:\\\\Data_Science\\\\Software\\\\Python\\\\Python_3.6.4\\\\DLLs',\n 'Z:\\\\Data_Science\\\\Software\\\\Python\\\\Python_3.6.4\\\\lib',\n 'Z:\\\\Data_Science\\\\Software\\\\Python\\\\Python_3.6.4',\n '',\n 'C:\\\\Users\\\\gvazquez\\\\AppData\\\\Roaming\\\\Python\\\\Python36\\\\site-packages',\n 'C:\\\\Users\\\\gvazquez\\\\AppData\\\\Roaming\\\\Python\\\\Python36\\\\site-packages\\\\win32',\n 'C:\\\\Users\\\\gvazquez\\\\AppData\\\\Roaming\\\\Python\\\\Python36\\\\site-packages\\\\win32\\\\lib',\n 'C:\\\\Users\\\\gvazquez\\\\AppData\\\\Roaming\\\\Python\\\\Python36\\\\site-packages\\\\Pythonwin',\n 'Z:\\\\Data_Science\\\\Software\\\\Python\\\\Python_3.6.4\\\\lib\\\\site-packages',\n 'C:\\\\Users\\\\gvazquez\\\\AppData\\\\Roaming\\\\Python\\\\Python36\\\\site-packages\\\\IPython\\\\extensions',\n 'C:\\\\Users\\\\gvazquez\\\\.ipython',\n 'Z:\\\\Data_Science\\\\TheBridge\\\\Content\\\\Contenido_Curso\\\\data_science_jun_2020\\\\week10\\\\day5\\\\project_example',\n '../../']"
     },
     "metadata": {},
     "execution_count": 5
    }
   ],
   "source": [
    "import sys\n",
    "\n",
    "sys.path\n",
    "\n",
    "from b import function_b"
   ]
  },
  {
   "cell_type": "code",
   "execution_count": 2,
   "metadata": {},
   "outputs": [
    {
     "output_type": "execute_result",
     "data": {
      "text/plain": "['z:\\\\Data_Science\\\\TheBridge\\\\Content\\\\Contenido_Curso\\\\data_science_jun_2020\\\\week10\\\\day5\\\\theory',\n 'c:\\\\Users\\\\gvazquez\\\\.vscode\\\\extensions\\\\ms-python.python-2020.8.109390\\\\pythonFiles',\n 'c:\\\\Users\\\\gvazquez\\\\.vscode\\\\extensions\\\\ms-python.python-2020.8.109390\\\\pythonFiles\\\\lib\\\\python',\n 'Z:\\\\Data_Science\\\\Software\\\\Python\\\\Python_3.6.4\\\\python36.zip',\n 'Z:\\\\Data_Science\\\\Software\\\\Python\\\\Python_3.6.4\\\\DLLs',\n 'Z:\\\\Data_Science\\\\Software\\\\Python\\\\Python_3.6.4\\\\lib',\n 'Z:\\\\Data_Science\\\\Software\\\\Python\\\\Python_3.6.4',\n '',\n 'C:\\\\Users\\\\gvazquez\\\\AppData\\\\Roaming\\\\Python\\\\Python36\\\\site-packages',\n 'C:\\\\Users\\\\gvazquez\\\\AppData\\\\Roaming\\\\Python\\\\Python36\\\\site-packages\\\\win32',\n 'C:\\\\Users\\\\gvazquez\\\\AppData\\\\Roaming\\\\Python\\\\Python36\\\\site-packages\\\\win32\\\\lib',\n 'C:\\\\Users\\\\gvazquez\\\\AppData\\\\Roaming\\\\Python\\\\Python36\\\\site-packages\\\\Pythonwin',\n 'Z:\\\\Data_Science\\\\Software\\\\Python\\\\Python_3.6.4\\\\lib\\\\site-packages',\n 'C:\\\\Users\\\\gvazquez\\\\AppData\\\\Roaming\\\\Python\\\\Python36\\\\site-packages\\\\IPython\\\\extensions',\n 'C:\\\\Users\\\\gvazquez\\\\.ipython',\n 'Z:\\\\Data_Science\\\\TheBridge\\\\Content\\\\Contenido_Curso\\\\data_science_jun_2020\\\\week10\\\\day5\\\\project_example']"
     },
     "metadata": {},
     "execution_count": 2
    }
   ],
   "source": [
    "import sys\n",
    "\n",
    "sys.path.append(\"Z:\\\\Data_Science\\\\TheBridge\\\\Content\\\\Contenido_Curso\\\\data_science_jun_2020\\\\week10\\\\day5\\\\project_example\")\n",
    "\n",
    "sys.path"
   ]
  },
  {
   "cell_type": "code",
   "execution_count": 3,
   "metadata": {},
   "outputs": [],
   "source": [
    "from a import funcion_a"
   ]
  },
  {
   "cell_type": "code",
   "execution_count": null,
   "metadata": {},
   "outputs": [],
   "source": []
  },
  {
   "cell_type": "code",
   "execution_count": 6,
   "metadata": {},
   "outputs": [],
   "source": [
    "sys.path.append(\"../../\")"
   ]
  },
  {
   "cell_type": "code",
   "execution_count": 9,
   "metadata": {},
   "outputs": [
    {
     "output_type": "execute_result",
     "data": {
      "text/plain": "['',\n 'C:\\\\Users\\\\gvazquez\\\\AppData\\\\Roaming\\\\Python\\\\Python36\\\\site-packages',\n 'c:\\\\Users\\\\gvazquez\\\\.vscode\\\\extensions\\\\ms-python.python-2020.8.109390\\\\pythonFiles',\n 'Z:\\\\Data_Science\\\\Software\\\\Python\\\\Python_3.6.4',\n 'Z:\\\\Data_Science\\\\Software\\\\Python\\\\Python_3.6.4\\\\lib',\n 'C:\\\\Users\\\\gvazquez\\\\AppData\\\\Roaming\\\\Python\\\\Python36\\\\site-packages\\\\win32\\\\lib',\n '../../',\n 'c:\\\\Users\\\\gvazquez\\\\.vscode\\\\extensions\\\\ms-python.python-2020.8.109390\\\\pythonFiles\\\\lib\\\\python',\n 'C:\\\\Users\\\\gvazquez\\\\AppData\\\\Roaming\\\\Python\\\\Python36\\\\site-packages\\\\Pythonwin',\n 'Z:\\\\Data_Science\\\\TheBridge\\\\Content\\\\Contenido_Curso\\\\data_science_jun_2020\\\\week10\\\\day5\\\\project_example',\n 'C:\\\\Users\\\\gvazquez\\\\.ipython',\n 'Z:\\\\Data_Science\\\\Software\\\\Python\\\\Python_3.6.4\\\\lib\\\\site-packages',\n 'Z:\\\\Data_Science\\\\Software\\\\Python\\\\Python_3.6.4\\\\DLLs',\n 'C:\\\\Users\\\\gvazquez\\\\AppData\\\\Roaming\\\\Python\\\\Python36\\\\site-packages\\\\IPython\\\\extensions',\n 'C:\\\\Users\\\\gvazquez\\\\AppData\\\\Roaming\\\\Python\\\\Python36\\\\site-packages\\\\win32',\n 'Z:\\\\Data_Science\\\\Software\\\\Python\\\\Python_3.6.4\\\\python36.zip',\n 'z:\\\\Data_Science\\\\TheBridge\\\\Content\\\\Contenido_Curso\\\\data_science_jun_2020\\\\week10\\\\day5\\\\theory']"
     },
     "metadata": {},
     "execution_count": 9
    }
   ],
   "source": [
    "sys.path"
   ]
  },
  {
   "cell_type": "code",
   "execution_count": 3,
   "metadata": {
    "tags": []
   },
   "outputs": [
    {
     "output_type": "stream",
     "name": "stdout",
     "text": "Debo estudiar funciones y en la semana de R voy a atender y practicar mucho porque me he dado cuenta que lo necesito seriamente para pasar entrevistas técnicas.\n"
    }
   ],
   "source": [
    "# Una vez en mi sys.path está la carpeta desde la que quiero EMPEZAR a importar, importo.\n",
    "from day5.project_example.a import funcion_a\n",
    "\n",
    "funcion_a()"
   ]
  },
  {
   "cell_type": "code",
   "execution_count": 16,
   "metadata": {},
   "outputs": [
    {
     "output_type": "execute_result",
     "data": {
      "text/plain": "'z:\\\\Data_Science\\\\TheBridge\\\\Content\\\\Contenido_Curso\\\\data_science_jun_2020\\\\week10'"
     },
     "metadata": {},
     "execution_count": 16
    }
   ],
   "source": [
    "import os\n",
    "# sinónimo de subir una carpeta \"../\"\n",
    "os.path.dirname(os.path.dirname(os.getcwd()))"
   ]
  },
  {
   "cell_type": "code",
   "execution_count": 18,
   "metadata": {},
   "outputs": [
    {
     "output_type": "execute_result",
     "data": {
      "text/plain": "'z:\\\\Data_Science\\\\TheBridge\\\\Content\\\\Contenido_Curso\\\\data_science_jun_2020\\\\week10\\\\day5\\\\theory'"
     },
     "metadata": {},
     "execution_count": 18
    }
   ],
   "source": [
    "# Carpeta del fichero en el que estoy.\n",
    "os.getcwd()"
   ]
  },
  {
   "cell_type": "code",
   "execution_count": null,
   "metadata": {},
   "outputs": [],
   "source": []
  }
 ]
}