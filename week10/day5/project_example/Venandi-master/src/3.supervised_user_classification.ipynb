{
 "cells": [
  {
   "cell_type": "markdown",
   "metadata": {},
   "source": [
    "### Thanks to the previous 2 steps we were able to classify Github users by seniority based in followers and repos number. Now we will train a model which will be able to predict the seniority of Github users based in that parameters"
   ]
  },
  {
   "cell_type": "code",
   "execution_count": 1,
   "metadata": {},
   "outputs": [
    {
     "name": "stderr",
     "output_type": "stream",
     "text": [
      "/home/diego/anaconda3/lib/python3.7/site-packages/statsmodels/tools/_testing.py:19: FutureWarning: pandas.util.testing is deprecated. Use the functions in the public API at pandas.testing instead.\n",
      "  import pandas.util.testing as tm\n"
     ]
    }
   ],
   "source": [
    "import pandas as pd\n",
    "import numpy as np\n",
    "import matplotlib.pyplot as plt\n",
    "import seaborn as sns\n",
    "%matplotlib inline"
   ]
  },
  {
   "cell_type": "code",
   "execution_count": 2,
   "metadata": {
    "scrolled": false
   },
   "outputs": [
    {
     "name": "stdout",
     "output_type": "stream",
     "text": [
      "(35778, 4)\n"
     ]
    },
    {
     "data": {
      "text/html": [
       "<div>\n",
       "<style scoped>\n",
       "    .dataframe tbody tr th:only-of-type {\n",
       "        vertical-align: middle;\n",
       "    }\n",
       "\n",
       "    .dataframe tbody tr th {\n",
       "        vertical-align: top;\n",
       "    }\n",
       "\n",
       "    .dataframe thead th {\n",
       "        text-align: right;\n",
       "    }\n",
       "</style>\n",
       "<table border=\"1\" class=\"dataframe\">\n",
       "  <thead>\n",
       "    <tr style=\"text-align: right;\">\n",
       "      <th></th>\n",
       "      <th>name</th>\n",
       "      <th>repos_number</th>\n",
       "      <th>followers</th>\n",
       "      <th>seniority</th>\n",
       "    </tr>\n",
       "  </thead>\n",
       "  <tbody>\n",
       "    <tr>\n",
       "      <th>0</th>\n",
       "      <td>Tarun Sudhams</td>\n",
       "      <td>23</td>\n",
       "      <td>33</td>\n",
       "      <td>middle</td>\n",
       "    </tr>\n",
       "    <tr>\n",
       "      <th>1</th>\n",
       "      <td>Xiaowei Hu</td>\n",
       "      <td>43</td>\n",
       "      <td>125</td>\n",
       "      <td>principal</td>\n",
       "    </tr>\n",
       "    <tr>\n",
       "      <th>2</th>\n",
       "      <td>Daniel P. Palomar</td>\n",
       "      <td>9</td>\n",
       "      <td>95</td>\n",
       "      <td>principal</td>\n",
       "    </tr>\n",
       "    <tr>\n",
       "      <th>3</th>\n",
       "      <td>Kevin P</td>\n",
       "      <td>24</td>\n",
       "      <td>16</td>\n",
       "      <td>middle</td>\n",
       "    </tr>\n",
       "    <tr>\n",
       "      <th>4</th>\n",
       "      <td>Renfei HUANG</td>\n",
       "      <td>31</td>\n",
       "      <td>15</td>\n",
       "      <td>middle</td>\n",
       "    </tr>\n",
       "  </tbody>\n",
       "</table>\n",
       "</div>"
      ],
      "text/plain": [
       "                name  repos_number  followers  seniority\n",
       "0      Tarun Sudhams            23         33     middle\n",
       "1         Xiaowei Hu            43        125  principal\n",
       "2  Daniel P. Palomar             9         95  principal\n",
       "3            Kevin P            24         16     middle\n",
       "4       Renfei HUANG            31         15     middle"
      ]
     },
     "execution_count": 2,
     "metadata": {},
     "output_type": "execute_result"
    }
   ],
   "source": [
    "df_train = pd.read_csv(\"../OUTPUT/df_train.csv\").drop(columns={\"Unnamed: 0\"})\n",
    "print(df_train.shape)\n",
    "df_train.head()"
   ]
  },
  {
   "cell_type": "markdown",
   "metadata": {},
   "source": [
    "### Descriptive Analysis"
   ]
  },
  {
   "cell_type": "code",
   "execution_count": 3,
   "metadata": {},
   "outputs": [
    {
     "data": {
      "text/plain": [
       "name            0\n",
       "repos_number    0\n",
       "followers       0\n",
       "seniority       0\n",
       "dtype: int64"
      ]
     },
     "execution_count": 3,
     "metadata": {},
     "output_type": "execute_result"
    }
   ],
   "source": [
    "df_train.isnull().sum()"
   ]
  },
  {
   "cell_type": "code",
   "execution_count": 4,
   "metadata": {},
   "outputs": [
    {
     "data": {
      "text/plain": [
       "junior       25292\n",
       "middle        7946\n",
       "senior        1311\n",
       "principal      985\n",
       "architect      244\n",
       "Name: seniority, dtype: int64"
      ]
     },
     "execution_count": 4,
     "metadata": {},
     "output_type": "execute_result"
    }
   ],
   "source": [
    "seniority = df_train.seniority.value_counts()\n",
    "seniority"
   ]
  },
  {
   "cell_type": "code",
   "execution_count": 5,
   "metadata": {},
   "outputs": [
    {
     "data": {
      "text/plain": [
       "<matplotlib.legend.Legend at 0x7f2109a24710>"
      ]
     },
     "execution_count": 5,
     "metadata": {},
     "output_type": "execute_result"
    },
    {
     "data": {
      "image/png": "[encoded data removed]",
      "text/plain": [
       "<Figure size 1080x360 with 1 Axes>"
      ]
     },
     "metadata": {},
     "output_type": "display_data"
    }
   ],
   "source": [
    "f, ax = plt.subplots(figsize=(15,5))\n",
    "ax.pie(seniority, labels=seniority.keys(), autopct='%1.1f%%')\n",
    "ax.legend(labels=seniority.keys(), loc=3)"
   ]
  },
  {
   "cell_type": "code",
   "execution_count": 6,
   "metadata": {},
   "outputs": [
    {
     "data": {
      "text/plain": [
       "Text(0.5, 1.0, 'Correlation matrix')"
      ]
     },
     "execution_count": 6,
     "metadata": {},
     "output_type": "execute_result"
    },
    {
     "data": {
      "image/png": "[encoded data removed]",
      "text/plain": [
       "<Figure size 360x288 with 2 Axes>"
      ]
     },
     "metadata": {
      "needs_background": "light"
     },
     "output_type": "display_data"
    }
   ],
   "source": [
    "plt.figure(figsize=(5,4))\n",
    "\n",
    "sns.heatmap(df_train.corr(), annot = True, fmt='.1g', vmin=-1, vmax=1, center= 0, cmap= 'coolwarm' , linewidths=3, linecolor='black')\n",
    "\n",
    "plt.title('Correlation matrix')"
   ]
  },
  {
   "cell_type": "markdown",
   "metadata": {},
   "source": [
    "#### As a difference from the previous steps, in the sample we will use to predict the seniority of the users, there is some positive linear relation between the number of repos and the number of followers"
   ]
  },
  {
   "cell_type": "markdown",
   "metadata": {},
   "source": [
    "### Encode & Split"
   ]
  },
  {
   "cell_type": "code",
   "execution_count": 7,
   "metadata": {},
   "outputs": [
    {
     "data": {
      "text/html": [
       "<div>\n",
       "<style scoped>\n",
       "    .dataframe tbody tr th:only-of-type {\n",
       "        vertical-align: middle;\n",
       "    }\n",
       "\n",
       "    .dataframe tbody tr th {\n",
       "        vertical-align: top;\n",
       "    }\n",
       "\n",
       "    .dataframe thead th {\n",
       "        text-align: right;\n",
       "    }\n",
       "</style>\n",
       "<table border=\"1\" class=\"dataframe\">\n",
       "  <thead>\n",
       "    <tr style=\"text-align: right;\">\n",
       "      <th></th>\n",
       "      <th>name</th>\n",
       "      <th>repos_number</th>\n",
       "      <th>followers</th>\n",
       "      <th>seniority</th>\n",
       "      <th>label</th>\n",
       "    </tr>\n",
       "  </thead>\n",
       "  <tbody>\n",
       "    <tr>\n",
       "      <th>0</th>\n",
       "      <td>Tarun Sudhams</td>\n",
       "      <td>23</td>\n",
       "      <td>33</td>\n",
       "      <td>middle</td>\n",
       "      <td>1</td>\n",
       "    </tr>\n",
       "    <tr>\n",
       "      <th>1</th>\n",
       "      <td>Xiaowei Hu</td>\n",
       "      <td>43</td>\n",
       "      <td>125</td>\n",
       "      <td>principal</td>\n",
       "      <td>3</td>\n",
       "    </tr>\n",
       "    <tr>\n",
       "      <th>2</th>\n",
       "      <td>Daniel P. Palomar</td>\n",
       "      <td>9</td>\n",
       "      <td>95</td>\n",
       "      <td>principal</td>\n",
       "      <td>3</td>\n",
       "    </tr>\n",
       "    <tr>\n",
       "      <th>3</th>\n",
       "      <td>Kevin P</td>\n",
       "      <td>24</td>\n",
       "      <td>16</td>\n",
       "      <td>middle</td>\n",
       "      <td>1</td>\n",
       "    </tr>\n",
       "    <tr>\n",
       "      <th>4</th>\n",
       "      <td>Renfei HUANG</td>\n",
       "      <td>31</td>\n",
       "      <td>15</td>\n",
       "      <td>middle</td>\n",
       "      <td>1</td>\n",
       "    </tr>\n",
       "  </tbody>\n",
       "</table>\n",
       "</div>"
      ],
      "text/plain": [
       "                name  repos_number  followers  seniority  label\n",
       "0      Tarun Sudhams            23         33     middle      1\n",
       "1         Xiaowei Hu            43        125  principal      3\n",
       "2  Daniel P. Palomar             9         95  principal      3\n",
       "3            Kevin P            24         16     middle      1\n",
       "4       Renfei HUANG            31         15     middle      1"
      ]
     },
     "execution_count": 7,
     "metadata": {},
     "output_type": "execute_result"
    }
   ],
   "source": [
    "labels_dict= {\n",
    "    \"junior\":0,\n",
    "    \"middle\":1,\n",
    "    \"senior\":2,\n",
    "    \"principal\":3,\n",
    "    \"architect\":4\n",
    "}\n",
    "\n",
    "df_train[\"label\"] = df_train.seniority.map(labels_dict)\n",
    "df_train.head()"
   ]
  },
  {
   "cell_type": "code",
   "execution_count": 8,
   "metadata": {},
   "outputs": [],
   "source": [
    "X = df_train[[\"repos_number\", \"followers\"]]\n",
    "y = df_train.label"
   ]
  },
  {
   "cell_type": "code",
   "execution_count": 9,
   "metadata": {},
   "outputs": [
    {
     "name": "stdout",
     "output_type": "stream",
     "text": [
      "(28622, 2) (7156, 2) (28622,) (7156,)\n"
     ]
    }
   ],
   "source": [
    "from sklearn.metrics import accuracy_score, precision_score, recall_score, f1_score\n",
    "from sklearn.metrics import classification_report\n",
    "from sklearn.metrics import confusion_matrix \n",
    "from sklearn.model_selection import train_test_split\n",
    "\n",
    "y = np.ravel(y) #we use np.ravel to change shape (x,1) to (x,)\n",
    "\n",
    "X_train, X_test, y_train, y_test = train_test_split(X, y, test_size=0.2)\n",
    "print(X_train.shape, X_test.shape, y_train.shape, y_test.shape)"
   ]
  },
  {
   "cell_type": "code",
   "execution_count": 155,
   "metadata": {},
   "outputs": [],
   "source": [
    "#1st select the splited X and y. Then after your model achieves the accuracy needed, train with 100% X and y\n",
    "#However if you thing you could be overfitting your data you can use the splited model to test\n",
    "# X, y ----- X_train, y_train\n",
    "X_training = X\n",
    "y_training = y"
   ]
  },
  {
   "cell_type": "markdown",
   "metadata": {},
   "source": [
    "## Training Models"
   ]
  },
  {
   "cell_type": "markdown",
   "metadata": {},
   "source": [
    "## Tree Models "
   ]
  },
  {
   "cell_type": "markdown",
   "metadata": {},
   "source": [
    "### Decision Tree"
   ]
  },
  {
   "cell_type": "code",
   "execution_count": 156,
   "metadata": {},
   "outputs": [
    {
     "name": "stdout",
     "output_type": "stream",
     "text": [
      "CPU times: user 3 µs, sys: 0 ns, total: 3 µs\n",
      "Wall time: 6.44 µs\n"
     ]
    }
   ],
   "source": [
    "from sklearn.tree import DecisionTreeClassifier \n",
    "\n",
    "dtree_model = DecisionTreeClassifier().fit(X_training, y_training)\n",
    "\n",
    "dtree_pred = dtree_model.predict(X_test)\n",
    "%time"
   ]
  },
  {
   "cell_type": "code",
   "execution_count": 157,
   "metadata": {},
   "outputs": [
    {
     "name": "stdout",
     "output_type": "stream",
     "text": [
      "Accuracy 0.9990217998882057 \n",
      "\n",
      "Precision [0.99900853 0.99877825 1.         1.         1.        ] \n",
      "\n",
      "Recall [0.99960317 0.99695122 1.         1.         1.        ] \n",
      "\n",
      "F1Score [0.99930576 0.9978639  1.         1.         1.        ] \n",
      "\n"
     ]
    }
   ],
   "source": [
    "dtree_acc = accuracy_score(y_test, dtree_pred)\n",
    "print(\"Accuracy\", dtree_acc,\"\\n\")\n",
    "print(\"Precision\", precision_score(y_test, dtree_pred, average=None),\"\\n\")\n",
    "print(\"Recall\", recall_score(y_test, dtree_pred, average=None),\"\\n\")\n",
    "print(\"F1Score\", f1_score(y_test, dtree_pred, average=None),\"\\n\")"
   ]
  },
  {
   "cell_type": "code",
   "execution_count": 158,
   "metadata": {},
   "outputs": [
    {
     "name": "stdout",
     "output_type": "stream",
     "text": [
      "              precision    recall  f1-score   support\n",
      "\n",
      "           0       1.00      1.00      1.00      5040\n",
      "           1       1.00      1.00      1.00      1640\n",
      "           2       1.00      1.00      1.00       256\n",
      "           3       1.00      1.00      1.00       183\n",
      "           4       1.00      1.00      1.00        37\n",
      "\n",
      "    accuracy                           1.00      7156\n",
      "   macro avg       1.00      1.00      1.00      7156\n",
      "weighted avg       1.00      1.00      1.00      7156\n",
      "\n"
     ]
    }
   ],
   "source": [
    "print(classification_report(y_test, dtree_pred))"
   ]
  },
  {
   "cell_type": "code",
   "execution_count": 159,
   "metadata": {
    "scrolled": true
   },
   "outputs": [
    {
     "data": {
      "text/plain": [
       "<matplotlib.axes._subplots.AxesSubplot at 0x7f20fc65d390>"
      ]
     },
     "execution_count": 159,
     "metadata": {},
     "output_type": "execute_result"
    },
    {
     "data": {
      "image/png": "[encoded data removed]",
      "text/plain": [
       "<Figure size 432x288 with 2 Axes>"
      ]
     },
     "metadata": {
      "needs_background": "light"
     },
     "output_type": "display_data"
    }
   ],
   "source": [
    "cm_dtree = confusion_matrix(y_test,dtree_pred)\n",
    "sns.heatmap(cm_dtree, annot=True)"
   ]
  },
  {
   "cell_type": "markdown",
   "metadata": {},
   "source": [
    "## Esemble Models"
   ]
  },
  {
   "cell_type": "markdown",
   "metadata": {},
   "source": [
    "### Random Forest"
   ]
  },
  {
   "cell_type": "code",
   "execution_count": 160,
   "metadata": {},
   "outputs": [
    {
     "name": "stdout",
     "output_type": "stream",
     "text": [
      "CPU times: user 2 µs, sys: 0 ns, total: 2 µs\n",
      "Wall time: 5.01 µs\n"
     ]
    }
   ],
   "source": [
    "from sklearn.ensemble import RandomForestClassifier \n",
    "\n",
    "rf_model = RandomForestClassifier().fit(X_training, y_training)\n",
    "\n",
    "rf_pred = rf_model.predict(X_test)\n",
    "%time"
   ]
  },
  {
   "cell_type": "code",
   "execution_count": 161,
   "metadata": {},
   "outputs": [
    {
     "name": "stdout",
     "output_type": "stream",
     "text": [
      "Accuracy 0.9990217998882057 \n",
      "\n",
      "Precision [0.99900853 0.99877825 1.         1.         1.        ] \n",
      "\n",
      "Recall [0.99960317 0.99695122 1.         1.         1.        ] \n",
      "\n",
      "F1Score [0.99930576 0.9978639  1.         1.         1.        ] \n",
      "\n"
     ]
    }
   ],
   "source": [
    "rf_acc = accuracy_score(y_test, rf_pred)\n",
    "print(\"Accuracy\", rf_acc,\"\\n\")\n",
    "print(\"Precision\", precision_score(y_test, rf_pred, average=None),\"\\n\")\n",
    "print(\"Recall\", recall_score(y_test, rf_pred, average=None),\"\\n\")\n",
    "print(\"F1Score\", f1_score(y_test, rf_pred, average=None),\"\\n\")"
   ]
  },
  {
   "cell_type": "code",
   "execution_count": 162,
   "metadata": {},
   "outputs": [
    {
     "name": "stdout",
     "output_type": "stream",
     "text": [
      "              precision    recall  f1-score   support\n",
      "\n",
      "           0       1.00      1.00      1.00      5040\n",
      "           1       1.00      1.00      1.00      1640\n",
      "           2       1.00      1.00      1.00       256\n",
      "           3       1.00      1.00      1.00       183\n",
      "           4       1.00      1.00      1.00        37\n",
      "\n",
      "    accuracy                           1.00      7156\n",
      "   macro avg       1.00      1.00      1.00      7156\n",
      "weighted avg       1.00      1.00      1.00      7156\n",
      "\n"
     ]
    }
   ],
   "source": [
    "print(classification_report(y_test,rf_pred))"
   ]
  },
  {
   "cell_type": "code",
   "execution_count": 163,
   "metadata": {},
   "outputs": [
    {
     "data": {
      "text/plain": [
       "<matplotlib.axes._subplots.AxesSubplot at 0x7f20fcce7410>"
      ]
     },
     "execution_count": 163,
     "metadata": {},
     "output_type": "execute_result"
    },
    {
     "data": {
      "image/png": "[encoded data removed]",
      "text/plain": [
       "<Figure size 432x288 with 2 Axes>"
      ]
     },
     "metadata": {
      "needs_background": "light"
     },
     "output_type": "display_data"
    }
   ],
   "source": [
    "cm_rf = confusion_matrix(y_test,rf_pred)\n",
    "sns.heatmap(cm_rf,annot=True)"
   ]
  },
  {
   "cell_type": "markdown",
   "metadata": {},
   "source": [
    "### Gradient Boosting"
   ]
  },
  {
   "cell_type": "code",
   "execution_count": 164,
   "metadata": {},
   "outputs": [
    {
     "name": "stdout",
     "output_type": "stream",
     "text": [
      "CPU times: user 2 µs, sys: 0 ns, total: 2 µs\n",
      "Wall time: 4.77 µs\n"
     ]
    }
   ],
   "source": [
    "from sklearn.ensemble import GradientBoostingClassifier\n",
    "\n",
    "gb_model = GradientBoostingClassifier().fit(X_training, y_training)\n",
    "\n",
    "gb_pred = gb_model.predict(X_test)\n",
    "%time"
   ]
  },
  {
   "cell_type": "code",
   "execution_count": 165,
   "metadata": {},
   "outputs": [
    {
     "name": "stdout",
     "output_type": "stream",
     "text": [
      "Accuracy 0.9988820570150923 \n",
      "\n",
      "Precision [0.99861276 0.999388   1.         1.         1.        ] \n",
      "\n",
      "Recall [0.99980159 0.99573171 1.         1.         1.        ] \n",
      "\n",
      "F1Score [0.99920682 0.99755651 1.         1.         1.        ] \n",
      "\n"
     ]
    }
   ],
   "source": [
    "gb_acc = accuracy_score(y_test, gb_pred)\n",
    "print(\"Accuracy\", gb_acc,\"\\n\")\n",
    "print(\"Precision\", precision_score(y_test, gb_pred, average=None),\"\\n\")\n",
    "print(\"Recall\", recall_score(y_test, gb_pred, average=None),\"\\n\")\n",
    "print(\"F1Score\", f1_score(y_test, gb_pred, average=None),\"\\n\")"
   ]
  },
  {
   "cell_type": "code",
   "execution_count": 166,
   "metadata": {},
   "outputs": [
    {
     "name": "stdout",
     "output_type": "stream",
     "text": [
      "              precision    recall  f1-score   support\n",
      "\n",
      "           0       1.00      1.00      1.00      5040\n",
      "           1       1.00      1.00      1.00      1640\n",
      "           2       1.00      1.00      1.00       256\n",
      "           3       1.00      1.00      1.00       183\n",
      "           4       1.00      1.00      1.00        37\n",
      "\n",
      "    accuracy                           1.00      7156\n",
      "   macro avg       1.00      1.00      1.00      7156\n",
      "weighted avg       1.00      1.00      1.00      7156\n",
      "\n"
     ]
    }
   ],
   "source": [
    "print(classification_report(y_test,gb_pred))"
   ]
  },
  {
   "cell_type": "code",
   "execution_count": 167,
   "metadata": {},
   "outputs": [
    {
     "data": {
      "text/plain": [
       "<matplotlib.axes._subplots.AxesSubplot at 0x7f20fcbfe7d0>"
      ]
     },
     "execution_count": 167,
     "metadata": {},
     "output_type": "execute_result"
    },
    {
     "data": {
      "image/png": "[encoded data removed]",
      "text/plain": [
       "<Figure size 432x288 with 2 Axes>"
      ]
     },
     "metadata": {
      "needs_background": "light"
     },
     "output_type": "display_data"
    }
   ],
   "source": [
    "cm_gb = confusion_matrix(y_test,gb_pred)\n",
    "sns.heatmap(cm_gb,annot=True)"
   ]
  },
  {
   "cell_type": "markdown",
   "metadata": {},
   "source": [
    "### Extra Trees Classifier"
   ]
  },
  {
   "cell_type": "code",
   "execution_count": 168,
   "metadata": {},
   "outputs": [
    {
     "name": "stdout",
     "output_type": "stream",
     "text": [
      "CPU times: user 2 µs, sys: 0 ns, total: 2 µs\n",
      "Wall time: 5.25 µs\n"
     ]
    }
   ],
   "source": [
    "from sklearn.ensemble import ExtraTreesClassifier\n",
    "\n",
    "et_model = ExtraTreesClassifier().fit(X_training, y_training)\n",
    "\n",
    "et_pred = et_model.predict(X_test)\n",
    "%time"
   ]
  },
  {
   "cell_type": "code",
   "execution_count": 169,
   "metadata": {},
   "outputs": [
    {
     "name": "stdout",
     "output_type": "stream",
     "text": [
      "Accuracy 0.9990217998882057 \n",
      "\n",
      "Precision [0.99900853 0.99877825 1.         1.         1.        ] \n",
      "\n",
      "Recall [0.99960317 0.99695122 1.         1.         1.        ] \n",
      "\n",
      "F1Score [0.99930576 0.9978639  1.         1.         1.        ] \n",
      "\n"
     ]
    }
   ],
   "source": [
    "et_acc = accuracy_score(y_test, et_pred)\n",
    "print(\"Accuracy\", et_acc,\"\\n\")\n",
    "print(\"Precision\", precision_score(y_test, et_pred, average=None),\"\\n\")\n",
    "print(\"Recall\", recall_score(y_test, et_pred, average=None),\"\\n\")\n",
    "print(\"F1Score\", f1_score(y_test, et_pred, average=None),\"\\n\")"
   ]
  },
  {
   "cell_type": "code",
   "execution_count": 170,
   "metadata": {},
   "outputs": [
    {
     "name": "stdout",
     "output_type": "stream",
     "text": [
      "              precision    recall  f1-score   support\n",
      "\n",
      "           0       1.00      1.00      1.00      5040\n",
      "           1       1.00      1.00      1.00      1640\n",
      "           2       1.00      1.00      1.00       256\n",
      "           3       1.00      1.00      1.00       183\n",
      "           4       1.00      1.00      1.00        37\n",
      "\n",
      "    accuracy                           1.00      7156\n",
      "   macro avg       1.00      1.00      1.00      7156\n",
      "weighted avg       1.00      1.00      1.00      7156\n",
      "\n"
     ]
    }
   ],
   "source": [
    "print(classification_report(y_test,et_pred))"
   ]
  },
  {
   "cell_type": "code",
   "execution_count": 171,
   "metadata": {},
   "outputs": [
    {
     "data": {
      "text/plain": [
       "<matplotlib.axes._subplots.AxesSubplot at 0x7f213ee425d0>"
      ]
     },
     "execution_count": 171,
     "metadata": {},
     "output_type": "execute_result"
    },
    {
     "data": {
      "image/png": "[encoded data removed]",
      "text/plain": [
       "<Figure size 432x288 with 2 Axes>"
      ]
     },
     "metadata": {
      "needs_background": "light"
     },
     "output_type": "display_data"
    }
   ],
   "source": [
    "cm_et = confusion_matrix(y_test,et_pred)\n",
    "sns.heatmap(cm_et,annot=True)"
   ]
  },
  {
   "cell_type": "markdown",
   "metadata": {},
   "source": [
    "## Bayesian Models"
   ]
  },
  {
   "cell_type": "markdown",
   "metadata": {},
   "source": [
    "### BernoulliNB"
   ]
  },
  {
   "cell_type": "code",
   "execution_count": 172,
   "metadata": {},
   "outputs": [
    {
     "name": "stdout",
     "output_type": "stream",
     "text": [
      "CPU times: user 4 µs, sys: 0 ns, total: 4 µs\n",
      "Wall time: 7.39 µs\n"
     ]
    }
   ],
   "source": [
    "from sklearn.naive_bayes import BernoulliNB\n",
    "\n",
    "ber_model = BernoulliNB().fit(X_training, y_training)\n",
    "\n",
    "ber_pred = ber_model.predict(X_test)\n",
    "%time"
   ]
  },
  {
   "cell_type": "code",
   "execution_count": 173,
   "metadata": {},
   "outputs": [
    {
     "name": "stdout",
     "output_type": "stream",
     "text": [
      "Accuracy 0.704304080491895 \n",
      "\n",
      "Precision [0.70430408 0.         0.         0.         0.        ] \n",
      "\n",
      "Recall [1. 0. 0. 0. 0.] \n",
      "\n",
      "F1Score [0.82650049 0.         0.         0.         0.        ] \n",
      "\n"
     ]
    },
    {
     "name": "stderr",
     "output_type": "stream",
     "text": [
      "/home/diego/anaconda3/lib/python3.7/site-packages/sklearn/metrics/_classification.py:1272: UndefinedMetricWarning: Precision is ill-defined and being set to 0.0 in labels with no predicted samples. Use `zero_division` parameter to control this behavior.\n",
      "  _warn_prf(average, modifier, msg_start, len(result))\n"
     ]
    }
   ],
   "source": [
    "ber_acc =  accuracy_score(y_test, ber_pred)\n",
    "print(\"Accuracy\", ber_acc,\"\\n\")\n",
    "print(\"Precision\", precision_score(y_test, ber_pred, average=None),\"\\n\")\n",
    "print(\"Recall\", recall_score(y_test, ber_pred, average=None),\"\\n\")\n",
    "print(\"F1Score\", f1_score(y_test, ber_pred, average=None),\"\\n\")"
   ]
  },
  {
   "cell_type": "code",
   "execution_count": 174,
   "metadata": {},
   "outputs": [
    {
     "name": "stdout",
     "output_type": "stream",
     "text": [
      "              precision    recall  f1-score   support\n",
      "\n",
      "           0       0.70      1.00      0.83      5040\n",
      "           1       0.00      0.00      0.00      1640\n",
      "           2       0.00      0.00      0.00       256\n",
      "           3       0.00      0.00      0.00       183\n",
      "           4       0.00      0.00      0.00        37\n",
      "\n",
      "    accuracy                           0.70      7156\n",
      "   macro avg       0.14      0.20      0.17      7156\n",
      "weighted avg       0.50      0.70      0.58      7156\n",
      "\n"
     ]
    },
    {
     "name": "stderr",
     "output_type": "stream",
     "text": [
      "/home/diego/anaconda3/lib/python3.7/site-packages/sklearn/metrics/_classification.py:1272: UndefinedMetricWarning: Precision and F-score are ill-defined and being set to 0.0 in labels with no predicted samples. Use `zero_division` parameter to control this behavior.\n",
      "  _warn_prf(average, modifier, msg_start, len(result))\n"
     ]
    }
   ],
   "source": [
    "print(classification_report(y_test,ber_pred))"
   ]
  },
  {
   "cell_type": "code",
   "execution_count": 175,
   "metadata": {},
   "outputs": [
    {
     "data": {
      "text/plain": [
       "<matplotlib.axes._subplots.AxesSubplot at 0x7f20efff1150>"
      ]
     },
     "execution_count": 175,
     "metadata": {},
     "output_type": "execute_result"
    },
    {
     "data": {
      "image/png": "[encoded data removed]",
      "text/plain": [
       "<Figure size 432x288 with 2 Axes>"
      ]
     },
     "metadata": {
      "needs_background": "light"
     },
     "output_type": "display_data"
    }
   ],
   "source": [
    "cm_ber = confusion_matrix(y_test,ber_pred)\n",
    "sns.heatmap(cm_ber,annot=True)"
   ]
  },
  {
   "cell_type": "code",
   "execution_count": 176,
   "metadata": {},
   "outputs": [
    {
     "name": "stdout",
     "output_type": "stream",
     "text": [
      "CPU times: user 2 µs, sys: 0 ns, total: 2 µs\n",
      "Wall time: 5.25 µs\n"
     ]
    }
   ],
   "source": [
    "from sklearn.naive_bayes import GaussianNB\n",
    "\n",
    "gau_model = GaussianNB().fit(X_training, y_training)\n",
    "\n",
    "gau_pred = gau_model.predict(X_test)\n",
    "%time"
   ]
  },
  {
   "cell_type": "code",
   "execution_count": 177,
   "metadata": {},
   "outputs": [
    {
     "name": "stdout",
     "output_type": "stream",
     "text": [
      "Accuracy 0.9682783678032421 \n",
      "\n",
      "Precision [0.99430547 0.90659026 0.98367347 0.86124402 0.925     ] \n",
      "\n",
      "Recall [0.97003968 0.96463415 0.94140625 0.98360656 1.        ] \n",
      "\n",
      "F1Score [0.9820227  0.93471196 0.96207585 0.91836735 0.96103896] \n",
      "\n"
     ]
    }
   ],
   "source": [
    "gau_acc = accuracy_score(y_test, gau_pred)\n",
    "print(\"Accuracy\", gau_acc,\"\\n\")\n",
    "print(\"Precision\", precision_score(y_test, gau_pred, average=None),\"\\n\")\n",
    "print(\"Recall\", recall_score(y_test, gau_pred, average=None),\"\\n\")\n",
    "print(\"F1Score\", f1_score(y_test, gau_pred, average=None),\"\\n\")"
   ]
  },
  {
   "cell_type": "code",
   "execution_count": 178,
   "metadata": {},
   "outputs": [
    {
     "name": "stdout",
     "output_type": "stream",
     "text": [
      "              precision    recall  f1-score   support\n",
      "\n",
      "           0       0.99      0.97      0.98      5040\n",
      "           1       0.91      0.96      0.93      1640\n",
      "           2       0.98      0.94      0.96       256\n",
      "           3       0.86      0.98      0.92       183\n",
      "           4       0.93      1.00      0.96        37\n",
      "\n",
      "    accuracy                           0.97      7156\n",
      "   macro avg       0.93      0.97      0.95      7156\n",
      "weighted avg       0.97      0.97      0.97      7156\n",
      "\n"
     ]
    }
   ],
   "source": [
    "print(classification_report(y_test,gau_pred))"
   ]
  },
  {
   "cell_type": "code",
   "execution_count": 179,
   "metadata": {},
   "outputs": [
    {
     "data": {
      "text/plain": [
       "<matplotlib.axes._subplots.AxesSubplot at 0x7f20effca350>"
      ]
     },
     "execution_count": 179,
     "metadata": {},
     "output_type": "execute_result"
    },
    {
     "data": {
      "image/png": "[encoded data removed]",
      "text/plain": [
       "<Figure size 432x288 with 2 Axes>"
      ]
     },
     "metadata": {
      "needs_background": "light"
     },
     "output_type": "display_data"
    }
   ],
   "source": [
    "cm_gau = confusion_matrix(y_test,gau_pred)\n",
    "sns.heatmap(cm_gau,annot=True)"
   ]
  },
  {
   "cell_type": "markdown",
   "metadata": {},
   "source": [
    "## Neighbors Models"
   ]
  },
  {
   "cell_type": "markdown",
   "metadata": {},
   "source": [
    "### KNeighbors Classifier"
   ]
  },
  {
   "cell_type": "code",
   "execution_count": 180,
   "metadata": {},
   "outputs": [
    {
     "name": "stdout",
     "output_type": "stream",
     "text": [
      "CPU times: user 3 µs, sys: 0 ns, total: 3 µs\n",
      "Wall time: 5.48 µs\n"
     ]
    }
   ],
   "source": [
    "from sklearn.neighbors import KNeighborsClassifier\n",
    "\n",
    "kn_model = KNeighborsClassifier().fit(X_training, y_training)\n",
    "\n",
    "kn_pred = kn_model.predict(X_test)\n",
    "%time"
   ]
  },
  {
   "cell_type": "code",
   "execution_count": 181,
   "metadata": {},
   "outputs": [
    {
     "name": "stdout",
     "output_type": "stream",
     "text": [
      "Accuracy 0.9988820570150923 \n",
      "\n",
      "Precision [0.99920651 0.9981685  0.99610895 1.         1.        ] \n",
      "\n",
      "Recall [0.99940476 0.99695122 1.         1.         1.        ] \n",
      "\n",
      "F1Score [0.99930562 0.99755949 0.99805068 1.         1.        ] \n",
      "\n"
     ]
    }
   ],
   "source": [
    "kn_acc = accuracy_score(y_test, kn_pred)\n",
    "print(\"Accuracy\", kn_acc,\"\\n\")\n",
    "print(\"Precision\", precision_score(y_test, kn_pred, average=None),\"\\n\")\n",
    "print(\"Recall\", recall_score(y_test, kn_pred, average=None),\"\\n\")\n",
    "print(\"F1Score\", f1_score(y_test, kn_pred, average=None),\"\\n\")"
   ]
  },
  {
   "cell_type": "code",
   "execution_count": 182,
   "metadata": {},
   "outputs": [
    {
     "name": "stdout",
     "output_type": "stream",
     "text": [
      "              precision    recall  f1-score   support\n",
      "\n",
      "           0       1.00      1.00      1.00      5040\n",
      "           1       1.00      1.00      1.00      1640\n",
      "           2       1.00      1.00      1.00       256\n",
      "           3       1.00      1.00      1.00       183\n",
      "           4       1.00      1.00      1.00        37\n",
      "\n",
      "    accuracy                           1.00      7156\n",
      "   macro avg       1.00      1.00      1.00      7156\n",
      "weighted avg       1.00      1.00      1.00      7156\n",
      "\n"
     ]
    }
   ],
   "source": [
    "print(classification_report(y_test,kn_pred))"
   ]
  },
  {
   "cell_type": "code",
   "execution_count": 183,
   "metadata": {},
   "outputs": [
    {
     "data": {
      "text/plain": [
       "<matplotlib.axes._subplots.AxesSubplot at 0x7f20efd6fc90>"
      ]
     },
     "execution_count": 183,
     "metadata": {},
     "output_type": "execute_result"
    },
    {
     "data": {
      "image/png": "[encoded data removed]",
      "text/plain": [
       "<Figure size 432x288 with 2 Axes>"
      ]
     },
     "metadata": {
      "needs_background": "light"
     },
     "output_type": "display_data"
    }
   ],
   "source": [
    "cm_kn = confusion_matrix(y_test,kn_pred)\n",
    "sns.heatmap(cm_kn,annot=True)"
   ]
  },
  {
   "cell_type": "markdown",
   "metadata": {},
   "source": [
    "### Nearest Centroid"
   ]
  },
  {
   "cell_type": "code",
   "execution_count": 184,
   "metadata": {},
   "outputs": [
    {
     "name": "stdout",
     "output_type": "stream",
     "text": [
      "CPU times: user 3 µs, sys: 0 ns, total: 3 µs\n",
      "Wall time: 6.44 µs\n"
     ]
    }
   ],
   "source": [
    "from sklearn.neighbors import NearestCentroid\n",
    "\n",
    "nc_model = NearestCentroid().fit(X_training, y_training)\n",
    "\n",
    "nc_pred = nc_model.predict(X_test)\n",
    "%time"
   ]
  },
  {
   "cell_type": "code",
   "execution_count": 185,
   "metadata": {},
   "outputs": [
    {
     "name": "stdout",
     "output_type": "stream",
     "text": [
      "Accuracy 0.9920346562325322 \n",
      "\n",
      "Precision [0.99405705 0.98350641 1.         1.         1.        ] \n",
      "\n",
      "Recall [0.99563492 0.98170732 0.99609375 0.97814208 1.        ] \n",
      "\n",
      "F1Score [0.99484536 0.98260604 0.99804305 0.98895028 1.        ] \n",
      "\n"
     ]
    }
   ],
   "source": [
    "nc_acc = accuracy_score(y_test, nc_pred)\n",
    "print(\"Accuracy\", nc_acc,\"\\n\")\n",
    "print(\"Precision\", precision_score(y_test, nc_pred, average=None),\"\\n\")\n",
    "print(\"Recall\", recall_score(y_test, nc_pred, average=None),\"\\n\")\n",
    "print(\"F1Score\", f1_score(y_test, nc_pred, average=None),\"\\n\")"
   ]
  },
  {
   "cell_type": "code",
   "execution_count": 186,
   "metadata": {},
   "outputs": [
    {
     "name": "stdout",
     "output_type": "stream",
     "text": [
      "              precision    recall  f1-score   support\n",
      "\n",
      "           0       0.99      1.00      0.99      5040\n",
      "           1       0.98      0.98      0.98      1640\n",
      "           2       1.00      1.00      1.00       256\n",
      "           3       1.00      0.98      0.99       183\n",
      "           4       1.00      1.00      1.00        37\n",
      "\n",
      "    accuracy                           0.99      7156\n",
      "   macro avg       1.00      0.99      0.99      7156\n",
      "weighted avg       0.99      0.99      0.99      7156\n",
      "\n"
     ]
    }
   ],
   "source": [
    "print(classification_report(y_test,nc_pred))"
   ]
  },
  {
   "cell_type": "code",
   "execution_count": 187,
   "metadata": {},
   "outputs": [
    {
     "data": {
      "text/plain": [
       "<matplotlib.axes._subplots.AxesSubplot at 0x7f20efc5cf10>"
      ]
     },
     "execution_count": 187,
     "metadata": {},
     "output_type": "execute_result"
    },
    {
     "data": {
      "image/png": "[encoded data removed]",
      "text/plain": [
       "<Figure size 432x288 with 2 Axes>"
      ]
     },
     "metadata": {
      "needs_background": "light"
     },
     "output_type": "display_data"
    }
   ],
   "source": [
    "cm_nc = confusion_matrix(y_test,nc_pred)\n",
    "sns.heatmap(cm_nc,annot=True)"
   ]
  },
  {
   "cell_type": "markdown",
   "metadata": {},
   "source": [
    "### Radius Neighbors Classifier"
   ]
  },
  {
   "cell_type": "code",
   "execution_count": 188,
   "metadata": {},
   "outputs": [
    {
     "name": "stdout",
     "output_type": "stream",
     "text": [
      "CPU times: user 3 µs, sys: 0 ns, total: 3 µs\n",
      "Wall time: 6.44 µs\n"
     ]
    }
   ],
   "source": [
    "from sklearn.neighbors import RadiusNeighborsClassifier\n",
    "\n",
    "rn_model = RadiusNeighborsClassifier(radius=100).fit(X_training, y_training)\n",
    "\n",
    "rn_pred = rn_model.predict(X_test)\n",
    "%time"
   ]
  },
  {
   "cell_type": "code",
   "execution_count": 189,
   "metadata": {},
   "outputs": [
    {
     "name": "stdout",
     "output_type": "stream",
     "text": [
      "Accuracy 0.7266629401900503 \n",
      "\n",
      "Precision [0.73437272 0.         0.98       0.93023256 1.        ] \n",
      "\n",
      "Recall [1.         0.         0.19140625 0.43715847 0.83783784] \n",
      "\n",
      "F1Score [0.84684533 0.         0.32026144 0.59479554 0.91176471] \n",
      "\n"
     ]
    }
   ],
   "source": [
    "rn_acc = accuracy_score(y_test, rn_pred)\n",
    "print(\"Accuracy\", rn_acc,\"\\n\")\n",
    "print(\"Precision\", precision_score(y_test, rn_pred, average=None),\"\\n\")\n",
    "print(\"Recall\", recall_score(y_test, rn_pred, average=None),\"\\n\")\n",
    "print(\"F1Score\", f1_score(y_test, rn_pred, average=None),\"\\n\")"
   ]
  },
  {
   "cell_type": "code",
   "execution_count": 190,
   "metadata": {},
   "outputs": [
    {
     "name": "stdout",
     "output_type": "stream",
     "text": [
      "              precision    recall  f1-score   support\n",
      "\n",
      "           0       0.73      1.00      0.85      5040\n",
      "           1       0.00      0.00      0.00      1640\n",
      "           2       0.98      0.19      0.32       256\n",
      "           3       0.93      0.44      0.59       183\n",
      "           4       1.00      0.84      0.91        37\n",
      "\n",
      "    accuracy                           0.73      7156\n",
      "   macro avg       0.73      0.49      0.53      7156\n",
      "weighted avg       0.58      0.73      0.63      7156\n",
      "\n"
     ]
    }
   ],
   "source": [
    "print(classification_report(y_test,rn_pred))"
   ]
  },
  {
   "cell_type": "code",
   "execution_count": 191,
   "metadata": {},
   "outputs": [
    {
     "data": {
      "text/plain": [
       "<matplotlib.axes._subplots.AxesSubplot at 0x7f20efb41750>"
      ]
     },
     "execution_count": 191,
     "metadata": {},
     "output_type": "execute_result"
    },
    {
     "data": {
      "image/png": "[encoded data removed]",
      "text/plain": [
       "<Figure size 432x288 with 2 Axes>"
      ]
     },
     "metadata": {
      "needs_background": "light"
     },
     "output_type": "display_data"
    }
   ],
   "source": [
    "cm_rn = confusion_matrix(y_test,rn_pred)\n",
    "sns.heatmap(cm_rn,annot=True)"
   ]
  },
  {
   "cell_type": "markdown",
   "metadata": {},
   "source": [
    "## Vector Models"
   ]
  },
  {
   "cell_type": "markdown",
   "metadata": {},
   "source": [
    "### Linear SVC"
   ]
  },
  {
   "cell_type": "code",
   "execution_count": 192,
   "metadata": {},
   "outputs": [
    {
     "name": "stdout",
     "output_type": "stream",
     "text": [
      "CPU times: user 31 µs, sys: 0 ns, total: 31 µs\n",
      "Wall time: 6.68 µs\n"
     ]
    },
    {
     "name": "stderr",
     "output_type": "stream",
     "text": [
      "/home/diego/anaconda3/lib/python3.7/site-packages/sklearn/svm/_base.py:947: ConvergenceWarning: Liblinear failed to converge, increase the number of iterations.\n",
      "  \"the number of iterations.\", ConvergenceWarning)\n"
     ]
    }
   ],
   "source": [
    "from sklearn.svm import LinearSVC\n",
    "\n",
    "svc_model = LinearSVC(multi_class=\"crammer_singer\", max_iter=100000).fit(X_training, y_training)\n",
    "\n",
    "svc_pred = svc_model.predict(X_test)\n",
    "%time"
   ]
  },
  {
   "cell_type": "code",
   "execution_count": 193,
   "metadata": {},
   "outputs": [
    {
     "name": "stdout",
     "output_type": "stream",
     "text": [
      "Accuracy 0.9935718278367803 \n",
      "\n",
      "Precision [0.99900833 0.98139256 1.         0.94764398 1.        ] \n",
      "\n",
      "Recall [0.99940476 0.99695122 0.8984375  0.98907104 0.72972973] \n",
      "\n",
      "F1Score [0.99920651 0.98911071 0.94650206 0.96791444 0.84375   ] \n",
      "\n"
     ]
    }
   ],
   "source": [
    "svc_acc = accuracy_score(y_test, svc_pred)\n",
    "print(\"Accuracy\", svc_acc,\"\\n\")\n",
    "print(\"Precision\", precision_score(y_test, svc_pred, average=None),\"\\n\")\n",
    "print(\"Recall\", recall_score(y_test, svc_pred, average=None),\"\\n\")\n",
    "print(\"F1Score\", f1_score(y_test, svc_pred, average=None),\"\\n\")"
   ]
  },
  {
   "cell_type": "code",
   "execution_count": 194,
   "metadata": {},
   "outputs": [
    {
     "name": "stdout",
     "output_type": "stream",
     "text": [
      "              precision    recall  f1-score   support\n",
      "\n",
      "           0       1.00      1.00      1.00      5040\n",
      "           1       0.98      1.00      0.99      1640\n",
      "           2       1.00      0.90      0.95       256\n",
      "           3       0.95      0.99      0.97       183\n",
      "           4       1.00      0.73      0.84        37\n",
      "\n",
      "    accuracy                           0.99      7156\n",
      "   macro avg       0.99      0.92      0.95      7156\n",
      "weighted avg       0.99      0.99      0.99      7156\n",
      "\n"
     ]
    }
   ],
   "source": [
    "print(classification_report(y_test,svc_pred))"
   ]
  },
  {
   "cell_type": "code",
   "execution_count": 195,
   "metadata": {},
   "outputs": [
    {
     "data": {
      "text/plain": [
       "<matplotlib.axes._subplots.AxesSubplot at 0x7f20efaa4290>"
      ]
     },
     "execution_count": 195,
     "metadata": {},
     "output_type": "execute_result"
    },
    {
     "data": {
      "image/png": "[encoded data removed]",
      "text/plain": [
       "<Figure size 432x288 with 2 Axes>"
      ]
     },
     "metadata": {
      "needs_background": "light"
     },
     "output_type": "display_data"
    }
   ],
   "source": [
    "cm_svc = confusion_matrix(y_test,svc_pred)\n",
    "sns.heatmap(cm_svc,annot=True)"
   ]
  },
  {
   "cell_type": "markdown",
   "metadata": {},
   "source": [
    "## Linear Models"
   ]
  },
  {
   "cell_type": "markdown",
   "metadata": {},
   "source": [
    "### Logistic Regression"
   ]
  },
  {
   "cell_type": "code",
   "execution_count": 196,
   "metadata": {},
   "outputs": [
    {
     "name": "stdout",
     "output_type": "stream",
     "text": [
      "CPU times: user 3 µs, sys: 0 ns, total: 3 µs\n",
      "Wall time: 6.68 µs\n"
     ]
    }
   ],
   "source": [
    "from sklearn.linear_model import LogisticRegression\n",
    "\n",
    "lr_model = LogisticRegression(multi_class=\"multinomial\", max_iter=100000).fit(X_training, y_training)\n",
    "\n",
    "lr_pred = lr_model.predict(X_test)\n",
    "%time"
   ]
  },
  {
   "cell_type": "code",
   "execution_count": 197,
   "metadata": {},
   "outputs": [
    {
     "name": "stdout",
     "output_type": "stream",
     "text": [
      "Accuracy 0.9988820570150923 \n",
      "\n",
      "Precision [0.99900833 0.9981685  1.         1.         1.        ] \n",
      "\n",
      "Recall [0.99940476 0.99695122 1.         1.         1.        ] \n",
      "\n",
      "F1Score [0.99920651 0.99755949 1.         1.         1.        ] \n",
      "\n"
     ]
    }
   ],
   "source": [
    "lr_acc = accuracy_score(y_test, lr_pred)\n",
    "print(\"Accuracy\", lr_acc,\"\\n\")\n",
    "print(\"Precision\", precision_score(y_test, lr_pred, average=None),\"\\n\")\n",
    "print(\"Recall\", recall_score(y_test, lr_pred, average=None),\"\\n\")\n",
    "print(\"F1Score\", f1_score(y_test, lr_pred, average=None),\"\\n\")"
   ]
  },
  {
   "cell_type": "code",
   "execution_count": 198,
   "metadata": {},
   "outputs": [
    {
     "name": "stdout",
     "output_type": "stream",
     "text": [
      "              precision    recall  f1-score   support\n",
      "\n",
      "           0       1.00      1.00      1.00      5040\n",
      "           1       1.00      1.00      1.00      1640\n",
      "           2       1.00      1.00      1.00       256\n",
      "           3       1.00      1.00      1.00       183\n",
      "           4       1.00      1.00      1.00        37\n",
      "\n",
      "    accuracy                           1.00      7156\n",
      "   macro avg       1.00      1.00      1.00      7156\n",
      "weighted avg       1.00      1.00      1.00      7156\n",
      "\n"
     ]
    }
   ],
   "source": [
    "print(classification_report(y_test,lr_pred))"
   ]
  },
  {
   "cell_type": "code",
   "execution_count": 199,
   "metadata": {},
   "outputs": [
    {
     "data": {
      "text/plain": [
       "<matplotlib.axes._subplots.AxesSubplot at 0x7f20ef989dd0>"
      ]
     },
     "execution_count": 199,
     "metadata": {},
     "output_type": "execute_result"
    },
    {
     "data": {
      "image/png": "[encoded data removed]",
      "text/plain": [
       "<Figure size 432x288 with 2 Axes>"
      ]
     },
     "metadata": {
      "needs_background": "light"
     },
     "output_type": "display_data"
    }
   ],
   "source": [
    "cm_lr = confusion_matrix(y_test,lr_pred)\n",
    "sns.heatmap(cm_lr,annot=True)"
   ]
  },
  {
   "cell_type": "markdown",
   "metadata": {},
   "source": [
    "### Ridge Classifier"
   ]
  },
  {
   "cell_type": "code",
   "execution_count": 200,
   "metadata": {},
   "outputs": [
    {
     "name": "stdout",
     "output_type": "stream",
     "text": [
      "CPU times: user 3 µs, sys: 0 ns, total: 3 µs\n",
      "Wall time: 5.72 µs\n"
     ]
    }
   ],
   "source": [
    "from sklearn.linear_model import RidgeClassifier\n",
    "\n",
    "rc_model = RidgeClassifier().fit(X_training, y_training)\n",
    "\n",
    "rc_pred = rc_model.predict(X_test)\n",
    "%time"
   ]
  },
  {
   "cell_type": "code",
   "execution_count": 201,
   "metadata": {},
   "outputs": [
    {
     "name": "stdout",
     "output_type": "stream",
     "text": [
      "Accuracy 0.7646730016769144 \n",
      "\n",
      "Precision [0.79320113 0.54098361 0.         0.51428571 0.        ] \n",
      "\n",
      "Recall [1.         0.24146341 0.         0.19672131 0.        ] \n",
      "\n",
      "F1Score [0.88467615 0.33389545 0.         0.28458498 0.        ] \n",
      "\n"
     ]
    },
    {
     "name": "stderr",
     "output_type": "stream",
     "text": [
      "/home/diego/anaconda3/lib/python3.7/site-packages/sklearn/metrics/_classification.py:1272: UndefinedMetricWarning: Precision is ill-defined and being set to 0.0 in labels with no predicted samples. Use `zero_division` parameter to control this behavior.\n",
      "  _warn_prf(average, modifier, msg_start, len(result))\n"
     ]
    }
   ],
   "source": [
    "rc_acc = accuracy_score(y_test, rc_pred)\n",
    "print(\"Accuracy\", rc_acc,\"\\n\")\n",
    "print(\"Precision\", precision_score(y_test, rc_pred, average=None),\"\\n\")\n",
    "print(\"Recall\", recall_score(y_test, rc_pred, average=None),\"\\n\")\n",
    "print(\"F1Score\", f1_score(y_test, rc_pred, average=None),\"\\n\")"
   ]
  },
  {
   "cell_type": "code",
   "execution_count": 202,
   "metadata": {},
   "outputs": [
    {
     "name": "stdout",
     "output_type": "stream",
     "text": [
      "              precision    recall  f1-score   support\n",
      "\n",
      "           0       0.79      1.00      0.88      5040\n",
      "           1       0.54      0.24      0.33      1640\n",
      "           2       0.00      0.00      0.00       256\n",
      "           3       0.51      0.20      0.28       183\n",
      "           4       0.00      0.00      0.00        37\n",
      "\n",
      "    accuracy                           0.76      7156\n",
      "   macro avg       0.37      0.29      0.30      7156\n",
      "weighted avg       0.70      0.76      0.71      7156\n",
      "\n"
     ]
    },
    {
     "name": "stderr",
     "output_type": "stream",
     "text": [
      "/home/diego/anaconda3/lib/python3.7/site-packages/sklearn/metrics/_classification.py:1272: UndefinedMetricWarning: Precision and F-score are ill-defined and being set to 0.0 in labels with no predicted samples. Use `zero_division` parameter to control this behavior.\n",
      "  _warn_prf(average, modifier, msg_start, len(result))\n"
     ]
    }
   ],
   "source": [
    "print(classification_report(y_test,rc_pred))"
   ]
  },
  {
   "cell_type": "code",
   "execution_count": 203,
   "metadata": {
    "scrolled": true
   },
   "outputs": [
    {
     "data": {
      "text/plain": [
       "<matplotlib.axes._subplots.AxesSubplot at 0x7f20ef8e5890>"
      ]
     },
     "execution_count": 203,
     "metadata": {},
     "output_type": "execute_result"
    },
    {
     "data": {
      "image/png": "[encoded data removed]",
      "text/plain": [
       "<Figure size 432x288 with 2 Axes>"
      ]
     },
     "metadata": {
      "needs_background": "light"
     },
     "output_type": "display_data"
    }
   ],
   "source": [
    "cm_rc = confusion_matrix(y_test,rc_pred)\n",
    "sns.heatmap(cm_rc,annot=True)"
   ]
  },
  {
   "cell_type": "code",
   "execution_count": 154,
   "metadata": {},
   "outputs": [
    {
     "data": {
      "text/html": [
       "<div>\n",
       "<style scoped>\n",
       "    .dataframe tbody tr th:only-of-type {\n",
       "        vertical-align: middle;\n",
       "    }\n",
       "\n",
       "    .dataframe tbody tr th {\n",
       "        vertical-align: top;\n",
       "    }\n",
       "\n",
       "    .dataframe thead th {\n",
       "        text-align: right;\n",
       "    }\n",
       "</style>\n",
       "<table border=\"1\" class=\"dataframe\">\n",
       "  <thead>\n",
       "    <tr style=\"text-align: right;\">\n",
       "      <th></th>\n",
       "      <th>Algorithms</th>\n",
       "      <th>Accuracy</th>\n",
       "    </tr>\n",
       "  </thead>\n",
       "  <tbody>\n",
       "    <tr>\n",
       "      <th>10</th>\n",
       "      <td>LogisticRegression</td>\n",
       "      <td>0.998882</td>\n",
       "    </tr>\n",
       "    <tr>\n",
       "      <th>1</th>\n",
       "      <td>RandomForestClassifier</td>\n",
       "      <td>0.998463</td>\n",
       "    </tr>\n",
       "    <tr>\n",
       "      <th>0</th>\n",
       "      <td>DecisionTreeClassifier</td>\n",
       "      <td>0.998323</td>\n",
       "    </tr>\n",
       "    <tr>\n",
       "      <th>2</th>\n",
       "      <td>GradientBoostingClassifier</td>\n",
       "      <td>0.998183</td>\n",
       "    </tr>\n",
       "    <tr>\n",
       "      <th>3</th>\n",
       "      <td>ExtraTreesClassifier</td>\n",
       "      <td>0.998044</td>\n",
       "    </tr>\n",
       "    <tr>\n",
       "      <th>6</th>\n",
       "      <td>KNeighborsClassifier</td>\n",
       "      <td>0.997624</td>\n",
       "    </tr>\n",
       "    <tr>\n",
       "      <th>9</th>\n",
       "      <td>LinearSVC</td>\n",
       "      <td>0.992035</td>\n",
       "    </tr>\n",
       "    <tr>\n",
       "      <th>7</th>\n",
       "      <td>NearestCentroid</td>\n",
       "      <td>0.991895</td>\n",
       "    </tr>\n",
       "    <tr>\n",
       "      <th>5</th>\n",
       "      <td>GaussianNB</td>\n",
       "      <td>0.968278</td>\n",
       "    </tr>\n",
       "    <tr>\n",
       "      <th>11</th>\n",
       "      <td>RidgeClassifier</td>\n",
       "      <td>0.762856</td>\n",
       "    </tr>\n",
       "    <tr>\n",
       "      <th>8</th>\n",
       "      <td>RadiusNeighborsClassifier</td>\n",
       "      <td>0.726803</td>\n",
       "    </tr>\n",
       "    <tr>\n",
       "      <th>4</th>\n",
       "      <td>BernoulliNB</td>\n",
       "      <td>0.704304</td>\n",
       "    </tr>\n",
       "  </tbody>\n",
       "</table>\n",
       "</div>"
      ],
      "text/plain": [
       "                    Algorithms  Accuracy\n",
       "10          LogisticRegression  0.998882\n",
       "1       RandomForestClassifier  0.998463\n",
       "0       DecisionTreeClassifier  0.998323\n",
       "2   GradientBoostingClassifier  0.998183\n",
       "3         ExtraTreesClassifier  0.998044\n",
       "6         KNeighborsClassifier  0.997624\n",
       "9                    LinearSVC  0.992035\n",
       "7              NearestCentroid  0.991895\n",
       "5                   GaussianNB  0.968278\n",
       "11             RidgeClassifier  0.762856\n",
       "8    RadiusNeighborsClassifier  0.726803\n",
       "4                  BernoulliNB  0.704304"
      ]
     },
     "execution_count": 154,
     "metadata": {},
     "output_type": "execute_result"
    }
   ],
   "source": [
    "algos_dict ={\n",
    "    \"Algorithms\": [\"DecisionTreeClassifier\", \"RandomForestClassifier\", \"GradientBoostingClassifier\", \n",
    "                  \"ExtraTreesClassifier\", \"BernoulliNB\", \"GaussianNB\", \"KNeighborsClassifier\", \"NearestCentroid\",\n",
    "                  \"RadiusNeighborsClassifier\", \"LinearSVC\", \"LogisticRegression\", \"RidgeClassifier\"],\n",
    "    \"Accuracy\": [dtree_acc, rf_acc, gb_acc, et_acc, ber_acc, gau_acc, kn_acc, \n",
    "                 nc_acc, rn_acc, svc_acc, lr_acc, rc_acc]\n",
    "}\n",
    "\n",
    "accuracy_80 = pd.DataFrame(algos_dict).sort_values(by=[\"Accuracy\"], ascending=False)\n",
    "accuracy_80"
   ]
  },
  {
   "cell_type": "code",
   "execution_count": 204,
   "metadata": {},
   "outputs": [
    {
     "data": {
      "text/html": [
       "<div>\n",
       "<style scoped>\n",
       "    .dataframe tbody tr th:only-of-type {\n",
       "        vertical-align: middle;\n",
       "    }\n",
       "\n",
       "    .dataframe tbody tr th {\n",
       "        vertical-align: top;\n",
       "    }\n",
       "\n",
       "    .dataframe thead th {\n",
       "        text-align: right;\n",
       "    }\n",
       "</style>\n",
       "<table border=\"1\" class=\"dataframe\">\n",
       "  <thead>\n",
       "    <tr style=\"text-align: right;\">\n",
       "      <th></th>\n",
       "      <th>Algorithms</th>\n",
       "      <th>Accuracy</th>\n",
       "    </tr>\n",
       "  </thead>\n",
       "  <tbody>\n",
       "    <tr>\n",
       "      <th>0</th>\n",
       "      <td>DecisionTreeClassifier</td>\n",
       "      <td>0.999022</td>\n",
       "    </tr>\n",
       "    <tr>\n",
       "      <th>1</th>\n",
       "      <td>RandomForestClassifier</td>\n",
       "      <td>0.999022</td>\n",
       "    </tr>\n",
       "    <tr>\n",
       "      <th>3</th>\n",
       "      <td>ExtraTreesClassifier</td>\n",
       "      <td>0.999022</td>\n",
       "    </tr>\n",
       "    <tr>\n",
       "      <th>2</th>\n",
       "      <td>GradientBoostingClassifier</td>\n",
       "      <td>0.998882</td>\n",
       "    </tr>\n",
       "    <tr>\n",
       "      <th>6</th>\n",
       "      <td>KNeighborsClassifier</td>\n",
       "      <td>0.998882</td>\n",
       "    </tr>\n",
       "    <tr>\n",
       "      <th>10</th>\n",
       "      <td>LogisticRegression</td>\n",
       "      <td>0.998882</td>\n",
       "    </tr>\n",
       "    <tr>\n",
       "      <th>9</th>\n",
       "      <td>LinearSVC</td>\n",
       "      <td>0.993572</td>\n",
       "    </tr>\n",
       "    <tr>\n",
       "      <th>7</th>\n",
       "      <td>NearestCentroid</td>\n",
       "      <td>0.992035</td>\n",
       "    </tr>\n",
       "    <tr>\n",
       "      <th>5</th>\n",
       "      <td>GaussianNB</td>\n",
       "      <td>0.968278</td>\n",
       "    </tr>\n",
       "    <tr>\n",
       "      <th>11</th>\n",
       "      <td>RidgeClassifier</td>\n",
       "      <td>0.764673</td>\n",
       "    </tr>\n",
       "    <tr>\n",
       "      <th>8</th>\n",
       "      <td>RadiusNeighborsClassifier</td>\n",
       "      <td>0.726663</td>\n",
       "    </tr>\n",
       "    <tr>\n",
       "      <th>4</th>\n",
       "      <td>BernoulliNB</td>\n",
       "      <td>0.704304</td>\n",
       "    </tr>\n",
       "  </tbody>\n",
       "</table>\n",
       "</div>"
      ],
      "text/plain": [
       "                    Algorithms  Accuracy\n",
       "0       DecisionTreeClassifier  0.999022\n",
       "1       RandomForestClassifier  0.999022\n",
       "3         ExtraTreesClassifier  0.999022\n",
       "2   GradientBoostingClassifier  0.998882\n",
       "6         KNeighborsClassifier  0.998882\n",
       "10          LogisticRegression  0.998882\n",
       "9                    LinearSVC  0.993572\n",
       "7              NearestCentroid  0.992035\n",
       "5                   GaussianNB  0.968278\n",
       "11             RidgeClassifier  0.764673\n",
       "8    RadiusNeighborsClassifier  0.726663\n",
       "4                  BernoulliNB  0.704304"
      ]
     },
     "execution_count": 204,
     "metadata": {},
     "output_type": "execute_result"
    }
   ],
   "source": [
    "algos_dict ={\n",
    "    \"Algorithms\": [\"DecisionTreeClassifier\", \"RandomForestClassifier\", \"GradientBoostingClassifier\", \n",
    "                  \"ExtraTreesClassifier\", \"BernoulliNB\", \"GaussianNB\", \"KNeighborsClassifier\", \"NearestCentroid\",\n",
    "                  \"RadiusNeighborsClassifier\", \"LinearSVC\", \"LogisticRegression\", \"RidgeClassifier\"],\n",
    "    \"Accuracy\": [dtree_acc, rf_acc, gb_acc, et_acc, ber_acc, gau_acc, kn_acc, \n",
    "                 nc_acc, rn_acc, svc_acc, lr_acc, rc_acc]\n",
    "}\n",
    "accuracy_100 = pd.DataFrame(algos_dict).sort_values(by=[\"Accuracy\"], ascending=False)\n",
    "accuracy_100"
   ]
  },
  {
   "cell_type": "markdown",
   "metadata": {},
   "source": [
    "#### As we can see the results are quiet similar, just the order between the 1st six algos have changed. So we we will use the 6 in the test"
   ]
  },
  {
   "cell_type": "markdown",
   "metadata": {},
   "source": [
    "## Test Models"
   ]
  },
  {
   "cell_type": "code",
   "execution_count": 152,
   "metadata": {},
   "outputs": [
    {
     "name": "stdout",
     "output_type": "stream",
     "text": [
      "(8945, 4)\n"
     ]
    },
    {
     "data": {
      "text/html": [
       "<div>\n",
       "<style scoped>\n",
       "    .dataframe tbody tr th:only-of-type {\n",
       "        vertical-align: middle;\n",
       "    }\n",
       "\n",
       "    .dataframe tbody tr th {\n",
       "        vertical-align: top;\n",
       "    }\n",
       "\n",
       "    .dataframe thead th {\n",
       "        text-align: right;\n",
       "    }\n",
       "</style>\n",
       "<table border=\"1\" class=\"dataframe\">\n",
       "  <thead>\n",
       "    <tr style=\"text-align: right;\">\n",
       "      <th></th>\n",
       "      <th>name</th>\n",
       "      <th>repos_number</th>\n",
       "      <th>followers</th>\n",
       "      <th>seniority</th>\n",
       "    </tr>\n",
       "  </thead>\n",
       "  <tbody>\n",
       "    <tr>\n",
       "      <th>0</th>\n",
       "      <td>Naoto Izumi</td>\n",
       "      <td>7</td>\n",
       "      <td>14</td>\n",
       "      <td>junior</td>\n",
       "    </tr>\n",
       "    <tr>\n",
       "      <th>1</th>\n",
       "      <td>Akito Mizuno</td>\n",
       "      <td>19</td>\n",
       "      <td>8</td>\n",
       "      <td>junior</td>\n",
       "    </tr>\n",
       "    <tr>\n",
       "      <th>2</th>\n",
       "      <td>CHIYOKAWA Hiroshi</td>\n",
       "      <td>5</td>\n",
       "      <td>10</td>\n",
       "      <td>junior</td>\n",
       "    </tr>\n",
       "    <tr>\n",
       "      <th>3</th>\n",
       "      <td>taiyo</td>\n",
       "      <td>19</td>\n",
       "      <td>11</td>\n",
       "      <td>junior</td>\n",
       "    </tr>\n",
       "    <tr>\n",
       "      <th>4</th>\n",
       "      <td>Rafał Rawicki</td>\n",
       "      <td>3</td>\n",
       "      <td>11</td>\n",
       "      <td>junior</td>\n",
       "    </tr>\n",
       "  </tbody>\n",
       "</table>\n",
       "</div>"
      ],
      "text/plain": [
       "                name  repos_number  followers seniority\n",
       "0        Naoto Izumi             7         14    junior\n",
       "1       Akito Mizuno            19          8    junior\n",
       "2  CHIYOKAWA Hiroshi             5         10    junior\n",
       "3              taiyo            19         11    junior\n",
       "4      Rafał Rawicki             3         11    junior"
      ]
     },
     "execution_count": 152,
     "metadata": {},
     "output_type": "execute_result"
    }
   ],
   "source": [
    "df_test = pd.read_csv(\"../OUTPUT/df_test.csv\").drop(columns={\"Unnamed: 0\"})\n",
    "print(df_test.shape)\n",
    "df_test.head()"
   ]
  },
  {
   "cell_type": "code",
   "execution_count": 153,
   "metadata": {},
   "outputs": [
    {
     "data": {
      "text/plain": [
       "<matplotlib.legend.Legend at 0x7f20fc2d8b50>"
      ]
     },
     "execution_count": 153,
     "metadata": {},
     "output_type": "execute_result"
    },
    {
     "data": {
      "image/png": "[encoded data removed]",
      "text/plain": [
       "<Figure size 1080x360 with 1 Axes>"
      ]
     },
     "metadata": {},
     "output_type": "display_data"
    }
   ],
   "source": [
    "seniority_test = df_test.seniority.value_counts()\n",
    "\n",
    "f, ax = plt.subplots(figsize=(15,5))\n",
    "ax.pie(seniority_test, labels=seniority_test.keys(), autopct='%1.1f%%')\n",
    "ax.legend(labels=seniority_test.keys(), loc=3)"
   ]
  },
  {
   "cell_type": "code",
   "execution_count": 205,
   "metadata": {
    "scrolled": true
   },
   "outputs": [
    {
     "data": {
      "text/html": [
       "<div>\n",
       "<style scoped>\n",
       "    .dataframe tbody tr th:only-of-type {\n",
       "        vertical-align: middle;\n",
       "    }\n",
       "\n",
       "    .dataframe tbody tr th {\n",
       "        vertical-align: top;\n",
       "    }\n",
       "\n",
       "    .dataframe thead th {\n",
       "        text-align: right;\n",
       "    }\n",
       "</style>\n",
       "<table border=\"1\" class=\"dataframe\">\n",
       "  <thead>\n",
       "    <tr style=\"text-align: right;\">\n",
       "      <th></th>\n",
       "      <th>name</th>\n",
       "      <th>repos_number</th>\n",
       "      <th>followers</th>\n",
       "      <th>seniority</th>\n",
       "      <th>label</th>\n",
       "    </tr>\n",
       "  </thead>\n",
       "  <tbody>\n",
       "    <tr>\n",
       "      <th>0</th>\n",
       "      <td>Naoto Izumi</td>\n",
       "      <td>7</td>\n",
       "      <td>14</td>\n",
       "      <td>junior</td>\n",
       "      <td>0</td>\n",
       "    </tr>\n",
       "    <tr>\n",
       "      <th>1</th>\n",
       "      <td>Akito Mizuno</td>\n",
       "      <td>19</td>\n",
       "      <td>8</td>\n",
       "      <td>junior</td>\n",
       "      <td>0</td>\n",
       "    </tr>\n",
       "    <tr>\n",
       "      <th>2</th>\n",
       "      <td>CHIYOKAWA Hiroshi</td>\n",
       "      <td>5</td>\n",
       "      <td>10</td>\n",
       "      <td>junior</td>\n",
       "      <td>0</td>\n",
       "    </tr>\n",
       "    <tr>\n",
       "      <th>3</th>\n",
       "      <td>taiyo</td>\n",
       "      <td>19</td>\n",
       "      <td>11</td>\n",
       "      <td>junior</td>\n",
       "      <td>0</td>\n",
       "    </tr>\n",
       "    <tr>\n",
       "      <th>4</th>\n",
       "      <td>Rafał Rawicki</td>\n",
       "      <td>3</td>\n",
       "      <td>11</td>\n",
       "      <td>junior</td>\n",
       "      <td>0</td>\n",
       "    </tr>\n",
       "  </tbody>\n",
       "</table>\n",
       "</div>"
      ],
      "text/plain": [
       "                name  repos_number  followers seniority  label\n",
       "0        Naoto Izumi             7         14    junior      0\n",
       "1       Akito Mizuno            19          8    junior      0\n",
       "2  CHIYOKAWA Hiroshi             5         10    junior      0\n",
       "3              taiyo            19         11    junior      0\n",
       "4      Rafał Rawicki             3         11    junior      0"
      ]
     },
     "execution_count": 205,
     "metadata": {},
     "output_type": "execute_result"
    }
   ],
   "source": [
    "df_test[\"label\"] = df_test.seniority.map(labels_dict)\n",
    "df_test.head()"
   ]
  },
  {
   "cell_type": "code",
   "execution_count": 206,
   "metadata": {},
   "outputs": [],
   "source": [
    "X_predict = df_test[[\"repos_number\", \"followers\"]]\n",
    "y_predict = df_test.label"
   ]
  },
  {
   "cell_type": "markdown",
   "metadata": {},
   "source": [
    "### Decision Tree Classifier"
   ]
  },
  {
   "cell_type": "code",
   "execution_count": 207,
   "metadata": {},
   "outputs": [
    {
     "name": "stdout",
     "output_type": "stream",
     "text": [
      "Accuracy 0.9987702627166014 \n",
      "\n"
     ]
    }
   ],
   "source": [
    "dtree_pred_test = dtree_model.predict(X_predict)\n",
    "\n",
    "dtree_acc = accuracy_score(y_predict, dtree_pred_test)\n",
    "print(\"Accuracy\", dtree_acc,\"\\n\")"
   ]
  },
  {
   "cell_type": "code",
   "execution_count": 208,
   "metadata": {},
   "outputs": [
    {
     "data": {
      "text/plain": [
       "<matplotlib.axes._subplots.AxesSubplot at 0x7f20efb44f50>"
      ]
     },
     "execution_count": 208,
     "metadata": {},
     "output_type": "execute_result"
    },
    {
     "data": {
      "image/png": "[encoded data removed]",
      "text/plain": [
       "<Figure size 432x288 with 2 Axes>"
      ]
     },
     "metadata": {
      "needs_background": "light"
     },
     "output_type": "display_data"
    }
   ],
   "source": [
    "cm_dtree = confusion_matrix(y_predict, dtree_pred_test)\n",
    "sns.heatmap(cm_dtree, annot=True)"
   ]
  },
  {
   "cell_type": "markdown",
   "metadata": {},
   "source": [
    "### RandomForestClassifier"
   ]
  },
  {
   "cell_type": "code",
   "execution_count": 209,
   "metadata": {},
   "outputs": [
    {
     "name": "stdout",
     "output_type": "stream",
     "text": [
      "Accuracy 0.9987702627166014 \n",
      "\n"
     ]
    }
   ],
   "source": [
    "rf_pred_test = rf_model.predict(X_predict)\n",
    "\n",
    "rf_acc = accuracy_score(y_predict, rf_pred_test)\n",
    "print(\"Accuracy\", rf_acc,\"\\n\")"
   ]
  },
  {
   "cell_type": "code",
   "execution_count": 210,
   "metadata": {},
   "outputs": [
    {
     "data": {
      "text/plain": [
       "<matplotlib.axes._subplots.AxesSubplot at 0x7f20ef7531d0>"
      ]
     },
     "execution_count": 210,
     "metadata": {},
     "output_type": "execute_result"
    },
    {
     "data": {
      "image/png": "[encoded data removed]",
      "text/plain": [
       "<Figure size 432x288 with 2 Axes>"
      ]
     },
     "metadata": {
      "needs_background": "light"
     },
     "output_type": "display_data"
    }
   ],
   "source": [
    "cm_rf = confusion_matrix(y_predict, rf_pred_test)\n",
    "sns.heatmap(cm_rf, annot=True)"
   ]
  },
  {
   "cell_type": "markdown",
   "metadata": {},
   "source": [
    "### ExtraTreesClassifier"
   ]
  },
  {
   "cell_type": "code",
   "execution_count": 211,
   "metadata": {},
   "outputs": [
    {
     "name": "stdout",
     "output_type": "stream",
     "text": [
      "Accuracy 0.9987702627166014 \n",
      "\n"
     ]
    }
   ],
   "source": [
    "et_pred_test = et_model.predict(X_predict)\n",
    "\n",
    "et_acc = accuracy_score(y_predict, et_pred_test)\n",
    "print(\"Accuracy\", et_acc,\"\\n\")"
   ]
  },
  {
   "cell_type": "code",
   "execution_count": 212,
   "metadata": {},
   "outputs": [
    {
     "data": {
      "text/plain": [
       "<matplotlib.axes._subplots.AxesSubplot at 0x7f20ef753c10>"
      ]
     },
     "execution_count": 212,
     "metadata": {},
     "output_type": "execute_result"
    },
    {
     "data": {
      "image/png": "[encoded data removed]",
      "text/plain": [
       "<Figure size 432x288 with 2 Axes>"
      ]
     },
     "metadata": {
      "needs_background": "light"
     },
     "output_type": "display_data"
    }
   ],
   "source": [
    "et_rf = confusion_matrix(y_predict, et_pred_test)\n",
    "sns.heatmap(et_rf, annot=True)"
   ]
  },
  {
   "cell_type": "markdown",
   "metadata": {},
   "source": [
    "### GradientBoostingClassifier"
   ]
  },
  {
   "cell_type": "code",
   "execution_count": 214,
   "metadata": {},
   "outputs": [
    {
     "name": "stdout",
     "output_type": "stream",
     "text": [
      "Accuracy 0.99854667411962 \n",
      "\n"
     ]
    }
   ],
   "source": [
    "gb_pred_test = gb_model.predict(X_predict)\n",
    "\n",
    "gb_acc = accuracy_score(y_predict, gb_pred_test)\n",
    "print(\"Accuracy\", gb_acc,\"\\n\")"
   ]
  },
  {
   "cell_type": "code",
   "execution_count": 215,
   "metadata": {},
   "outputs": [
    {
     "data": {
      "text/plain": [
       "<matplotlib.axes._subplots.AxesSubplot at 0x7f20ef62b750>"
      ]
     },
     "execution_count": 215,
     "metadata": {},
     "output_type": "execute_result"
    },
    {
     "data": {
      "image/png": "[encoded data removed]",
      "text/plain": [
       "<Figure size 432x288 with 2 Axes>"
      ]
     },
     "metadata": {
      "needs_background": "light"
     },
     "output_type": "display_data"
    }
   ],
   "source": [
    "gb_rf = confusion_matrix(y_predict, gb_pred_test)\n",
    "sns.heatmap(gb_rf, annot=True)"
   ]
  },
  {
   "cell_type": "markdown",
   "metadata": {},
   "source": [
    "### KNeighborsClassifier"
   ]
  },
  {
   "cell_type": "code",
   "execution_count": 216,
   "metadata": {},
   "outputs": [
    {
     "name": "stdout",
     "output_type": "stream",
     "text": [
      "Accuracy 0.9983230855226384 \n",
      "\n"
     ]
    }
   ],
   "source": [
    "kn_pred_test = kn_model.predict(X_predict)\n",
    "\n",
    "kn_acc = accuracy_score(y_predict, kn_pred_test)\n",
    "print(\"Accuracy\", kn_acc,\"\\n\")"
   ]
  },
  {
   "cell_type": "code",
   "execution_count": 217,
   "metadata": {},
   "outputs": [
    {
     "data": {
      "text/plain": [
       "<matplotlib.axes._subplots.AxesSubplot at 0x7f20ef552ad0>"
      ]
     },
     "execution_count": 217,
     "metadata": {},
     "output_type": "execute_result"
    },
    {
     "data": {
      "image/png": "[encoded data removed]",
      "text/plain": [
       "<Figure size 432x288 with 2 Axes>"
      ]
     },
     "metadata": {
      "needs_background": "light"
     },
     "output_type": "display_data"
    }
   ],
   "source": [
    "kn_rf = confusion_matrix(y_predict, kn_pred_test)\n",
    "sns.heatmap(kn_rf, annot=True)"
   ]
  },
  {
   "cell_type": "markdown",
   "metadata": {},
   "source": [
    "### LogisticRegression"
   ]
  },
  {
   "cell_type": "code",
   "execution_count": 218,
   "metadata": {},
   "outputs": [
    {
     "name": "stdout",
     "output_type": "stream",
     "text": [
      "Accuracy 0.9987702627166014 \n",
      "\n"
     ]
    }
   ],
   "source": [
    "lr_pred_test = lr_model.predict(X_predict)\n",
    "\n",
    "lr_acc = accuracy_score(y_predict, lr_pred_test)\n",
    "print(\"Accuracy\", lr_acc,\"\\n\")"
   ]
  },
  {
   "cell_type": "code",
   "execution_count": 219,
   "metadata": {},
   "outputs": [
    {
     "data": {
      "text/plain": [
       "<matplotlib.axes._subplots.AxesSubplot at 0x7f20ef4dbbd0>"
      ]
     },
     "execution_count": 219,
     "metadata": {},
     "output_type": "execute_result"
    },
    {
     "data": {
      "image/png": "[encoded data removed]",
      "text/plain": [
       "<Figure size 432x288 with 2 Axes>"
      ]
     },
     "metadata": {
      "needs_background": "light"
     },
     "output_type": "display_data"
    }
   ],
   "source": [
    "lr_rf = confusion_matrix(y_predict, lr_pred_test)\n",
    "sns.heatmap(lr_rf, annot=True)"
   ]
  },
  {
   "cell_type": "code",
   "execution_count": 220,
   "metadata": {
    "scrolled": false
   },
   "outputs": [
    {
     "data": {
      "text/html": [
       "<div>\n",
       "<style scoped>\n",
       "    .dataframe tbody tr th:only-of-type {\n",
       "        vertical-align: middle;\n",
       "    }\n",
       "\n",
       "    .dataframe tbody tr th {\n",
       "        vertical-align: top;\n",
       "    }\n",
       "\n",
       "    .dataframe thead th {\n",
       "        text-align: right;\n",
       "    }\n",
       "</style>\n",
       "<table border=\"1\" class=\"dataframe\">\n",
       "  <thead>\n",
       "    <tr style=\"text-align: right;\">\n",
       "      <th></th>\n",
       "      <th>Algorithms</th>\n",
       "      <th>Accuracy</th>\n",
       "    </tr>\n",
       "  </thead>\n",
       "  <tbody>\n",
       "    <tr>\n",
       "      <th>0</th>\n",
       "      <td>DecisionTreeClassifier</td>\n",
       "      <td>0.998770</td>\n",
       "    </tr>\n",
       "    <tr>\n",
       "      <th>1</th>\n",
       "      <td>RandomForestClassifier</td>\n",
       "      <td>0.998770</td>\n",
       "    </tr>\n",
       "    <tr>\n",
       "      <th>3</th>\n",
       "      <td>ExtraTreesClassifier</td>\n",
       "      <td>0.998770</td>\n",
       "    </tr>\n",
       "    <tr>\n",
       "      <th>5</th>\n",
       "      <td>LogisticRegression</td>\n",
       "      <td>0.998770</td>\n",
       "    </tr>\n",
       "    <tr>\n",
       "      <th>2</th>\n",
       "      <td>GradientBoostingClassifier</td>\n",
       "      <td>0.998547</td>\n",
       "    </tr>\n",
       "    <tr>\n",
       "      <th>4</th>\n",
       "      <td>KNeighborsClassifier</td>\n",
       "      <td>0.998323</td>\n",
       "    </tr>\n",
       "  </tbody>\n",
       "</table>\n",
       "</div>"
      ],
      "text/plain": [
       "                   Algorithms  Accuracy\n",
       "0      DecisionTreeClassifier  0.998770\n",
       "1      RandomForestClassifier  0.998770\n",
       "3        ExtraTreesClassifier  0.998770\n",
       "5          LogisticRegression  0.998770\n",
       "2  GradientBoostingClassifier  0.998547\n",
       "4        KNeighborsClassifier  0.998323"
      ]
     },
     "execution_count": 220,
     "metadata": {},
     "output_type": "execute_result"
    }
   ],
   "source": [
    "tested_algos ={\n",
    "    \"Algorithms\": [\"DecisionTreeClassifier\", \"RandomForestClassifier\", \"GradientBoostingClassifier\", \n",
    "                  \"ExtraTreesClassifier\", \"KNeighborsClassifier\", \"LogisticRegression\"],\n",
    "    \"Accuracy\": [dtree_acc, rf_acc, gb_acc, et_acc, kn_acc, lr_acc]\n",
    "}\n",
    "real_accuracy = pd.DataFrame(tested_algos).sort_values(by=[\"Accuracy\"], ascending=False)\n",
    "real_accuracy"
   ]
  },
  {
   "cell_type": "markdown",
   "metadata": {},
   "source": [
    "### As we can see the 1st four algorithms have performed equal with the new data, however we will select Random Forest, as it is the best one as avg between the 3 accuracies"
   ]
  },
  {
   "cell_type": "code",
   "execution_count": 225,
   "metadata": {},
   "outputs": [
    {
     "name": "stdout",
     "output_type": "stream",
     "text": [
      "(44723, 4)\n"
     ]
    },
    {
     "data": {
      "text/html": [
       "<div>\n",
       "<style scoped>\n",
       "    .dataframe tbody tr th:only-of-type {\n",
       "        vertical-align: middle;\n",
       "    }\n",
       "\n",
       "    .dataframe tbody tr th {\n",
       "        vertical-align: top;\n",
       "    }\n",
       "\n",
       "    .dataframe thead th {\n",
       "        text-align: right;\n",
       "    }\n",
       "</style>\n",
       "<table border=\"1\" class=\"dataframe\">\n",
       "  <thead>\n",
       "    <tr style=\"text-align: right;\">\n",
       "      <th></th>\n",
       "      <th>repos_number</th>\n",
       "      <th>followers</th>\n",
       "      <th>seniority</th>\n",
       "      <th>label</th>\n",
       "    </tr>\n",
       "  </thead>\n",
       "  <tbody>\n",
       "    <tr>\n",
       "      <th>0</th>\n",
       "      <td>23</td>\n",
       "      <td>33</td>\n",
       "      <td>middle</td>\n",
       "      <td>1</td>\n",
       "    </tr>\n",
       "    <tr>\n",
       "      <th>1</th>\n",
       "      <td>43</td>\n",
       "      <td>125</td>\n",
       "      <td>principal</td>\n",
       "      <td>3</td>\n",
       "    </tr>\n",
       "    <tr>\n",
       "      <th>2</th>\n",
       "      <td>9</td>\n",
       "      <td>95</td>\n",
       "      <td>principal</td>\n",
       "      <td>3</td>\n",
       "    </tr>\n",
       "    <tr>\n",
       "      <th>3</th>\n",
       "      <td>24</td>\n",
       "      <td>16</td>\n",
       "      <td>middle</td>\n",
       "      <td>1</td>\n",
       "    </tr>\n",
       "    <tr>\n",
       "      <th>4</th>\n",
       "      <td>31</td>\n",
       "      <td>15</td>\n",
       "      <td>middle</td>\n",
       "      <td>1</td>\n",
       "    </tr>\n",
       "  </tbody>\n",
       "</table>\n",
       "</div>"
      ],
      "text/plain": [
       "   repos_number  followers  seniority  label\n",
       "0            23         33     middle      1\n",
       "1            43        125  principal      3\n",
       "2             9         95  principal      3\n",
       "3            24         16     middle      1\n",
       "4            31         15     middle      1"
      ]
     },
     "execution_count": 225,
     "metadata": {},
     "output_type": "execute_result"
    }
   ],
   "source": [
    "final_df = pd.concat([df_train,df_test])\n",
    "final_df = final_df.drop(columns={\"name\"})\n",
    "print(final_df.shape)\n",
    "final_df.head()"
   ]
  },
  {
   "cell_type": "markdown",
   "metadata": {},
   "source": [
    "### Final dataframe to train the Extra Trees Classifier"
   ]
  },
  {
   "cell_type": "code",
   "execution_count": 226,
   "metadata": {},
   "outputs": [],
   "source": [
    "final_df.to_csv(\"../OUTPUT/final_df.csv\", index=False)"
   ]
  }
 ],
 "metadata": {
  "kernelspec": {
   "display_name": "Python 3",
   "language": "python",
   "name": "python3"
  },
  "language_info": {
   "codemirror_mode": {
    "name": "ipython",
    "version": 3
   },
   "file_extension": ".py",
   "mimetype": "text/x-python",
   "name": "python",
   "nbconvert_exporter": "python",
   "pygments_lexer": "ipython3",
   "version": "3.7.4"
  }
 },
 "nbformat": 4,
 "nbformat_minor": 2
}
